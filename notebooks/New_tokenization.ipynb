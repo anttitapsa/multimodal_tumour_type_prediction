{
 "cells": [
  {
   "cell_type": "code",
   "execution_count": 2,
   "id": "2cf1a71d-8a18-4370-b6a2-a1b94575cc14",
   "metadata": {},
   "outputs": [],
   "source": [
    "import numpy as np \n",
    "import pandas as pd "
   ]
  },
  {
   "cell_type": "code",
   "execution_count": 3,
   "id": "16e96874-6276-4796-90fa-6cdb2b356d25",
   "metadata": {},
   "outputs": [],
   "source": [
    "import sys\n",
    "sys.path.insert(0, '/csc/epitkane/projects/multimodal/src/')\n",
    "from annotate_mutations import read_codes"
   ]
  },
  {
   "cell_type": "code",
   "execution_count": 4,
   "id": "d62f549d-9bd1-4181-b48e-e02ed984c5f8",
   "metadata": {},
   "outputs": [],
   "source": [
    "import torch"
   ]
  },
  {
   "cell_type": "markdown",
   "id": "677158e0-072b-4946-bf8c-26b9a441c37d",
   "metadata": {},
   "source": [
    "## Creating dict file for onehot tokenisation"
   ]
  },
  {
   "cell_type": "code",
   "execution_count": 5,
   "id": "f8f7e0a9-b69c-440b-9da1-177e2b746eb6",
   "metadata": {},
   "outputs": [],
   "source": [
    "file = pd.read_csv('/csc/epitkane/projects/multimodal/extfiles/mutation_codes_sv.tsv', sep=' ', header=None)    "
   ]
  },
  {
   "cell_type": "code",
   "execution_count": 6,
   "id": "f0272d87-143e-4808-9f59-a3cc5483b09e",
   "metadata": {},
   "outputs": [],
   "source": [
    "mut_list = file.iloc[0:31,2].values.tolist()\n",
    "mut_list = ['A', 'C', 'T', 'G'] + mut_list\n"
   ]
  },
  {
   "cell_type": "code",
   "execution_count": 7,
   "id": "db1881df-bc2d-4563-9ac6-ddb2f3f8d87a",
   "metadata": {},
   "outputs": [],
   "source": [
    "unique_list = []\n",
    "for x in mut_list: \n",
    "    if x not in unique_list:\n",
    "        unique_list.append(x)"
   ]
  },
  {
   "cell_type": "code",
   "execution_count": 8,
   "id": "f42dca68-c8cc-4aae-a3c3-ac01e8497ff3",
   "metadata": {},
   "outputs": [
    {
     "data": {
      "text/plain": [
       "['A',\n",
       " 'C',\n",
       " 'T',\n",
       " 'G',\n",
       " '!',\n",
       " '@',\n",
       " '#',\n",
       " 'N',\n",
       " '1',\n",
       " '$',\n",
       " '%',\n",
       " '^',\n",
       " '2',\n",
       " '&',\n",
       " '*',\n",
       " '~',\n",
       " '3',\n",
       " ':',\n",
       " ';',\n",
       " '?',\n",
       " '4',\n",
       " '5',\n",
       " '6',\n",
       " '7',\n",
       " '8']"
      ]
     },
     "execution_count": 8,
     "metadata": {},
     "output_type": "execute_result"
    }
   ],
   "source": [
    "unique_list"
   ]
  },
  {
   "cell_type": "code",
   "execution_count": 9,
   "id": "c129e434-44bd-407d-8949-2dcd57fb78cb",
   "metadata": {},
   "outputs": [],
   "source": [
    "muts = pd.DataFrame({'mutation': unique_list, 'token': range(0,len(unique_list))})"
   ]
  },
  {
   "cell_type": "code",
   "execution_count": 10,
   "id": "4a8b45ae-e707-48dc-91b5-53d484993bb3",
   "metadata": {},
   "outputs": [
    {
     "data": {
      "text/html": [
       "<div>\n",
       "<style scoped>\n",
       "    .dataframe tbody tr th:only-of-type {\n",
       "        vertical-align: middle;\n",
       "    }\n",
       "\n",
       "    .dataframe tbody tr th {\n",
       "        vertical-align: top;\n",
       "    }\n",
       "\n",
       "    .dataframe thead th {\n",
       "        text-align: right;\n",
       "    }\n",
       "</style>\n",
       "<table border=\"1\" class=\"dataframe\">\n",
       "  <thead>\n",
       "    <tr style=\"text-align: right;\">\n",
       "      <th></th>\n",
       "      <th>mutation</th>\n",
       "      <th>token</th>\n",
       "    </tr>\n",
       "  </thead>\n",
       "  <tbody>\n",
       "    <tr>\n",
       "      <th>0</th>\n",
       "      <td>A</td>\n",
       "      <td>0</td>\n",
       "    </tr>\n",
       "    <tr>\n",
       "      <th>1</th>\n",
       "      <td>C</td>\n",
       "      <td>1</td>\n",
       "    </tr>\n",
       "    <tr>\n",
       "      <th>2</th>\n",
       "      <td>T</td>\n",
       "      <td>2</td>\n",
       "    </tr>\n",
       "    <tr>\n",
       "      <th>3</th>\n",
       "      <td>G</td>\n",
       "      <td>3</td>\n",
       "    </tr>\n",
       "    <tr>\n",
       "      <th>4</th>\n",
       "      <td>!</td>\n",
       "      <td>4</td>\n",
       "    </tr>\n",
       "    <tr>\n",
       "      <th>5</th>\n",
       "      <td>@</td>\n",
       "      <td>5</td>\n",
       "    </tr>\n",
       "    <tr>\n",
       "      <th>6</th>\n",
       "      <td>#</td>\n",
       "      <td>6</td>\n",
       "    </tr>\n",
       "    <tr>\n",
       "      <th>7</th>\n",
       "      <td>N</td>\n",
       "      <td>7</td>\n",
       "    </tr>\n",
       "    <tr>\n",
       "      <th>8</th>\n",
       "      <td>1</td>\n",
       "      <td>8</td>\n",
       "    </tr>\n",
       "    <tr>\n",
       "      <th>9</th>\n",
       "      <td>$</td>\n",
       "      <td>9</td>\n",
       "    </tr>\n",
       "    <tr>\n",
       "      <th>10</th>\n",
       "      <td>%</td>\n",
       "      <td>10</td>\n",
       "    </tr>\n",
       "    <tr>\n",
       "      <th>11</th>\n",
       "      <td>^</td>\n",
       "      <td>11</td>\n",
       "    </tr>\n",
       "    <tr>\n",
       "      <th>12</th>\n",
       "      <td>2</td>\n",
       "      <td>12</td>\n",
       "    </tr>\n",
       "    <tr>\n",
       "      <th>13</th>\n",
       "      <td>&amp;</td>\n",
       "      <td>13</td>\n",
       "    </tr>\n",
       "    <tr>\n",
       "      <th>14</th>\n",
       "      <td>*</td>\n",
       "      <td>14</td>\n",
       "    </tr>\n",
       "    <tr>\n",
       "      <th>15</th>\n",
       "      <td>~</td>\n",
       "      <td>15</td>\n",
       "    </tr>\n",
       "    <tr>\n",
       "      <th>16</th>\n",
       "      <td>3</td>\n",
       "      <td>16</td>\n",
       "    </tr>\n",
       "    <tr>\n",
       "      <th>17</th>\n",
       "      <td>:</td>\n",
       "      <td>17</td>\n",
       "    </tr>\n",
       "    <tr>\n",
       "      <th>18</th>\n",
       "      <td>;</td>\n",
       "      <td>18</td>\n",
       "    </tr>\n",
       "    <tr>\n",
       "      <th>19</th>\n",
       "      <td>?</td>\n",
       "      <td>19</td>\n",
       "    </tr>\n",
       "    <tr>\n",
       "      <th>20</th>\n",
       "      <td>4</td>\n",
       "      <td>20</td>\n",
       "    </tr>\n",
       "    <tr>\n",
       "      <th>21</th>\n",
       "      <td>5</td>\n",
       "      <td>21</td>\n",
       "    </tr>\n",
       "    <tr>\n",
       "      <th>22</th>\n",
       "      <td>6</td>\n",
       "      <td>22</td>\n",
       "    </tr>\n",
       "    <tr>\n",
       "      <th>23</th>\n",
       "      <td>7</td>\n",
       "      <td>23</td>\n",
       "    </tr>\n",
       "    <tr>\n",
       "      <th>24</th>\n",
       "      <td>8</td>\n",
       "      <td>24</td>\n",
       "    </tr>\n",
       "  </tbody>\n",
       "</table>\n",
       "</div>"
      ],
      "text/plain": [
       "   mutation  token\n",
       "0         A      0\n",
       "1         C      1\n",
       "2         T      2\n",
       "3         G      3\n",
       "4         !      4\n",
       "5         @      5\n",
       "6         #      6\n",
       "7         N      7\n",
       "8         1      8\n",
       "9         $      9\n",
       "10        %     10\n",
       "11        ^     11\n",
       "12        2     12\n",
       "13        &     13\n",
       "14        *     14\n",
       "15        ~     15\n",
       "16        3     16\n",
       "17        :     17\n",
       "18        ;     18\n",
       "19        ?     19\n",
       "20        4     20\n",
       "21        5     21\n",
       "22        6     22\n",
       "23        7     23\n",
       "24        8     24"
      ]
     },
     "execution_count": 10,
     "metadata": {},
     "output_type": "execute_result"
    }
   ],
   "source": [
    "muts"
   ]
  },
  {
   "cell_type": "code",
   "execution_count": null,
   "id": "d6ddd844-6d53-4bea-b5e8-e562b8fbe210",
   "metadata": {},
   "outputs": [],
   "source": [
    "muts.to_csv('one_hot_mutationdict.tsv', sep='\\t', index=False)"
   ]
  },
  {
   "cell_type": "markdown",
   "id": "21890871-b330-4b34-9a96-bae7f59d5ffc",
   "metadata": {},
   "source": [
    "## One-hot encoding"
   ]
  },
  {
   "cell_type": "code",
   "execution_count": 11,
   "id": "29d62be1-e2f7-4935-bbd4-07c999ba981d",
   "metadata": {},
   "outputs": [],
   "source": [
    "def one_hot(arr, token_size):\n",
    "    encoded_arr = np.zeros((arr.size, token_size), dtype=int)\n",
    "    encoded_arr[np.arange(arr.size),arr] = 1\n",
    "    return encoded_arr"
   ]
  },
  {
   "cell_type": "code",
   "execution_count": 13,
   "id": "f8604290-4b7a-460e-9b64-4d06a08a768a",
   "metadata": {},
   "outputs": [],
   "source": [
    "arr = np.array([4,7,2,9])\n",
    "one = one_hot(arr, 25)"
   ]
  },
  {
   "cell_type": "code",
   "execution_count": 14,
   "id": "74dea0d8-44c8-4962-a54d-af3e03e111f5",
   "metadata": {},
   "outputs": [
    {
     "data": {
      "text/plain": [
       "array([[0, 0, 0, 0, 1, 0, 0, 0, 0, 0, 0, 0, 0, 0, 0, 0, 0, 0, 0, 0, 0, 0,\n",
       "        0, 0, 0],\n",
       "       [0, 0, 0, 0, 0, 0, 0, 1, 0, 0, 0, 0, 0, 0, 0, 0, 0, 0, 0, 0, 0, 0,\n",
       "        0, 0, 0],\n",
       "       [0, 0, 1, 0, 0, 0, 0, 0, 0, 0, 0, 0, 0, 0, 0, 0, 0, 0, 0, 0, 0, 0,\n",
       "        0, 0, 0],\n",
       "       [0, 0, 0, 0, 0, 0, 0, 0, 0, 1, 0, 0, 0, 0, 0, 0, 0, 0, 0, 0, 0, 0,\n",
       "        0, 0, 0]])"
      ]
     },
     "execution_count": 14,
     "metadata": {},
     "output_type": "execute_result"
    }
   ],
   "source": [
    "one"
   ]
  },
  {
   "cell_type": "code",
   "execution_count": 15,
   "id": "2703b42c-928c-40f2-94e9-0499175d4861",
   "metadata": {},
   "outputs": [],
   "source": [
    "file = pd.read_csv('/csc/epitkane/projects/multimodal/data/temp/muat_orig/Bone-Osteosarc/f82d213f-9ba5-7b6b-e040-11ac0c486882/indel_f82d213f-9ba5-7b6b-e040-11ac0c486882.tsv.gz', compression='gzip', sep='\\t')"
   ]
  },
  {
   "cell_type": "code",
   "execution_count": 16,
   "id": "d4bbf934-2787-4ab4-8837-00636276d40b",
   "metadata": {},
   "outputs": [
    {
     "data": {
      "text/html": [
       "<div>\n",
       "<style scoped>\n",
       "    .dataframe tbody tr th:only-of-type {\n",
       "        vertical-align: middle;\n",
       "    }\n",
       "\n",
       "    .dataframe tbody tr th {\n",
       "        vertical-align: top;\n",
       "    }\n",
       "\n",
       "    .dataframe thead th {\n",
       "        text-align: right;\n",
       "    }\n",
       "</style>\n",
       "<table border=\"1\" class=\"dataframe\">\n",
       "  <thead>\n",
       "    <tr style=\"text-align: right;\">\n",
       "      <th></th>\n",
       "      <th>chrom</th>\n",
       "      <th>pos</th>\n",
       "      <th>ref</th>\n",
       "      <th>alt</th>\n",
       "      <th>sample</th>\n",
       "      <th>seq</th>\n",
       "      <th>ref_seq</th>\n",
       "      <th>gc1kb</th>\n",
       "      <th>genic</th>\n",
       "      <th>exonic</th>\n",
       "      <th>strand</th>\n",
       "      <th>histology</th>\n",
       "    </tr>\n",
       "  </thead>\n",
       "  <tbody>\n",
       "    <tr>\n",
       "      <th>0</th>\n",
       "      <td>6</td>\n",
       "      <td>12690441</td>\n",
       "      <td>CA</td>\n",
       "      <td>-</td>\n",
       "      <td>f82d213f-9ba5-7b6b-e040-11ac0c486882</td>\n",
       "      <td>C43</td>\n",
       "      <td>CTG</td>\n",
       "      <td>NaN</td>\n",
       "      <td>0.0</td>\n",
       "      <td>0.0</td>\n",
       "      <td>=</td>\n",
       "      <td>Bone-Osteosarc</td>\n",
       "    </tr>\n",
       "    <tr>\n",
       "      <th>1</th>\n",
       "      <td>3</td>\n",
       "      <td>84137221</td>\n",
       "      <td>-</td>\n",
       "      <td>A</td>\n",
       "      <td>f82d213f-9ba5-7b6b-e040-11ac0c486882</td>\n",
       "      <td>G5A</td>\n",
       "      <td>G-A</td>\n",
       "      <td>NaN</td>\n",
       "      <td>0.0</td>\n",
       "      <td>0.0</td>\n",
       "      <td>=</td>\n",
       "      <td>Bone-Osteosarc</td>\n",
       "    </tr>\n",
       "    <tr>\n",
       "      <th>2</th>\n",
       "      <td>3</td>\n",
       "      <td>157943529</td>\n",
       "      <td>A</td>\n",
       "      <td>-</td>\n",
       "      <td>f82d213f-9ba5-7b6b-e040-11ac0c486882</td>\n",
       "      <td>T1A</td>\n",
       "      <td>TAA</td>\n",
       "      <td>NaN</td>\n",
       "      <td>1.0</td>\n",
       "      <td>0.0</td>\n",
       "      <td>-</td>\n",
       "      <td>Bone-Osteosarc</td>\n",
       "    </tr>\n",
       "    <tr>\n",
       "      <th>3</th>\n",
       "      <td>10</td>\n",
       "      <td>127942076</td>\n",
       "      <td>TCT</td>\n",
       "      <td>-</td>\n",
       "      <td>f82d213f-9ba5-7b6b-e040-11ac0c486882</td>\n",
       "      <td>424</td>\n",
       "      <td>TCT</td>\n",
       "      <td>NaN</td>\n",
       "      <td>1.0</td>\n",
       "      <td>0.0</td>\n",
       "      <td>-</td>\n",
       "      <td>Bone-Osteosarc</td>\n",
       "    </tr>\n",
       "    <tr>\n",
       "      <th>4</th>\n",
       "      <td>16</td>\n",
       "      <td>65765482</td>\n",
       "      <td>AG</td>\n",
       "      <td>-</td>\n",
       "      <td>f82d213f-9ba5-7b6b-e040-11ac0c486882</td>\n",
       "      <td>T24</td>\n",
       "      <td>TCT</td>\n",
       "      <td>NaN</td>\n",
       "      <td>0.0</td>\n",
       "      <td>0.0</td>\n",
       "      <td>=</td>\n",
       "      <td>Bone-Osteosarc</td>\n",
       "    </tr>\n",
       "    <tr>\n",
       "      <th>...</th>\n",
       "      <td>...</td>\n",
       "      <td>...</td>\n",
       "      <td>...</td>\n",
       "      <td>...</td>\n",
       "      <td>...</td>\n",
       "      <td>...</td>\n",
       "      <td>...</td>\n",
       "      <td>...</td>\n",
       "      <td>...</td>\n",
       "      <td>...</td>\n",
       "      <td>...</td>\n",
       "      <td>...</td>\n",
       "    </tr>\n",
       "    <tr>\n",
       "      <th>355</th>\n",
       "      <td>5</td>\n",
       "      <td>116369616</td>\n",
       "      <td>TTTACTA</td>\n",
       "      <td>-</td>\n",
       "      <td>f82d213f-9ba5-7b6b-e040-11ac0c486882</td>\n",
       "      <td>412</td>\n",
       "      <td>TAC</td>\n",
       "      <td>NaN</td>\n",
       "      <td>0.0</td>\n",
       "      <td>0.0</td>\n",
       "      <td>=</td>\n",
       "      <td>Bone-Osteosarc</td>\n",
       "    </tr>\n",
       "    <tr>\n",
       "      <th>356</th>\n",
       "      <td>15</td>\n",
       "      <td>31814672</td>\n",
       "      <td>CA</td>\n",
       "      <td>-</td>\n",
       "      <td>f82d213f-9ba5-7b6b-e040-11ac0c486882</td>\n",
       "      <td>C43</td>\n",
       "      <td>CTG</td>\n",
       "      <td>NaN</td>\n",
       "      <td>1.0</td>\n",
       "      <td>0.0</td>\n",
       "      <td>+</td>\n",
       "      <td>Bone-Osteosarc</td>\n",
       "    </tr>\n",
       "    <tr>\n",
       "      <th>357</th>\n",
       "      <td>5</td>\n",
       "      <td>37180473</td>\n",
       "      <td>TCTT</td>\n",
       "      <td>-</td>\n",
       "      <td>f82d213f-9ba5-7b6b-e040-11ac0c486882</td>\n",
       "      <td>244</td>\n",
       "      <td>CTT</td>\n",
       "      <td>NaN</td>\n",
       "      <td>1.0</td>\n",
       "      <td>0.0</td>\n",
       "      <td>-</td>\n",
       "      <td>Bone-Osteosarc</td>\n",
       "    </tr>\n",
       "    <tr>\n",
       "      <th>358</th>\n",
       "      <td>18</td>\n",
       "      <td>5144293</td>\n",
       "      <td>T</td>\n",
       "      <td>-</td>\n",
       "      <td>f82d213f-9ba5-7b6b-e040-11ac0c486882</td>\n",
       "      <td>A4C</td>\n",
       "      <td>ATC</td>\n",
       "      <td>NaN</td>\n",
       "      <td>0.0</td>\n",
       "      <td>0.0</td>\n",
       "      <td>=</td>\n",
       "      <td>Bone-Osteosarc</td>\n",
       "    </tr>\n",
       "    <tr>\n",
       "      <th>359</th>\n",
       "      <td>4</td>\n",
       "      <td>168908656</td>\n",
       "      <td>G</td>\n",
       "      <td>-</td>\n",
       "      <td>f82d213f-9ba5-7b6b-e040-11ac0c486882</td>\n",
       "      <td>A3A</td>\n",
       "      <td>AGA</td>\n",
       "      <td>NaN</td>\n",
       "      <td>0.0</td>\n",
       "      <td>0.0</td>\n",
       "      <td>=</td>\n",
       "      <td>Bone-Osteosarc</td>\n",
       "    </tr>\n",
       "  </tbody>\n",
       "</table>\n",
       "<p>360 rows × 12 columns</p>\n",
       "</div>"
      ],
      "text/plain": [
       "     chrom        pos      ref alt                                sample  seq  \\\n",
       "0        6   12690441       CA   -  f82d213f-9ba5-7b6b-e040-11ac0c486882  C43   \n",
       "1        3   84137221        -   A  f82d213f-9ba5-7b6b-e040-11ac0c486882  G5A   \n",
       "2        3  157943529        A   -  f82d213f-9ba5-7b6b-e040-11ac0c486882  T1A   \n",
       "3       10  127942076      TCT   -  f82d213f-9ba5-7b6b-e040-11ac0c486882  424   \n",
       "4       16   65765482       AG   -  f82d213f-9ba5-7b6b-e040-11ac0c486882  T24   \n",
       "..     ...        ...      ...  ..                                   ...  ...   \n",
       "355      5  116369616  TTTACTA   -  f82d213f-9ba5-7b6b-e040-11ac0c486882  412   \n",
       "356     15   31814672       CA   -  f82d213f-9ba5-7b6b-e040-11ac0c486882  C43   \n",
       "357      5   37180473     TCTT   -  f82d213f-9ba5-7b6b-e040-11ac0c486882  244   \n",
       "358     18    5144293        T   -  f82d213f-9ba5-7b6b-e040-11ac0c486882  A4C   \n",
       "359      4  168908656        G   -  f82d213f-9ba5-7b6b-e040-11ac0c486882  A3A   \n",
       "\n",
       "    ref_seq  gc1kb  genic  exonic strand       histology  \n",
       "0       CTG    NaN    0.0     0.0      =  Bone-Osteosarc  \n",
       "1       G-A    NaN    0.0     0.0      =  Bone-Osteosarc  \n",
       "2       TAA    NaN    1.0     0.0      -  Bone-Osteosarc  \n",
       "3       TCT    NaN    1.0     0.0      -  Bone-Osteosarc  \n",
       "4       TCT    NaN    0.0     0.0      =  Bone-Osteosarc  \n",
       "..      ...    ...    ...     ...    ...             ...  \n",
       "355     TAC    NaN    0.0     0.0      =  Bone-Osteosarc  \n",
       "356     CTG    NaN    1.0     0.0      +  Bone-Osteosarc  \n",
       "357     CTT    NaN    1.0     0.0      -  Bone-Osteosarc  \n",
       "358     ATC    NaN    0.0     0.0      =  Bone-Osteosarc  \n",
       "359     AGA    NaN    0.0     0.0      =  Bone-Osteosarc  \n",
       "\n",
       "[360 rows x 12 columns]"
      ]
     },
     "execution_count": 16,
     "metadata": {},
     "output_type": "execute_result"
    }
   ],
   "source": [
    "file"
   ]
  },
  {
   "cell_type": "code",
   "execution_count": 69,
   "id": "145760fa-3e94-4c77-8b55-7dfd665278f2",
   "metadata": {},
   "outputs": [],
   "source": [
    "seqs = file.loc[:,'seq']"
   ]
  },
  {
   "cell_type": "code",
   "execution_count": 74,
   "id": "ecad2f84-265d-4b40-bd27-8b4056b5cf72",
   "metadata": {},
   "outputs": [
    {
     "data": {
      "text/plain": [
       "360"
      ]
     },
     "execution_count": 74,
     "metadata": {},
     "output_type": "execute_result"
    }
   ],
   "source": [
    "len(seqs)"
   ]
  },
  {
   "cell_type": "code",
   "execution_count": 82,
   "id": "bea99343-dcff-41d0-9077-6aab0bc82973",
   "metadata": {},
   "outputs": [],
   "source": [
    "mutation_tokens = pd.read_csv('/csc/epitkane/projects/multimodal/extfiles/one_hot_mutationdict.tsv', sep='\\t', header=0)"
   ]
  },
  {
   "cell_type": "code",
   "execution_count": 83,
   "id": "3b8fd294-c9f6-4e8d-949b-1dc80470d85e",
   "metadata": {},
   "outputs": [
    {
     "data": {
      "text/html": [
       "<div>\n",
       "<style scoped>\n",
       "    .dataframe tbody tr th:only-of-type {\n",
       "        vertical-align: middle;\n",
       "    }\n",
       "\n",
       "    .dataframe tbody tr th {\n",
       "        vertical-align: top;\n",
       "    }\n",
       "\n",
       "    .dataframe thead th {\n",
       "        text-align: right;\n",
       "    }\n",
       "</style>\n",
       "<table border=\"1\" class=\"dataframe\">\n",
       "  <thead>\n",
       "    <tr style=\"text-align: right;\">\n",
       "      <th></th>\n",
       "      <th>mutation</th>\n",
       "      <th>token</th>\n",
       "    </tr>\n",
       "  </thead>\n",
       "  <tbody>\n",
       "    <tr>\n",
       "      <th>0</th>\n",
       "      <td>A</td>\n",
       "      <td>0</td>\n",
       "    </tr>\n",
       "    <tr>\n",
       "      <th>1</th>\n",
       "      <td>C</td>\n",
       "      <td>1</td>\n",
       "    </tr>\n",
       "    <tr>\n",
       "      <th>2</th>\n",
       "      <td>T</td>\n",
       "      <td>2</td>\n",
       "    </tr>\n",
       "    <tr>\n",
       "      <th>3</th>\n",
       "      <td>G</td>\n",
       "      <td>3</td>\n",
       "    </tr>\n",
       "    <tr>\n",
       "      <th>4</th>\n",
       "      <td>!</td>\n",
       "      <td>4</td>\n",
       "    </tr>\n",
       "    <tr>\n",
       "      <th>5</th>\n",
       "      <td>@</td>\n",
       "      <td>5</td>\n",
       "    </tr>\n",
       "    <tr>\n",
       "      <th>6</th>\n",
       "      <td>#</td>\n",
       "      <td>6</td>\n",
       "    </tr>\n",
       "    <tr>\n",
       "      <th>7</th>\n",
       "      <td>N</td>\n",
       "      <td>7</td>\n",
       "    </tr>\n",
       "    <tr>\n",
       "      <th>8</th>\n",
       "      <td>1</td>\n",
       "      <td>8</td>\n",
       "    </tr>\n",
       "    <tr>\n",
       "      <th>9</th>\n",
       "      <td>$</td>\n",
       "      <td>9</td>\n",
       "    </tr>\n",
       "    <tr>\n",
       "      <th>10</th>\n",
       "      <td>%</td>\n",
       "      <td>10</td>\n",
       "    </tr>\n",
       "    <tr>\n",
       "      <th>11</th>\n",
       "      <td>^</td>\n",
       "      <td>11</td>\n",
       "    </tr>\n",
       "    <tr>\n",
       "      <th>12</th>\n",
       "      <td>2</td>\n",
       "      <td>12</td>\n",
       "    </tr>\n",
       "    <tr>\n",
       "      <th>13</th>\n",
       "      <td>&amp;</td>\n",
       "      <td>13</td>\n",
       "    </tr>\n",
       "    <tr>\n",
       "      <th>14</th>\n",
       "      <td>*</td>\n",
       "      <td>14</td>\n",
       "    </tr>\n",
       "    <tr>\n",
       "      <th>15</th>\n",
       "      <td>~</td>\n",
       "      <td>15</td>\n",
       "    </tr>\n",
       "    <tr>\n",
       "      <th>16</th>\n",
       "      <td>3</td>\n",
       "      <td>16</td>\n",
       "    </tr>\n",
       "    <tr>\n",
       "      <th>17</th>\n",
       "      <td>:</td>\n",
       "      <td>17</td>\n",
       "    </tr>\n",
       "    <tr>\n",
       "      <th>18</th>\n",
       "      <td>;</td>\n",
       "      <td>18</td>\n",
       "    </tr>\n",
       "    <tr>\n",
       "      <th>19</th>\n",
       "      <td>?</td>\n",
       "      <td>19</td>\n",
       "    </tr>\n",
       "    <tr>\n",
       "      <th>20</th>\n",
       "      <td>4</td>\n",
       "      <td>20</td>\n",
       "    </tr>\n",
       "    <tr>\n",
       "      <th>21</th>\n",
       "      <td>5</td>\n",
       "      <td>21</td>\n",
       "    </tr>\n",
       "    <tr>\n",
       "      <th>22</th>\n",
       "      <td>6</td>\n",
       "      <td>22</td>\n",
       "    </tr>\n",
       "    <tr>\n",
       "      <th>23</th>\n",
       "      <td>7</td>\n",
       "      <td>23</td>\n",
       "    </tr>\n",
       "    <tr>\n",
       "      <th>24</th>\n",
       "      <td>8</td>\n",
       "      <td>24</td>\n",
       "    </tr>\n",
       "  </tbody>\n",
       "</table>\n",
       "</div>"
      ],
      "text/plain": [
       "   mutation  token\n",
       "0         A      0\n",
       "1         C      1\n",
       "2         T      2\n",
       "3         G      3\n",
       "4         !      4\n",
       "5         @      5\n",
       "6         #      6\n",
       "7         N      7\n",
       "8         1      8\n",
       "9         $      9\n",
       "10        %     10\n",
       "11        ^     11\n",
       "12        2     12\n",
       "13        &     13\n",
       "14        *     14\n",
       "15        ~     15\n",
       "16        3     16\n",
       "17        :     17\n",
       "18        ;     18\n",
       "19        ?     19\n",
       "20        4     20\n",
       "21        5     21\n",
       "22        6     22\n",
       "23        7     23\n",
       "24        8     24"
      ]
     },
     "execution_count": 83,
     "metadata": {},
     "output_type": "execute_result"
    }
   ],
   "source": [
    "mutation_tokens"
   ]
  },
  {
   "cell_type": "code",
   "execution_count": 84,
   "id": "d6d6d00c-4a07-41ea-860f-669a0ceb80e0",
   "metadata": {},
   "outputs": [],
   "source": [
    "motif_len = 3\n",
    "max_token = 25\n",
    "encoded = np.zeros((len(seqs), motif_len, max_token))\n",
    "for i, s in enumerate(seqs.values.tolist()):\n",
    "    motif_seq = pd.DataFrame({'sequence': list(str(s))})\n",
    "    motif_seq = motif_seq.merge(mutation_tokens, left_on='sequence', right_on='mutation', how='left')\n",
    "    #print(motif_seq.loc[:,'token'].values)\n",
    "    #print(motif_seq.loc[:,'sequence'].values)\n",
    "    encoded[i,:, :] = one_hot(motif_seq.loc[:,'token'].values, max_token)\n"
   ]
  },
  {
   "cell_type": "code",
   "execution_count": 85,
   "id": "3ec2e17a-4284-4b57-af8a-d34f664a4a42",
   "metadata": {},
   "outputs": [
    {
     "data": {
      "text/plain": [
       "array([[[0., 1., 0., ..., 0., 0., 0.],\n",
       "        [0., 0., 0., ..., 0., 0., 0.],\n",
       "        [0., 0., 0., ..., 0., 0., 0.]],\n",
       "\n",
       "       [[0., 0., 0., ..., 0., 0., 0.],\n",
       "        [0., 0., 0., ..., 0., 0., 0.],\n",
       "        [1., 0., 0., ..., 0., 0., 0.]],\n",
       "\n",
       "       [[0., 0., 1., ..., 0., 0., 0.],\n",
       "        [0., 0., 0., ..., 0., 0., 0.],\n",
       "        [1., 0., 0., ..., 0., 0., 0.]],\n",
       "\n",
       "       ...,\n",
       "\n",
       "       [[0., 0., 0., ..., 0., 0., 0.],\n",
       "        [0., 0., 0., ..., 0., 0., 0.],\n",
       "        [0., 0., 0., ..., 0., 0., 0.]],\n",
       "\n",
       "       [[1., 0., 0., ..., 0., 0., 0.],\n",
       "        [0., 0., 0., ..., 0., 0., 0.],\n",
       "        [0., 1., 0., ..., 0., 0., 0.]],\n",
       "\n",
       "       [[1., 0., 0., ..., 0., 0., 0.],\n",
       "        [0., 0., 0., ..., 0., 0., 0.],\n",
       "        [1., 0., 0., ..., 0., 0., 0.]]])"
      ]
     },
     "execution_count": 85,
     "metadata": {},
     "output_type": "execute_result"
    }
   ],
   "source": [
    "encoded"
   ]
  },
  {
   "cell_type": "code",
   "execution_count": 65,
   "id": "45c18e92-8536-4a20-875b-ff14eae36cae",
   "metadata": {},
   "outputs": [
    {
     "name": "stdout",
     "output_type": "stream",
     "text": [
      "C43\n",
      "(360, 3, 25)\n"
     ]
    }
   ],
   "source": [
    "print(seqs[0])\n",
    "print(ready.shape)"
   ]
  },
  {
   "cell_type": "markdown",
   "id": "39b085b8-ad1d-4fea-a360-6cfe1c857683",
   "metadata": {},
   "source": [
    "## Embedding with linear layer"
   ]
  },
  {
   "cell_type": "code",
   "execution_count": 7,
   "id": "74d2bfa7-ace6-4905-88aa-7f8806397686",
   "metadata": {},
   "outputs": [],
   "source": [
    "import torch"
   ]
  },
  {
   "cell_type": "code",
   "execution_count": 8,
   "id": "bf1385a4-24f3-4a42-b96c-35a95824d956",
   "metadata": {},
   "outputs": [],
   "source": [
    "data = np.load(\"/csc/epitkane/projects/multimodal/data/train/onehot3_tar/Bone-Osteosarc/f82d213f-9843-28eb-e040-11ac0d483e48/SNV_f82d213f-9843-28eb-e040-11ac0d483e48.npz\")\n",
    "SNV_motif = data[\"motif\"]\n",
    "data_sample_snv = np.random.choice(len(SNV_motif), size = 10, replace=False)\n",
    "SNV_motif = SNV_motif[data_sample_snv, :, :]"
   ]
  },
  {
   "cell_type": "code",
   "execution_count": 9,
   "id": "9f79c380-6b22-4f88-844a-ff8e0004c782",
   "metadata": {},
   "outputs": [],
   "source": [
    "SNV_motif = torch.FloatTensor(SNV_motif)"
   ]
  },
  {
   "cell_type": "markdown",
   "id": "a250679b-409c-4536-b8a9-5363edcf06af",
   "metadata": {},
   "source": [
    "#### Linear"
   ]
  },
  {
   "cell_type": "code",
   "execution_count": 10,
   "id": "b54ff2bd-f7b1-44c6-84b9-2f6fe8d9b2bc",
   "metadata": {},
   "outputs": [],
   "source": [
    "ln = torch.nn.Sequential(torch.nn.Flatten(start_dim=1, end_dim=-1),\n",
    "                   torch.nn.Linear(3 * 25, 512))"
   ]
  },
  {
   "cell_type": "code",
   "execution_count": 14,
   "id": "0cbb084a-b7db-43d8-b5da-35a56b4462fc",
   "metadata": {},
   "outputs": [],
   "source": [
    "result = ln(SNV_motif)"
   ]
  },
  {
   "cell_type": "code",
   "execution_count": 15,
   "id": "2cc7c1e9-3197-40fb-8d2d-f9b8c35cc113",
   "metadata": {},
   "outputs": [
    {
     "data": {
      "text/plain": [
       "torch.Size([10, 512])"
      ]
     },
     "execution_count": 15,
     "metadata": {},
     "output_type": "execute_result"
    }
   ],
   "source": [
    "result.shape"
   ]
  },
  {
   "cell_type": "code",
   "execution_count": 16,
   "id": "fda4dab5-9775-4604-ab7b-8be1243beb44",
   "metadata": {},
   "outputs": [
    {
     "data": {
      "text/plain": [
       "torch.Size([1, 10, 512])"
      ]
     },
     "execution_count": 16,
     "metadata": {},
     "output_type": "execute_result"
    }
   ],
   "source": [
    "torch.unsqueeze(result, 0).shape"
   ]
  },
  {
   "cell_type": "markdown",
   "id": "1feef0a2-032c-4aaf-91c1-aa49a6d31f38",
   "metadata": {},
   "source": [
    "#### Convolution"
   ]
  },
  {
   "cell_type": "code",
   "execution_count": 10,
   "id": "d2bd976c-99d7-48f0-8c87-69ec1eaf22e2",
   "metadata": {},
   "outputs": [
    {
     "data": {
      "text/plain": [
       "torch.Size([10, 3, 25])"
      ]
     },
     "execution_count": 10,
     "metadata": {},
     "output_type": "execute_result"
    }
   ],
   "source": [
    "SNV_motif.shape"
   ]
  },
  {
   "cell_type": "code",
   "execution_count": 11,
   "id": "8e17c925-cdb1-42cb-9b88-88473e6c3146",
   "metadata": {},
   "outputs": [],
   "source": [
    "data = torch.flatten(SNV_motif, 1, -1)"
   ]
  },
  {
   "cell_type": "code",
   "execution_count": 16,
   "id": "781363bd-b0ea-4a1c-89bb-abc6d20eab20",
   "metadata": {},
   "outputs": [
    {
     "data": {
      "text/plain": [
       "torch.Size([10, 1, 75])"
      ]
     },
     "execution_count": 16,
     "metadata": {},
     "output_type": "execute_result"
    }
   ],
   "source": [
    "data = data.unsqueeze(1)\n",
    "data.shape"
   ]
  },
  {
   "cell_type": "code",
   "execution_count": 29,
   "id": "6bc3ee13-50e0-4bea-a969-153746a1a0fd",
   "metadata": {},
   "outputs": [],
   "source": [
    "conv = torch.nn.Sequential(torch.nn.Conv1d(in_channels=1, out_channels=1, kernel_size=5, bias=False))"
   ]
  },
  {
   "cell_type": "code",
   "execution_count": 30,
   "id": "9c1e7be3-8185-4062-b74f-6df1b18cebec",
   "metadata": {},
   "outputs": [],
   "source": [
    "A = conv(data)"
   ]
  },
  {
   "cell_type": "code",
   "execution_count": 31,
   "id": "bf2de5b4-e405-49c2-b312-f19602d673b9",
   "metadata": {},
   "outputs": [
    {
     "data": {
      "text/plain": [
       "torch.Size([10, 1, 71])"
      ]
     },
     "execution_count": 31,
     "metadata": {},
     "output_type": "execute_result"
    }
   ],
   "source": [
    "A.shape"
   ]
  },
  {
   "cell_type": "code",
   "execution_count": 32,
   "id": "a3b559d7-3ba8-4d1f-8a17-ca9cb5f28b8e",
   "metadata": {},
   "outputs": [],
   "source": [
    "orig_data_file = pd.read_csv('/csc/epitkane/projects/multimodal/data/train/DNABERT_motif3/Bone-Osteosarc/f82d213f-9ba5-7b6b-e040-11ac0c486882/indel_f82d213f-9ba5-7b6b-e040-11ac0c486882.tsv.gz', sep='\\t', compression='gzip')\n",
    "seq = orig_data_file.loc[:, 'seq']\n",
    "ref = orig_data_file.loc[:, 'ref']"
   ]
  },
  {
   "cell_type": "code",
   "execution_count": 35,
   "id": "d4183952-f670-4307-9afd-14853e10e423",
   "metadata": {},
   "outputs": [],
   "source": [
    "A = np.array([1,5])"
   ]
  },
  {
   "cell_type": "code",
   "execution_count": 37,
   "id": "3d110a47-f6b9-449d-9069-bc06b21b8e62",
   "metadata": {},
   "outputs": [
    {
     "data": {
      "text/plain": [
       "1    CT\n",
       "5    TG\n",
       "Name: seq, dtype: object"
      ]
     },
     "execution_count": 37,
     "metadata": {},
     "output_type": "execute_result"
    }
   ],
   "source": [
    "seq.iloc[A]"
   ]
  },
  {
   "cell_type": "code",
   "execution_count": 39,
   "id": "d3d4bf4e-955f-4375-8f96-9e829db505e8",
   "metadata": {},
   "outputs": [
    {
     "data": {
      "text/html": [
       "<div>\n",
       "<style scoped>\n",
       "    .dataframe tbody tr th:only-of-type {\n",
       "        vertical-align: middle;\n",
       "    }\n",
       "\n",
       "    .dataframe tbody tr th {\n",
       "        vertical-align: top;\n",
       "    }\n",
       "\n",
       "    .dataframe thead th {\n",
       "        text-align: right;\n",
       "    }\n",
       "</style>\n",
       "<table border=\"1\" class=\"dataframe\">\n",
       "  <thead>\n",
       "    <tr style=\"text-align: right;\">\n",
       "      <th></th>\n",
       "      <th>Unnamed: 0</th>\n",
       "      <th>chrom</th>\n",
       "      <th>pos</th>\n",
       "      <th>ref</th>\n",
       "      <th>alt</th>\n",
       "      <th>sample</th>\n",
       "      <th>seq</th>\n",
       "      <th>ref_seq</th>\n",
       "      <th>gc1kb</th>\n",
       "      <th>genic</th>\n",
       "      <th>exonic</th>\n",
       "      <th>strand</th>\n",
       "      <th>histology</th>\n",
       "    </tr>\n",
       "  </thead>\n",
       "  <tbody>\n",
       "    <tr>\n",
       "      <th>0</th>\n",
       "      <td>0</td>\n",
       "      <td>1</td>\n",
       "      <td>6016057</td>\n",
       "      <td>C</td>\n",
       "      <td>-</td>\n",
       "      <td>f82d213f-9ba5-7b6b-e040-11ac0c486882</td>\n",
       "      <td>TC</td>\n",
       "      <td>TCC</td>\n",
       "      <td>NaN</td>\n",
       "      <td>1.0</td>\n",
       "      <td>0.0</td>\n",
       "      <td>-</td>\n",
       "      <td>Bone-Osteosarc</td>\n",
       "    </tr>\n",
       "    <tr>\n",
       "      <th>1</th>\n",
       "      <td>1</td>\n",
       "      <td>1</td>\n",
       "      <td>8061059</td>\n",
       "      <td>TT</td>\n",
       "      <td>--</td>\n",
       "      <td>f82d213f-9ba5-7b6b-e040-11ac0c486882</td>\n",
       "      <td>CT</td>\n",
       "      <td>CTTT</td>\n",
       "      <td>NaN</td>\n",
       "      <td>0.0</td>\n",
       "      <td>0.0</td>\n",
       "      <td>=</td>\n",
       "      <td>Bone-Osteosarc</td>\n",
       "    </tr>\n",
       "    <tr>\n",
       "      <th>2</th>\n",
       "      <td>2</td>\n",
       "      <td>1</td>\n",
       "      <td>28869918</td>\n",
       "      <td>CT</td>\n",
       "      <td>--</td>\n",
       "      <td>f82d213f-9ba5-7b6b-e040-11ac0c486882</td>\n",
       "      <td>GG</td>\n",
       "      <td>GCTG</td>\n",
       "      <td>NaN</td>\n",
       "      <td>0.0</td>\n",
       "      <td>0.0</td>\n",
       "      <td>=</td>\n",
       "      <td>Bone-Osteosarc</td>\n",
       "    </tr>\n",
       "    <tr>\n",
       "      <th>3</th>\n",
       "      <td>3</td>\n",
       "      <td>1</td>\n",
       "      <td>33250566</td>\n",
       "      <td>TT</td>\n",
       "      <td>--</td>\n",
       "      <td>f82d213f-9ba5-7b6b-e040-11ac0c486882</td>\n",
       "      <td>CG</td>\n",
       "      <td>CTTG</td>\n",
       "      <td>NaN</td>\n",
       "      <td>1.0</td>\n",
       "      <td>0.0</td>\n",
       "      <td>-</td>\n",
       "      <td>Bone-Osteosarc</td>\n",
       "    </tr>\n",
       "    <tr>\n",
       "      <th>4</th>\n",
       "      <td>4</td>\n",
       "      <td>1</td>\n",
       "      <td>39237324</td>\n",
       "      <td>G</td>\n",
       "      <td>-</td>\n",
       "      <td>f82d213f-9ba5-7b6b-e040-11ac0c486882</td>\n",
       "      <td>AG</td>\n",
       "      <td>AGG</td>\n",
       "      <td>NaN</td>\n",
       "      <td>0.0</td>\n",
       "      <td>0.0</td>\n",
       "      <td>=</td>\n",
       "      <td>Bone-Osteosarc</td>\n",
       "    </tr>\n",
       "    <tr>\n",
       "      <th>...</th>\n",
       "      <td>...</td>\n",
       "      <td>...</td>\n",
       "      <td>...</td>\n",
       "      <td>...</td>\n",
       "      <td>...</td>\n",
       "      <td>...</td>\n",
       "      <td>...</td>\n",
       "      <td>...</td>\n",
       "      <td>...</td>\n",
       "      <td>...</td>\n",
       "      <td>...</td>\n",
       "      <td>...</td>\n",
       "      <td>...</td>\n",
       "    </tr>\n",
       "    <tr>\n",
       "      <th>373</th>\n",
       "      <td>373</td>\n",
       "      <td>X</td>\n",
       "      <td>123757710</td>\n",
       "      <td>TC</td>\n",
       "      <td>--</td>\n",
       "      <td>f82d213f-9ba5-7b6b-e040-11ac0c486882</td>\n",
       "      <td>AT</td>\n",
       "      <td>ATCT</td>\n",
       "      <td>NaN</td>\n",
       "      <td>1.0</td>\n",
       "      <td>0.0</td>\n",
       "      <td>-</td>\n",
       "      <td>Bone-Osteosarc</td>\n",
       "    </tr>\n",
       "    <tr>\n",
       "      <th>374</th>\n",
       "      <td>374</td>\n",
       "      <td>X</td>\n",
       "      <td>126291383</td>\n",
       "      <td>ATAA</td>\n",
       "      <td>----</td>\n",
       "      <td>f82d213f-9ba5-7b6b-e040-11ac0c486882</td>\n",
       "      <td>GA</td>\n",
       "      <td>GATAAA</td>\n",
       "      <td>NaN</td>\n",
       "      <td>0.0</td>\n",
       "      <td>0.0</td>\n",
       "      <td>=</td>\n",
       "      <td>Bone-Osteosarc</td>\n",
       "    </tr>\n",
       "    <tr>\n",
       "      <th>375</th>\n",
       "      <td>375</td>\n",
       "      <td>X</td>\n",
       "      <td>142155972</td>\n",
       "      <td>T</td>\n",
       "      <td>-</td>\n",
       "      <td>f82d213f-9ba5-7b6b-e040-11ac0c486882</td>\n",
       "      <td>AT</td>\n",
       "      <td>ATT</td>\n",
       "      <td>NaN</td>\n",
       "      <td>0.0</td>\n",
       "      <td>0.0</td>\n",
       "      <td>=</td>\n",
       "      <td>Bone-Osteosarc</td>\n",
       "    </tr>\n",
       "    <tr>\n",
       "      <th>376</th>\n",
       "      <td>376</td>\n",
       "      <td>X</td>\n",
       "      <td>144946862</td>\n",
       "      <td>T</td>\n",
       "      <td>-</td>\n",
       "      <td>f82d213f-9ba5-7b6b-e040-11ac0c486882</td>\n",
       "      <td>CA</td>\n",
       "      <td>CTA</td>\n",
       "      <td>NaN</td>\n",
       "      <td>0.0</td>\n",
       "      <td>0.0</td>\n",
       "      <td>=</td>\n",
       "      <td>Bone-Osteosarc</td>\n",
       "    </tr>\n",
       "    <tr>\n",
       "      <th>377</th>\n",
       "      <td>377</td>\n",
       "      <td>X</td>\n",
       "      <td>146379087</td>\n",
       "      <td>-</td>\n",
       "      <td>T</td>\n",
       "      <td>f82d213f-9ba5-7b6b-e040-11ac0c486882</td>\n",
       "      <td>ATT</td>\n",
       "      <td>AT</td>\n",
       "      <td>NaN</td>\n",
       "      <td>0.0</td>\n",
       "      <td>0.0</td>\n",
       "      <td>=</td>\n",
       "      <td>Bone-Osteosarc</td>\n",
       "    </tr>\n",
       "  </tbody>\n",
       "</table>\n",
       "<p>378 rows × 13 columns</p>\n",
       "</div>"
      ],
      "text/plain": [
       "     Unnamed: 0 chrom        pos   ref   alt  \\\n",
       "0             0     1    6016057     C     -   \n",
       "1             1     1    8061059    TT    --   \n",
       "2             2     1   28869918    CT    --   \n",
       "3             3     1   33250566    TT    --   \n",
       "4             4     1   39237324     G     -   \n",
       "..          ...   ...        ...   ...   ...   \n",
       "373         373     X  123757710    TC    --   \n",
       "374         374     X  126291383  ATAA  ----   \n",
       "375         375     X  142155972     T     -   \n",
       "376         376     X  144946862     T     -   \n",
       "377         377     X  146379087     -     T   \n",
       "\n",
       "                                   sample  seq ref_seq  gc1kb  genic  exonic  \\\n",
       "0    f82d213f-9ba5-7b6b-e040-11ac0c486882   TC     TCC    NaN    1.0     0.0   \n",
       "1    f82d213f-9ba5-7b6b-e040-11ac0c486882   CT    CTTT    NaN    0.0     0.0   \n",
       "2    f82d213f-9ba5-7b6b-e040-11ac0c486882   GG    GCTG    NaN    0.0     0.0   \n",
       "3    f82d213f-9ba5-7b6b-e040-11ac0c486882   CG    CTTG    NaN    1.0     0.0   \n",
       "4    f82d213f-9ba5-7b6b-e040-11ac0c486882   AG     AGG    NaN    0.0     0.0   \n",
       "..                                    ...  ...     ...    ...    ...     ...   \n",
       "373  f82d213f-9ba5-7b6b-e040-11ac0c486882   AT    ATCT    NaN    1.0     0.0   \n",
       "374  f82d213f-9ba5-7b6b-e040-11ac0c486882   GA  GATAAA    NaN    0.0     0.0   \n",
       "375  f82d213f-9ba5-7b6b-e040-11ac0c486882   AT     ATT    NaN    0.0     0.0   \n",
       "376  f82d213f-9ba5-7b6b-e040-11ac0c486882   CA     CTA    NaN    0.0     0.0   \n",
       "377  f82d213f-9ba5-7b6b-e040-11ac0c486882  ATT      AT    NaN    0.0     0.0   \n",
       "\n",
       "    strand       histology  \n",
       "0        -  Bone-Osteosarc  \n",
       "1        =  Bone-Osteosarc  \n",
       "2        =  Bone-Osteosarc  \n",
       "3        -  Bone-Osteosarc  \n",
       "4        =  Bone-Osteosarc  \n",
       "..     ...             ...  \n",
       "373      -  Bone-Osteosarc  \n",
       "374      =  Bone-Osteosarc  \n",
       "375      =  Bone-Osteosarc  \n",
       "376      =  Bone-Osteosarc  \n",
       "377      =  Bone-Osteosarc  \n",
       "\n",
       "[378 rows x 13 columns]"
      ]
     },
     "execution_count": 39,
     "metadata": {},
     "output_type": "execute_result"
    }
   ],
   "source": [
    "orig_data_file"
   ]
  },
  {
   "cell_type": "code",
   "execution_count": 16,
   "id": "e7c8d6a3-b0a5-4b81-bb06-2ad62453ba91",
   "metadata": {},
   "outputs": [],
   "source": [
    "B = np.load('/csc/epitkane/projects/multimodal/data/train/DNABERT_motif3/Uterus-AdenoCA/f7187888-f261-4a39-99b4-966fd7207117/indel_f7187888-f261-4a39-99b4-966fd7207117.npz')"
   ]
  },
  {
   "cell_type": "code",
   "execution_count": 17,
   "id": "8e321bd5-a394-4a36-8926-81b97c0c6c6b",
   "metadata": {},
   "outputs": [
    {
     "data": {
      "text/plain": [
       "(12569, 1536)"
      ]
     },
     "execution_count": 17,
     "metadata": {},
     "output_type": "execute_result"
    }
   ],
   "source": [
    "B['motif'].shape"
   ]
  },
  {
   "cell_type": "code",
   "execution_count": 5,
   "id": "61ca0101-3d01-495e-ac98-378776c50a36",
   "metadata": {},
   "outputs": [],
   "source": [
    "df_data = pd.read_csv(\"/csc/epitkane/projects/multimodal/data/train_new/muat_orig/Bone-Osteosarc/f221c897-6ad0-0df9-e040-11ac0c4813ef/indel_f221c897-6ad0-0df9-e040-11ac0c4813ef.tsv.gz\", compression='gzip', sep='\\t', index_col= 0)\n",
    "df_101 = pd.read_csv(\"/csc/epitkane/projects/multimodal/data/temp/DNABERT_motif201/Bone-Osteosarc/f221c897-6ad0-0df9-e040-11ac0c4813ef/indel_f221c897-6ad0-0df9-e040-11ac0c4813ef.tsv.gz\", compression='gzip', sep='\\t', index_col= 0)"
   ]
  },
  {
   "cell_type": "code",
   "execution_count": 20,
   "id": "e166291a-f741-40d7-9f86-2949a8ff135a",
   "metadata": {},
   "outputs": [],
   "source": [
    "df_data = df_data.astype({'chrom': str})\n",
    "df_101 = df_101.astype({'chrom': str})\n",
    "df_data = df_data.astype({'pos': str})\n",
    "df_101 = df_101.astype({'pos': str})\n",
    "\n",
    "df_data = df_data.drop_duplicates(ignore_index=True)\n",
    "df_101 = df_101.drop_duplicates(ignore_index=True)\n",
    "\n",
    "df_data['original_indices'] = df_data.index\n",
    "#print(df_101.dtypes)\n",
    "#print(df_data.dtypes)\n",
    "df_filtered = pd.merge(df_data, df_101, on = ['chrom', 'pos'], how='inner')\n",
    "#df_filtered = df_filtered.drop_duplicates(subset=['original_indices'])\n",
    "removed_indices = df_data[~df_data.loc[:,'original_indices'].isin(df_filtered.loc[:,'original_indices'])].index.tolist()"
   ]
  },
  {
   "cell_type": "code",
   "execution_count": 21,
   "id": "bf088823-3795-4a06-a641-f78ee6657767",
   "metadata": {},
   "outputs": [
    {
     "data": {
      "text/plain": [
       "170"
      ]
     },
     "execution_count": 21,
     "metadata": {},
     "output_type": "execute_result"
    }
   ],
   "source": [
    "len(df_101)"
   ]
  },
  {
   "cell_type": "code",
   "execution_count": 22,
   "id": "c1748330-f864-4542-8668-66ade6041cfb",
   "metadata": {},
   "outputs": [
    {
     "data": {
      "text/plain": [
       "173"
      ]
     },
     "execution_count": 22,
     "metadata": {},
     "output_type": "execute_result"
    }
   ],
   "source": [
    "len(df_data)"
   ]
  },
  {
   "cell_type": "code",
   "execution_count": 23,
   "id": "3b8ca264-30fa-4baf-9579-d3d06db7c604",
   "metadata": {},
   "outputs": [
    {
     "data": {
      "text/plain": [
       "171"
      ]
     },
     "execution_count": 23,
     "metadata": {},
     "output_type": "execute_result"
    }
   ],
   "source": [
    "len(df_filtered)"
   ]
  },
  {
   "cell_type": "code",
   "execution_count": 63,
   "id": "11ae5c2e-8392-4622-8797-6b017de4f60c",
   "metadata": {},
   "outputs": [],
   "source": [
    "result = pd.merge(df_data, df_101, on = ['chrom', 'pos'], how='inner')"
   ]
  },
  {
   "cell_type": "code",
   "execution_count": 64,
   "id": "a3d6b6d6-f6c3-47e0-8c22-40da0f1038cd",
   "metadata": {},
   "outputs": [
    {
     "data": {
      "text/html": [
       "<div>\n",
       "<style scoped>\n",
       "    .dataframe tbody tr th:only-of-type {\n",
       "        vertical-align: middle;\n",
       "    }\n",
       "\n",
       "    .dataframe tbody tr th {\n",
       "        vertical-align: top;\n",
       "    }\n",
       "\n",
       "    .dataframe thead th {\n",
       "        text-align: right;\n",
       "    }\n",
       "</style>\n",
       "<table border=\"1\" class=\"dataframe\">\n",
       "  <thead>\n",
       "    <tr style=\"text-align: right;\">\n",
       "      <th></th>\n",
       "      <th>chrom</th>\n",
       "      <th>pos</th>\n",
       "      <th>ref</th>\n",
       "      <th>alt</th>\n",
       "      <th>sample</th>\n",
       "      <th>seq</th>\n",
       "      <th>ref_seq</th>\n",
       "      <th>gc1kb</th>\n",
       "      <th>genic</th>\n",
       "      <th>exonic</th>\n",
       "      <th>strand</th>\n",
       "      <th>histology</th>\n",
       "    </tr>\n",
       "  </thead>\n",
       "  <tbody>\n",
       "    <tr>\n",
       "      <th>0</th>\n",
       "      <td>1</td>\n",
       "      <td>8739392</td>\n",
       "      <td>C</td>\n",
       "      <td>-</td>\n",
       "      <td>f221c897-6ad0-0df9-e040-11ac0c4813ef</td>\n",
       "      <td>CTTAGGAAAGACAGTGAGACAGTCCCATAGCAATCTAAGGCTTTAT...</td>\n",
       "      <td>CTTAGGAAAGACAGTGAGACAGTCCCATAGCAATCTAAGGCTTTAT...</td>\n",
       "      <td>NaN</td>\n",
       "      <td>1.0</td>\n",
       "      <td>0.0</td>\n",
       "      <td>-</td>\n",
       "      <td>Bone-Osteosarc</td>\n",
       "    </tr>\n",
       "    <tr>\n",
       "      <th>1</th>\n",
       "      <td>1</td>\n",
       "      <td>44519130</td>\n",
       "      <td>-</td>\n",
       "      <td>G</td>\n",
       "      <td>f221c897-6ad0-0df9-e040-11ac0c4813ef</td>\n",
       "      <td>CCCATGAGGCCTGTGTCCCCACTTTGAAGCCTCTCCAGTCCCCTAG...</td>\n",
       "      <td>CCCATGAGGCCTGTGTCCCCACTTTGAAGCCTCTCCAGTCCCCTAG...</td>\n",
       "      <td>NaN</td>\n",
       "      <td>0.0</td>\n",
       "      <td>0.0</td>\n",
       "      <td>=</td>\n",
       "      <td>Bone-Osteosarc</td>\n",
       "    </tr>\n",
       "    <tr>\n",
       "      <th>2</th>\n",
       "      <td>1</td>\n",
       "      <td>45684970</td>\n",
       "      <td>C</td>\n",
       "      <td>-</td>\n",
       "      <td>f221c897-6ad0-0df9-e040-11ac0c4813ef</td>\n",
       "      <td>GCCATTGCACTGACTTCTTCTTTTCTTTCTCTAAAGATCACAGCAT...</td>\n",
       "      <td>GCCATTGCACTGACTTCTTCTTTTCTTTCTCTAAAGATCACAGCAT...</td>\n",
       "      <td>NaN</td>\n",
       "      <td>1.0</td>\n",
       "      <td>0.0</td>\n",
       "      <td>-</td>\n",
       "      <td>Bone-Osteosarc</td>\n",
       "    </tr>\n",
       "    <tr>\n",
       "      <th>3</th>\n",
       "      <td>1</td>\n",
       "      <td>62682663</td>\n",
       "      <td>---</td>\n",
       "      <td>TTT</td>\n",
       "      <td>f221c897-6ad0-0df9-e040-11ac0c4813ef</td>\n",
       "      <td>TCGAGTTAAATCTTATGTGATTGCAAGCACAATTAAAAATAAAAAT...</td>\n",
       "      <td>TCGAGTTAAATCTTATGTGATTGCAAGCACAATTAAAAATAAAAAT...</td>\n",
       "      <td>NaN</td>\n",
       "      <td>0.0</td>\n",
       "      <td>0.0</td>\n",
       "      <td>=</td>\n",
       "      <td>Bone-Osteosarc</td>\n",
       "    </tr>\n",
       "    <tr>\n",
       "      <th>4</th>\n",
       "      <td>1</td>\n",
       "      <td>62683559</td>\n",
       "      <td>-</td>\n",
       "      <td>T</td>\n",
       "      <td>f221c897-6ad0-0df9-e040-11ac0c4813ef</td>\n",
       "      <td>GTAGCAGAGAATTACAGCCTCATGCCACTACTGCCCAGCTAATTTT...</td>\n",
       "      <td>GTAGCAGAGAATTACAGCCTCATGCCACTACTGCCCAGCTAATTTT...</td>\n",
       "      <td>NaN</td>\n",
       "      <td>0.0</td>\n",
       "      <td>0.0</td>\n",
       "      <td>=</td>\n",
       "      <td>Bone-Osteosarc</td>\n",
       "    </tr>\n",
       "    <tr>\n",
       "      <th>...</th>\n",
       "      <td>...</td>\n",
       "      <td>...</td>\n",
       "      <td>...</td>\n",
       "      <td>...</td>\n",
       "      <td>...</td>\n",
       "      <td>...</td>\n",
       "      <td>...</td>\n",
       "      <td>...</td>\n",
       "      <td>...</td>\n",
       "      <td>...</td>\n",
       "      <td>...</td>\n",
       "      <td>...</td>\n",
       "    </tr>\n",
       "    <tr>\n",
       "      <th>169</th>\n",
       "      <td>X</td>\n",
       "      <td>97691866</td>\n",
       "      <td>T</td>\n",
       "      <td>-</td>\n",
       "      <td>f221c897-6ad0-0df9-e040-11ac0c4813ef</td>\n",
       "      <td>ACGTGCTGACTTTTTGGGCATCTCATTTGACTGTCATACCTTCTTA...</td>\n",
       "      <td>ACGTGCTGACTTTTTGGGCATCTCATTTGACTGTCATACCTTCTTA...</td>\n",
       "      <td>NaN</td>\n",
       "      <td>0.0</td>\n",
       "      <td>0.0</td>\n",
       "      <td>=</td>\n",
       "      <td>Bone-Osteosarc</td>\n",
       "    </tr>\n",
       "    <tr>\n",
       "      <th>170</th>\n",
       "      <td>X</td>\n",
       "      <td>114649832</td>\n",
       "      <td>AGGTACCACATCA</td>\n",
       "      <td>-------------</td>\n",
       "      <td>f221c897-6ad0-0df9-e040-11ac0c4813ef</td>\n",
       "      <td>AAGTCTGAGAGTTTATTCTTAGTTATAGTTAAAATACTTACATATG...</td>\n",
       "      <td>AAGTCTGAGAGTTTATTCTTAGTTATAGTTAAAATACTTACATATG...</td>\n",
       "      <td>NaN</td>\n",
       "      <td>0.0</td>\n",
       "      <td>0.0</td>\n",
       "      <td>=</td>\n",
       "      <td>Bone-Osteosarc</td>\n",
       "    </tr>\n",
       "    <tr>\n",
       "      <th>171</th>\n",
       "      <td>X</td>\n",
       "      <td>139060093</td>\n",
       "      <td>A</td>\n",
       "      <td>-</td>\n",
       "      <td>f221c897-6ad0-0df9-e040-11ac0c4813ef</td>\n",
       "      <td>CAATGTATATCAAAACATCACATTGTACACTTTAAATATATATAAT...</td>\n",
       "      <td>CAATGTATATCAAAACATCACATTGTACACTTTAAATATATATAAT...</td>\n",
       "      <td>NaN</td>\n",
       "      <td>0.0</td>\n",
       "      <td>0.0</td>\n",
       "      <td>=</td>\n",
       "      <td>Bone-Osteosarc</td>\n",
       "    </tr>\n",
       "    <tr>\n",
       "      <th>172</th>\n",
       "      <td>X</td>\n",
       "      <td>144222388</td>\n",
       "      <td>AG</td>\n",
       "      <td>-T</td>\n",
       "      <td>f221c897-6ad0-0df9-e040-11ac0c4813ef</td>\n",
       "      <td>AAACACTTCTTTTCATAACATATCACTTGCTAAGGAGGCTGTGACA...</td>\n",
       "      <td>AAACACTTCTTTTCATAACATATCACTTGCTAAGGAGGCTGTGACA...</td>\n",
       "      <td>NaN</td>\n",
       "      <td>0.0</td>\n",
       "      <td>0.0</td>\n",
       "      <td>=</td>\n",
       "      <td>Bone-Osteosarc</td>\n",
       "    </tr>\n",
       "    <tr>\n",
       "      <th>173</th>\n",
       "      <td>X</td>\n",
       "      <td>151845681</td>\n",
       "      <td>TA</td>\n",
       "      <td>--</td>\n",
       "      <td>f221c897-6ad0-0df9-e040-11ac0c4813ef</td>\n",
       "      <td>ATGCAAACAAACCAGAAAATCTAGAAGAAATGGATAAATTCCTGGA...</td>\n",
       "      <td>ATGCAAACAAACCAGAAAATCTAGAAGAAATGGATAAATTCCTGGA...</td>\n",
       "      <td>NaN</td>\n",
       "      <td>0.0</td>\n",
       "      <td>0.0</td>\n",
       "      <td>=</td>\n",
       "      <td>Bone-Osteosarc</td>\n",
       "    </tr>\n",
       "  </tbody>\n",
       "</table>\n",
       "<p>171 rows × 12 columns</p>\n",
       "</div>"
      ],
      "text/plain": [
       "    chrom        pos            ref            alt  \\\n",
       "0       1    8739392              C              -   \n",
       "1       1   44519130              -              G   \n",
       "2       1   45684970              C              -   \n",
       "3       1   62682663            ---            TTT   \n",
       "4       1   62683559              -              T   \n",
       "..    ...        ...            ...            ...   \n",
       "169     X   97691866              T              -   \n",
       "170     X  114649832  AGGTACCACATCA  -------------   \n",
       "171     X  139060093              A              -   \n",
       "172     X  144222388             AG             -T   \n",
       "173     X  151845681             TA             --   \n",
       "\n",
       "                                   sample  \\\n",
       "0    f221c897-6ad0-0df9-e040-11ac0c4813ef   \n",
       "1    f221c897-6ad0-0df9-e040-11ac0c4813ef   \n",
       "2    f221c897-6ad0-0df9-e040-11ac0c4813ef   \n",
       "3    f221c897-6ad0-0df9-e040-11ac0c4813ef   \n",
       "4    f221c897-6ad0-0df9-e040-11ac0c4813ef   \n",
       "..                                    ...   \n",
       "169  f221c897-6ad0-0df9-e040-11ac0c4813ef   \n",
       "170  f221c897-6ad0-0df9-e040-11ac0c4813ef   \n",
       "171  f221c897-6ad0-0df9-e040-11ac0c4813ef   \n",
       "172  f221c897-6ad0-0df9-e040-11ac0c4813ef   \n",
       "173  f221c897-6ad0-0df9-e040-11ac0c4813ef   \n",
       "\n",
       "                                                   seq  \\\n",
       "0    CTTAGGAAAGACAGTGAGACAGTCCCATAGCAATCTAAGGCTTTAT...   \n",
       "1    CCCATGAGGCCTGTGTCCCCACTTTGAAGCCTCTCCAGTCCCCTAG...   \n",
       "2    GCCATTGCACTGACTTCTTCTTTTCTTTCTCTAAAGATCACAGCAT...   \n",
       "3    TCGAGTTAAATCTTATGTGATTGCAAGCACAATTAAAAATAAAAAT...   \n",
       "4    GTAGCAGAGAATTACAGCCTCATGCCACTACTGCCCAGCTAATTTT...   \n",
       "..                                                 ...   \n",
       "169  ACGTGCTGACTTTTTGGGCATCTCATTTGACTGTCATACCTTCTTA...   \n",
       "170  AAGTCTGAGAGTTTATTCTTAGTTATAGTTAAAATACTTACATATG...   \n",
       "171  CAATGTATATCAAAACATCACATTGTACACTTTAAATATATATAAT...   \n",
       "172  AAACACTTCTTTTCATAACATATCACTTGCTAAGGAGGCTGTGACA...   \n",
       "173  ATGCAAACAAACCAGAAAATCTAGAAGAAATGGATAAATTCCTGGA...   \n",
       "\n",
       "                                               ref_seq  gc1kb  genic  exonic  \\\n",
       "0    CTTAGGAAAGACAGTGAGACAGTCCCATAGCAATCTAAGGCTTTAT...    NaN    1.0     0.0   \n",
       "1    CCCATGAGGCCTGTGTCCCCACTTTGAAGCCTCTCCAGTCCCCTAG...    NaN    0.0     0.0   \n",
       "2    GCCATTGCACTGACTTCTTCTTTTCTTTCTCTAAAGATCACAGCAT...    NaN    1.0     0.0   \n",
       "3    TCGAGTTAAATCTTATGTGATTGCAAGCACAATTAAAAATAAAAAT...    NaN    0.0     0.0   \n",
       "4    GTAGCAGAGAATTACAGCCTCATGCCACTACTGCCCAGCTAATTTT...    NaN    0.0     0.0   \n",
       "..                                                 ...    ...    ...     ...   \n",
       "169  ACGTGCTGACTTTTTGGGCATCTCATTTGACTGTCATACCTTCTTA...    NaN    0.0     0.0   \n",
       "170  AAGTCTGAGAGTTTATTCTTAGTTATAGTTAAAATACTTACATATG...    NaN    0.0     0.0   \n",
       "171  CAATGTATATCAAAACATCACATTGTACACTTTAAATATATATAAT...    NaN    0.0     0.0   \n",
       "172  AAACACTTCTTTTCATAACATATCACTTGCTAAGGAGGCTGTGACA...    NaN    0.0     0.0   \n",
       "173  ATGCAAACAAACCAGAAAATCTAGAAGAAATGGATAAATTCCTGGA...    NaN    0.0     0.0   \n",
       "\n",
       "    strand       histology  \n",
       "0        -  Bone-Osteosarc  \n",
       "1        =  Bone-Osteosarc  \n",
       "2        -  Bone-Osteosarc  \n",
       "3        =  Bone-Osteosarc  \n",
       "4        =  Bone-Osteosarc  \n",
       "..     ...             ...  \n",
       "169      =  Bone-Osteosarc  \n",
       "170      =  Bone-Osteosarc  \n",
       "171      =  Bone-Osteosarc  \n",
       "172      =  Bone-Osteosarc  \n",
       "173      =  Bone-Osteosarc  \n",
       "\n",
       "[171 rows x 12 columns]"
      ]
     },
     "execution_count": 64,
     "metadata": {},
     "output_type": "execute_result"
    }
   ],
   "source": [
    "df_101"
   ]
  },
  {
   "cell_type": "code",
   "execution_count": 37,
   "id": "36cec718-4e27-447f-be94-b5baeef5263c",
   "metadata": {},
   "outputs": [],
   "source": [
    "jee = df_data.drop_duplicates(subset=['chrom', 'pos'],ignore_index=True)"
   ]
  },
  {
   "cell_type": "code",
   "execution_count": 41,
   "id": "da5c25ef-6196-4b80-8f28-bc644d77de22",
   "metadata": {},
   "outputs": [
    {
     "data": {
      "text/plain": [
       "172"
      ]
     },
     "execution_count": 41,
     "metadata": {},
     "output_type": "execute_result"
    }
   ],
   "source": [
    "len(jee)"
   ]
  },
  {
   "cell_type": "code",
   "execution_count": 38,
   "id": "af3ec55f-23df-4475-997c-136e4303a80b",
   "metadata": {},
   "outputs": [],
   "source": [
    "joo = df_101.drop_duplicates(subset=['chrom', 'pos'],ignore_index=True)"
   ]
  },
  {
   "cell_type": "code",
   "execution_count": 42,
   "id": "e1c3d153-a4fa-485b-8ef8-38bbc99dbc90",
   "metadata": {},
   "outputs": [
    {
     "data": {
      "text/plain": [
       "170"
      ]
     },
     "execution_count": 42,
     "metadata": {},
     "output_type": "execute_result"
    }
   ],
   "source": [
    "len(joo)"
   ]
  },
  {
   "cell_type": "code",
   "execution_count": 39,
   "id": "eb78af98-c061-4286-900a-21565efbb47e",
   "metadata": {},
   "outputs": [],
   "source": [
    "result = pd.merge(jee, joo, on = ['chrom', 'pos'], how='inner')"
   ]
  },
  {
   "cell_type": "code",
   "execution_count": 40,
   "id": "bc929c9f-2921-4907-a2e8-898689d7f928",
   "metadata": {},
   "outputs": [
    {
     "data": {
      "text/plain": [
       "170"
      ]
     },
     "execution_count": 40,
     "metadata": {},
     "output_type": "execute_result"
    }
   ],
   "source": [
    "len(result)"
   ]
  },
  {
   "cell_type": "code",
   "execution_count": 35,
   "id": "57e15364-ed34-4b8d-94ea-1a1913a7a8ee",
   "metadata": {},
   "outputs": [
    {
     "data": {
      "text/html": [
       "<div>\n",
       "<style scoped>\n",
       "    .dataframe tbody tr th:only-of-type {\n",
       "        vertical-align: middle;\n",
       "    }\n",
       "\n",
       "    .dataframe tbody tr th {\n",
       "        vertical-align: top;\n",
       "    }\n",
       "\n",
       "    .dataframe thead th {\n",
       "        text-align: right;\n",
       "    }\n",
       "</style>\n",
       "<table border=\"1\" class=\"dataframe\">\n",
       "  <thead>\n",
       "    <tr style=\"text-align: right;\">\n",
       "      <th></th>\n",
       "      <th>chrom</th>\n",
       "      <th>pos</th>\n",
       "      <th>ref</th>\n",
       "      <th>alt</th>\n",
       "      <th>sample</th>\n",
       "      <th>seq</th>\n",
       "      <th>ref_seq</th>\n",
       "      <th>gc1kb</th>\n",
       "      <th>genic</th>\n",
       "      <th>exonic</th>\n",
       "      <th>strand</th>\n",
       "      <th>histology</th>\n",
       "    </tr>\n",
       "  </thead>\n",
       "  <tbody>\n",
       "  </tbody>\n",
       "</table>\n",
       "</div>"
      ],
      "text/plain": [
       "Empty DataFrame\n",
       "Columns: [chrom, pos, ref, alt, sample, seq, ref_seq, gc1kb, genic, exonic, strand, histology]\n",
       "Index: []"
      ]
     },
     "execution_count": 35,
     "metadata": {},
     "output_type": "execute_result"
    }
   ],
   "source": [
    "df_101[df_101.loc[:,['chrom', 'pos']].duplicated()]"
   ]
  },
  {
   "cell_type": "code",
   "execution_count": 36,
   "id": "03507403-4cbf-4ce4-b31f-9785ebc38d4e",
   "metadata": {},
   "outputs": [
    {
     "data": {
      "text/html": [
       "<div>\n",
       "<style scoped>\n",
       "    .dataframe tbody tr th:only-of-type {\n",
       "        vertical-align: middle;\n",
       "    }\n",
       "\n",
       "    .dataframe tbody tr th {\n",
       "        vertical-align: top;\n",
       "    }\n",
       "\n",
       "    .dataframe thead th {\n",
       "        text-align: right;\n",
       "    }\n",
       "</style>\n",
       "<table border=\"1\" class=\"dataframe\">\n",
       "  <thead>\n",
       "    <tr style=\"text-align: right;\">\n",
       "      <th></th>\n",
       "      <th>chrom</th>\n",
       "      <th>pos</th>\n",
       "      <th>ref</th>\n",
       "      <th>alt</th>\n",
       "      <th>sample</th>\n",
       "      <th>seq</th>\n",
       "      <th>ref_seq</th>\n",
       "      <th>gc1kb</th>\n",
       "      <th>genic</th>\n",
       "      <th>exonic</th>\n",
       "      <th>strand</th>\n",
       "      <th>histology</th>\n",
       "      <th>original_indices</th>\n",
       "    </tr>\n",
       "  </thead>\n",
       "  <tbody>\n",
       "    <tr>\n",
       "      <th>76</th>\n",
       "      <td>7</td>\n",
       "      <td>156626760</td>\n",
       "      <td>TA</td>\n",
       "      <td>NaN</td>\n",
       "      <td>f221c897-6ad0-0df9-e040-11ac0c4813ef</td>\n",
       "      <td>241</td>\n",
       "      <td>CTA</td>\n",
       "      <td>NaN</td>\n",
       "      <td>1.0</td>\n",
       "      <td>0.0</td>\n",
       "      <td>+</td>\n",
       "      <td>Bone-Osteosarc</td>\n",
       "      <td>76</td>\n",
       "    </tr>\n",
       "    <tr>\n",
       "      <th>77</th>\n",
       "      <td>7</td>\n",
       "      <td>156626760</td>\n",
       "      <td>TAGTACAACCTTAGGACCACTAC</td>\n",
       "      <td>GTACTA</td>\n",
       "      <td>f221c897-6ad0-0df9-e040-11ac0c4813ef</td>\n",
       "      <td>241</td>\n",
       "      <td>CTA</td>\n",
       "      <td>NaN</td>\n",
       "      <td>1.0</td>\n",
       "      <td>0.0</td>\n",
       "      <td>+</td>\n",
       "      <td>Bone-Osteosarc</td>\n",
       "      <td>77</td>\n",
       "    </tr>\n",
       "  </tbody>\n",
       "</table>\n",
       "</div>"
      ],
      "text/plain": [
       "   chrom        pos                      ref     alt  \\\n",
       "76     7  156626760                       TA     NaN   \n",
       "77     7  156626760  TAGTACAACCTTAGGACCACTAC  GTACTA   \n",
       "\n",
       "                                  sample  seq ref_seq  gc1kb  genic  exonic  \\\n",
       "76  f221c897-6ad0-0df9-e040-11ac0c4813ef  241     CTA    NaN    1.0     0.0   \n",
       "77  f221c897-6ad0-0df9-e040-11ac0c4813ef  241     CTA    NaN    1.0     0.0   \n",
       "\n",
       "   strand       histology  original_indices  \n",
       "76      +  Bone-Osteosarc                76  \n",
       "77      +  Bone-Osteosarc                77  "
      ]
     },
     "execution_count": 36,
     "metadata": {},
     "output_type": "execute_result"
    }
   ],
   "source": [
    "df_data.iloc[76:78, :]"
   ]
  },
  {
   "cell_type": "code",
   "execution_count": 27,
   "id": "f791ef1b-a125-4006-93f8-07fa7fc97daa",
   "metadata": {},
   "outputs": [
    {
     "data": {
      "text/html": [
       "<div>\n",
       "<style scoped>\n",
       "    .dataframe tbody tr th:only-of-type {\n",
       "        vertical-align: middle;\n",
       "    }\n",
       "\n",
       "    .dataframe tbody tr th {\n",
       "        vertical-align: top;\n",
       "    }\n",
       "\n",
       "    .dataframe thead th {\n",
       "        text-align: right;\n",
       "    }\n",
       "</style>\n",
       "<table border=\"1\" class=\"dataframe\">\n",
       "  <thead>\n",
       "    <tr style=\"text-align: right;\">\n",
       "      <th></th>\n",
       "      <th>chrom</th>\n",
       "      <th>pos</th>\n",
       "    </tr>\n",
       "  </thead>\n",
       "  <tbody>\n",
       "  </tbody>\n",
       "</table>\n",
       "</div>"
      ],
      "text/plain": [
       "Empty DataFrame\n",
       "Columns: [chrom, pos]\n",
       "Index: []"
      ]
     },
     "execution_count": 27,
     "metadata": {},
     "output_type": "execute_result"
    }
   ],
   "source": [
    "result[result.duplicated()]"
   ]
  },
  {
   "cell_type": "code",
   "execution_count": 16,
   "id": "d32daa95-4e8e-4fe4-b9a6-14a5e131468c",
   "metadata": {},
   "outputs": [
    {
     "data": {
      "text/html": [
       "<div>\n",
       "<style scoped>\n",
       "    .dataframe tbody tr th:only-of-type {\n",
       "        vertical-align: middle;\n",
       "    }\n",
       "\n",
       "    .dataframe tbody tr th {\n",
       "        vertical-align: top;\n",
       "    }\n",
       "\n",
       "    .dataframe thead th {\n",
       "        text-align: right;\n",
       "    }\n",
       "</style>\n",
       "<table border=\"1\" class=\"dataframe\">\n",
       "  <thead>\n",
       "    <tr style=\"text-align: right;\">\n",
       "      <th></th>\n",
       "      <th>chrom</th>\n",
       "      <th>pos</th>\n",
       "      <th>ref_x</th>\n",
       "      <th>alt_x</th>\n",
       "      <th>sample_x</th>\n",
       "      <th>seq_x</th>\n",
       "      <th>ref_seq_x</th>\n",
       "      <th>gc1kb_x</th>\n",
       "      <th>genic_x</th>\n",
       "      <th>exonic_x</th>\n",
       "      <th>...</th>\n",
       "      <th>ref_y</th>\n",
       "      <th>alt_y</th>\n",
       "      <th>sample_y</th>\n",
       "      <th>seq_y</th>\n",
       "      <th>ref_seq_y</th>\n",
       "      <th>gc1kb_y</th>\n",
       "      <th>genic_y</th>\n",
       "      <th>exonic_y</th>\n",
       "      <th>strand_y</th>\n",
       "      <th>histology_y</th>\n",
       "    </tr>\n",
       "  </thead>\n",
       "  <tbody>\n",
       "    <tr>\n",
       "      <th>77</th>\n",
       "      <td>7</td>\n",
       "      <td>156626760</td>\n",
       "      <td>TA</td>\n",
       "      <td>NaN</td>\n",
       "      <td>f221c897-6ad0-0df9-e040-11ac0c4813ef</td>\n",
       "      <td>241</td>\n",
       "      <td>CTA</td>\n",
       "      <td>NaN</td>\n",
       "      <td>1.0</td>\n",
       "      <td>0.0</td>\n",
       "      <td>...</td>\n",
       "      <td>GTAGTGGTCCTAAGGTTGTACTA</td>\n",
       "      <td>-----------------------</td>\n",
       "      <td>f221c897-6ad0-0df9-e040-11ac0c4813ef</td>\n",
       "      <td>TTTCTGAATTTTAATTTTATAGTAACTTTTGTTGGCTGTTATCACC...</td>\n",
       "      <td>TTTCTGAATTTTAATTTTATAGTAACTTTTGTTGGCTGTTATCACC...</td>\n",
       "      <td>NaN</td>\n",
       "      <td>1.0</td>\n",
       "      <td>0.0</td>\n",
       "      <td>+</td>\n",
       "      <td>Bone-Osteosarc</td>\n",
       "    </tr>\n",
       "    <tr>\n",
       "      <th>78</th>\n",
       "      <td>7</td>\n",
       "      <td>156626760</td>\n",
       "      <td>TAGTACAACCTTAGGACCACTAC</td>\n",
       "      <td>GTACTA</td>\n",
       "      <td>f221c897-6ad0-0df9-e040-11ac0c4813ef</td>\n",
       "      <td>241</td>\n",
       "      <td>CTA</td>\n",
       "      <td>NaN</td>\n",
       "      <td>1.0</td>\n",
       "      <td>0.0</td>\n",
       "      <td>...</td>\n",
       "      <td>GTAGTGGTCCTAAGGTTGTACTA</td>\n",
       "      <td>-----------------------</td>\n",
       "      <td>f221c897-6ad0-0df9-e040-11ac0c4813ef</td>\n",
       "      <td>TTTCTGAATTTTAATTTTATAGTAACTTTTGTTGGCTGTTATCACC...</td>\n",
       "      <td>TTTCTGAATTTTAATTTTATAGTAACTTTTGTTGGCTGTTATCACC...</td>\n",
       "      <td>NaN</td>\n",
       "      <td>1.0</td>\n",
       "      <td>0.0</td>\n",
       "      <td>+</td>\n",
       "      <td>Bone-Osteosarc</td>\n",
       "    </tr>\n",
       "    <tr>\n",
       "      <th>79</th>\n",
       "      <td>7</td>\n",
       "      <td>156626760</td>\n",
       "      <td>TAGTACAACCTTAGGACCACTAC</td>\n",
       "      <td>GTACTA</td>\n",
       "      <td>f221c897-6ad0-0df9-e040-11ac0c4813ef</td>\n",
       "      <td>241</td>\n",
       "      <td>CTA</td>\n",
       "      <td>NaN</td>\n",
       "      <td>1.0</td>\n",
       "      <td>0.0</td>\n",
       "      <td>...</td>\n",
       "      <td>GTAGTGGTCCTAAGGTTGTACTA</td>\n",
       "      <td>-----------------------</td>\n",
       "      <td>f221c897-6ad0-0df9-e040-11ac0c4813ef</td>\n",
       "      <td>TTTCTGAATTTTAATTTTATAGTAACTTTTGTTGGCTGTTATCACC...</td>\n",
       "      <td>TTTCTGAATTTTAATTTTATAGTAACTTTTGTTGGCTGTTATCACC...</td>\n",
       "      <td>NaN</td>\n",
       "      <td>1.0</td>\n",
       "      <td>0.0</td>\n",
       "      <td>+</td>\n",
       "      <td>Bone-Osteosarc</td>\n",
       "    </tr>\n",
       "  </tbody>\n",
       "</table>\n",
       "<p>3 rows × 23 columns</p>\n",
       "</div>"
      ],
      "text/plain": [
       "   chrom        pos                    ref_x   alt_x  \\\n",
       "77     7  156626760                       TA     NaN   \n",
       "78     7  156626760  TAGTACAACCTTAGGACCACTAC  GTACTA   \n",
       "79     7  156626760  TAGTACAACCTTAGGACCACTAC  GTACTA   \n",
       "\n",
       "                                sample_x seq_x ref_seq_x  gc1kb_x  genic_x  \\\n",
       "77  f221c897-6ad0-0df9-e040-11ac0c4813ef   241       CTA      NaN      1.0   \n",
       "78  f221c897-6ad0-0df9-e040-11ac0c4813ef   241       CTA      NaN      1.0   \n",
       "79  f221c897-6ad0-0df9-e040-11ac0c4813ef   241       CTA      NaN      1.0   \n",
       "\n",
       "    exonic_x  ...                    ref_y                    alt_y  \\\n",
       "77       0.0  ...  GTAGTGGTCCTAAGGTTGTACTA  -----------------------   \n",
       "78       0.0  ...  GTAGTGGTCCTAAGGTTGTACTA  -----------------------   \n",
       "79       0.0  ...  GTAGTGGTCCTAAGGTTGTACTA  -----------------------   \n",
       "\n",
       "                                sample_y  \\\n",
       "77  f221c897-6ad0-0df9-e040-11ac0c4813ef   \n",
       "78  f221c897-6ad0-0df9-e040-11ac0c4813ef   \n",
       "79  f221c897-6ad0-0df9-e040-11ac0c4813ef   \n",
       "\n",
       "                                                seq_y  \\\n",
       "77  TTTCTGAATTTTAATTTTATAGTAACTTTTGTTGGCTGTTATCACC...   \n",
       "78  TTTCTGAATTTTAATTTTATAGTAACTTTTGTTGGCTGTTATCACC...   \n",
       "79  TTTCTGAATTTTAATTTTATAGTAACTTTTGTTGGCTGTTATCACC...   \n",
       "\n",
       "                                            ref_seq_y gc1kb_y genic_y  \\\n",
       "77  TTTCTGAATTTTAATTTTATAGTAACTTTTGTTGGCTGTTATCACC...     NaN     1.0   \n",
       "78  TTTCTGAATTTTAATTTTATAGTAACTTTTGTTGGCTGTTATCACC...     NaN     1.0   \n",
       "79  TTTCTGAATTTTAATTTTATAGTAACTTTTGTTGGCTGTTATCACC...     NaN     1.0   \n",
       "\n",
       "   exonic_y  strand_y     histology_y  \n",
       "77      0.0         +  Bone-Osteosarc  \n",
       "78      0.0         +  Bone-Osteosarc  \n",
       "79      0.0         +  Bone-Osteosarc  \n",
       "\n",
       "[3 rows x 23 columns]"
      ]
     },
     "execution_count": 16,
     "metadata": {},
     "output_type": "execute_result"
    }
   ],
   "source": [
    "df_filtered.iloc[77:80, :]"
   ]
  },
  {
   "cell_type": "code",
   "execution_count": 14,
   "id": "965a1ac3-a510-4535-a3c0-995c2a33eaed",
   "metadata": {},
   "outputs": [
    {
     "data": {
      "text/html": [
       "<div>\n",
       "<style scoped>\n",
       "    .dataframe tbody tr th:only-of-type {\n",
       "        vertical-align: middle;\n",
       "    }\n",
       "\n",
       "    .dataframe tbody tr th {\n",
       "        vertical-align: top;\n",
       "    }\n",
       "\n",
       "    .dataframe thead th {\n",
       "        text-align: right;\n",
       "    }\n",
       "</style>\n",
       "<table border=\"1\" class=\"dataframe\">\n",
       "  <thead>\n",
       "    <tr style=\"text-align: right;\">\n",
       "      <th></th>\n",
       "      <th>chrom</th>\n",
       "      <th>pos</th>\n",
       "    </tr>\n",
       "  </thead>\n",
       "  <tbody>\n",
       "    <tr>\n",
       "      <th>75</th>\n",
       "      <td>7</td>\n",
       "      <td>144492324</td>\n",
       "    </tr>\n",
       "    <tr>\n",
       "      <th>76</th>\n",
       "      <td>7</td>\n",
       "      <td>156626760</td>\n",
       "    </tr>\n",
       "    <tr>\n",
       "      <th>77</th>\n",
       "      <td>7</td>\n",
       "      <td>156626760</td>\n",
       "    </tr>\n",
       "    <tr>\n",
       "      <th>78</th>\n",
       "      <td>7</td>\n",
       "      <td>156626760</td>\n",
       "    </tr>\n",
       "    <tr>\n",
       "      <th>79</th>\n",
       "      <td>7</td>\n",
       "      <td>156626760</td>\n",
       "    </tr>\n",
       "  </tbody>\n",
       "</table>\n",
       "</div>"
      ],
      "text/plain": [
       "   chrom        pos\n",
       "75     7  144492324\n",
       "76     7  156626760\n",
       "77     7  156626760\n",
       "78     7  156626760\n",
       "79     7  156626760"
      ]
     },
     "execution_count": 14,
     "metadata": {},
     "output_type": "execute_result"
    }
   ],
   "source": [
    "jee.iloc[75:80,:]"
   ]
  },
  {
   "cell_type": "code",
   "execution_count": 70,
   "id": "849a5665-0c41-4e25-98bd-607271a73ff5",
   "metadata": {},
   "outputs": [
    {
     "data": {
      "text/plain": [
       "chrom                                                  7\n",
       "pos                                            156626760\n",
       "ref                                                   TA\n",
       "alt                                                  NaN\n",
       "sample              f221c897-6ad0-0df9-e040-11ac0c4813ef\n",
       "seq                                                  241\n",
       "ref_seq                                              CTA\n",
       "gc1kb                                                NaN\n",
       "genic                                                1.0\n",
       "exonic                                               0.0\n",
       "strand                                                 +\n",
       "histology                                 Bone-Osteosarc\n",
       "original_indices                                      76\n",
       "Name: 76, dtype: object"
      ]
     },
     "execution_count": 70,
     "metadata": {},
     "output_type": "execute_result"
    }
   ],
   "source": [
    "df_data.iloc[76,:]"
   ]
  },
  {
   "cell_type": "code",
   "execution_count": 73,
   "id": "04d73eab-1e77-42ea-8d2d-171d89e00179",
   "metadata": {},
   "outputs": [
    {
     "data": {
      "text/plain": [
       "chrom                                                  7\n",
       "pos                                            156626768\n",
       "ref                                      CCTTAGGACCACTAC\n",
       "alt                                                  NaN\n",
       "sample              f221c897-6ad0-0df9-e040-11ac0c4813ef\n",
       "seq                                                  312\n",
       "ref_seq                                              GAC\n",
       "gc1kb                                                NaN\n",
       "genic                                                1.0\n",
       "exonic                                               0.0\n",
       "strand                                                 -\n",
       "histology                                 Bone-Osteosarc\n",
       "original_indices                                      78\n",
       "Name: 78, dtype: object"
      ]
     },
     "execution_count": 73,
     "metadata": {},
     "output_type": "execute_result"
    }
   ],
   "source": [
    "df_data.iloc[77,:]"
   ]
  },
  {
   "cell_type": "code",
   "execution_count": 72,
   "id": "b73fb7fe-5d12-4fae-a3de-1dd27745e654",
   "metadata": {},
   "outputs": [],
   "source": [
    "df_data = df_data.drop(77)"
   ]
  },
  {
   "cell_type": "code",
   "execution_count": 75,
   "id": "47b9a61f-9b41-41ad-8b80-6dfc5fa40489",
   "metadata": {},
   "outputs": [],
   "source": [
    "df_data.to_csv(\"/csc/epitkane/projects/multimodal/data/temp/muat_orig_exclude_regions/Bone-Osteosarc/f221c897-6ad0-0df9-e040-11ac0c4813ef/indel_f221c897-6ad0-0df9-e040-11ac0c4813ef.tsv.gz\", compression='gzip', sep='\\t')"
   ]
  },
  {
   "cell_type": "code",
   "execution_count": 52,
   "id": "9399e361-d6ec-46fd-954f-8f661ddd2163",
   "metadata": {},
   "outputs": [
    {
     "data": {
      "text/plain": [
       "chrom                                                  7\n",
       "pos                                            156626768\n",
       "ref                                      CCTTAGGACCACTAC\n",
       "alt                                                  NaN\n",
       "sample              f221c897-6ad0-0df9-e040-11ac0c4813ef\n",
       "seq                                                  312\n",
       "ref_seq                                              GAC\n",
       "gc1kb                                                NaN\n",
       "genic                                                1.0\n",
       "exonic                                               0.0\n",
       "strand                                                 -\n",
       "histology                                 Bone-Osteosarc\n",
       "original_indices                                      78\n",
       "Name: 78, dtype: object"
      ]
     },
     "execution_count": 52,
     "metadata": {},
     "output_type": "execute_result"
    }
   ],
   "source": [
    "df_data.iloc[77,:]"
   ]
  },
  {
   "cell_type": "code",
   "execution_count": 53,
   "id": "2bf056b0-e940-4e74-9e7b-79abbd096a55",
   "metadata": {},
   "outputs": [],
   "source": [
    "array = np.load(\"/csc/epitkane/projects/multimodal/data/temp/muat_orig_exclude_regions/Bone-Osteosarc/f221c897-6ad0-0df9-e040-11ac0c4813ef/indel_f221c897-6ad0-0df9-e040-11ac0c4813ef.npz\")"
   ]
  },
  {
   "cell_type": "code",
   "execution_count": 56,
   "id": "5f035410-3d4d-4cd0-b1b2-86ac20eaf400",
   "metadata": {},
   "outputs": [],
   "source": [
    "fmotif = np.delete(array['motif'], 77, axis=0)\n",
    "fposition = np.delete(array['position'], 77, axis=0)\n",
    "fGES = np.delete(array['GES'], 77, axis=0)"
   ]
  },
  {
   "cell_type": "code",
   "execution_count": 57,
   "id": "fc278763-fc8c-494b-b564-a6742c800464",
   "metadata": {},
   "outputs": [],
   "source": [
    " np.savez_compressed(\"/csc/epitkane/projects/multimodal/data/temp/muat_orig_exclude_regions/Bone-Osteosarc/f221c897-6ad0-0df9-e040-11ac0c4813ef/indel_f221c897-6ad0-0df9-e040-11ac0c4813ef.npz\", motif=fmotif, position=fposition, GES = fGES)"
   ]
  }
 ],
 "metadata": {
  "kernelspec": {
   "display_name": "Python 3 (ipykernel)",
   "language": "python",
   "name": "python3"
  },
  "language_info": {
   "codemirror_mode": {
    "name": "ipython",
    "version": 3
   },
   "file_extension": ".py",
   "mimetype": "text/x-python",
   "name": "python",
   "nbconvert_exporter": "python",
   "pygments_lexer": "ipython3",
   "version": "3.8.19"
  }
 },
 "nbformat": 4,
 "nbformat_minor": 5
}
