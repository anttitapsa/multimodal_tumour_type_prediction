{
 "cells": [
  {
   "cell_type": "code",
   "execution_count": 1,
   "id": "e3f84750-f8c6-4c69-be22-9db8e3a58ac7",
   "metadata": {},
   "outputs": [],
   "source": [
    "import numpy as np\n",
    "import pandas as pd \n",
    "import os"
   ]
  },
  {
   "cell_type": "code",
   "execution_count": 11,
   "id": "8b5579b6-8c31-44d6-99e4-31204fb73c69",
   "metadata": {},
   "outputs": [],
   "source": [
    "train = pd.read_csv('/csc/epitkane/projects/multimodal/extfiles/pcawg_train_orig_10.csv')"
   ]
  },
  {
   "cell_type": "code",
   "execution_count": 12,
   "id": "28a6e48b-cc18-4328-9d16-fed080c65653",
   "metadata": {},
   "outputs": [
    {
     "data": {
      "text/html": [
       "<div>\n",
       "<style scoped>\n",
       "    .dataframe tbody tr th:only-of-type {\n",
       "        vertical-align: middle;\n",
       "    }\n",
       "\n",
       "    .dataframe tbody tr th {\n",
       "        vertical-align: top;\n",
       "    }\n",
       "\n",
       "    .dataframe thead th {\n",
       "        text-align: right;\n",
       "    }\n",
       "</style>\n",
       "<table border=\"1\" class=\"dataframe\">\n",
       "  <thead>\n",
       "    <tr style=\"text-align: right;\">\n",
       "      <th></th>\n",
       "      <th>Unnamed: 0</th>\n",
       "      <th>samples</th>\n",
       "      <th>nm_class</th>\n",
       "      <th>slices</th>\n",
       "      <th>fold</th>\n",
       "    </tr>\n",
       "  </thead>\n",
       "  <tbody>\n",
       "    <tr>\n",
       "      <th>0</th>\n",
       "      <td>1</td>\n",
       "      <td>82d213f-9843-28eb-e040-11ac0d483e48.csv</td>\n",
       "      <td>Bone-Osteosarc</td>\n",
       "      <td>2</td>\n",
       "      <td>1</td>\n",
       "    </tr>\n",
       "    <tr>\n",
       "      <th>1</th>\n",
       "      <td>2</td>\n",
       "      <td>82d213f-9ba5-7b6b-e040-11ac0c486882.csv</td>\n",
       "      <td>Bone-Osteosarc</td>\n",
       "      <td>3</td>\n",
       "      <td>1</td>\n",
       "    </tr>\n",
       "    <tr>\n",
       "      <th>2</th>\n",
       "      <td>3</td>\n",
       "      <td>82d213f-bc06-5b51-e040-11ac0c48687e.csv</td>\n",
       "      <td>Bone-Osteosarc</td>\n",
       "      <td>4</td>\n",
       "      <td>1</td>\n",
       "    </tr>\n",
       "    <tr>\n",
       "      <th>3</th>\n",
       "      <td>4</td>\n",
       "      <td>82d213f-bc99-5b1d-e040-11ac0c486880.csv</td>\n",
       "      <td>Bone-Osteosarc</td>\n",
       "      <td>5</td>\n",
       "      <td>1</td>\n",
       "    </tr>\n",
       "    <tr>\n",
       "      <th>4</th>\n",
       "      <td>5</td>\n",
       "      <td>82d213f-caa7-fd59-e040-11ac0d483e46.csv</td>\n",
       "      <td>Bone-Osteosarc</td>\n",
       "      <td>6</td>\n",
       "      <td>1</td>\n",
       "    </tr>\n",
       "    <tr>\n",
       "      <th>...</th>\n",
       "      <td>...</td>\n",
       "      <td>...</td>\n",
       "      <td>...</td>\n",
       "      <td>...</td>\n",
       "      <td>...</td>\n",
       "    </tr>\n",
       "    <tr>\n",
       "      <th>23350</th>\n",
       "      <td>46</td>\n",
       "      <td>c31e921-0782-4f77-ac23-4190af1e61ee.csv</td>\n",
       "      <td>Uterus-AdenoCA</td>\n",
       "      <td>1</td>\n",
       "      <td>10</td>\n",
       "    </tr>\n",
       "    <tr>\n",
       "      <th>23351</th>\n",
       "      <td>47</td>\n",
       "      <td>d32c725-08ae-48eb-8fa2-719b9aeb7550.csv</td>\n",
       "      <td>Uterus-AdenoCA</td>\n",
       "      <td>2</td>\n",
       "      <td>10</td>\n",
       "    </tr>\n",
       "    <tr>\n",
       "      <th>23352</th>\n",
       "      <td>48</td>\n",
       "      <td>7187888-f261-4a39-99b4-966fd7207117.csv</td>\n",
       "      <td>Uterus-AdenoCA</td>\n",
       "      <td>3</td>\n",
       "      <td>10</td>\n",
       "    </tr>\n",
       "    <tr>\n",
       "      <th>23353</th>\n",
       "      <td>49</td>\n",
       "      <td>7dcc2e4-1fc4-4b39-bc6a-720e66116d68.csv</td>\n",
       "      <td>Uterus-AdenoCA</td>\n",
       "      <td>4</td>\n",
       "      <td>10</td>\n",
       "    </tr>\n",
       "    <tr>\n",
       "      <th>23354</th>\n",
       "      <td>50</td>\n",
       "      <td>d504153-3cf6-44b9-99d5-21961ebac188.csv</td>\n",
       "      <td>Uterus-AdenoCA</td>\n",
       "      <td>5</td>\n",
       "      <td>10</td>\n",
       "    </tr>\n",
       "  </tbody>\n",
       "</table>\n",
       "<p>23355 rows × 5 columns</p>\n",
       "</div>"
      ],
      "text/plain": [
       "       Unnamed: 0                                  samples        nm_class  \\\n",
       "0               1  82d213f-9843-28eb-e040-11ac0d483e48.csv  Bone-Osteosarc   \n",
       "1               2  82d213f-9ba5-7b6b-e040-11ac0c486882.csv  Bone-Osteosarc   \n",
       "2               3  82d213f-bc06-5b51-e040-11ac0c48687e.csv  Bone-Osteosarc   \n",
       "3               4  82d213f-bc99-5b1d-e040-11ac0c486880.csv  Bone-Osteosarc   \n",
       "4               5  82d213f-caa7-fd59-e040-11ac0d483e46.csv  Bone-Osteosarc   \n",
       "...           ...                                      ...             ...   \n",
       "23350          46  c31e921-0782-4f77-ac23-4190af1e61ee.csv  Uterus-AdenoCA   \n",
       "23351          47  d32c725-08ae-48eb-8fa2-719b9aeb7550.csv  Uterus-AdenoCA   \n",
       "23352          48  7187888-f261-4a39-99b4-966fd7207117.csv  Uterus-AdenoCA   \n",
       "23353          49  7dcc2e4-1fc4-4b39-bc6a-720e66116d68.csv  Uterus-AdenoCA   \n",
       "23354          50  d504153-3cf6-44b9-99d5-21961ebac188.csv  Uterus-AdenoCA   \n",
       "\n",
       "       slices  fold  \n",
       "0           2     1  \n",
       "1           3     1  \n",
       "2           4     1  \n",
       "3           5     1  \n",
       "4           6     1  \n",
       "...       ...   ...  \n",
       "23350       1    10  \n",
       "23351       2    10  \n",
       "23352       3    10  \n",
       "23353       4    10  \n",
       "23354       5    10  \n",
       "\n",
       "[23355 rows x 5 columns]"
      ]
     },
     "execution_count": 12,
     "metadata": {},
     "output_type": "execute_result"
    }
   ],
   "source": [
    "train"
   ]
  },
  {
   "cell_type": "code",
   "execution_count": 13,
   "id": "a05fbe9f-9939-4480-b83d-533ab53168a4",
   "metadata": {},
   "outputs": [],
   "source": [
    "from tqdm.notebook import tqdm"
   ]
  },
  {
   "cell_type": "code",
   "execution_count": 14,
   "id": "cd5a52f6-97ac-4f65-8c81-84a16a40b279",
   "metadata": {},
   "outputs": [
    {
     "data": {
      "application/vnd.jupyter.widget-view+json": {
       "model_id": "e7e9c07283764ff28824a34476b1d49a",
       "version_major": 2,
       "version_minor": 0
      },
      "text/plain": [
       "  0%|          | 0/23355 [00:00<?, ?it/s]"
      ]
     },
     "metadata": {},
     "output_type": "display_data"
    }
   ],
   "source": [
    "not_exists = []\n",
    "for i in tqdm(range(train.shape[0])):\n",
    "    sample = train.iloc[i,:]['samples'].split('.')[0]\n",
    "    if not os.path.exists(os.path.join('/csc/epitkane/projects/multimodal/data/temp/muat_orig', train.iloc[i,:]['nm_class'], sample)):\n",
    "        for path in os.listdir(os.path.join('/csc/epitkane/projects/multimodal/data/temp/muat_orig', train.iloc[i,:]['nm_class'])):\n",
    "            if path.find(sample) > -1:\n",
    "                train.replace(sample + '.csv', path + '.csv', inplace=True)\n",
    "                '''\n",
    "                print(os.path.exists(os.path.join('/csc/epitkane/projects/multimodal/data/temp/motif3, train.iloc[i,:]['nm_class'], path)))\n",
    "                print(os.path.join('/csc/epitkane/projects/multimodal/data/temp/motif3', train.iloc[i,:]['nm_class'], path ))\n",
    "                print(path +'.csv')\n",
    "                print(train[train['samples']==sample + '.csv'])\n",
    "                print(train.iloc[i,:])\n",
    "                break\n",
    "                '''    "
   ]
  },
  {
   "cell_type": "code",
   "execution_count": 6,
   "id": "476b6c6c-9fcb-48f1-a785-9acb3356b1ac",
   "metadata": {},
   "outputs": [
    {
     "data": {
      "text/html": [
       "<div>\n",
       "<style scoped>\n",
       "    .dataframe tbody tr th:only-of-type {\n",
       "        vertical-align: middle;\n",
       "    }\n",
       "\n",
       "    .dataframe tbody tr th {\n",
       "        vertical-align: top;\n",
       "    }\n",
       "\n",
       "    .dataframe thead th {\n",
       "        text-align: right;\n",
       "    }\n",
       "</style>\n",
       "<table border=\"1\" class=\"dataframe\">\n",
       "  <thead>\n",
       "    <tr style=\"text-align: right;\">\n",
       "      <th></th>\n",
       "      <th>Unnamed: 0</th>\n",
       "      <th>samples</th>\n",
       "      <th>nm_class</th>\n",
       "      <th>slices</th>\n",
       "      <th>fold</th>\n",
       "    </tr>\n",
       "  </thead>\n",
       "  <tbody>\n",
       "    <tr>\n",
       "      <th>0</th>\n",
       "      <td>0</td>\n",
       "      <td>f221c897-6ad0-0df9-e040-11ac0c4813ef.csv</td>\n",
       "      <td>Bone-Osteosarc</td>\n",
       "      <td>1</td>\n",
       "      <td>1</td>\n",
       "    </tr>\n",
       "    <tr>\n",
       "      <th>1</th>\n",
       "      <td>10</td>\n",
       "      <td>f8407106-8a96-8f85-e040-11ac0d481656.csv</td>\n",
       "      <td>Bone-Osteosarc</td>\n",
       "      <td>1</td>\n",
       "      <td>1</td>\n",
       "    </tr>\n",
       "    <tr>\n",
       "      <th>2</th>\n",
       "      <td>20</td>\n",
       "      <td>f8572359-f29a-5945-e040-11ac0d4821cf.csv</td>\n",
       "      <td>Bone-Osteosarc</td>\n",
       "      <td>1</td>\n",
       "      <td>1</td>\n",
       "    </tr>\n",
       "    <tr>\n",
       "      <th>3</th>\n",
       "      <td>30</td>\n",
       "      <td>f86b7e84-7040-c751-e040-11ac0c485675.csv</td>\n",
       "      <td>Bone-Osteosarc</td>\n",
       "      <td>1</td>\n",
       "      <td>1</td>\n",
       "    </tr>\n",
       "    <tr>\n",
       "      <th>4</th>\n",
       "      <td>40</td>\n",
       "      <td>fc950c33-faa4-0241-e040-11ac0c486786.csv</td>\n",
       "      <td>Bone-Osteosarc</td>\n",
       "      <td>1</td>\n",
       "      <td>1</td>\n",
       "    </tr>\n",
       "    <tr>\n",
       "      <th>...</th>\n",
       "      <td>...</td>\n",
       "      <td>...</td>\n",
       "      <td>...</td>\n",
       "      <td>...</td>\n",
       "      <td>...</td>\n",
       "    </tr>\n",
       "    <tr>\n",
       "      <th>2590</th>\n",
       "      <td>5</td>\n",
       "      <td>19c1c97f-a3ec-44a8-8a20-6f97caed1a4f.csv</td>\n",
       "      <td>Uterus-AdenoCA</td>\n",
       "      <td>10</td>\n",
       "      <td>10</td>\n",
       "    </tr>\n",
       "    <tr>\n",
       "      <th>2591</th>\n",
       "      <td>15</td>\n",
       "      <td>577d5c9e-fbda-41d5-b0b3-cdb733453ea5.csv</td>\n",
       "      <td>Uterus-AdenoCA</td>\n",
       "      <td>10</td>\n",
       "      <td>10</td>\n",
       "    </tr>\n",
       "    <tr>\n",
       "      <th>2592</th>\n",
       "      <td>25</td>\n",
       "      <td>92126163-00c3-41f2-9ce6-7aad5f621407.csv</td>\n",
       "      <td>Uterus-AdenoCA</td>\n",
       "      <td>10</td>\n",
       "      <td>10</td>\n",
       "    </tr>\n",
       "    <tr>\n",
       "      <th>2593</th>\n",
       "      <td>35</td>\n",
       "      <td>b38d0777-4901-48b8-9cdc-33b7f13a424f.csv</td>\n",
       "      <td>Uterus-AdenoCA</td>\n",
       "      <td>10</td>\n",
       "      <td>10</td>\n",
       "    </tr>\n",
       "    <tr>\n",
       "      <th>2594</th>\n",
       "      <td>45</td>\n",
       "      <td>eae45fbe-9f7d-4f59-a0a9-1f0f0d69afc4.csv</td>\n",
       "      <td>Uterus-AdenoCA</td>\n",
       "      <td>10</td>\n",
       "      <td>10</td>\n",
       "    </tr>\n",
       "  </tbody>\n",
       "</table>\n",
       "<p>2595 rows × 5 columns</p>\n",
       "</div>"
      ],
      "text/plain": [
       "      Unnamed: 0                                   samples        nm_class  \\\n",
       "0              0  f221c897-6ad0-0df9-e040-11ac0c4813ef.csv  Bone-Osteosarc   \n",
       "1             10  f8407106-8a96-8f85-e040-11ac0d481656.csv  Bone-Osteosarc   \n",
       "2             20  f8572359-f29a-5945-e040-11ac0d4821cf.csv  Bone-Osteosarc   \n",
       "3             30  f86b7e84-7040-c751-e040-11ac0c485675.csv  Bone-Osteosarc   \n",
       "4             40  fc950c33-faa4-0241-e040-11ac0c486786.csv  Bone-Osteosarc   \n",
       "...          ...                                       ...             ...   \n",
       "2590           5  19c1c97f-a3ec-44a8-8a20-6f97caed1a4f.csv  Uterus-AdenoCA   \n",
       "2591          15  577d5c9e-fbda-41d5-b0b3-cdb733453ea5.csv  Uterus-AdenoCA   \n",
       "2592          25  92126163-00c3-41f2-9ce6-7aad5f621407.csv  Uterus-AdenoCA   \n",
       "2593          35  b38d0777-4901-48b8-9cdc-33b7f13a424f.csv  Uterus-AdenoCA   \n",
       "2594          45  eae45fbe-9f7d-4f59-a0a9-1f0f0d69afc4.csv  Uterus-AdenoCA   \n",
       "\n",
       "      slices  fold  \n",
       "0          1     1  \n",
       "1          1     1  \n",
       "2          1     1  \n",
       "3          1     1  \n",
       "4          1     1  \n",
       "...      ...   ...  \n",
       "2590      10    10  \n",
       "2591      10    10  \n",
       "2592      10    10  \n",
       "2593      10    10  \n",
       "2594      10    10  \n",
       "\n",
       "[2595 rows x 5 columns]"
      ]
     },
     "execution_count": 6,
     "metadata": {},
     "output_type": "execute_result"
    }
   ],
   "source": [
    "train"
   ]
  },
  {
   "cell_type": "code",
   "execution_count": 7,
   "id": "4c904f48-6489-4d2a-9cb3-8a392b87a8a7",
   "metadata": {},
   "outputs": [
    {
     "data": {
      "application/vnd.jupyter.widget-view+json": {
       "model_id": "13171f257b4d4ad489d6b0c15869bbf2",
       "version_major": 2,
       "version_minor": 0
      },
      "text/plain": [
       "  0%|          | 0/2595 [00:00<?, ?it/s]"
      ]
     },
     "metadata": {},
     "output_type": "display_data"
    }
   ],
   "source": [
    "not_exists = []\n",
    "for i in tqdm(range(train.shape[0])):\n",
    "    sample = train.iloc[i,:]['samples'].split('.')[0]\n",
    "    if not os.path.exists(os.path.join('/csc/epitkane/projects/multimodal/data/temp/muat_orig', train.iloc[i,:]['nm_class'], sample)):\n",
    "        if sample not in not_exists:\n",
    "            not_exists.append(sample)"
   ]
  },
  {
   "cell_type": "code",
   "execution_count": 8,
   "id": "96fb8da0-a669-48bd-b74f-5b9c02066395",
   "metadata": {},
   "outputs": [
    {
     "data": {
      "text/plain": [
       "0"
      ]
     },
     "execution_count": 8,
     "metadata": {},
     "output_type": "execute_result"
    }
   ],
   "source": [
    "len(not_exists)"
   ]
  },
  {
   "cell_type": "code",
   "execution_count": 9,
   "id": "9be5fa5a-067c-4a40-bf5a-3e66dad7fde3",
   "metadata": {},
   "outputs": [
    {
     "data": {
      "text/plain": [
       "[]"
      ]
     },
     "execution_count": 9,
     "metadata": {},
     "output_type": "execute_result"
    }
   ],
   "source": [
    "not_exists"
   ]
  },
  {
   "cell_type": "code",
   "execution_count": 9,
   "id": "33531d0e-fc12-4789-be2a-811344c5550a",
   "metadata": {},
   "outputs": [
    {
     "data": {
      "text/html": [
       "<div>\n",
       "<style scoped>\n",
       "    .dataframe tbody tr th:only-of-type {\n",
       "        vertical-align: middle;\n",
       "    }\n",
       "\n",
       "    .dataframe tbody tr th {\n",
       "        vertical-align: top;\n",
       "    }\n",
       "\n",
       "    .dataframe thead th {\n",
       "        text-align: right;\n",
       "    }\n",
       "</style>\n",
       "<table border=\"1\" class=\"dataframe\">\n",
       "  <thead>\n",
       "    <tr style=\"text-align: right;\">\n",
       "      <th></th>\n",
       "      <th>Unnamed: 0</th>\n",
       "      <th>samples</th>\n",
       "      <th>nm_class</th>\n",
       "      <th>slices</th>\n",
       "      <th>fold</th>\n",
       "    </tr>\n",
       "  </thead>\n",
       "  <tbody>\n",
       "    <tr>\n",
       "      <th>0</th>\n",
       "      <td>1</td>\n",
       "      <td>f82d213f-9843-28eb-e040-11ac0d483e48.csv</td>\n",
       "      <td>Bone-Osteosarc</td>\n",
       "      <td>2</td>\n",
       "      <td>1</td>\n",
       "    </tr>\n",
       "    <tr>\n",
       "      <th>1</th>\n",
       "      <td>2</td>\n",
       "      <td>f82d213f-9ba5-7b6b-e040-11ac0c486882.csv</td>\n",
       "      <td>Bone-Osteosarc</td>\n",
       "      <td>3</td>\n",
       "      <td>1</td>\n",
       "    </tr>\n",
       "    <tr>\n",
       "      <th>2</th>\n",
       "      <td>3</td>\n",
       "      <td>f82d213f-bc06-5b51-e040-11ac0c48687e.csv</td>\n",
       "      <td>Bone-Osteosarc</td>\n",
       "      <td>4</td>\n",
       "      <td>1</td>\n",
       "    </tr>\n",
       "    <tr>\n",
       "      <th>3</th>\n",
       "      <td>4</td>\n",
       "      <td>f82d213f-bc99-5b1d-e040-11ac0c486880.csv</td>\n",
       "      <td>Bone-Osteosarc</td>\n",
       "      <td>5</td>\n",
       "      <td>1</td>\n",
       "    </tr>\n",
       "    <tr>\n",
       "      <th>4</th>\n",
       "      <td>5</td>\n",
       "      <td>f82d213f-caa7-fd59-e040-11ac0d483e46.csv</td>\n",
       "      <td>Bone-Osteosarc</td>\n",
       "      <td>6</td>\n",
       "      <td>1</td>\n",
       "    </tr>\n",
       "    <tr>\n",
       "      <th>...</th>\n",
       "      <td>...</td>\n",
       "      <td>...</td>\n",
       "      <td>...</td>\n",
       "      <td>...</td>\n",
       "      <td>...</td>\n",
       "    </tr>\n",
       "    <tr>\n",
       "      <th>23350</th>\n",
       "      <td>46</td>\n",
       "      <td>ec31e921-0782-4f77-ac23-4190af1e61ee.csv</td>\n",
       "      <td>Uterus-AdenoCA</td>\n",
       "      <td>1</td>\n",
       "      <td>10</td>\n",
       "    </tr>\n",
       "    <tr>\n",
       "      <th>23351</th>\n",
       "      <td>47</td>\n",
       "      <td>ed32c725-08ae-48eb-8fa2-719b9aeb7550.csv</td>\n",
       "      <td>Uterus-AdenoCA</td>\n",
       "      <td>2</td>\n",
       "      <td>10</td>\n",
       "    </tr>\n",
       "    <tr>\n",
       "      <th>23352</th>\n",
       "      <td>48</td>\n",
       "      <td>f7187888-f261-4a39-99b4-966fd7207117.csv</td>\n",
       "      <td>Uterus-AdenoCA</td>\n",
       "      <td>3</td>\n",
       "      <td>10</td>\n",
       "    </tr>\n",
       "    <tr>\n",
       "      <th>23353</th>\n",
       "      <td>49</td>\n",
       "      <td>f7dcc2e4-1fc4-4b39-bc6a-720e66116d68.csv</td>\n",
       "      <td>Uterus-AdenoCA</td>\n",
       "      <td>4</td>\n",
       "      <td>10</td>\n",
       "    </tr>\n",
       "    <tr>\n",
       "      <th>23354</th>\n",
       "      <td>50</td>\n",
       "      <td>fd504153-3cf6-44b9-99d5-21961ebac188.csv</td>\n",
       "      <td>Uterus-AdenoCA</td>\n",
       "      <td>5</td>\n",
       "      <td>10</td>\n",
       "    </tr>\n",
       "  </tbody>\n",
       "</table>\n",
       "<p>23355 rows × 5 columns</p>\n",
       "</div>"
      ],
      "text/plain": [
       "       Unnamed: 0                                   samples        nm_class  \\\n",
       "0               1  f82d213f-9843-28eb-e040-11ac0d483e48.csv  Bone-Osteosarc   \n",
       "1               2  f82d213f-9ba5-7b6b-e040-11ac0c486882.csv  Bone-Osteosarc   \n",
       "2               3  f82d213f-bc06-5b51-e040-11ac0c48687e.csv  Bone-Osteosarc   \n",
       "3               4  f82d213f-bc99-5b1d-e040-11ac0c486880.csv  Bone-Osteosarc   \n",
       "4               5  f82d213f-caa7-fd59-e040-11ac0d483e46.csv  Bone-Osteosarc   \n",
       "...           ...                                       ...             ...   \n",
       "23350          46  ec31e921-0782-4f77-ac23-4190af1e61ee.csv  Uterus-AdenoCA   \n",
       "23351          47  ed32c725-08ae-48eb-8fa2-719b9aeb7550.csv  Uterus-AdenoCA   \n",
       "23352          48  f7187888-f261-4a39-99b4-966fd7207117.csv  Uterus-AdenoCA   \n",
       "23353          49  f7dcc2e4-1fc4-4b39-bc6a-720e66116d68.csv  Uterus-AdenoCA   \n",
       "23354          50  fd504153-3cf6-44b9-99d5-21961ebac188.csv  Uterus-AdenoCA   \n",
       "\n",
       "       slices  fold  \n",
       "0           2     1  \n",
       "1           3     1  \n",
       "2           4     1  \n",
       "3           5     1  \n",
       "4           6     1  \n",
       "...       ...   ...  \n",
       "23350       1    10  \n",
       "23351       2    10  \n",
       "23352       3    10  \n",
       "23353       4    10  \n",
       "23354       5    10  \n",
       "\n",
       "[23355 rows x 5 columns]"
      ]
     },
     "execution_count": 9,
     "metadata": {},
     "output_type": "execute_result"
    }
   ],
   "source": [
    "train"
   ]
  },
  {
   "cell_type": "code",
   "execution_count": 10,
   "id": "7d8556e8-1e93-4126-9c00-fa2fced4e722",
   "metadata": {},
   "outputs": [],
   "source": [
    "train.to_csv('/csc/epitkane/projects/multimodal/extfiles/pcawg_train_orig_10.csv')"
   ]
  },
  {
   "cell_type": "code",
   "execution_count": 27,
   "id": "f835de09-8d3c-471e-8e9b-4c5e6d0c5ee1",
   "metadata": {},
   "outputs": [
    {
     "data": {
      "text/html": [
       "<div>\n",
       "<style scoped>\n",
       "    .dataframe tbody tr th:only-of-type {\n",
       "        vertical-align: middle;\n",
       "    }\n",
       "\n",
       "    .dataframe tbody tr th {\n",
       "        vertical-align: top;\n",
       "    }\n",
       "\n",
       "    .dataframe thead th {\n",
       "        text-align: right;\n",
       "    }\n",
       "</style>\n",
       "<table border=\"1\" class=\"dataframe\">\n",
       "  <thead>\n",
       "    <tr style=\"text-align: right;\">\n",
       "      <th></th>\n",
       "      <th>Unnamed: 0</th>\n",
       "      <th>samples</th>\n",
       "      <th>nm_class</th>\n",
       "      <th>slices</th>\n",
       "      <th>fold</th>\n",
       "    </tr>\n",
       "  </thead>\n",
       "  <tbody>\n",
       "    <tr>\n",
       "      <th>616</th>\n",
       "      <td>9</td>\n",
       "      <td>ff155dd-deb4-44e0-b3a2-e4875b618435.csv</td>\n",
       "      <td>Head-SCC</td>\n",
       "      <td>6</td>\n",
       "      <td>1</td>\n",
       "    </tr>\n",
       "    <tr>\n",
       "      <th>2951</th>\n",
       "      <td>9</td>\n",
       "      <td>ff155dd-deb4-44e0-b3a2-e4875b618435.csv</td>\n",
       "      <td>Head-SCC</td>\n",
       "      <td>6</td>\n",
       "      <td>2</td>\n",
       "    </tr>\n",
       "    <tr>\n",
       "      <th>5286</th>\n",
       "      <td>9</td>\n",
       "      <td>ff155dd-deb4-44e0-b3a2-e4875b618435.csv</td>\n",
       "      <td>Head-SCC</td>\n",
       "      <td>6</td>\n",
       "      <td>3</td>\n",
       "    </tr>\n",
       "    <tr>\n",
       "      <th>7621</th>\n",
       "      <td>9</td>\n",
       "      <td>ff155dd-deb4-44e0-b3a2-e4875b618435.csv</td>\n",
       "      <td>Head-SCC</td>\n",
       "      <td>6</td>\n",
       "      <td>4</td>\n",
       "    </tr>\n",
       "    <tr>\n",
       "      <th>9956</th>\n",
       "      <td>9</td>\n",
       "      <td>ff155dd-deb4-44e0-b3a2-e4875b618435.csv</td>\n",
       "      <td>Head-SCC</td>\n",
       "      <td>6</td>\n",
       "      <td>5</td>\n",
       "    </tr>\n",
       "    <tr>\n",
       "      <th>14628</th>\n",
       "      <td>9</td>\n",
       "      <td>ff155dd-deb4-44e0-b3a2-e4875b618435.csv</td>\n",
       "      <td>Head-SCC</td>\n",
       "      <td>6</td>\n",
       "      <td>7</td>\n",
       "    </tr>\n",
       "    <tr>\n",
       "      <th>16964</th>\n",
       "      <td>9</td>\n",
       "      <td>ff155dd-deb4-44e0-b3a2-e4875b618435.csv</td>\n",
       "      <td>Head-SCC</td>\n",
       "      <td>6</td>\n",
       "      <td>8</td>\n",
       "    </tr>\n",
       "    <tr>\n",
       "      <th>19300</th>\n",
       "      <td>9</td>\n",
       "      <td>ff155dd-deb4-44e0-b3a2-e4875b618435.csv</td>\n",
       "      <td>Head-SCC</td>\n",
       "      <td>6</td>\n",
       "      <td>9</td>\n",
       "    </tr>\n",
       "    <tr>\n",
       "      <th>21636</th>\n",
       "      <td>9</td>\n",
       "      <td>ff155dd-deb4-44e0-b3a2-e4875b618435.csv</td>\n",
       "      <td>Head-SCC</td>\n",
       "      <td>6</td>\n",
       "      <td>10</td>\n",
       "    </tr>\n",
       "  </tbody>\n",
       "</table>\n",
       "</div>"
      ],
      "text/plain": [
       "       Unnamed: 0                                  samples  nm_class  slices  \\\n",
       "616             9  ff155dd-deb4-44e0-b3a2-e4875b618435.csv  Head-SCC       6   \n",
       "2951            9  ff155dd-deb4-44e0-b3a2-e4875b618435.csv  Head-SCC       6   \n",
       "5286            9  ff155dd-deb4-44e0-b3a2-e4875b618435.csv  Head-SCC       6   \n",
       "7621            9  ff155dd-deb4-44e0-b3a2-e4875b618435.csv  Head-SCC       6   \n",
       "9956            9  ff155dd-deb4-44e0-b3a2-e4875b618435.csv  Head-SCC       6   \n",
       "14628           9  ff155dd-deb4-44e0-b3a2-e4875b618435.csv  Head-SCC       6   \n",
       "16964           9  ff155dd-deb4-44e0-b3a2-e4875b618435.csv  Head-SCC       6   \n",
       "19300           9  ff155dd-deb4-44e0-b3a2-e4875b618435.csv  Head-SCC       6   \n",
       "21636           9  ff155dd-deb4-44e0-b3a2-e4875b618435.csv  Head-SCC       6   \n",
       "\n",
       "       fold  \n",
       "616       1  \n",
       "2951      2  \n",
       "5286      3  \n",
       "7621      4  \n",
       "9956      5  \n",
       "14628     7  \n",
       "16964     8  \n",
       "19300     9  \n",
       "21636    10  "
      ]
     },
     "execution_count": 27,
     "metadata": {},
     "output_type": "execute_result"
    }
   ],
   "source": [
    "train[train['samples'] == 'ff155dd-deb4-44e0-b3a2-e4875b618435.csv']"
   ]
  },
  {
   "cell_type": "code",
   "execution_count": 51,
   "id": "1c77928b-f930-4c40-8a61-8d8aced7be8b",
   "metadata": {},
   "outputs": [
    {
     "data": {
      "application/vnd.jupyter.widget-view+json": {
       "model_id": "0328ad344c8f464991ba0d899e378b4a",
       "version_major": 2,
       "version_minor": 0
      },
      "text/plain": [
       "  0%|          | 0/121 [00:00<?, ?it/s]"
      ]
     },
     "metadata": {},
     "output_type": "display_data"
    }
   ],
   "source": [
    "missing_files = []\n",
    "for sample in tqdm(not_exists):\n",
    "    for dire in os.listdir('/csc/epitkane/projects/PCAWG20191001/data/modified_data/train/new24classes'):\n",
    "        if os.path.isdir(os.path.join('/csc/epitkane/projects/PCAWG20191001/data/modified_data/train/new24classes', dire)):\n",
    "            for file in os.listdir(os.path.join('/csc/epitkane/projects/PCAWG20191001/data/modified_data/train/new24classes', dire)):\n",
    "                if file[1:]==sample +'.csv':\n",
    "                    missing_files.append(os.path.join('/csc/epitkane/projects/PCAWG20191001/data/modified_data/train/new24classes', dire, file))\n",
    "                    break\n",
    "                "
   ]
  },
  {
   "cell_type": "code",
   "execution_count": 54,
   "id": "f98df850-8692-4cb2-8b05-b04b5c9efe91",
   "metadata": {},
   "outputs": [
    {
     "data": {
      "text/plain": [
       "['/csc/epitkane/projects/PCAWG20191001/data/modified_data/train/new24classes/Liver-HCC/062e96d4-c623-11e3-bf01-24c6515278c0.csv',\n",
       " '/csc/epitkane/projects/PCAWG20191001/data/modified_data/train/new24classes/Liver-HCC/27fcccdc-c622-11e3-bf01-24c6515278c0.csv',\n",
       " '/csc/epitkane/projects/PCAWG20191001/data/modified_data/train/new24classes/Liver-HCC/40b1e928-c623-11e3-bf01-24c6515278c0.csv',\n",
       " '/csc/epitkane/projects/PCAWG20191001/data/modified_data/train/new24classes/Liver-HCC/520b8ab2-c623-11e3-bf01-24c6515278c0.csv',\n",
       " '/csc/epitkane/projects/PCAWG20191001/data/modified_data/train/new24classes/Liver-HCC/6a129b50-c623-11e3-bf01-24c6515278c0.csv',\n",
       " '/csc/epitkane/projects/PCAWG20191001/data/modified_data/train/new24classes/Liver-HCC/6ce66be0-c623-11e3-bf01-24c6515278c0.csv',\n",
       " '/csc/epitkane/projects/PCAWG20191001/data/modified_data/train/new24classes/Liver-HCC/72c22a8c-c622-11e3-bf01-24c6515278c0.csv',\n",
       " '/csc/epitkane/projects/PCAWG20191001/data/modified_data/train/new24classes/Liver-HCC/ee7b8074-c622-11e3-bf01-24c6515278c0.csv',\n",
       " '/csc/epitkane/projects/PCAWG20191001/data/modified_data/train/new24classes/Lymph-CLL/1157a548-6770-4c89-a84c-bcf6f0e96ea8.csv',\n",
       " '/csc/epitkane/projects/PCAWG20191001/data/modified_data/train/new24classes/Myeloid-MPN/f8e61a02-6e5e-c8e2-e040-11ac0d481b70.csv',\n",
       " '/csc/epitkane/projects/PCAWG20191001/data/modified_data/train/new24classes/Myeloid-MPN/f8e61a02-8c03-ad45-e040-11ac0d481b62.csv',\n",
       " '/csc/epitkane/projects/PCAWG20191001/data/modified_data/train/new24classes/Myeloid-MPN/f8e61a06-42fa-e42c-e040-11ac0d481b72.csv',\n",
       " '/csc/epitkane/projects/PCAWG20191001/data/modified_data/train/new24classes/Myeloid-MPN/f8efa5ad-3a4d-39d6-e040-11ac0c480132.csv',\n",
       " '/csc/epitkane/projects/PCAWG20191001/data/modified_data/train/new24classes/Myeloid-MPN/f8f024e5-7096-3047-e040-11ac0d481c0f.csv',\n",
       " '/csc/epitkane/projects/PCAWG20191001/data/modified_data/train/new24classes/Myeloid-MPN/f8fb791c-08b4-b6e1-e040-11ac0d4868f3.csv',\n",
       " '/csc/epitkane/projects/PCAWG20191001/data/modified_data/train/new24classes/Myeloid-MPN/f9012277-55c4-2486-e040-11ac0c48236f.csv',\n",
       " '/csc/epitkane/projects/PCAWG20191001/data/modified_data/train/new24classes/Myeloid-MPN/f9020478-c741-6776-e040-11ac0d481228.csv',\n",
       " '/csc/epitkane/projects/PCAWG20191001/data/modified_data/train/new24classes/Myeloid-MPN/f9039bd6-8fa6-37cb-e040-11ac0d486d06.csv',\n",
       " '/csc/epitkane/projects/PCAWG20191001/data/modified_data/train/new24classes/Myeloid-MPN/f903cfe2-c082-1bf6-e040-11ac0d4809f7.csv',\n",
       " '/csc/epitkane/projects/PCAWG20191001/data/modified_data/train/new24classes/Myeloid-MPN/f90b298a-0546-6c36-e040-11ac0c487a0b.csv',\n",
       " '/csc/epitkane/projects/PCAWG20191001/data/modified_data/train/new24classes/Myeloid-MPN/f90d51f8-3bc4-2e66-e040-11ac0d484d19.csv',\n",
       " '/csc/epitkane/projects/PCAWG20191001/data/modified_data/train/new24classes/Myeloid-MPN/f90dbdbf-f8cd-e0d8-e040-11ac0c482576.csv',\n",
       " '/csc/epitkane/projects/PCAWG20191001/data/modified_data/train/new24classes/Myeloid-MPN/f90f8204-4d65-04fa-e040-11ac0c4841bb.csv',\n",
       " '/csc/epitkane/projects/PCAWG20191001/data/modified_data/train/new24classes/Myeloid-MPN/f9116dda-19f4-9e1b-e040-11ac0c4872b8.csv',\n",
       " '/csc/epitkane/projects/PCAWG20191001/data/modified_data/train/new24classes/Myeloid-MPN/f91ba748-5a05-e738-e040-11ac0c486a08.csv',\n",
       " '/csc/epitkane/projects/PCAWG20191001/data/modified_data/train/new24classes/Myeloid-MPN/f920200e-f349-3730-e040-11ac0d4825cc.csv',\n",
       " '/csc/epitkane/projects/PCAWG20191001/data/modified_data/train/new24classes/Myeloid-MPN/f920ef57-c942-d2e1-e040-11ac0d481706.csv',\n",
       " '/csc/epitkane/projects/PCAWG20191001/data/modified_data/train/new24classes/Myeloid-MPN/f925f24b-bffd-89ab-e040-11ac0d48682f.csv',\n",
       " '/csc/epitkane/projects/PCAWG20191001/data/modified_data/train/new24classes/Myeloid-MPN/f92b2c52-ed64-4594-e040-11ac0d48425c.csv',\n",
       " '/csc/epitkane/projects/PCAWG20191001/data/modified_data/train/new24classes/Myeloid-MPN/f92b8fda-350b-17d5-e040-11ac0c480ce8.csv',\n",
       " '/csc/epitkane/projects/PCAWG20191001/data/modified_data/train/new24classes/Myeloid-MPN/f92fde51-6a19-6641-e040-11ac0c484074.csv',\n",
       " '/csc/epitkane/projects/PCAWG20191001/data/modified_data/train/new24classes/Myeloid-MPN/f938b6f4-a457-c624-e040-11ac0c486fad.csv',\n",
       " '/csc/epitkane/projects/PCAWG20191001/data/modified_data/train/new24classes/Myeloid-MPN/f939f757-a415-ad44-e040-11ac0d4868e5.csv',\n",
       " '/csc/epitkane/projects/PCAWG20191001/data/modified_data/train/new24classes/Myeloid-MPN/f93abbbf-5e13-9b85-e040-11ac0d485718.csv',\n",
       " '/csc/epitkane/projects/PCAWG20191001/data/modified_data/train/new24classes/Panc-AdenoCA/0efee3f3-313b-44eb-b3b0-af975a1ded82.csv',\n",
       " '/csc/epitkane/projects/PCAWG20191001/data/modified_data/train/new24classes/Panc-AdenoCA/5d9ff58c-5702-48fc-a66a-d1276327fd49.csv',\n",
       " '/csc/epitkane/projects/PCAWG20191001/data/modified_data/train/new24classes/Panc-AdenoCA/60c33e32-7e19-4e71-b075-a63fcf27e660.csv',\n",
       " '/csc/epitkane/projects/PCAWG20191001/data/modified_data/train/new24classes/Prost-AdenoCA/089be98d-c3c9-4fb4-aef2-7a8578a91d51.csv',\n",
       " '/csc/epitkane/projects/PCAWG20191001/data/modified_data/train/new24classes/Prost-AdenoCA/0bd3a230-531e-44aa-9999-b8ed8da0176b.csv',\n",
       " '/csc/epitkane/projects/PCAWG20191001/data/modified_data/train/new24classes/Prost-AdenoCA/0bfd1043-5142-3662-e050-11ac0c486501.csv',\n",
       " '/csc/epitkane/projects/PCAWG20191001/data/modified_data/train/new24classes/Prost-AdenoCA/0bfd1043-7343-fdd0-e050-11ac0c484cab.csv',\n",
       " '/csc/epitkane/projects/PCAWG20191001/data/modified_data/train/new24classes/Prost-AdenoCA/0bfd1043-7344-fdd0-e050-11ac0c484cab.csv',\n",
       " '/csc/epitkane/projects/PCAWG20191001/data/modified_data/train/new24classes/Prost-AdenoCA/0bfd1043-7346-fdd0-e050-11ac0c484cab.csv',\n",
       " '/csc/epitkane/projects/PCAWG20191001/data/modified_data/train/new24classes/Prost-AdenoCA/0bfd1043-7ebf-aaec-e050-11ac0c482f39.csv',\n",
       " '/csc/epitkane/projects/PCAWG20191001/data/modified_data/train/new24classes/Prost-AdenoCA/0bfd1043-7ec1-aaec-e050-11ac0c482f39.csv',\n",
       " '/csc/epitkane/projects/PCAWG20191001/data/modified_data/train/new24classes/Prost-AdenoCA/0bfd1043-7ed6-9ccc-e050-11ac0c481957.csv',\n",
       " '/csc/epitkane/projects/PCAWG20191001/data/modified_data/train/new24classes/Prost-AdenoCA/0bfd1043-816e-e3e4-e050-11ac0c4860c5.csv',\n",
       " '/csc/epitkane/projects/PCAWG20191001/data/modified_data/train/new24classes/Prost-AdenoCA/0bfd1043-8172-e3e4-e050-11ac0c4860c5.csv',\n",
       " '/csc/epitkane/projects/PCAWG20191001/data/modified_data/train/new24classes/Prost-AdenoCA/0bfd1043-8175-e3e4-e050-11ac0c4860c5.csv',\n",
       " '/csc/epitkane/projects/PCAWG20191001/data/modified_data/train/new24classes/Prost-AdenoCA/0bfd1043-817c-e3e4-e050-11ac0c4860c5.csv',\n",
       " '/csc/epitkane/projects/PCAWG20191001/data/modified_data/train/new24classes/Prost-AdenoCA/0bfd1043-817e-e3e4-e050-11ac0c4860c5.csv',\n",
       " '/csc/epitkane/projects/PCAWG20191001/data/modified_data/train/new24classes/Prost-AdenoCA/0bfd1043-8180-e3e4-e050-11ac0c4860c5.csv',\n",
       " '/csc/epitkane/projects/PCAWG20191001/data/modified_data/train/new24classes/Prost-AdenoCA/0bfd1043-8181-e3e4-e050-11ac0c4860c5.csv',\n",
       " '/csc/epitkane/projects/PCAWG20191001/data/modified_data/train/new24classes/Prost-AdenoCA/0bfd1043-8183-e3e4-e050-11ac0c4860c5.csv',\n",
       " '/csc/epitkane/projects/PCAWG20191001/data/modified_data/train/new24classes/Prost-AdenoCA/0bfd1043-8187-e3e4-e050-11ac0c4860c5.csv',\n",
       " '/csc/epitkane/projects/PCAWG20191001/data/modified_data/train/new24classes/Prost-AdenoCA/0bfd1043-8189-e3e4-e050-11ac0c4860c5.csv',\n",
       " '/csc/epitkane/projects/PCAWG20191001/data/modified_data/train/new24classes/Prost-AdenoCA/0bfd1068-3fc5-a95b-e050-11ac0c4860c3.csv',\n",
       " '/csc/epitkane/projects/PCAWG20191001/data/modified_data/train/new24classes/Prost-AdenoCA/0bfd1068-3fca-a95b-e050-11ac0c4860c3.csv',\n",
       " '/csc/epitkane/projects/PCAWG20191001/data/modified_data/train/new24classes/Prost-AdenoCA/0bfd1068-3fcd-a95b-e050-11ac0c4860c3.csv',\n",
       " '/csc/epitkane/projects/PCAWG20191001/data/modified_data/train/new24classes/Prost-AdenoCA/0bfd1068-3fd5-a95b-e050-11ac0c4860c3.csv',\n",
       " '/csc/epitkane/projects/PCAWG20191001/data/modified_data/train/new24classes/Prost-AdenoCA/0bfd1068-3fd8-a95b-e050-11ac0c4860c3.csv',\n",
       " '/csc/epitkane/projects/PCAWG20191001/data/modified_data/train/new24classes/Prost-AdenoCA/0bfd1068-3fdd-a95b-e050-11ac0c4860c3.csv',\n",
       " '/csc/epitkane/projects/PCAWG20191001/data/modified_data/train/new24classes/Prost-AdenoCA/0bfd1068-3fdf-a95b-e050-11ac0c4860c3.csv',\n",
       " '/csc/epitkane/projects/PCAWG20191001/data/modified_data/train/new24classes/Prost-AdenoCA/0bfe2ac9-0aec-c248-e050-11ac0d487e1c.csv',\n",
       " '/csc/epitkane/projects/PCAWG20191001/data/modified_data/train/new24classes/Prost-AdenoCA/0bfe2ac9-0af5-c248-e050-11ac0d487e1c.csv',\n",
       " '/csc/epitkane/projects/PCAWG20191001/data/modified_data/train/new24classes/Prost-AdenoCA/0bfe2ac9-0af8-c248-e050-11ac0d487e1c.csv',\n",
       " '/csc/epitkane/projects/PCAWG20191001/data/modified_data/train/new24classes/Prost-AdenoCA/0bfe2ac9-0afa-c248-e050-11ac0d487e1c.csv',\n",
       " '/csc/epitkane/projects/PCAWG20191001/data/modified_data/train/new24classes/Prost-AdenoCA/0bfe2ac9-0afd-c248-e050-11ac0d487e1c.csv',\n",
       " '/csc/epitkane/projects/PCAWG20191001/data/modified_data/train/new24classes/Prost-AdenoCA/0bfebf9f-c779-e57d-e050-11ac0d487827.csv',\n",
       " '/csc/epitkane/projects/PCAWG20191001/data/modified_data/train/new24classes/Prost-AdenoCA/0bfebf9f-c77f-e57d-e050-11ac0d487827.csv',\n",
       " '/csc/epitkane/projects/PCAWG20191001/data/modified_data/train/new24classes/Prost-AdenoCA/0bfebf9f-c781-e57d-e050-11ac0d487827.csv',\n",
       " '/csc/epitkane/projects/PCAWG20191001/data/modified_data/train/new24classes/Prost-AdenoCA/0bfebf9f-c783-e57d-e050-11ac0d487827.csv',\n",
       " '/csc/epitkane/projects/PCAWG20191001/data/modified_data/train/new24classes/Prost-AdenoCA/0c0038ff-6cc6-b0b0-e050-11ac0d483d73.csv',\n",
       " '/csc/epitkane/projects/PCAWG20191001/data/modified_data/train/new24classes/Prost-AdenoCA/0c0038ff-6cc8-b0b0-e050-11ac0d483d73.csv',\n",
       " '/csc/epitkane/projects/PCAWG20191001/data/modified_data/train/new24classes/Prost-AdenoCA/122bf0a9-8052-49da-a9d7-0e5de9ab7032.csv',\n",
       " '/csc/epitkane/projects/PCAWG20191001/data/modified_data/train/new24classes/Prost-AdenoCA/1558629a-770a-4dcb-b0bf-9a8bcea9d80b.csv',\n",
       " '/csc/epitkane/projects/PCAWG20191001/data/modified_data/train/new24classes/Prost-AdenoCA/1d6c9181-a02f-4c35-85b3-65dc5808f50e.csv',\n",
       " '/csc/epitkane/projects/PCAWG20191001/data/modified_data/train/new24classes/Prost-AdenoCA/280a069c-38e5-4300-a15c-2612301b70e3.csv',\n",
       " '/csc/epitkane/projects/PCAWG20191001/data/modified_data/train/new24classes/Prost-AdenoCA/2b54d668-7585-4bf4-9fdd-aea3c5cd4fa4.csv',\n",
       " '/csc/epitkane/projects/PCAWG20191001/data/modified_data/train/new24classes/Prost-AdenoCA/2f79fe89-9d24-4fbe-ba5b-0ff6c3c4d663.csv',\n",
       " '/csc/epitkane/projects/PCAWG20191001/data/modified_data/train/new24classes/Prost-AdenoCA/3b8ab548-6669-4142-9612-cafded0d7a23.csv',\n",
       " '/csc/epitkane/projects/PCAWG20191001/data/modified_data/train/new24classes/Prost-AdenoCA/4c755527-3b5d-4d36-822d-990aa1003d6a.csv',\n",
       " '/csc/epitkane/projects/PCAWG20191001/data/modified_data/train/new24classes/Prost-AdenoCA/5fe8a231-bbac-4f91-a47a-0de4fee752d3.csv',\n",
       " '/csc/epitkane/projects/PCAWG20191001/data/modified_data/train/new24classes/Prost-AdenoCA/63faa59e-6649-412e-823a-338d0662ec72.csv',\n",
       " '/csc/epitkane/projects/PCAWG20191001/data/modified_data/train/new24classes/Prost-AdenoCA/74db46a8-a499-4951-af33-1d53b7d1c9b4.csv',\n",
       " '/csc/epitkane/projects/PCAWG20191001/data/modified_data/train/new24classes/Prost-AdenoCA/7a86abdc-d554-43bd-ad47-22d439c930ef.csv',\n",
       " '/csc/epitkane/projects/PCAWG20191001/data/modified_data/train/new24classes/Prost-AdenoCA/7e10e325-16d2-42df-b957-df4d3a9477d0.csv',\n",
       " '/csc/epitkane/projects/PCAWG20191001/data/modified_data/train/new24classes/Prost-AdenoCA/84aa2983-714b-49fd-af93-f18ed4d6a6cb.csv',\n",
       " '/csc/epitkane/projects/PCAWG20191001/data/modified_data/train/new24classes/Prost-AdenoCA/95730d8b-327a-402c-a8bf-d71370f777a7.csv',\n",
       " '/csc/epitkane/projects/PCAWG20191001/data/modified_data/train/new24classes/Prost-AdenoCA/9b75735b-705d-4ebf-92a0-fbb190b95285.csv',\n",
       " '/csc/epitkane/projects/PCAWG20191001/data/modified_data/train/new24classes/Prost-AdenoCA/9cdb1905-8b0f-48bd-ba37-11e7ac9646a0.csv',\n",
       " '/csc/epitkane/projects/PCAWG20191001/data/modified_data/train/new24classes/Prost-AdenoCA/b0f3087b-6f9c-47e9-b487-6726af1cb90b.csv',\n",
       " '/csc/epitkane/projects/PCAWG20191001/data/modified_data/train/new24classes/Prost-AdenoCA/c3cb64b3-842b-4b42-8c42-020a0206eb06.csv',\n",
       " '/csc/epitkane/projects/PCAWG20191001/data/modified_data/train/new24classes/Prost-AdenoCA/d1cebf4a-4127-47ee-85cb-465fca2ac445.csv',\n",
       " '/csc/epitkane/projects/PCAWG20191001/data/modified_data/train/new24classes/Prost-AdenoCA/db37739d-af50-4e63-9147-1a7d25630ac6.csv',\n",
       " '/csc/epitkane/projects/PCAWG20191001/data/modified_data/train/new24classes/Prost-AdenoCA/f1d73c2f-3d7d-4a0f-871b-b3bf76d865dc.csv',\n",
       " '/csc/epitkane/projects/PCAWG20191001/data/modified_data/train/new24classes/Prost-AdenoCA/fc9d5fc6-546f-27b7-e040-11ac0d485f87.csv',\n",
       " '/csc/epitkane/projects/PCAWG20191001/data/modified_data/train/new24classes/Prost-AdenoCA/fc9d704c-0cfb-0407-e040-11ac0d486980.csv',\n",
       " '/csc/epitkane/projects/PCAWG20191001/data/modified_data/train/new24classes/Prost-AdenoCA/fc9d93b6-77c6-8719-e040-11ac0d487dec.csv',\n",
       " '/csc/epitkane/projects/PCAWG20191001/data/modified_data/train/new24classes/Prost-AdenoCA/fc9d93b6-92e8-acb7-e040-11ac0d487dee.csv',\n",
       " '/csc/epitkane/projects/PCAWG20191001/data/modified_data/train/new24classes/Prost-AdenoCA/fc9f9295-01f6-a9e0-e040-11ac0d4845af.csv',\n",
       " '/csc/epitkane/projects/PCAWG20191001/data/modified_data/train/new24classes/Prost-AdenoCA/fc9f998b-cc72-f6ea-e040-11ac0c482425.csv',\n",
       " '/csc/epitkane/projects/PCAWG20191001/data/modified_data/train/new24classes/Prost-AdenoCA/fca04929-586a-0594-e040-11ac0c48099d.csv',\n",
       " '/csc/epitkane/projects/PCAWG20191001/data/modified_data/train/new24classes/Prost-AdenoCA/fd163b56-1c2d-4e63-9fad-ba3221ae274b.csv',\n",
       " '/csc/epitkane/projects/PCAWG20191001/data/modified_data/train/new24classes/Stomach-AdenoCA/dd9d2e9e-02dc-40fc-842b-c5b9707fca56.csv',\n",
       " '/csc/epitkane/projects/PCAWG20191001/data/modified_data/train/new24classes/Liver-HCC/10db2142-c623-11e3-bf01-24c6515278c0.csv',\n",
       " '/csc/epitkane/projects/PCAWG20191001/data/modified_data/train/new24classes/Liver-HCC/63fef3fe-c622-11e3-bf01-24c6515278c0.csv',\n",
       " '/csc/epitkane/projects/PCAWG20191001/data/modified_data/train/new24classes/Liver-HCC/e34bcc5e-c622-11e3-bf01-24c6515278c0.csv',\n",
       " '/csc/epitkane/projects/PCAWG20191001/data/modified_data/train/new24classes/Myeloid-MPN/f8e61a02-938b-9428-e040-11ac0d481b6c.csv',\n",
       " '/csc/epitkane/projects/PCAWG20191001/data/modified_data/train/new24classes/Myeloid-MPN/f8fae6e5-93b5-7233-e040-11ac0c4830e7.csv',\n",
       " '/csc/epitkane/projects/PCAWG20191001/data/modified_data/train/new24classes/Myeloid-MPN/f91d1645-9b68-edbb-e040-11ac0c4854d8.csv',\n",
       " '/csc/epitkane/projects/PCAWG20191001/data/modified_data/train/new24classes/Myeloid-MPN/f92c8821-daba-3727-e040-11ac0d480224.csv',\n",
       " '/csc/epitkane/projects/PCAWG20191001/data/modified_data/train/new24classes/Prost-AdenoCA/0bfd1043-70fb-d2dc-e050-11ac0c4860cb.csv',\n",
       " '/csc/epitkane/projects/PCAWG20191001/data/modified_data/train/new24classes/Prost-AdenoCA/0bfd1043-8173-e3e4-e050-11ac0c4860c5.csv',\n",
       " '/csc/epitkane/projects/PCAWG20191001/data/modified_data/train/new24classes/Prost-AdenoCA/0bfd1068-3fc3-a95b-e050-11ac0c4860c3.csv',\n",
       " '/csc/epitkane/projects/PCAWG20191001/data/modified_data/train/new24classes/Prost-AdenoCA/0bfd1068-3fe1-a95b-e050-11ac0c4860c3.csv',\n",
       " '/csc/epitkane/projects/PCAWG20191001/data/modified_data/train/new24classes/Prost-AdenoCA/0bfe2ac9-0aff-c248-e050-11ac0d487e1c.csv',\n",
       " '/csc/epitkane/projects/PCAWG20191001/data/modified_data/train/new24classes/Prost-AdenoCA/62ea1264-47b6-4a6b-9fa6-779837f8e905.csv',\n",
       " '/csc/epitkane/projects/PCAWG20191001/data/modified_data/train/new24classes/Prost-AdenoCA/6ff16b0d-5966-4119-9bec-c9ebff804a37.csv',\n",
       " '/csc/epitkane/projects/PCAWG20191001/data/modified_data/train/new24classes/Prost-AdenoCA/fc9d5fc6-719b-0525-e040-11ac0d485f83.csv',\n",
       " '/csc/epitkane/projects/PCAWG20191001/data/modified_data/train/new24classes/Prost-AdenoCA/fca2d62f-2756-939e-e040-11ac0d4865e6.csv']"
      ]
     },
     "execution_count": 54,
     "metadata": {},
     "output_type": "execute_result"
    }
   ],
   "source": [
    "missing_files"
   ]
  },
  {
   "cell_type": "markdown",
   "id": "39a2a7f0-957c-46ff-a614-bfa054a990c9",
   "metadata": {},
   "source": [
    "Check nans"
   ]
  },
  {
   "cell_type": "code",
   "execution_count": 3,
   "id": "ac3a292b-704c-4bff-beaa-0c736455e1d0",
   "metadata": {},
   "outputs": [],
   "source": [
    "train = pd.read_csv('/csc/epitkane/projects/multimodal/data/utils/classinfo_pcawg.csv')"
   ]
  },
  {
   "cell_type": "code",
   "execution_count": 8,
   "id": "65739ada-73fe-443d-a347-14ba9ae8d097",
   "metadata": {},
   "outputs": [
    {
     "data": {
      "application/vnd.jupyter.widget-view+json": {
       "model_id": "f4996daed8ff4342b1aa611b3ba721e4",
       "version_major": 2,
       "version_minor": 0
      },
      "text/plain": [
       "  0%|          | 0/27 [00:00<?, ?it/s]"
      ]
     },
     "metadata": {},
     "output_type": "display_data"
    },
    {
     "data": {
      "application/vnd.jupyter.widget-view+json": {
       "model_id": "",
       "version_major": 2,
       "version_minor": 0
      },
      "text/plain": [
       "  0%|          | 0/34 [00:00<?, ?it/s]"
      ]
     },
     "metadata": {},
     "output_type": "display_data"
    },
    {
     "data": {
      "application/vnd.jupyter.widget-view+json": {
       "model_id": "",
       "version_major": 2,
       "version_minor": 0
      },
      "text/plain": [
       "  0%|          | 0/23 [00:00<?, ?it/s]"
      ]
     },
     "metadata": {},
     "output_type": "display_data"
    },
    {
     "data": {
      "application/vnd.jupyter.widget-view+json": {
       "model_id": "",
       "version_major": 2,
       "version_minor": 0
      },
      "text/plain": [
       "  0%|          | 0/34 [00:00<?, ?it/s]"
      ]
     },
     "metadata": {},
     "output_type": "display_data"
    },
    {
     "data": {
      "application/vnd.jupyter.widget-view+json": {
       "model_id": "",
       "version_major": 2,
       "version_minor": 0
      },
      "text/plain": [
       "  0%|          | 0/44 [00:00<?, ?it/s]"
      ]
     },
     "metadata": {},
     "output_type": "display_data"
    },
    {
     "data": {
      "application/vnd.jupyter.widget-view+json": {
       "model_id": "",
       "version_major": 2,
       "version_minor": 0
      },
      "text/plain": [
       "  0%|          | 0/198 [00:00<?, ?it/s]"
      ]
     },
     "metadata": {},
     "output_type": "display_data"
    },
    {
     "data": {
      "application/vnd.jupyter.widget-view+json": {
       "model_id": "",
       "version_major": 2,
       "version_minor": 0
      },
      "text/plain": [
       "  0%|          | 0/41 [00:00<?, ?it/s]"
      ]
     },
     "metadata": {},
     "output_type": "display_data"
    },
    {
     "data": {
      "application/vnd.jupyter.widget-view+json": {
       "model_id": "",
       "version_major": 2,
       "version_minor": 0
      },
      "text/plain": [
       "  0%|          | 0/146 [00:00<?, ?it/s]"
      ]
     },
     "metadata": {},
     "output_type": "display_data"
    },
    {
     "data": {
      "application/vnd.jupyter.widget-view+json": {
       "model_id": "",
       "version_major": 2,
       "version_minor": 0
      },
      "text/plain": [
       "  0%|          | 0/89 [00:00<?, ?it/s]"
      ]
     },
     "metadata": {},
     "output_type": "display_data"
    },
    {
     "data": {
      "application/vnd.jupyter.widget-view+json": {
       "model_id": "",
       "version_major": 2,
       "version_minor": 0
      },
      "text/plain": [
       "  0%|          | 0/60 [00:00<?, ?it/s]"
      ]
     },
     "metadata": {},
     "output_type": "display_data"
    },
    {
     "data": {
      "application/vnd.jupyter.widget-view+json": {
       "model_id": "",
       "version_major": 2,
       "version_minor": 0
      },
      "text/plain": [
       "  0%|          | 0/98 [00:00<?, ?it/s]"
      ]
     },
     "metadata": {},
     "output_type": "display_data"
    },
    {
     "data": {
      "application/vnd.jupyter.widget-view+json": {
       "model_id": "",
       "version_major": 2,
       "version_minor": 0
      },
      "text/plain": [
       "  0%|          | 0/57 [00:00<?, ?it/s]"
      ]
     },
     "metadata": {},
     "output_type": "display_data"
    },
    {
     "data": {
      "application/vnd.jupyter.widget-view+json": {
       "model_id": "",
       "version_major": 2,
       "version_minor": 0
      },
      "text/plain": [
       "  0%|          | 0/45 [00:00<?, ?it/s]"
      ]
     },
     "metadata": {},
     "output_type": "display_data"
    },
    {
     "data": {
      "application/vnd.jupyter.widget-view+json": {
       "model_id": "",
       "version_major": 2,
       "version_minor": 0
      },
      "text/plain": [
       "  0%|          | 0/144 [00:00<?, ?it/s]"
      ]
     },
     "metadata": {},
     "output_type": "display_data"
    },
    {
     "data": {
      "application/vnd.jupyter.widget-view+json": {
       "model_id": "",
       "version_major": 2,
       "version_minor": 0
      },
      "text/plain": [
       "  0%|          | 0/315 [00:00<?, ?it/s]"
      ]
     },
     "metadata": {},
     "output_type": "display_data"
    },
    {
     "data": {
      "application/vnd.jupyter.widget-view+json": {
       "model_id": "",
       "version_major": 2,
       "version_minor": 0
      },
      "text/plain": [
       "  0%|          | 0/38 [00:00<?, ?it/s]"
      ]
     },
     "metadata": {},
     "output_type": "display_data"
    },
    {
     "data": {
      "application/vnd.jupyter.widget-view+json": {
       "model_id": "",
       "version_major": 2,
       "version_minor": 0
      },
      "text/plain": [
       "  0%|          | 0/48 [00:00<?, ?it/s]"
      ]
     },
     "metadata": {},
     "output_type": "display_data"
    },
    {
     "data": {
      "application/vnd.jupyter.widget-view+json": {
       "model_id": "",
       "version_major": 2,
       "version_minor": 0
      },
      "text/plain": [
       "  0%|          | 0/105 [00:00<?, ?it/s]"
      ]
     },
     "metadata": {},
     "output_type": "display_data"
    },
    {
     "data": {
      "application/vnd.jupyter.widget-view+json": {
       "model_id": "",
       "version_major": 2,
       "version_minor": 0
      },
      "text/plain": [
       "  0%|          | 0/94 [00:00<?, ?it/s]"
      ]
     },
     "metadata": {},
     "output_type": "display_data"
    },
    {
     "data": {
      "application/vnd.jupyter.widget-view+json": {
       "model_id": "",
       "version_major": 2,
       "version_minor": 0
      },
      "text/plain": [
       "  0%|          | 0/26 [00:00<?, ?it/s]"
      ]
     },
     "metadata": {},
     "output_type": "display_data"
    },
    {
     "data": {
      "application/vnd.jupyter.widget-view+json": {
       "model_id": "",
       "version_major": 2,
       "version_minor": 0
      },
      "text/plain": [
       "  0%|          | 0/113 [00:00<?, ?it/s]"
      ]
     },
     "metadata": {},
     "output_type": "display_data"
    },
    {
     "data": {
      "application/vnd.jupyter.widget-view+json": {
       "model_id": "",
       "version_major": 2,
       "version_minor": 0
      },
      "text/plain": [
       "  0%|          | 0/238 [00:00<?, ?it/s]"
      ]
     },
     "metadata": {},
     "output_type": "display_data"
    },
    {
     "data": {
      "application/vnd.jupyter.widget-view+json": {
       "model_id": "",
       "version_major": 2,
       "version_minor": 0
      },
      "text/plain": [
       "  0%|          | 0/85 [00:00<?, ?it/s]"
      ]
     },
     "metadata": {},
     "output_type": "display_data"
    },
    {
     "data": {
      "application/vnd.jupyter.widget-view+json": {
       "model_id": "",
       "version_major": 2,
       "version_minor": 0
      },
      "text/plain": [
       "  0%|          | 0/210 [00:00<?, ?it/s]"
      ]
     },
     "metadata": {},
     "output_type": "display_data"
    },
    {
     "data": {
      "application/vnd.jupyter.widget-view+json": {
       "model_id": "",
       "version_major": 2,
       "version_minor": 0
      },
      "text/plain": [
       "  0%|          | 0/107 [00:00<?, ?it/s]"
      ]
     },
     "metadata": {},
     "output_type": "display_data"
    },
    {
     "data": {
      "application/vnd.jupyter.widget-view+json": {
       "model_id": "",
       "version_major": 2,
       "version_minor": 0
      },
      "text/plain": [
       "  0%|          | 0/74 [00:00<?, ?it/s]"
      ]
     },
     "metadata": {},
     "output_type": "display_data"
    },
    {
     "data": {
      "application/vnd.jupyter.widget-view+json": {
       "model_id": "",
       "version_major": 2,
       "version_minor": 0
      },
      "text/plain": [
       "  0%|          | 0/48 [00:00<?, ?it/s]"
      ]
     },
     "metadata": {},
     "output_type": "display_data"
    },
    {
     "data": {
      "application/vnd.jupyter.widget-view+json": {
       "model_id": "",
       "version_major": 2,
       "version_minor": 0
      },
      "text/plain": [
       "  0%|          | 0/51 [00:00<?, ?it/s]"
      ]
     },
     "metadata": {},
     "output_type": "display_data"
    }
   ],
   "source": [
    "for i in tqdm(train['class_name']):\n",
    "    histology = i\n",
    "    for sample in tqdm(os.listdir(os.path.join('/csc/epitkane/projects/multimodal/data/temp/motif_len_3_fixed', histology)), leave = False):\n",
    "        path = os.path.join('/csc/epitkane/projects/multimodal/data/temp/motif_len_3_fixed', histology, sample)\n",
    "        for file in os.listdir(path):\n",
    "            #print(os.path.join(path, file))\n",
    "            if os.path.join(path, file)[-3:] != 'npz':\n",
    "                continue\n",
    "            array = np.load(os.path.join(path, file))\n",
    "            if np.isnan(array['motif']).any():\n",
    "                print(os.path.join('/csc/epitkane/projects/multimodal/data/temp/motif_len_3_fixed', train.iloc[i,:]['nm_class'], sample, path))"
   ]
  },
  {
   "cell_type": "code",
   "execution_count": 28,
   "id": "ca2a03f6-c114-4661-8532-5168ee3f5f92",
   "metadata": {},
   "outputs": [],
   "source": [
    "import gzip\n"
   ]
  },
  {
   "cell_type": "code",
   "execution_count": 39,
   "id": "91931443-e7b2-45fa-98cb-a9b61053172c",
   "metadata": {},
   "outputs": [
    {
     "name": "stdout",
     "output_type": "stream",
     "text": [
      "864\n"
     ]
    }
   ],
   "source": [
    "with gzip.open('/csc/epitkane/projects/multimodal/data/utils/data_preprocessing.tsv.gz', 'rt') as f:\n",
    "    for i, line in enumerate(f):\n",
    "        row = line.split('/')\n",
    "        #print(row[-1])\n",
    "        if row[-1] == '1ff155dd-deb4-44e0-b3a2-e4875b618435.csv\\n':\n",
    "            print(i)\n",
    "            break\n",
    "        \n",
    "    "
   ]
  },
  {
   "cell_type": "markdown",
   "id": "f595be47-0894-4b83-be1d-d23eb819bd7e",
   "metadata": {},
   "source": [
    "## FIX PREPROCESSING"
   ]
  },
  {
   "cell_type": "code",
   "execution_count": 2,
   "id": "1afe4198-c4e8-40f8-a605-23fb39a14b29",
   "metadata": {},
   "outputs": [],
   "source": [
    "files = pd.read_csv(\"/csc/epitkane/projects/multimodal/data/utils/data_preprocessing.tsv.gz\", compression='gzip', sep='\\t')\n",
    "needed_files = pd.read_csv(\"/csc/epitkane/projects/multimodal/extfiles/fullpcawg_train_checkpoint_11100_wpos_TripletPosition_bs5000_nl1_nh2_ne512_cl3.csv\").loc[:, 'samples'].values.tolist()"
   ]
  },
  {
   "cell_type": "code",
   "execution_count": 5,
   "id": "dfc88909-bdca-4bab-87c9-28c77770d22c",
   "metadata": {},
   "outputs": [],
   "source": [
    "result = []\n",
    "for i in files.loc[:,'path'].values.tolist():\n",
    "    if i.split('/')[-1] in needed_files:\n",
    "        result.append(i)"
   ]
  },
  {
   "cell_type": "code",
   "execution_count": 7,
   "id": "30406ece-341a-4e26-8a4b-1f07c10fe894",
   "metadata": {},
   "outputs": [],
   "source": [
    "missing = pd.read_csv(\"/csc/epitkane/projects/multimodal/data/utils/missing_files.tsv.gz\", compression='gzip', sep='\\t')"
   ]
  },
  {
   "cell_type": "code",
   "execution_count": 8,
   "id": "06836d3e-5b2f-441b-85b4-cb8efd0f3b7c",
   "metadata": {},
   "outputs": [],
   "source": [
    "for i in missing.loc[:,'path'].values.tolist():\n",
    "    if i.split('/')[-1] in needed_files:\n",
    "        result.append(i)"
   ]
  },
  {
   "cell_type": "code",
   "execution_count": 11,
   "id": "98942d85-74b6-4743-bfcf-aa18f501616d",
   "metadata": {},
   "outputs": [],
   "source": [
    "df = pd.DataFrame({'path': result})"
   ]
  },
  {
   "cell_type": "code",
   "execution_count": 13,
   "id": "faf4bbd3-66a5-4c8f-b202-a47b28ec1003",
   "metadata": {},
   "outputs": [],
   "source": [
    "df.to_csv(\"/csc/epitkane/projects/multimodal/data/utils/data_preprocessing_true.tsv.gz\", compression='gzip', sep='\\t')"
   ]
  },
  {
   "cell_type": "code",
   "execution_count": 16,
   "id": "1509d5fd-d744-4afe-b198-69bae827ccba",
   "metadata": {},
   "outputs": [
    {
     "data": {
      "text/plain": [
       "'/csc/epitkane/projects/PCAWG20191001/data/modified_data/train/new24classes/Liver-HCC/062e96d4-c623-11e3-bf01-24c6515278c0.csv'"
      ]
     },
     "execution_count": 16,
     "metadata": {},
     "output_type": "execute_result"
    }
   ],
   "source": [
    "missing.iloc[0,0]"
   ]
  }
 ],
 "metadata": {
  "kernelspec": {
   "display_name": "Python 3 (ipykernel)",
   "language": "python",
   "name": "python3"
  },
  "language_info": {
   "codemirror_mode": {
    "name": "ipython",
    "version": 3
   },
   "file_extension": ".py",
   "mimetype": "text/x-python",
   "name": "python",
   "nbconvert_exporter": "python",
   "pygments_lexer": "ipython3",
   "version": "3.8.19"
  }
 },
 "nbformat": 4,
 "nbformat_minor": 5
}
