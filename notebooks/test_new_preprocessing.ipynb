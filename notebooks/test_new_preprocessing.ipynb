{
 "cells": [
  {
   "cell_type": "code",
   "execution_count": 5,
   "id": "ea96aed2",
   "metadata": {},
   "outputs": [],
   "source": [
    "import sys \n",
    "from importlib import reload\n",
    "\n",
    "sys.path.insert(0, '/csc/epitkane/projects/multimodal')\n",
    "import src.annotate_mutations as annotate"
   ]
  },
  {
   "cell_type": "code",
   "execution_count": 111,
   "id": "6a79c44b",
   "metadata": {
    "scrolled": true
   },
   "outputs": [
    {
     "name": "stderr",
     "output_type": "stream",
     "text": [
      "[2024-04-19 16:29:07] 2 input file found\n",
      "[2024-04-19 16:29:07] Writing mutation sequences...\n",
      "[2024-04-19 16:29:07] 0/124\t0c7aca3f-e006-4de3-afc2-20b4f727d4fd\n",
      "[2024-04-19 16:29:07] Output written to /csc/epitkane/projects/multimodal/data/temp/0c7aca3f-e006-4de3-afc2-20b4f727d4fd.tsv.gz\n",
      "[2024-04-19 16:29:07] Writing mutation sequences...\n",
      "[2024-04-19 16:29:07] 1/124\t2b142863-b963-4cc9-8f8f-c72503c93390\n",
      "[2024-04-19 16:29:07] Output written to /csc/epitkane/projects/multimodal/data/temp/2b142863-b963-4cc9-8f8f-c72503c93390.tsv.gz\n"
     ]
    }
   ],
   "source": [
    "reload(annotate)\n",
    "annotate.annotate_mutations_(mutation_coding = '/csc/epitkane/home/ahuttun/muat-github/extfile/mutation_codes_sv.tsv',\n",
    "                       predict_filepath = '/csc/epitkane/projects/multimodal/data/test_data_preprocessing.tsv',\n",
    "                       verbose = True,\n",
    "                       tmp_dir = '/csc/epitkane/projects/multimodal/data/temp')"
   ]
  },
  {
   "cell_type": "code",
   "execution_count": 1,
   "id": "8b84d591",
   "metadata": {},
   "outputs": [],
   "source": [
    "import pandas as pd "
   ]
  },
  {
   "cell_type": "code",
   "execution_count": 2,
   "id": "2f5d1d7e",
   "metadata": {},
   "outputs": [],
   "source": [
    "df = pd.read_csv('/csc/epitkane/projects/PCAWG20191001/data/modified_data/raw/all2patient/Bladder-TCC/0c7aca3f-e006-4de3-afc2-20b4f727d4fd.csv',\n",
    "                header = None)"
   ]
  },
  {
   "cell_type": "code",
   "execution_count": 3,
   "id": "29bcbaf8",
   "metadata": {},
   "outputs": [
    {
     "data": {
      "text/plain": [
       "'CGGG444124GAAAA'"
      ]
     },
     "execution_count": 3,
     "metadata": {},
     "output_type": "execute_result"
    }
   ],
   "source": [
    "df2 = df[df.iloc[:,0]== '12']\n",
    "seq = df2[df2.iloc[:,1] == 5379009][5].values[0]\n",
    "seq[int(len(seq)/2)-6:int(len(seq)/2)+9]"
   ]
  },
  {
   "cell_type": "code",
   "execution_count": 4,
   "id": "280711d9",
   "metadata": {},
   "outputs": [
    {
     "data": {
      "text/html": [
       "<div>\n",
       "<style scoped>\n",
       "    .dataframe tbody tr th:only-of-type {\n",
       "        vertical-align: middle;\n",
       "    }\n",
       "\n",
       "    .dataframe tbody tr th {\n",
       "        vertical-align: top;\n",
       "    }\n",
       "\n",
       "    .dataframe thead th {\n",
       "        text-align: right;\n",
       "    }\n",
       "</style>\n",
       "<table border=\"1\" class=\"dataframe\">\n",
       "  <thead>\n",
       "    <tr style=\"text-align: right;\">\n",
       "      <th></th>\n",
       "      <th>0</th>\n",
       "      <th>1</th>\n",
       "      <th>2</th>\n",
       "      <th>3</th>\n",
       "      <th>4</th>\n",
       "      <th>5</th>\n",
       "      <th>6</th>\n",
       "      <th>7</th>\n",
       "      <th>8</th>\n",
       "      <th>9</th>\n",
       "      <th>10</th>\n",
       "      <th>11</th>\n",
       "      <th>12</th>\n",
       "    </tr>\n",
       "  </thead>\n",
       "  <tbody>\n",
       "    <tr>\n",
       "      <th>3005</th>\n",
       "      <td>4</td>\n",
       "      <td>137414364</td>\n",
       "      <td>A</td>\n",
       "      <td>C</td>\n",
       "      <td>0c7aca3f-e006-4de3-afc2-20b4f727d4fd</td>\n",
       "      <td>GTATCAATTAAAACAAATTATAAAGATGCATTCATATAACAAGCAT...</td>\n",
       "      <td>0.0</td>\n",
       "      <td>0.0</td>\n",
       "      <td>=</td>\n",
       "      <td>19.493049</td>\n",
       "      <td>male</td>\n",
       "      <td>65</td>\n",
       "      <td>Bladder-TCC</td>\n",
       "    </tr>\n",
       "  </tbody>\n",
       "</table>\n",
       "</div>"
      ],
      "text/plain": [
       "     0          1  2  3                                     4   \\\n",
       "3005  4  137414364  A  C  0c7aca3f-e006-4de3-afc2-20b4f727d4fd   \n",
       "\n",
       "                                                     5    6    7  8   \\\n",
       "3005  GTATCAATTAAAACAAATTATAAAGATGCATTCATATAACAAGCAT...  0.0  0.0  =   \n",
       "\n",
       "             9     10  11           12  \n",
       "3005  19.493049  male  65  Bladder-TCC  "
      ]
     },
     "execution_count": 4,
     "metadata": {},
     "output_type": "execute_result"
    }
   ],
   "source": [
    "df3 = df[df.iloc[:,0]== '4']\n",
    "df3[df3.iloc[:,1] == 137414364]"
   ]
  },
  {
   "cell_type": "code",
   "execution_count": 6,
   "id": "2e7f3d8c",
   "metadata": {
    "scrolled": true
   },
   "outputs": [
    {
     "data": {
      "text/plain": [
       "'?'"
      ]
     },
     "execution_count": 6,
     "metadata": {},
     "output_type": "execute_result"
    }
   ],
   "source": [
    "seq = df3[df3.iloc[:,1] == 137414364][5].values[0]\n",
    "seq[int(len(seq)/2)]"
   ]
  },
  {
   "cell_type": "code",
   "execution_count": 7,
   "id": "f9c181e3",
   "metadata": {},
   "outputs": [
    {
     "data": {
      "text/plain": [
       "16788"
      ]
     },
     "execution_count": 7,
     "metadata": {},
     "output_type": "execute_result"
    }
   ],
   "source": [
    "len(df)"
   ]
  },
  {
   "cell_type": "code",
   "execution_count": 5,
   "id": "d982c41b",
   "metadata": {},
   "outputs": [
    {
     "data": {
      "text/plain": [
       "0                                                     7\n",
       "1                                              88373035\n",
       "2                                                    AA\n",
       "3                                                   NaN\n",
       "4                  0c7aca3f-e006-4de3-afc2-20b4f727d4fd\n",
       "5     CTCTTATACTCTGATGAAACTGTCTTCATATAACCCTTATAAAAGG...\n",
       "6                                                   0.0\n",
       "7                                                   0.0\n",
       "8                                                     =\n",
       "9                                             29.108351\n",
       "10                                                 male\n",
       "11                                                   65\n",
       "12                                          Bladder-TCC\n",
       "Name: 26, dtype: object"
      ]
     },
     "execution_count": 5,
     "metadata": {},
     "output_type": "execute_result"
    }
   ],
   "source": [
    "df.iloc[26,:]"
   ]
  },
  {
   "cell_type": "code",
   "execution_count": 6,
   "id": "34ee4796",
   "metadata": {},
   "outputs": [
    {
     "data": {
      "text/plain": [
       "'44CTTTTTTAAAAGAATTTCAGGTGATTCATTTTTCTTTTAGTTTATTTGTATTTTCTACAATGACTAATACTTTCTTAAATCATTAAGATTAAAAAATTAAAAAGTGGTAAATTAAAACATACGTTAAAACATTGAAAAAACTTATTTAATATGCTAAGATTAAACACAATCTGCAGTTGTTAAGTACATCATGATTACAAGTATGTATTTATACATTCACATGTATATATACACACATATACACAAAGATTATAAAGGCATTTGTATAAATATGTAGTTGTGTTAAGTTTTTGATATTACAATTACTTTTCCGTCTTTTAAAATGTTAGGTCATTTTAACAATTTTTAAAGAGAAATCTTTAAAATGAGAAGAAAAGCATTCTTTTAAATCTAACTGTAATTTGCTCTAAGAACTGGGCTGCAGAATTATTCTGAGAGACAGAAATACTGTTTTTATTTTTAAATTAAATCAAAAACTTATTTGATTGATTGTCTCTGTTAAAGCTGAGAAAACTGGAGTCTGTTTAGATTATGTCGTGCATTGAATGATGGCTCCCCAAAAGATATGCCTAAATCCTAATTCCCAGAACCCGTGAAGGTGACCTTACTTGGATAAGGGATCTTTGTAGATGTAATTAGATTAGGGGTCTTGGCATGAGATCATCCTGAATTACCTGAGTGGGCCCTGAATGCAACGAAGTGTCCTTGTAAGAGAAAGGAGAAGACACGCGGAAGAAGAGCCACATGAACACGGAAGCGGAAATCAGTGATGCAGCCACAAGCCAAGGAGAATCAAAGAACGCCTGGAGCCACAAGAAGCTGGAGGGAGGCAGAAAAATGAATCTTCTCTAGAGCCTCTGAAAAGAGCATGGTCTTCCTGACACCTTGATTTCAGATTTCTGGCCTCCAAAACTGAGAAAAATAAATTTCTGTTGCTTTAAGCCACCCAGTTTGTAGTAAGTTGTTAAGGAAGCCATGGGAAACTAACACACAGTGGTTATACAAAATGAAATAAATTTTTC'"
      ]
     },
     "execution_count": 6,
     "metadata": {},
     "output_type": "execute_result"
    }
   ],
   "source": [
    "seq = df.iloc[26,:][5]\n",
    "seq[int(len(seq)/2):]"
   ]
  },
  {
   "cell_type": "code",
   "execution_count": 7,
   "id": "1973edb0",
   "metadata": {},
   "outputs": [
    {
     "data": {
      "text/plain": [
       "'332111GCCAGACCTGCTTTAGAAAACTGTGGACCCCAGTGAACCCTCACTGCACCCTCACTGCATCCTCAGTTCATTGTGGATTTTCTATCTGGCACACAGCAGGAGCTCAATAAATACTTCCTGACTCACAACAGTCAGATAGTGAATTTAACCCCTCCACAACTCAGGGCTTGTTTTTTCTTTGTGGTTCTTTATCGCTCATTTGCATGCATTCTCACAGTAGATACTGAAAACAAAAGTTCTCTTCTCAGTTCCCATCTTGGCAGTCCTTTTGCTTTTGAGTTTATCGATTGCCTTGGGACTGATGCGACAAAGTATGGATTACAGATGCTTGAAGAACATTTGTTAACTCCAAGGGAGAATGAAGCTGTGAAATAAAGTAGTTATTTAATCGAATTCTACTACTAATAATGCCTTGCCTTGTTTTTCTTAAATCAACCTAAAACGTGTGGTCAAAAAATATTTGACTTCACTTTATTTTGGAAATATTTAACATTAAAAAGCAATGGCCCATAATCTCGGCACGCTAACAAAATTATTTTCATTTTTGCCCATTCTCTTTCAGGCCCTGTTTTCATAATCATATACAATTTTGCATGGTTGTAATTACACAGAAGCGATATTTAAGTCTTGCTTTTTTTTTTTCCTGGTTAAAGTTCCAGCCTGAATGAATTCATACATTATCTCATGATGATCATTTTCAATTTCTGGACCATGGACACATGTTTTGGCATACCACTTGAGCATGTCACAGTGAGTCAGGAAGCATTTATTGAGCTCTTGCTGTGTGCCAGATGCAATTCTAGGCCCCCAAGGATCTAGTAGTAAATAAGATAAAGTCCCTGCTGTCCAGACTGTAGCAGCCTACAACTATAGGGGATGCCATTTGCATCCTGTGTGAGCCTGTGTAACTCACACTGGGGAATTTCTTCCTTAGGGCAGATTCCTTTCCTTCCTCTAGAGGGCAGGTAAATAGAACTAAAGGCCAGGAGCACGCTGAAGGATGCATGCATCTTCATGG'"
      ]
     },
     "execution_count": 7,
     "metadata": {},
     "output_type": "execute_result"
    }
   ],
   "source": [
    "seq = df.iloc[2,:][5]\n",
    "seq[int(len(seq)/2):]"
   ]
  },
  {
   "cell_type": "code",
   "execution_count": 8,
   "id": "3a1bb186",
   "metadata": {},
   "outputs": [
    {
     "data": {
      "text/html": [
       "<div>\n",
       "<style scoped>\n",
       "    .dataframe tbody tr th:only-of-type {\n",
       "        vertical-align: middle;\n",
       "    }\n",
       "\n",
       "    .dataframe tbody tr th {\n",
       "        vertical-align: top;\n",
       "    }\n",
       "\n",
       "    .dataframe thead th {\n",
       "        text-align: right;\n",
       "    }\n",
       "</style>\n",
       "<table border=\"1\" class=\"dataframe\">\n",
       "  <thead>\n",
       "    <tr style=\"text-align: right;\">\n",
       "      <th></th>\n",
       "      <th>0</th>\n",
       "      <th>1</th>\n",
       "      <th>2</th>\n",
       "      <th>3</th>\n",
       "      <th>4</th>\n",
       "      <th>5</th>\n",
       "      <th>6</th>\n",
       "      <th>7</th>\n",
       "      <th>8</th>\n",
       "      <th>9</th>\n",
       "      <th>10</th>\n",
       "      <th>11</th>\n",
       "      <th>12</th>\n",
       "    </tr>\n",
       "  </thead>\n",
       "  <tbody>\n",
       "    <tr>\n",
       "      <th>21</th>\n",
       "      <td>14</td>\n",
       "      <td>97475477</td>\n",
       "      <td>NaN</td>\n",
       "      <td>T</td>\n",
       "      <td>0c7aca3f-e006-4de3-afc2-20b4f727d4fd</td>\n",
       "      <td>AGTGCAGTGACTGGTAGGAGAATAGAGTTACTGCCACCTGCAGCCT...</td>\n",
       "      <td>0.0</td>\n",
       "      <td>0.0</td>\n",
       "      <td>=</td>\n",
       "      <td>39.960251</td>\n",
       "      <td>male</td>\n",
       "      <td>65</td>\n",
       "      <td>Bladder-TCC</td>\n",
       "    </tr>\n",
       "    <tr>\n",
       "      <th>22</th>\n",
       "      <td>17</td>\n",
       "      <td>66091887</td>\n",
       "      <td>NaN</td>\n",
       "      <td>A</td>\n",
       "      <td>0c7aca3f-e006-4de3-afc2-20b4f727d4fd</td>\n",
       "      <td>TTCTCACAGGGCTGCAGATGAATGGGAGAGCCAGCCGAGAAATCTA...</td>\n",
       "      <td>0.0</td>\n",
       "      <td>0.0</td>\n",
       "      <td>=</td>\n",
       "      <td>70.886700</td>\n",
       "      <td>male</td>\n",
       "      <td>65</td>\n",
       "      <td>Bladder-TCC</td>\n",
       "    </tr>\n",
       "    <tr>\n",
       "      <th>23</th>\n",
       "      <td>10</td>\n",
       "      <td>23580632</td>\n",
       "      <td>G</td>\n",
       "      <td>NaN</td>\n",
       "      <td>0c7aca3f-e006-4de3-afc2-20b4f727d4fd</td>\n",
       "      <td>TTGAAGTAACTAGTAAGTACTAGCATATTTTCCTGAAGGGCTAACT...</td>\n",
       "      <td>1.0</td>\n",
       "      <td>0.0</td>\n",
       "      <td>+</td>\n",
       "      <td>46.348549</td>\n",
       "      <td>male</td>\n",
       "      <td>65</td>\n",
       "      <td>Bladder-TCC</td>\n",
       "    </tr>\n",
       "    <tr>\n",
       "      <th>24</th>\n",
       "      <td>12</td>\n",
       "      <td>96216404</td>\n",
       "      <td>C</td>\n",
       "      <td>NaN</td>\n",
       "      <td>0c7aca3f-e006-4de3-afc2-20b4f727d4fd</td>\n",
       "      <td>TGTCTGTTCATATCCTTCCAGGCATGAGATTTTAAAAACATGTTTT...</td>\n",
       "      <td>0.0</td>\n",
       "      <td>0.0</td>\n",
       "      <td>=</td>\n",
       "      <td>61.843750</td>\n",
       "      <td>male</td>\n",
       "      <td>65</td>\n",
       "      <td>Bladder-TCC</td>\n",
       "    </tr>\n",
       "    <tr>\n",
       "      <th>25</th>\n",
       "      <td>16</td>\n",
       "      <td>34523035</td>\n",
       "      <td>G</td>\n",
       "      <td>NaN</td>\n",
       "      <td>0c7aca3f-e006-4de3-afc2-20b4f727d4fd</td>\n",
       "      <td>TCAGTTAGTTGTTTGATTAGGTAAACAAAGCAGCTGGGAAGCTCGA...</td>\n",
       "      <td>0.0</td>\n",
       "      <td>0.0</td>\n",
       "      <td>=</td>\n",
       "      <td>14.042050</td>\n",
       "      <td>male</td>\n",
       "      <td>65</td>\n",
       "      <td>Bladder-TCC</td>\n",
       "    </tr>\n",
       "    <tr>\n",
       "      <th>26</th>\n",
       "      <td>7</td>\n",
       "      <td>88373035</td>\n",
       "      <td>AA</td>\n",
       "      <td>NaN</td>\n",
       "      <td>0c7aca3f-e006-4de3-afc2-20b4f727d4fd</td>\n",
       "      <td>CTCTTATACTCTGATGAAACTGTCTTCATATAACCCTTATAAAAGG...</td>\n",
       "      <td>0.0</td>\n",
       "      <td>0.0</td>\n",
       "      <td>=</td>\n",
       "      <td>29.108351</td>\n",
       "      <td>male</td>\n",
       "      <td>65</td>\n",
       "      <td>Bladder-TCC</td>\n",
       "    </tr>\n",
       "    <tr>\n",
       "      <th>27</th>\n",
       "      <td>22</td>\n",
       "      <td>46521083</td>\n",
       "      <td>AAGAGGATTTATTTGTTTATATAACATA</td>\n",
       "      <td>NaN</td>\n",
       "      <td>0c7aca3f-e006-4de3-afc2-20b4f727d4fd</td>\n",
       "      <td>TGAGCCTGGTGGAAGATGCTGCTCCCCGGGACAGCAGGGCGTGGGC...</td>\n",
       "      <td>0.0</td>\n",
       "      <td>0.0</td>\n",
       "      <td>=</td>\n",
       "      <td>74.602951</td>\n",
       "      <td>male</td>\n",
       "      <td>65</td>\n",
       "      <td>Bladder-TCC</td>\n",
       "    </tr>\n",
       "    <tr>\n",
       "      <th>28</th>\n",
       "      <td>11</td>\n",
       "      <td>62979575</td>\n",
       "      <td>C</td>\n",
       "      <td>NaN</td>\n",
       "      <td>0c7aca3f-e006-4de3-afc2-20b4f727d4fd</td>\n",
       "      <td>GGGGGATGCTTTTCAAGGTACCACGTGTATAGGCTGAGGAAAACCC...</td>\n",
       "      <td>1.0</td>\n",
       "      <td>0.0</td>\n",
       "      <td>?</td>\n",
       "      <td>57.468302</td>\n",
       "      <td>male</td>\n",
       "      <td>65</td>\n",
       "      <td>Bladder-TCC</td>\n",
       "    </tr>\n",
       "    <tr>\n",
       "      <th>29</th>\n",
       "      <td>13</td>\n",
       "      <td>37530614</td>\n",
       "      <td>NaN</td>\n",
       "      <td>T</td>\n",
       "      <td>0c7aca3f-e006-4de3-afc2-20b4f727d4fd</td>\n",
       "      <td>GCAACAAGAATAGGTTTTTTAAAAAGTTAATACTGAAAAACAAAAA...</td>\n",
       "      <td>1.0</td>\n",
       "      <td>0.0</td>\n",
       "      <td>-</td>\n",
       "      <td>49.172251</td>\n",
       "      <td>male</td>\n",
       "      <td>65</td>\n",
       "      <td>Bladder-TCC</td>\n",
       "    </tr>\n",
       "    <tr>\n",
       "      <th>30</th>\n",
       "      <td>5</td>\n",
       "      <td>26945751</td>\n",
       "      <td>NaN</td>\n",
       "      <td>A</td>\n",
       "      <td>0c7aca3f-e006-4de3-afc2-20b4f727d4fd</td>\n",
       "      <td>CCAGCCTGACAGAGTGAGACACTGTCTCACAAAATAAATAGATAAA...</td>\n",
       "      <td>1.0</td>\n",
       "      <td>0.0</td>\n",
       "      <td>+</td>\n",
       "      <td>14.057550</td>\n",
       "      <td>male</td>\n",
       "      <td>65</td>\n",
       "      <td>Bladder-TCC</td>\n",
       "    </tr>\n",
       "    <tr>\n",
       "      <th>31</th>\n",
       "      <td>16</td>\n",
       "      <td>72989296</td>\n",
       "      <td>A</td>\n",
       "      <td>NaN</td>\n",
       "      <td>0c7aca3f-e006-4de3-afc2-20b4f727d4fd</td>\n",
       "      <td>AAAAAAGAAATGAAAAAAAGAACTTGGCAGGTCCTTAGTCTTGAGC...</td>\n",
       "      <td>1.0</td>\n",
       "      <td>0.0</td>\n",
       "      <td>+</td>\n",
       "      <td>54.283699</td>\n",
       "      <td>male</td>\n",
       "      <td>65</td>\n",
       "      <td>Bladder-TCC</td>\n",
       "    </tr>\n",
       "  </tbody>\n",
       "</table>\n",
       "</div>"
      ],
      "text/plain": [
       "    0         1                             2    3   \\\n",
       "21  14  97475477                           NaN    T   \n",
       "22  17  66091887                           NaN    A   \n",
       "23  10  23580632                             G  NaN   \n",
       "24  12  96216404                             C  NaN   \n",
       "25  16  34523035                             G  NaN   \n",
       "26   7  88373035                            AA  NaN   \n",
       "27  22  46521083  AAGAGGATTTATTTGTTTATATAACATA  NaN   \n",
       "28  11  62979575                             C  NaN   \n",
       "29  13  37530614                           NaN    T   \n",
       "30   5  26945751                           NaN    A   \n",
       "31  16  72989296                             A  NaN   \n",
       "\n",
       "                                      4   \\\n",
       "21  0c7aca3f-e006-4de3-afc2-20b4f727d4fd   \n",
       "22  0c7aca3f-e006-4de3-afc2-20b4f727d4fd   \n",
       "23  0c7aca3f-e006-4de3-afc2-20b4f727d4fd   \n",
       "24  0c7aca3f-e006-4de3-afc2-20b4f727d4fd   \n",
       "25  0c7aca3f-e006-4de3-afc2-20b4f727d4fd   \n",
       "26  0c7aca3f-e006-4de3-afc2-20b4f727d4fd   \n",
       "27  0c7aca3f-e006-4de3-afc2-20b4f727d4fd   \n",
       "28  0c7aca3f-e006-4de3-afc2-20b4f727d4fd   \n",
       "29  0c7aca3f-e006-4de3-afc2-20b4f727d4fd   \n",
       "30  0c7aca3f-e006-4de3-afc2-20b4f727d4fd   \n",
       "31  0c7aca3f-e006-4de3-afc2-20b4f727d4fd   \n",
       "\n",
       "                                                   5    6    7  8          9   \\\n",
       "21  AGTGCAGTGACTGGTAGGAGAATAGAGTTACTGCCACCTGCAGCCT...  0.0  0.0  =  39.960251   \n",
       "22  TTCTCACAGGGCTGCAGATGAATGGGAGAGCCAGCCGAGAAATCTA...  0.0  0.0  =  70.886700   \n",
       "23  TTGAAGTAACTAGTAAGTACTAGCATATTTTCCTGAAGGGCTAACT...  1.0  0.0  +  46.348549   \n",
       "24  TGTCTGTTCATATCCTTCCAGGCATGAGATTTTAAAAACATGTTTT...  0.0  0.0  =  61.843750   \n",
       "25  TCAGTTAGTTGTTTGATTAGGTAAACAAAGCAGCTGGGAAGCTCGA...  0.0  0.0  =  14.042050   \n",
       "26  CTCTTATACTCTGATGAAACTGTCTTCATATAACCCTTATAAAAGG...  0.0  0.0  =  29.108351   \n",
       "27  TGAGCCTGGTGGAAGATGCTGCTCCCCGGGACAGCAGGGCGTGGGC...  0.0  0.0  =  74.602951   \n",
       "28  GGGGGATGCTTTTCAAGGTACCACGTGTATAGGCTGAGGAAAACCC...  1.0  0.0  ?  57.468302   \n",
       "29  GCAACAAGAATAGGTTTTTTAAAAAGTTAATACTGAAAAACAAAAA...  1.0  0.0  -  49.172251   \n",
       "30  CCAGCCTGACAGAGTGAGACACTGTCTCACAAAATAAATAGATAAA...  1.0  0.0  +  14.057550   \n",
       "31  AAAAAAGAAATGAAAAAAAGAACTTGGCAGGTCCTTAGTCTTGAGC...  1.0  0.0  +  54.283699   \n",
       "\n",
       "      10  11           12  \n",
       "21  male  65  Bladder-TCC  \n",
       "22  male  65  Bladder-TCC  \n",
       "23  male  65  Bladder-TCC  \n",
       "24  male  65  Bladder-TCC  \n",
       "25  male  65  Bladder-TCC  \n",
       "26  male  65  Bladder-TCC  \n",
       "27  male  65  Bladder-TCC  \n",
       "28  male  65  Bladder-TCC  \n",
       "29  male  65  Bladder-TCC  \n",
       "30  male  65  Bladder-TCC  \n",
       "31  male  65  Bladder-TCC  "
      ]
     },
     "execution_count": 8,
     "metadata": {},
     "output_type": "execute_result"
    }
   ],
   "source": [
    "df[21:32]"
   ]
  },
  {
   "cell_type": "code",
   "execution_count": 9,
   "id": "d23c60d2",
   "metadata": {},
   "outputs": [
    {
     "data": {
      "text/plain": [
       "'4124GAAAATACAAATATTAGCCCGGTATGGTGGCATGCGCCTGAAATTCCAGCTACTTAAGAGGCTGAGGTGAGAGAATTTCTTGAACCTGGGAGGCGGAGGTTGCAATGAGCCAAGATTGTACCACTGGACTCTACCCTGGGCGGCAGAAGAGAAACTCTGCCTCAAAAAAAAAAAAAAAAGTATAATCCAGTATGCTCAATGTCCTCCTAGAATATAGCTATATAAAAGTACTGTGGGAAGACAGGATAGAATATAGCTATTTAAAAGTACTGTGGGAAGACAGGAAAATAATTCTTCCTTGGAGGAATTTTTCTCCAACACTGGCATAGGGTCCGCTAGATTGAGGTAAAATATCCTTTGAGTGCCTTCTATGTGTTTACCACTGTGCTGTGTTATGAGCTGGGAGAGAATGAAAGAAAGAACCCATTCTGAAGAGGAAAAGGATATCCAGGAAGCAGAGCCCAAGTTTCCTAATTCCCTCTCATTTATCCATTCAACATTCACTAAGCACAAACACTGTTTCACCCGACAACTGGACTCTGAGCATATGAAGATAAGTGAGAGAGGTCCCTGCCCAGTTCCACTCAGAGGATCCATCCTCAGGCCAGCTGCAGGTGTCCATGGGGGAGTCTGTTCTCAGCCAGCATCATAGTTGTTCAGAGAACCCACCTGCCCTGAGCACATCCCACTGCAGAGCCTCGCCTTGGGTGGCGCATTCTCTTTGGTTCACTTTGATGGCAGATTTGTCCATGGGTCTGGTCCTGGGGGCCCAGATGCGATGAGTTCTGTTGTCATTGCTCCTGGCTCCTGACCTCATTCACATCTCACTCTCCCTCTGCCTCAAGCAGTAACTTTGGGCACCTGGTGTCATACACGCTTTGCCTCTCAGAGCCGGCTGTTTGTAGGGCCTCCTTGTGCTTTGTGGTAAGTGCTGTATTAGAGCCAGAGGAGGCTGTCCTATAACAGGTCCACCTGTGGCTGGGATGGTGAAGACCTTTCCCTTCCCTTCTCTCTGCAGCC'"
      ]
     },
     "execution_count": 9,
     "metadata": {},
     "output_type": "execute_result"
    }
   ],
   "source": [
    "seq = df.iloc[17,:][5]\n",
    "seq[int(len(seq)/2):]"
   ]
  },
  {
   "cell_type": "code",
   "execution_count": 10,
   "id": "2098965c",
   "metadata": {},
   "outputs": [
    {
     "data": {
      "text/plain": [
       "'211141114224244CTGGGCCTGCGCTAATTTGGTTTGGGTTTCTATCCCCTGAAACTAATGCTTCCCCACAAATTCCGTGTCTGACTCTAGGAAGGACTTGCTTCTTCAGGGGTGGGTGCTCCCTGGTGCCCACAGAGTCTGTTGCCCTCCCATCCCATCAGTATACCACATAGCAACACTCACAGGCTCCATGACAAACACACAGTCACAGAGTGTGGATTTGGGGCTTCTCACTGCTTTTCCTACTCTGGCAAACTCCTACTCATCCTGCAAAACCCAACTCAGGACTTCCGTGCCCCAGGAAGTTCTCCATGAGCTCATCCCCCTTGCCTTCCCCTCACCCCACACTGTCTGGGTCCTCCCTCCTATCCCATGCTCCCAAGGCCCTGGGCATTCCTCCCTTGACTGAACTGTTCCTGGCCCATGCCATGTGTTGAAGGAGATAAGAGTTTTGAGGGCTGCACCACCACGCTGATCGCTTGAGGCAATGGTCATTCTGTCACGGCCAGTCTGCAGTCAAGGCTGCACCGGGCCACGAGCCCCTCCGCCTCCAGCTATCCACAAGTGCCCATGATGCCAGGACTTGGGGATGTCTGGGTACAAGTACAGGGGCACAGAGGACAGCCAGTGGCCAGGAAGCCTCTGGGGCTGGTGGAGGTGAGGCTGGGTGTGCCTGTTTGTGCAAGTGTGTCGGGGCCTCGGGCGCTCCTGACGGGCATCTTCTAGGCTGTGGGACCTTGGGAAGGTTTCTCTGCCTCCCTTCACCTCAGTTTCCTCATCATTAAGTTGGGGAGGTCAGATGTCACAGTCTGTGAGGCAGCCCTGCATAACACCAGGCCTGGTGTTGGTGTGAGCAGAAGCTGGCAGGTGGGATGGGGTGACAGGATGGAAGGCCCAGGGCAGTGGCGAGCCAAGGACGGGGCCAGCAGGAGGTTGTCTGAGGCGAGGACCTCCCGGGAGCAGCGGCCAGATGCCCTGTCCTCCAGGGTGGCAGGGGAAGGCTGCAGGGAGAGGGTTGTCC'"
      ]
     },
     "execution_count": 10,
     "metadata": {},
     "output_type": "execute_result"
    }
   ],
   "source": [
    "seq = df.iloc[27,:][5]\n",
    "seq[int(len(seq)/2):]"
   ]
  },
  {
   "cell_type": "code",
   "execution_count": 11,
   "id": "6f45b112",
   "metadata": {},
   "outputs": [
    {
     "data": {
      "text/plain": [
       "28"
      ]
     },
     "execution_count": 11,
     "metadata": {},
     "output_type": "execute_result"
    }
   ],
   "source": [
    "len(df.iloc[27,:][2])"
   ]
  },
  {
   "cell_type": "code",
   "execution_count": 12,
   "id": "40ab249e",
   "metadata": {},
   "outputs": [
    {
     "data": {
      "text/plain": [
       "'C8766AATCTTACCTTCTCTGACACCCCCCAGAACTGTGGCTGCAGAAAGGAAAACTAATTGAAGAGGCAGGTAACAGTAGCTGTGAGGTGACCTATAAGAACACTTTGTTTACAGAGGTACACAGGAGATTCTCATGCCTTGGCTGGTGAGAAGAAAGAGAAGCAAGTGGATTTGAGATATATTAAGAACACAAAACAGTCAGTCTTGTCTTGATTGGATATTGCTTCCAGCAGAGCATAGTTGTGCCATGGACAACCTGCTTTCCTTCCTAGAGGACATAAATGTTTCTCATGGACTAAATGTGGGCCACATGGGACAGAAAGAGCTGAGTGGAGCCATCTTAGGTTCTACCCAACAAGGCTACCAGAGGGGTGAAGAGGCTCCAGCAGCAAGAAGCTAGAAGGGATGTTGACATTCCCGAAGGCTGAGGAAGGCACATATGACCTCCTGCAAGAGAGATGCACCTGCTAAGACAAAGAATCACCTGGAAAGAGGTGCTCAGTAAAGGGGCCTGCAAACACTCCATGACAATTTCCTGTAAAATCTTTATCTTCTGATACAGAAACATCTTGAAACCGACAATCTCAGAGGCTTTCCTTTTGCCTTACCATTCCTCCCTCCCTCCCTAATACCACCCTGAAGAAGGGTCAGAAGCTGCCTAAGATTGGAGGGAGGAGAGAAAGGAAGCATGAAGTAGAGAAATTGAGAAGAACCGAATGCCACTTCCTTGATGCAGGTTGCAGACTTGAAGCAAGTCCTAGGTAGGAGAAGGGAGAAGAGTGAACATCAAGTCATGTTAAATTTTCATAATTACATAGGCCTGGGCAATCCAATGTCTGAATGAAGACTGAGCGTGACTGCAGTGACTTCCACCACAAGTCAGGAGAAAACCATGGGATTTGTGGAGTTTGCACCCAAGGGCAGACAAAGATCACCTGTTCCTGTGAATAAAATGCAAATAAACTGTGAGAGGCAAAATTAAGGAATTTACATTTTATTTACACTGCAAAGTGAAACTTTTGTAA'"
      ]
     },
     "execution_count": 12,
     "metadata": {},
     "output_type": "execute_result"
    }
   ],
   "source": [
    "df3 = df[df.iloc[:,0]== '2']\n",
    "seq = df3[df3.iloc[:,1] == 18282659][5].values[0]\n",
    "seq[int(len(seq)/2)-3:]"
   ]
  },
  {
   "cell_type": "code",
   "execution_count": 13,
   "id": "827233b4",
   "metadata": {},
   "outputs": [
    {
     "data": {
      "text/plain": [
       "2048"
      ]
     },
     "execution_count": 13,
     "metadata": {},
     "output_type": "execute_result"
    }
   ],
   "source": [
    "len(seq)"
   ]
  }
 ],
 "metadata": {
  "kernelspec": {
   "display_name": "Python 3 (ipykernel)",
   "language": "python",
   "name": "python3"
  },
  "language_info": {
   "codemirror_mode": {
    "name": "ipython",
    "version": 3
   },
   "file_extension": ".py",
   "mimetype": "text/x-python",
   "name": "python",
   "nbconvert_exporter": "python",
   "pygments_lexer": "ipython3",
   "version": "3.8.19"
  }
 },
 "nbformat": 4,
 "nbformat_minor": 5
}
