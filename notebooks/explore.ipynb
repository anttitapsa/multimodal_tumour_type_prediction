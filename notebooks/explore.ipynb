{
 "cells": [
  {
   "cell_type": "code",
   "execution_count": 1,
   "id": "95edb704-2246-4917-b52e-2d9d0813e9ff",
   "metadata": {},
   "outputs": [],
   "source": [
    "import pandas as pd\n",
    "import numpy as np\n",
    "import gzip\n",
    "import sys\n",
    "import os"
   ]
  },
  {
   "cell_type": "code",
   "execution_count": null,
   "id": "08744b7f-8b93-4cce-8214-f66f95299b77",
   "metadata": {},
   "outputs": [],
   "source": [
    "def read_exclude():\n",
    "    # Fix indices\n",
    "    \"\"\"Exclude regions listed in the bed files\n",
    "    \n",
    "    Needed to exclude regions epicSV cannot handle because of quality \n",
    "    \"\"\"\n",
    "    exclude = pd.DataFrame()\n",
    "    files = os.listdir(os.path.join(os.pardir, 'extfiles', 'exclude_regions'))\n",
    "    for f in files:\n",
    "        if f.split(os.sep)[https://outlook.office365.com/owa/calendar/a39b863bdb244d4b93fc0e10dd63e69a@helsinki.fi/0f2923fc088b4346af73e59cca47b72b7364554520585811280/calendar.icspandas astype-1] in ['consensusBlacklist_sorted.bed', 'dukeExcludeRegions_sorted.bed', 'encodeblacklist.bed']:\n",
    "            file = pd.read_csv(os.path.join(os.pardir, 'extfiles', 'exclude_regions',f), sep='\\t', header=None)\n",
    "            exclude = pd.concat([exclude, file.iloc[:,:3]], ignore_index=True)\n",
    "    exclude = exclude.drop_duplicates()\n",
    "    exclude = exclude.apply(lambda row: [row[0].replace('chr', ''), int(row[1]), int(row[2])] if row[0].replace('chr', '') == 'X' or row[0].replace('chr', '') == 'Y' else [int(row[0].replace('chr', '')), int(row[1]), int(row[2])], axis=1, result_type='expand')\n",
    "    exclude = exclude.set_axis(['chrom', 'chromstart', 'chromend'], axis='columns')\n",
    "    exclude = exclude.sort_values(by=['chrom', 'chromstart'], ignore_index=True)\n",
    "\n",
    "    include = pd.read_csv(os.path.join(os.pardir, 'extfiles', 'include_area', 'Yilong_PCAWG_SV_included_regions_hg19.bed'), sep='\\t', header=None)\n",
    "    include = include.apply(lambda row: [row[0].replace('chr', ''), int(row[1]), int(row[2])] if row[0].replace('chr', '') == 'X' or row[0].replace('chr', '') == 'Y' else [int(row[0].replace('chr', '')), int(row[1]), int(row[2])], axis=1, result_type='expand')\n",
    "    include = include.set_axis(['chrom', 'chromstart', 'chromend'], axis='columns')\n",
    "\n",
    "    return exclude, include \n",
    "\n",
    "\n",
    "def exclude_region(chrom, pos, to_exclude, area):\n",
    "    #exclude regions\n",
    "    if chrom in to_exclude['chrom'].values.tolist():\n",
    "        chrom_pos_exclude = to_exclude[to_exclude['chrom'] == chrom]\n",
    "        chrom_pos_exclude = chrom_pos_exclude[chrom_pos_exclude['chromstart']<= int(pos)]\n",
    "        chrom_pos_exclude = chrom_pos_exclude[chrom_pos_exclude['chromend']>= int(pos)]\n",
    "        if len(chrom_pos_exclude) > 0:\n",
    "            return True\n",
    "\n",
    "    # Check that mutation locates in correct area\n",
    "    if chrom in area['chrom'].values.tolist():\n",
    "        chrom_pos_include = area[area['chrom'] == chrom]\n",
    "        chrom_pos_include = chrom_pos_include[chrom_pos_include['chromstart']<= int(pos)]\n",
    "        chrom_pos_include = chrom_pos_include[chrom_pos_include['chromend']>= int(pos)]\n",
    "        if len(chrom_pos_include) > 0:\n",
    "            return False\n",
    "    return True"
   ]
  },
  {
   "cell_type": "code",
   "execution_count": null,
   "id": "fb178705-4e56-49c2-9c87-2846079f6ebf",
   "metadata": {},
   "outputs": [],
   "source": [
    "exclude, area = read_exclude()"
   ]
  },
  {
   "cell_type": "code",
   "execution_count": null,
   "id": "6897f2cc-0f94-4c26-a247-6194ee11625b",
   "metadata": {},
   "outputs": [],
   "source": [
    "exclude"
   ]
  },
  {
   "cell_type": "code",
   "execution_count": null,
   "id": "5fafe5d8-831f-4ae1-9937-fefef35ac914",
   "metadata": {},
   "outputs": [],
   "source": [
    "exclude_region(3, 190959765, exclude, area)"
   ]
  },
  {
   "cell_type": "code",
   "execution_count": null,
   "id": "49e8cf07-d04c-4883-b8ea-b3e6fd0683bc",
   "metadata": {},
   "outputs": [],
   "source": [
    "array = np.load('SNV_bef23192-57cd-4301-b7a7-5e82ca62482d.npz')#[17]"
   ]
  },
  {
   "cell_type": "code",
   "execution_count": null,
   "id": "90383020-eaa3-4cbe-a8c5-bf4757ee4d3d",
   "metadata": {},
   "outputs": [],
   "source": [
    "np.set_printoptions(threshold=sys.maxsize)\n",
    "np.max(array['position'])"
   ]
  },
  {
   "cell_type": "code",
   "execution_count": null,
   "id": "01a65085-18f8-4fe7-a4fc-57a3b7f92783",
   "metadata": {},
   "outputs": [],
   "source": [
    "np.max(array['position'])"
   ]
  },
  {
   "cell_type": "code",
   "execution_count": null,
   "id": "de0dff99-9437-44a4-8349-eb726b3a8532",
   "metadata": {},
   "outputs": [],
   "source": [
    "len(array['motif'])"
   ]
  },
  {
   "cell_type": "code",
   "execution_count": null,
   "id": "d774156c-40b5-46ad-807a-63e8b0e6b378",
   "metadata": {},
   "outputs": [],
   "source": [
    "array['GES']"
   ]
  },
  {
   "cell_type": "code",
   "execution_count": null,
   "id": "b5a8a0b6-7e4c-4843-9330-f22dd408743a",
   "metadata": {},
   "outputs": [],
   "source": [
    "array2 = np.load('/csc/epitkane/projects/multimodal/data/temp/muat_orig/Panc-AdenoCA/5187e77d-f412-4303-8049-11d1aa1a0235/indel_5187e77d-f412-4303-8049-11d1aa1a0235.npz')"
   ]
  },
  {
   "cell_type": "code",
   "execution_count": null,
   "id": "ce2c2547-9d96-414e-b1e5-6064f58c6832",
   "metadata": {},
   "outputs": [],
   "source": [
    "array2['motif']"
   ]
  },
  {
   "cell_type": "markdown",
   "id": "f4c9b3b9-5a81-4bea-a26b-22f6aedad2f9",
   "metadata": {},
   "source": []
  },
  {
   "cell_type": "code",
   "execution_count": null,
   "id": "520d428e-9c95-4892-9aed-99b37743e3c8",
   "metadata": {},
   "outputs": [],
   "source": [
    "array['position'] ==array2['position']\n"
   ]
  },
  {
   "cell_type": "code",
   "execution_count": null,
   "id": "a7ccc9ab-baa5-4ef5-bfb0-1c33e5c8b0a1",
   "metadata": {},
   "outputs": [],
   "source": [
    "np.max(array2['motif'])"
   ]
  },
  {
   "cell_type": "code",
   "execution_count": null,
   "id": "19534985-2d18-45f8-abd9-969be36fe235",
   "metadata": {},
   "outputs": [],
   "source": [
    "array = np.load('/csc/epitkane/projects/multimodal/data/temp/motif3/Biliary-AdenoCA/1e2dcbcc-771c-43c5-8c8d-e0eb77cb3494/indel_1e2dcbcc-771c-43c5-8c8d-e0eb77cb3494.npz')"
   ]
  },
  {
   "cell_type": "code",
   "execution_count": null,
   "id": "d697d2ed-698b-4336-939e-053b6c073010",
   "metadata": {},
   "outputs": [],
   "source": [
    "array['motif']"
   ]
  },
  {
   "cell_type": "code",
   "execution_count": null,
   "id": "0ba6b18f-5b20-49e3-8b67-1613139dcf37",
   "metadata": {},
   "outputs": [],
   "source": [
    "f = gzip.GzipFile('file.npz.gz', \"w\")\n",
    "np.save(f, array)\n",
    "f.close()"
   ]
  },
  {
   "cell_type": "code",
   "execution_count": null,
   "id": "e023bf32-86a6-4290-bb51-effbf53d0d48",
   "metadata": {},
   "outputs": [],
   "source": [
    "f = gzip.GzipFile('file.npz.gz', \"r\")\n",
    "array = np.load(f)\n"
   ]
  },
  {
   "cell_type": "code",
   "execution_count": null,
   "id": "1291fab1-c681-48f8-8e85-e82b68ee28c3",
   "metadata": {},
   "outputs": [],
   "source": [
    "array['motif']"
   ]
  },
  {
   "cell_type": "code",
   "execution_count": null,
   "id": "b83498c3-8c8b-41d2-9c96-e1e6c77bd3d4",
   "metadata": {},
   "outputs": [],
   "source": []
  },
  {
   "cell_type": "code",
   "execution_count": null,
   "id": "8aff5487-f1ca-4446-be84-cc1e3e5bafd7",
   "metadata": {},
   "outputs": [],
   "source": [
    "snv_file = np.load('/csc/epitkane/projects/multimodal/data/temp/motif3_onehot/Bone-Osteosarc/f82d213f-9ba5-7b6b-e040-11ac0c486882/SNV_f82d213f-9ba5-7b6b-e040-11ac0c486882.npz')"
   ]
  },
  {
   "cell_type": "code",
   "execution_count": null,
   "id": "11082c36-befb-4957-8886-5be3d2bf6558",
   "metadata": {},
   "outputs": [],
   "source": [
    "motifs = snv_file['motif']"
   ]
  },
  {
   "cell_type": "code",
   "execution_count": null,
   "id": "96b25e82-34e4-421a-8bc3-f469f6fcfa89",
   "metadata": {},
   "outputs": [],
   "source": [
    "A = motifs[[0,4,5], :, :]"
   ]
  },
  {
   "cell_type": "code",
   "execution_count": null,
   "id": "a9f48e0a-b958-4c23-b07c-c953a5a991db",
   "metadata": {},
   "outputs": [],
   "source": [
    "B = motifs[[0,4,5], :, :]"
   ]
  },
  {
   "cell_type": "code",
   "execution_count": null,
   "id": "cd4a1390-61f6-45f1-90a1-a578e4e91a88",
   "metadata": {},
   "outputs": [],
   "source": [
    "import torch"
   ]
  },
  {
   "cell_type": "code",
   "execution_count": null,
   "id": "cafce8c0-4f40-4ce7-b0ba-b3f88713f1f8",
   "metadata": {},
   "outputs": [],
   "source": [
    "tensor = torch.from_numpy(np.vstack((A,B)))"
   ]
  },
  {
   "cell_type": "code",
   "execution_count": null,
   "id": "ef51cba8-80ed-4182-bd4b-4fde14f72072",
   "metadata": {},
   "outputs": [],
   "source": [
    "tensor = tensor.flatten(start_dim = 1, end_dim=-1)"
   ]
  },
  {
   "cell_type": "code",
   "execution_count": null,
   "id": "182e627b-b8cb-4ad5-9d56-87e263b684ea",
   "metadata": {},
   "outputs": [],
   "source": [
    "tensor[0]"
   ]
  },
  {
   "cell_type": "code",
   "execution_count": null,
   "id": "a75e9f15-4eef-425b-9b21-eab88f393944",
   "metadata": {},
   "outputs": [],
   "source": [
    "A[0]"
   ]
  },
  {
   "cell_type": "code",
   "execution_count": null,
   "id": "65f38ace-1cc6-4e7e-9fed-b4a1a903f181",
   "metadata": {},
   "outputs": [],
   "source": [
    "import torch\n",
    "sys.path.insert(0, '/csc/epitkane/projects/multimodal/src')"
   ]
  },
  {
   "cell_type": "code",
   "execution_count": null,
   "id": "baa5fbdf-e2e0-4767-9bd9-0657ac75f9e1",
   "metadata": {},
   "outputs": [],
   "source": [
    "from muat_models import MuAtMotifPosition, ModelConfig"
   ]
  },
  {
   "cell_type": "code",
   "execution_count": null,
   "id": "bbd18d25-a86c-422d-a160-a5c122dbc574",
   "metadata": {},
   "outputs": [],
   "source": [
    "modelConfig = ModelConfig(muat_orig=True,\n",
    "                                  vocab_size=vocab_size,\n",
    "                                  block_sizepandas astype=block_size,\n",
    "                                  num_class=num_class,\n",
    "                                  position_size=position_size,\n",
    "                                  ges_size=ges_size,\n",
    "                                  embed_dim=embed_dim,\n",
    "                                  motif_len=motif_len)"
   ]
  },
  {
   "cell_type": "code",
   "execution_count": null,
   "id": "2bdc4398-dcab-4587-ba00-3ebacd08838f",
   "metadata": {},
   "outputs": [],
   "source": [
    "state_dict = torch.load(\"MuAtMotifPos_orig_10_fold_fold1.pth\", map_location='cpu')"
   ]
  },
  {
   "cell_type": "code",
   "execution_count": null,
   "id": "35ceb85d-fad4-4067-8587-2b9e73fa61dd",
   "metadata": {},
   "outputs": [],
   "source": [
    "print(state_dict['config'])"
   ]
  },
  {
   "cell_type": "code",
   "execution_count": null,
   "id": "b82be1c4-9e60-462c-a631-435ff3abbb9d",
   "metadata": {},
   "outputs": [],
   "source": [
    "model = MuAtMotifPosition(ModelConfig(**state_dict['model_config']))"
   ]
  },
  {
   "cell_type": "code",
   "execution_count": null,
   "id": "83c33698-f756-41e2-96e9-42e562956e52",
   "metadata": {},
   "outputs": [],
   "source": [
    "model.load_state_dict(state_dict['model'])"
   ]
  },
  {
   "cell_type": "code",
   "execution_count": null,
   "id": "f5f35da1-67ea-465c-b28b-a2aa4df6c4f7",
   "metadata": {},
   "outputs": [],
   "source": [
    "print(model)"
   ]
  },
  {
   "cell_type": "code",
   "execution_count": null,
   "id": "d56b7028-2a0b-4c46-9011-c59a568d124a",
   "metadata": {},
   "outputs": [],
   "source": [
    "print(model.config.__dict__)"
   ]
  },
  {
   "cell_type": "code",
   "execution_count": null,
   "id": "c80db91b-b764-4c81-ab1f-02b47e1f12e2",
   "metadata": {},
   "outputs": [],
   "source": []
  },
  {
   "cell_type": "code",
   "execution_count": null,
   "id": "0547c91a-7b2b-4967-ba72-3f1adb2769ae",
   "metadata": {},
   "outputs": [],
   "source": [
    "state_dict = torch.load(\"new_weight.pthx\", map_location='cpu')"
   ]
  },
  {
   "cell_type": "code",
   "execution_count": null,
   "id": "99f95cd4-9953-4ae1-91a9-9b0adf83ef02",
   "metadata": {},
   "outputs": [],
   "source": [
    "print(state_dict[1])"
   ]
  },
  {
   "cell_type": "code",
   "execution_count": null,
   "id": "7e051986-2de2-438d-a9ae-0a0709e6642c",
   "metadata": {},
   "outputs": [],
   "source": [
    "order_file = pd.read_csv('/csc/epitkane/projects/EpicSV/data/VAE_inputs/chromhmm/SNV_files/ChromHMM_epigenome_for_SNV_v2_problematic_excluded_{}_full_annotation_final_missing_excluded.bed.gz'.format(1),\n",
    "                         compression='gzip',\n",
    "                         sep ='\\t',\n",
    "                         low_memory=False,\n",
    "                         skipinitialspace=True,\n",
    "                         header=None,\n",
    "                         usecols=[3,4,8,13],\n",
    "                         chunksize=1000000)import os"
   ]
  },
  {
   "cell_type": "code",
   "execution_count": null,
   "id": "7f142d1c-85bb-45d6-8901-ec17da97a9cb",
   "metadata": {},
   "outputs": [],
   "source": [
    "os.path.join(os.getcwd(), os.pardir, 'extfiles', 'mutation_codes_sv.tsv')"
   ]
  },
  {
   "cell_type": "code",
   "execution_count": null,
   "id": "cafc6351-1c05-4256-a0fc-e2891f3a622a",
   "metadata": {},
   "outputs": [],
   "source": [
    "def read_exclude():\n",
    "    # Fix indices\n",
    "    \"\"\"Exclude regions listed in the bed files\n",
    "    \n",
    "    Needed to exclude regions epicSV cannot handle because of quality \n",
    "    \"\"\"\n",
    "    exclude = pd.DataFrame()\n",
    "    files = os.listdir(os.path.join(os.pardir, 'extfiles', 'exclude_regions'))\n",
    "    for f in files:\n",
    "        file = pd.read_csv(os.path.join(os.pardir, 'extfiles', 'exclude_regions',f), sep='\\t', header=None)\n",
    "        exclude = pd.concat([exclude, file.iloc[:,:3]], ignore_index=True)\n",
    "    exclude = exclude.drop_duplicates()\n",
    "    exclude = exclude.apply(lambda row: [row[0].replace('chr', ''), int(row[1]), int(row[2])] if row[0].replace('chr', '') == 'X' or row[0].replace('chr', '') == 'Y' else [int(row[0].replace('chr', '')), int(row[1]), int(row[2])], axis=1, result_type='expand')\n",
    "    exclude = exclude.set_axis(['chrom', 'chromstart', 'chromend'], axis='columns')\n",
    "    exclude = exclude.sort_values(by=['chrom', 'chromstart'], ignore_index=True)\n",
    "    return exclude "
   ]
  },
  {
   "cell_type": "code",
   "execution_count": null,
   "id": "7e0bff5c-6e3d-4b74-9ff9-24b4ef546862",
   "metadata": {},
   "outputs": [],
   "source": [
    "exclude = read_exclude()"
   ]
  },
  {
   "cell_type": "code",
   "execution_count": null,
   "id": "d19ac258-68a6-467a-af8b-56e51058abc3",
   "metadata": {},
   "outputs": [],
   "source": [
    "count = 0\n",
    "with open('/csc/epitkane/projects/multimodal/slurm/ERROR/muat_org_motif_all.error') as file:\n",
    "    for line in file:\n",
    "        if line[:2] == 'On':\n",
    "            count += int(line.split(' ')[1])\n",
    "print(count)"
   ]
  },
  {
   "cell_type": "code",
   "execution_count": null,
   "id": "6635c1b0-44c2-457c-9e78-1923d223c1e3",
   "metadata": {},
   "outputs": [],
   "source": [
    "dictMotif = pd.read_csv(\"/csc/epitkane/projects/multimodal/extfiles/dictMotif_orig.csv\")"
   ]
  },
  {
   "cell_type": "code",
   "execution_count": null,
   "id": "2a857694-7cb1-48fc-8bdc-27ee99fde67b",
   "metadata": {},
   "outputs": [],
   "source": [
    "MNVs = dictMotif[dictMotif.loc[:,'mut_type']=='MNV']"
   ]
  },
  {
   "cell_type": "code",
   "execution_count": null,
   "id": "379bb553-d8da-438e-bc0d-53bcf8cf1972",
   "metadata": {},
   "outputs": [],
   "source": [
    "MNVs"
   ]
  },
  {
   "cell_type": "code",
   "execution_count": null,
   "id": "a33ac25a-906f-4963-ab02-6f90e7826b5d",
   "metadata": {},
   "outputs": [],
   "source": [
    "triplets = MNVs.loc[:,'triplet']"
   ]
  },
  {
   "cell_type": "code",
   "execution_count": null,
   "id": "0206bdf9-27db-4d81-aff4-22710e0dde1d",
   "metadata": {},
   "outputs": [],
   "source": [
    "for tri in triplets.values.tolist():\n",
    "    if tri[1] in ['A', 'T', 'G', 'C']:\n",
    "        print(tri)"
   ]
  },
  {
   "cell_type": "code",
   "execution_count": null,
   "id": "1a4e4ca8-076b-440f-b620-a0b15e8be9a2",
   "metadata": {},
   "outputs": [],
   "source": []
  },
  {
   "cell_type": "code",
   "execution_count": null,
   "id": "18cece82-a408-4d25-a681-b4484d9bc96f",
   "metadata": {},
   "outputs": [],
   "source": [
    "df = pd.DataFrame({'ref':['', 'A', 'CT', 'G', 'AG', 'TC', 'T'],\n",
    "                   'alt':['TAG', 'CTG', 'AGC', 'CCC', 'GGC', 'GAC', 'GGG'],\n",
    "                   'code':['857', '!87', '$?6', '6*6', '6@!', '?5$', '77?']})"
   ]
  },
  {
   "cell_type": "code",
   "execution_count": null,
   "id": "43d7bf38-81a9-4e4c-87ae-55776f870f62",
   "metadata": {},
   "outputs": [],
   "source": [
    "df"
   ]
  },
  {
   "cell_type": "code",
   "execution_count": null,
   "id": "1f3fc165-b25e-4255-8d26-f40a1df22d2e",
   "metadata": {},
   "outputs": [],
   "source": [
    "ref = ['-' if not df.iloc[i,0] else df.iloc[i,0] for i in range(7)]\n",
    "alt = ['-' if not df.iloc[i,1] else df.iloc[i,1] for i in range(7)]"
   ]
  },
  {
   "cell_type": "code",
   "execution_count": null,
   "id": "3da529d7-6d85-4b28-94ab-5f8452d1a7c4",
   "metadata": {},
   "outputs": [],
   "source": [
    "ref"
   ]
  },
  {
   "cell_type": "code",
   "execution_count": null,
   "id": "2ee4dd7c-3251-4afa-9a7e-9734a6fd91bb",
   "metadata": {},
   "outputs": [],
   "source": [
    "alt"
   ]
  },
  {
   "cell_type": "markdown",
   "id": "62656500-236d-4006-92d2-00e32a52da08",
   "metadata": {},
   "source": [
    "## Reading large epipos file with pandas"
   ]
  },
  {
   "cell_type": "code",
   "execution_count": null,
   "id": "aaa57589-21ce-4394-89d0-a94523e0e93f",
   "metadata": {},
   "outputs": [],
   "source": [
    "epipos = pd.read_csv(\"/csc/epitkane/projects/multimodal/data/raw_epipos/new_series_3__ChromHMM_epigenome_for_SNV_v2_problematic_excluded_1_exclude_missing.bed.gz_latent.csv\")"
   ]
  },
  {
   "cell_type": "code",
   "execution_count": null,
   "id": "1f02a3c7-addf-4f7c-bf81-f64075ff67e1",
   "metadata": {},
   "outputs": [],
   "source": [
    "epipos.iloc[4900000,:]"
   ]
  },
  {
   "cell_type": "code",
   "execution_count": null,
   "id": "5738a29e-5928-4112-9261-4e7326ea1f62",
   "metadata": {},
   "outputs": [],
   "source": [
    "order_file = pd.read_csv('/csc/epitkane/projects/EpicSV/data/VAE_inputs/chromhmm/SNV_files/ChromHMM_epigenome_for_SNV_v2_problematic_excluded_{}_full_annotation_final_missing_excluded.bed.gz'.format(1),\n",
    "                         compression='gzip',\n",
    "                         sep ='\\t',\n",
    "                         low_memory=False,\n",
    "                         skipinitialspace=True,\n",
    "                         header=None,\n",
    "                         usecols=[3,4,6,8,13],\n",
    "                         chunksize=1000000)"
   ]
  },
  {
   "cell_type": "code",
   "execution_count": null,
   "id": "97082beb-470b-42d8-a23b-a32d0de52a2a",
   "metadata": {},
   "outputs": [],
   "source": [
    "order = next(order_file)"
   ]
  },
  {
   "cell_type": "code",
   "execution_count": null,
   "id": "41d8c8a3-c297-40c9-9067-604dfb56e776",
   "metadata": {},
   "outputs": [],
   "source": [
    "order.head()"
   ]
  },
  {
   "cell_type": "code",
   "execution_count": null,
   "id": "24c46f1d-46c0-4703-a778-971278cbd6fc",
   "metadata": {},
   "outputs": [],
   "source": [
    "order[(order.loc[:,8]=='7dc5f8ba-0080-43d3-8426-bd527a970761') & (order.loc[:,13]=='Lung-SCC')].index"
   ]
  },
  {
   "cell_type": "code",
   "execution_count": null,
   "id": "91ed3c5e-5ad6-4c04-a42d-044fb4ba3781",
   "metadata": {},
   "outputs": [],
   "source": [
    "order[(order.loc[:,6].str.len()>1)]"
   ]
  },
  {
   "cell_type": "code",
   "execution_count": null,
   "id": "3490826f-6ff1-43b7-855c-14568a7835cf",
   "metadata": {},
   "outputs": [
    {
     "name": "stdout",
     "output_type": "stream",
     "text": [
      "Reading the data...\n"
     ]
    }
   ],
   "source": [
    "import time\n",
    "print('Reading the data...')\n",
    "epipos =  pd.read_csv(\"/csc/epitkane/projects/multimodal/data/raw_epipos/new_series_3__ChromHMM_epigenome_for_SNV_v2_problematic_excluded_1_exclude_missing.bed.gz_latent.csv\",\n",
    "                      header= None)\n",
    "epipos_order = pd.read_csv('/csc/epitkane/projects/EpicSV/data/VAE_inputs/chromhmm/SNV_files/ChromHMM_epigenome_for_SNV_v2_problematic_excluded_{}_full_annotation_final_missing_excluded.bed.gz'.format(1),\n",
    "                         compression='gzip',\n",
    "                         sep ='\\t',\n",
    "                         low_memory=False,\n",
    "                         skipinitialspace=True,\n",
    "                         header=None,\n",
    "                         usecols=[3,4,8,13],\n",
    "                         chunksize=1000000)\n",
    "cancers = pd.read_csv('/csc/epitkane/projects/multimodal/data/utils/classinfo_pcawg_muat_orig.csv', header=0, low_memory=False).loc[:, 'class_name'].values.tolist()\n",
    "save_base = '/csc/epitkane/projects/multimodal/data/test_epipos'"
   ]
  },
  {
   "cell_type": "code",
   "execution_count": null,
   "id": "cf282a96-6130-4870-afa7-ae643e8def0a",
   "metadata": {
    "scrolled": true
   },
   "outputs": [
    {
     "name": "stdout",
     "output_type": "stream",
     "text": [
      "##############################\n",
      "Chunck number: 1\n",
      "##############################\n",
      "\n",
      "Ordering tumour type Bone-Osteosarc took time: 00:00:16, total utilised time: 00:02:02\n",
      "Ordering tumour type Breast-AdenoCA took time: 00:01:23, total utilised time: 00:03:25\n",
      "Ordering tumour type CNS-GBM took time: 00:00:20, total utilised time: 00:03:46\n",
      "Ordering tumour type CNS-Medullo took time: 00:00:46, total utilised time: 00:04:32\n",
      "Ordering tumour type CNS-PiloAstro took time: 00:00:26, total utilised time: 00:04:59\n",
      "Ordering tumour type ColoRect-AdenoCA took time: 00:01:18, total utilised time: 00:06:18\n",
      "Ordering tumour type Eso-AdenoCA took time: 00:00:58, total utilised time: 00:07:16\n",
      "Ordering tumour type Head-SCC took time: 00:00:25, total utilised time: 00:07:41\n",
      "Ordering tumour type Kidney-ChRCC took time: 00:00:13, total utilised time: 00:07:55\n",
      "Ordering tumour type Kidney-RCC took time: 00:00:50, total utilised time: 00:08:45\n",
      "Ordering tumour type Liver-HCC took time: 00:02:07, total utilised time: 00:10:53\n",
      "Ordering tumour type Lung-AdenoCA took time: 00:00:26, total utilised time: 00:11:19\n",
      "Ordering tumour type Lung-SCC took time: 00:00:35, total utilised time: 00:11:54\n",
      "Ordering tumour type Lymph-BNHL took time: 00:00:41, total utilised time: 00:12:36\n",
      "Ordering tumour type Lymph-CLL took time: 00:00:27, total utilised time: 00:13:03\n",
      "Ordering tumour type Myeloid-MPN took time: 00:00:13, total utilised time: 00:13:17\n",
      "Ordering tumour type Ovary-AdenoCA took time: 00:00:39, total utilised time: 00:13:56\n",
      "Ordering tumour type Panc-AdenoCA took time: 00:01:20, total utilised time: 00:15:16\n",
      "Ordering tumour type Panc-Endocrine took time: 00:00:24, total utilised time: 00:15:41\n",
      "Ordering tumour type Prost-AdenoCA took time: 00:01:30, total utilised time: 00:17:11\n",
      "Ordering tumour type Skin-Melanoma took time: 00:02:42, total utilised time: 00:19:54\n",
      "Ordering tumour type Stomach-AdenoCA took time: 00:00:38, total utilised time: 00:20:33\n",
      "Ordering tumour type Thy-AdenoCA took time: 00:00:12, total utilised time: 00:20:46\n",
      "Ordering tumour type Uterus-AdenoCA took time: 00:00:39, total utilised time: 00:21:25\n",
      "##############################\n",
      "Chunck number: 2\n",
      "##############################\n",
      "\n",
      "Ordering tumour type Bone-Osteosarc took time: 00:00:12, total utilised time: 00:23:02\n",
      "Ordering tumour type Breast-AdenoCA took time: 00:01:07, total utilised time: 00:24:09\n",
      "Ordering tumour type CNS-GBM took time: 00:00:16, total utilised time: 00:24:26\n",
      "Ordering tumour type CNS-Medullo took time: 00:00:30, total utilised time: 00:24:56\n",
      "Ordering tumour type CNS-PiloAstro took time: 00:00:16, total utilised time: 00:25:13\n",
      "Ordering tumour type ColoRect-AdenoCA took time: 00:02:06, total utilised time: 00:27:19\n",
      "Ordering tumour type Eso-AdenoCA took time: 00:01:21, total utilised time: 00:28:40\n",
      "Ordering tumour type Head-SCC took time: 00:00:35, total utilised time: 00:29:15\n",
      "Ordering tumour type Kidney-ChRCC took time: 00:00:14, total utilised time: 00:29:30\n",
      "Ordering tumour type Kidney-RCC took time: 00:00:59, total utilised time: 00:30:29\n",
      "Ordering tumour type Liver-HCC took time: 00:02:51, total utilised time: 00:33:20\n",
      "Ordering tumour type Lung-AdenoCA took time: 00:00:39, total utilised time: 00:34:00\n",
      "Ordering tumour type Lung-SCC took time: 00:00:56, total utilised time: 00:34:56\n",
      "Ordering tumour type Lymph-BNHL took time: 00:00:53, total utilised time: 00:35:50\n",
      "Ordering tumour type Lymph-CLL took time: 00:00:29, total utilised time: 00:36:20\n",
      "Ordering tumour type Myeloid-MPN took time: 00:00:15, total utilised time: 00:36:36\n",
      "Ordering tumour type Ovary-AdenoCA took time: 00:00:50, total utilised time: 00:37:26\n",
      "Ordering tumour type Panc-AdenoCA took time: 00:01:39, total utilised time: 00:39:06\n",
      "Ordering tumour type Panc-Endocrine took time: 00:00:24, total utilised time: 00:39:31\n",
      "Ordering tumour type Prost-AdenoCA took time: 00:01:41, total utilised time: 00:41:12\n",
      "Ordering tumour type Skin-Melanoma took time: 00:03:32, total utilised time: 00:44:44\n",
      "Ordering tumour type Stomach-AdenoCA took time: 00:00:36, total utilised time: 00:45:21\n",
      "Ordering tumour type Thy-AdenoCA took time: 00:00:07, total utilised time: 00:45:29\n",
      "Ordering tumour type Uterus-AdenoCA took time: 00:00:42, total utilised time: 00:46:12\n",
      "##############################\n",
      "Chunck number: 3\n",
      "##############################\n",
      "\n",
      "Ordering tumour type Bone-Osteosarc took time: 00:00:10, total utilised time: 00:47:23\n",
      "Ordering tumour type Breast-AdenoCA took time: 00:01:22, total utilised time: 00:48:45\n",
      "Ordering tumour type CNS-GBM took time: 00:00:24, total utilised time: 00:49:10\n",
      "Ordering tumour type CNS-Medullo took time: 00:00:42, total utilised time: 00:49:52\n",
      "Ordering tumour type CNS-PiloAstro took time: 00:00:20, total utilised time: 00:50:12\n",
      "Ordering tumour type ColoRect-AdenoCA took time: 00:03:01, total utilised time: 00:53:14\n",
      "Ordering tumour type Eso-AdenoCA took time: 00:01:48, total utilised time: 00:55:02\n",
      "Ordering tumour type Head-SCC took time: 00:00:44, total utilised time: 00:55:47\n",
      "Ordering tumour type Kidney-ChRCC took time: 00:00:14, total utilised time: 00:56:02\n",
      "Ordering tumour type Kidney-RCC took time: 00:01:06, total utilised time: 00:57:09\n",
      "Ordering tumour type Liver-HCC took time: 00:03:25, total utilised time: 01:00:34\n",
      "Ordering tumour type Lung-AdenoCA took time: 00:00:48, total utilised time: 01:01:22\n",
      "Ordering tumour type Lung-SCC took time: 00:01:13, total utilised time: 01:02:36\n",
      "Ordering tumour type Lymph-BNHL took time: 00:01:03, total utilised time: 01:03:39\n",
      "Ordering tumour type Lymph-CLL took time: 00:00:33, total utilised time: 01:04:13\n",
      "Ordering tumour type Myeloid-MPN took time: 00:00:16, total utilised time: 01:04:30\n",
      "Ordering tumour type Ovary-AdenoCA took time: 00:01:05, total utilised time: 01:05:35\n",
      "Ordering tumour type Panc-AdenoCA took time: 00:02:05, total utilised time: 01:07:40\n",
      "Ordering tumour type Panc-Endocrine took time: 00:00:33, total utilised time: 01:08:14\n",
      "Ordering tumour type Prost-AdenoCA took time: 00:02:02, total utilised time: 01:10:16\n",
      "Ordering tumour type Skin-Melanoma took time: 00:06:17, total utilised time: 01:16:34\n",
      "Ordering tumour type Stomach-AdenoCA took time: 00:01:17, total utilised time: 01:17:52\n",
      "Ordering tumour type Thy-AdenoCA took time: 00:00:15, total utilised time: 01:18:07\n",
      "Ordering tumour type Uterus-AdenoCA took time: 00:01:31, total utilised time: 01:19:38\n",
      "##############################\n",
      "Chunck number: 4\n",
      "##############################\n",
      "\n",
      "Ordering tumour type Bone-Osteosarc took time: 00:00:18, total utilised time: 01:21:40\n",
      "Ordering tumour type Breast-AdenoCA took time: 00:01:52, total utilised time: 01:23:32\n",
      "Ordering tumour type CNS-GBM took time: 00:00:30, total utilised time: 01:24:03\n",
      "Ordering tumour type CNS-Medullo took time: 00:00:46, total utilised time: 01:24:50\n",
      "Ordering tumour type CNS-PiloAstro took time: 00:00:24, total utilised time: 01:25:14\n",
      "Ordering tumour type ColoRect-AdenoCA took time: 00:03:39, total utilised time: 01:28:53\n",
      "Ordering tumour type Eso-AdenoCA took time: 00:02:07, total utilised time: 01:31:01\n",
      "Ordering tumour type Head-SCC took time: 00:00:51, total utilised time: 01:31:52\n",
      "Ordering tumour type Kidney-ChRCC took time: 00:00:17, total utilised time: 01:32:09\n",
      "Ordering tumour type Kidney-RCC took time: 00:01:18, total utilised time: 01:33:28\n",
      "Ordering tumour type Liver-HCC took time: 00:02:48, total utilised time: 01:36:17\n",
      "Ordering tumour type Lung-AdenoCA took time: 00:00:41, total utilised time: 01:36:58\n",
      "Ordering tumour type Lung-SCC took time: 00:01:01, total utilised time: 01:38:00\n",
      "Ordering tumour type Lymph-BNHL took time: 00:00:48, total utilised time: 01:38:49\n",
      "Ordering tumour type Lymph-CLL took time: 00:00:20, total utilised time: 01:39:09\n",
      "Ordering tumour type Myeloid-MPN took time: 00:00:09, total utilised time: 01:39:18\n",
      "Ordering tumour type Ovary-AdenoCA took time: 00:00:44, total utilised time: 01:40:03\n",
      "Ordering tumour type Panc-AdenoCA took time: 00:01:19, total utilised time: 01:41:22\n",
      "Ordering tumour type Panc-Endocrine took time: 00:00:18, total utilised time: 01:41:41\n",
      "Ordering tumour type Prost-AdenoCA took time: 00:01:10, total utilised time: 01:42:51\n",
      "Ordering tumour type Skin-Melanoma took time: 00:05:35, total utilised time: 01:48:27\n",
      "Ordering tumour type Stomach-AdenoCA took time: 00:00:58, total utilised time: 01:49:26\n",
      "Ordering tumour type Thy-AdenoCA took time: 00:00:08, total utilised time: 01:49:34\n",
      "Ordering tumour type Uterus-AdenoCA took time: 00:01:14, total utilised time: 01:50:48\n"
     ]
    }
   ],
   "source": [
    "print('Start')\n",
    "start_total = time.time()\n",
    "for idx, order in enumerate(epipos_order):\n",
    "    print(f'##############################\\nChunck number: {idx+1}\\n##############################\\n')\n",
    "    order = order[order.loc[:,13].isin(cancers)]\n",
    "    order.loc[:,3] = order.loc[:,3].apply(lambda x: str(x[3:]))\n",
    "    for tumour_type in cancers:\n",
    "        start = time.time()\n",
    "        sample_names = [i for i in os.listdir(os.path.join('/csc/epitkane/projects/multimodal/data/temp/muat_orig', tumour_type)) if os.path.isdir(os.path.join('/csc/epitkane/projects/multimodal/data/temp/muat_orig',tumour_type, i))]\n",
    "        for sample in sample_names:\n",
    "            correct_rows = order[(order.loc[:,8]==sample) & (order.loc[:,13]==tumour_type)]\n",
    "            #print(correct_rows.shape)\n",
    "            correct_rows = correct_rows.astype(str)\n",
    "            #print(correct_rows.shape)\n",
    "            #correct_data = eipos.iloc[correct_rows, :]\n",
    "            folder = os.path.join(save_base, tumour_type, sample)\n",
    "            if not os.path.exists(folder):\n",
    "                os.makedirs(folder, exist_ok=True)\n",
    "                \n",
    "            # Filter SNV and MNV files based on the files in muat_orig folder \n",
    "            try:\n",
    "                if os.path.exists(os.path.join('/csc/epitkane/projects/multimodal/data/temp/muat_orig', tumour_type, sample, f'SNV_{sample}.tsv.gz')):\n",
    "                    SNV = pd.read_csv(os.path.join('/csc/epitkane/projects/multimodal/data/temp/muat_orig', tumour_type, sample, f'SNV_{sample}.tsv.gz'),\n",
    "                                                  compression='gzip', \n",
    "                                                  sep='\\t',\n",
    "                                                  index_col=0,\n",
    "                                                  low_memory=False)\n",
    "                    SNV = SNV.loc[:,['chrom', 'pos']]\n",
    "                    #print(SNV.columns)\n",
    "                    #sys.exit(-1)\n",
    "                    SNV = SNV.astype(str)\n",
    "                    SNV_rows = correct_rows[(correct_rows.loc[:,3].isin(SNV.loc[:,'chrom'].values.tolist())) & (correct_rows.loc[:,4].isin(SNV.loc[:,'pos']).values.tolist())]\n",
    "                    \n",
    "                    if SNV_rows.shape[0] != 0:\n",
    "                        SNV_indices = SNV_rows.index\n",
    "                        SNV_data = epipos.iloc[SNV_indices, :]\n",
    "                        \n",
    "                        #print(SNV_data.shape)\n",
    "                        file = os.path.join(folder, f'SNV_{sample}.txt.gz')\n",
    "                        order_file = os.path.join(folder, f'SNV_order_{sample}.tsv.gz')\n",
    "                        if not os.path.exists(file):\n",
    "                            np.savetxt(file, SNV_data.to_numpy())\n",
    "                            #SNV_data.to_csv(file, compression='gzip', sep='\\t', header=False, index=False)\n",
    "                            SNV_rows = SNV_rows.loc[:, [3,4]].rename(columns={3:'chrom',4:'pos'})\n",
    "                            SNV_rows.to_csv(order_file, compression='gzip', sep='\\t')\n",
    "                        else:\n",
    "                            SNV_read = np.loadtxt(file)\n",
    "                            if SNV_read.ndim == 1:\n",
    "                                SNV_read = SNV_read.reshape((1, len(SNV_read)))\n",
    "                            SNV_read = np.concatenate((SNV_read, SNV_data.to_numpy()), axis=0)\n",
    "                            np.savetxt(file, SNV_read)\n",
    "                            #SNV_read = pd.read_csv(file,\n",
    "                            #                      compression = 'gzip',\n",
    "                            #                      sep = '\\t',\n",
    "                            #                      header=None)\n",
    "                            #SNV_read = pd.concat([SNV_read, SNV_data], axis=0)\n",
    "                            #SNV_read.to_csv(file, compression='gzip', sep='\\t', header=False, index=False)\n",
    "                            \n",
    "                            SNV_read_order = pd.read_csv(order_file,\n",
    "                                                  compression = 'gzip',\n",
    "                                                  sep = '\\t',\n",
    "                                                  index_col=0)\n",
    "                            SNV_rows = SNV_rows.loc[:, [3,4]].rename(columns={3:'chrom',4:'pos'})\n",
    "                            SNV_read_order = pd.concat([SNV_read_order, SNV_rows], axis=0)\n",
    "                            SNV_read_order.to_csv(order_file, compression='gzip', sep='\\t')\n",
    "    \n",
    "                if os.path.exists(os.path.join('/csc/epitkane/projects/multimodal/data/temp/muat_orig', tumour_type, sample, f'MNV_{sample}.tsv.gz')):\n",
    "                    MNV = pd.read_csv(os.path.join('/csc/epitkane/projects/multimodal/data/temp/muat_orig', tumour_type, sample, f'MNV_{sample}.tsv.gz'),\n",
    "                                                  compression='gzip',\n",
    "                                                  sep='\\t',\n",
    "                                                  index_col=0,\n",
    "                                                  low_memory= False)\n",
    "                    MNV = MNV.loc[:, ['chrom', 'pos']]\n",
    "                    MNV = MNV.astype(str)\n",
    "                    MNV_rows = correct_rows[(correct_rows.loc[:,3].isin(MNV.loc[:,'chrom'])) & (correct_rows.loc[:,4].isin(MNV.loc[:,'pos']))]\n",
    "                    if MNV_rows.shape[0] != 0:\n",
    "                        MNV_indices = MNV_rows.index\n",
    "                        MNV_data = epipos.iloc[MNV_indices, :]\n",
    "    \n",
    "                        file = os.path.join(folder, f'MNV_{sample}.txt.gz')\n",
    "                        order_file = os.path.join(folder, f'MNV_order_{sample}.tsv.gz')\n",
    "                        if not os.path.exists(file):\n",
    "                            np.savetxt(file, MNV_data.to_numpy())\n",
    "                            #MNV_data.to_csv(file, compression='gzip', sep='\\t', header=False, index=False)\n",
    "                            MNV_rows = MNV_rows.loc[:, [3,4]].rename(columns={3:'chrom',4:'pos'})\n",
    "                            MNV_rows.to_csv(order_file, compression='gzip', sep='\\t')\n",
    "                        else:\n",
    "                            MNV_read = np.loadtxt(file)\n",
    "                            if MNV_read.ndim == 1:\n",
    "                                MNV_read = MNV_read.reshape((1, len(MNV_read)))\n",
    "                            MNV_read = np.concatenate((MNV_read, MNV_data.to_numpy()), axis=0)\n",
    "                            np.savetxt(file, MNV_read)\n",
    "                            #MNV_read = pd.read_csv(file,\n",
    "                            #                      compression = 'gzip',\n",
    "                            #                      sep = '\\t',\n",
    "                            #                      header=None)\n",
    "                            #MNV_read = pd.concat([MNV_read, MNV_data], axis=0)\n",
    "                            #MNV_read.to_csv(file, compression='gzip', sep='\\t', header=False, index=False)\n",
    "                            \n",
    "                            MNV_read_order = pd.read_csv(order_file,\n",
    "                                                  compression = 'gzip',\n",
    "                                                  sep = '\\t',\n",
    "                                                  index_col=0)\n",
    "                            MNV_rows = MNV_rows.loc[:, [3,4]].rename(columns={3:'chrom',4:'pos'})\n",
    "                            MNV_read_order = pd.concat([MNV_read_order, MNV_rows], axis=0)\n",
    "                            MNV_read_order.to_csv(order_file, compression='gzip', sep='\\t')\n",
    "            except Exception as E:\n",
    "                print(f'Something went wrong with\\n file {file}\\n order file {order_file}')\n",
    "                raise E\n",
    "        end = time.time()\n",
    "        print(f'Ordering tumour type {tumour_type} took time: {time.strftime(\"%H:%M:%S\",time.gmtime(end-start))}, total utilised time: {time.strftime(\"%H:%M:%S\",time.gmtime(end-start_total))}')"
   ]
  },
  {
   "cell_type": "markdown",
   "id": "86c60f3b-e855-4f22-9de2-da3cfc318f1b",
   "metadata": {},
   "source": [
    "## Debuggin files"
   ]
  },
  {
   "cell_type": "code",
   "execution_count": null,
   "id": "eaa0cc12-4be9-4e5b-827b-df735f657bd6",
   "metadata": {},
   "outputs": [],
   "source": [
    "df = pd.read_csv(\"/csc/epitkane/projects/multimodal/UMAP/df_train_data_PCA_motif3_UMAP_30_samples_each_file.tsv.gz\", sep='\\t', compression= 'gzip', index_col=0)"
   ]
  },
  {
   "cell_type": "code",
   "execution_count": null,
   "id": "bf10c8a3-0a47-4bd1-81cd-ae901f17062a",
   "metadata": {},
   "outputs": [],
   "source": [
    "ref_sample = df.loc[:, ['chr', 'pos', 'mut_type', 'sample']]"
   ]
  },
  {
   "cell_type": "code",
   "execution_count": null,
   "id": "5ddebf66-4939-4fcd-9028-fe536e766130",
   "metadata": {},
   "outputs": [],
   "source": [
    "ref_sample"
   ]
  },
  {
   "cell_type": "code",
   "execution_count": null,
   "id": "d5418ade-4ef2-4582-8e35-064ea7f6c0aa",
   "metadata": {},
   "outputs": [],
   "source": [
    "orig_data_file = pd.read_csv(\"/csc/epitkane/projects/multimodal/data/train_new/muat_orig/ColoRect-AdenoCA/711c8a16-3cf8-42d8-b29e-fd1e9ef1c82b/indel_711c8a16-3cf8-42d8-b29e-fd1e9ef1c82b.tsv.gz\", sep='\\t', compression='gzip', low_memory=False, index_col=0)"
   ]
  },
  {
   "cell_type": "code",
   "execution_count": null,
   "id": "9b3d3f5b-ff35-40e3-a585-004a259b1fa5",
   "metadata": {},
   "outputs": [],
   "source": [
    "orig_data_file"
   ]
  },
  {
   "cell_type": "code",
   "execution_count": null,
   "id": "ed04cc2f-c244-44cf-bdc7-f0bc968af323",
   "metadata": {},
   "outputs": [],
   "source": [
    "rows_to_choose = ref_sample[(ref_sample.loc[:, 'sample'] == \"711c8a16-3cf8-42d8-b29e-fd1e9ef1c82b\") & (ref_sample.loc[:, 'mut_type'] == 'indel')]"
   ]
  },
  {
   "cell_type": "code",
   "execution_count": null,
   "id": "7e0d73a0-52ef-4ff6-943a-c172f5aa24ca",
   "metadata": {},
   "outputs": [],
   "source": [
    "rows_to_choose.sort_values(by=['chr', 'pos'])"
   ]
  },
  {
   "cell_type": "code",
   "execution_count": null,
   "id": "da37909b-9e4f-4374-9787-d7856fc34587",
   "metadata": {},
   "outputs": [],
   "source": [
    "orig_data_file = orig_data_file[(orig_data_file.loc[:, 'chrom'].astype(str).isin(rows_to_choose.loc[:,'chr'].astype(str).values.tolist())) & (orig_data_file.loc[:, 'pos'].astype(str).isin(rows_to_choose.loc[:,'pos'].astype(str).values.tolist()))]"
   ]
  },
  {
   "cell_type": "code",
   "execution_count": null,
   "id": "22b5af04-cfc2-4f18-8319-264b3469bdbe",
   "metadata": {},
   "outputs": [],
   "source": [
    "orig_data_file.sort_values(by=['chrom', 'pos'])"
   ]
  },
  {
   "cell_type": "code",
   "execution_count": null,
   "id": "1c17c8f1-37f7-4540-85e5-b4aae2703265",
   "metadata": {},
   "outputs": [],
   "source": [
    "miu = rows_to_choose.sort_values(by=['chr', 'pos'], ignore_index=True).loc[:, ['chr', 'pos']]"
   ]
  },
  {
   "cell_type": "code",
   "execution_count": null,
   "id": "55757d30-050d-4204-888c-b2612ad475e4",
   "metadata": {},
   "outputs": [],
   "source": [
    "mau = orig_data_file.sort_values(by=['chrom', 'pos'], ignore_index=True).loc[:, ['chrom', 'pos']].rename(columns= {'chrom':'chr', 'pos':'pos'})"
   ]
  },
  {
   "cell_type": "code",
   "execution_count": null,
   "id": "28ed8740-fb6a-4516-9f29-4f28ffb56b35",
   "metadata": {},
   "outputs": [],
   "source": [
    "miu.compare(mau)"
   ]
  },
  {
   "cell_type": "code",
   "execution_count": null,
   "id": "f10835fb-8c1a-495d-b6e5-50763ea0fe9e",
   "metadata": {},
   "outputs": [],
   "source": [
    "miu"
   ]
  },
  {
   "cell_type": "code",
   "execution_count": null,
   "id": "8824213a-d67a-4184-8ef3-da353517dfd8",
   "metadata": {},
   "outputs": [],
   "source": [
    "mau"
   ]
  },
  {
   "cell_type": "code",
   "execution_count": 2,
   "id": "aa176b1f-1876-4349-833b-6279e4190200",
   "metadata": {},
   "outputs": [
    {
     "name": "stderr",
     "output_type": "stream",
     "text": [
      "/tmp/ipykernel_50627/1186267286.py:1: DtypeWarning: Columns (1) have mixed types. Specify dtype option on import or set low_memory=False.\n",
      "  a = pd.read_csv(\"/csc/epitkane/projects/multimodal/data/temp/DNABERT_motif1001/ColoRect-AdenoCA/0980e7fd-051d-45e9-9ca6-2baf073da4e8/SNV_0980e7fd-051d-45e9-9ca6-2baf073da4e8.tsv.gz\",\n"
     ]
    }
   ],
   "source": [
    "a = pd.read_csv(\"/csc/epitkane/projects/multimodal/data/temp/DNABERT_motif1001/ColoRect-AdenoCA/0980e7fd-051d-45e9-9ca6-2baf073da4e8/SNV_0980e7fd-051d-45e9-9ca6-2baf073da4e8.tsv.gz\",\n",
    "           sep='\\t',\n",
    "           compression='gzip')"
   ]
  },
  {
   "cell_type": "code",
   "execution_count": 3,
   "id": "07b251af-964f-45e7-897f-408e2ab6772d",
   "metadata": {},
   "outputs": [
    {
     "data": {
      "text/plain": [
       "(835817, 13)"
      ]
     },
     "execution_count": 3,
     "metadata": {},
     "output_type": "execute_result"
    }
   ],
   "source": [
    "a.shape"
   ]
  },
  {
   "cell_type": "code",
   "execution_count": 8,
   "id": "2db4015e-de92-4c04-93e0-94ad60c22213",
   "metadata": {},
   "outputs": [],
   "source": [
    "b= a.iloc[22000:23000,:]"
   ]
  },
  {
   "cell_type": "code",
   "execution_count": 23,
   "id": "7988d735-9e81-43d4-9e93-b49027e39503",
   "metadata": {},
   "outputs": [],
   "source": [
    "m = a.loc[:, 'ref_seq'].tolist()"
   ]
  },
  {
   "cell_type": "code",
   "execution_count": 24,
   "id": "2600e7f8-148a-401f-af2b-f09a0a292470",
   "metadata": {},
   "outputs": [
    {
     "name": "stdout",
     "output_type": "stream",
     "text": [
      "ATATTATTCAACGCAAAAAGAAATGAGCTATCAAGGCATGAAAAAATATGGGGGAACTTTAAATGCATAAATGAGTGAAAGAAGCCAGTCTGAAAAGGCTACACCCCGTGTGCTTCCAACTACAGGACATCCTGGAAAAAGCAGAATTACCAACACAGTGAAAGATAAGGCCTGGTGGTGTGGGGAAGGATGAACAGGTGGAGCACAGGGATCTTTAAGGCAGACAATCTACTCTGTGTGATACTGCAATGATGAGTTCATGCCACTATATATTTTCCCAAACCTATAGAATGTACAGCACCAGTGGTGAGCCCTGATGTGAGCTGTGGACTCTGGGTGACAATAGTGTGTCAATGGAGGTTCATGGACTGTAACAAATGCATCACTCTGGTGGGGGATGTTGATAATGGGGGAGGCTATGCATGTGGGGAGGTGGGTACATGGGAAATCTCTGTACTTTCTGCTCAGCTTTGCTCTGAATCTAAAACTGCTCTAAAAATCGTTTATTTAAAAATACACCAAAGCAATGAGGCCGGGCATGCATACAGCCAAAGCCAAATGATATTTGTGTGAGTCAGGTAAATTTGAGATCTGAAAAATGATCACTCCAGGGAGGCTGAGCTGTCATGGGGCACTTATTGAGAACCTACTTTATGCCCATCTGGTGCTTAGAATTACGAATTAGCTATTATTATTACTAAACAATTCAAAACAAAGTCACTTATCTCAGGGCGCTTTCAATCTTGTTGCCATCGAAGCTAACAAAAGTGGAAACAGAACAAAGCTACATACGGCACATTTCCCAGAACATGCCAGGTGGAGCCTGGCCCTGTTGATTGTGTGTGGCTGTCACTTGCAGGAGGGTTCCATGGACAAGTGAGTTTGGGAAATGCTGGGTTGGGCAAATATCAACAGGCTTCCTTACTGCAAGATTTCTCATAGTCAAAACATACTTTAAATCTCCAAGAGGATGATACAGAGAGCCATGTTTCCCATAATTA\n"
     ]
    }
   ],
   "source": [
    "print(m[0])"
   ]
  },
  {
   "cell_type": "code",
   "execution_count": 25,
   "id": "a61140d2-601c-433a-a40e-1ce0c3e70f91",
   "metadata": {},
   "outputs": [],
   "source": [
    "l = 0\n",
    "for i in m:\n",
    "    if l < len(i):\n",
    "        l = len(i)"
   ]
  },
  {
   "cell_type": "code",
   "execution_count": 26,
   "id": "90cd2a2e-83b4-4e24-bcfa-e5e62e801d44",
   "metadata": {},
   "outputs": [
    {
     "data": {
      "text/plain": [
       "1001"
      ]
     },
     "execution_count": 26,
     "metadata": {},
     "output_type": "execute_result"
    }
   ],
   "source": [
    "l"
   ]
  }
 ],
 "metadata": {
  "kernelspec": {
   "display_name": "Python 3 (ipykernel)",
   "language": "python",
   "name": "python3"
  },
  "language_info": {
   "codemirror_mode": {
    "name": "ipython",
    "version": 3
   },
   "file_extension": ".py",
   "mimetype": "text/x-python",
   "name": "python",
   "nbconvert_exporter": "python",
   "pygments_lexer": "ipython3",
   "version": "3.8.19"
  }
 },
 "nbformat": 4,
 "nbformat_minor": 5
}
