{
 "cells": [
  {
   "cell_type": "code",
   "execution_count": 1,
   "id": "09730676-b633-4369-9da7-63159c0af5f6",
   "metadata": {},
   "outputs": [],
   "source": [
    "import sys\n",
    "import os\n",
    "import pandas as pd \n",
    "import numpy as np\n",
    "from tqdm.notebook import tqdm \n",
    "\n",
    "sys.path.insert(0, '/csc/epitkane/projects/multimodal/src/')\n",
    "from utils import list_files_in_dir"
   ]
  },
  {
   "cell_type": "code",
   "execution_count": 3,
   "id": "8b75ec4b-5ecc-4d04-9ca5-ee7a010a38b3",
   "metadata": {},
   "outputs": [],
   "source": [
    "paths = []\n",
    "paths = list_files_in_dir('/csc/epitkane/projects/multimodal/data/train_new/muat_orig_epipos', paths)\n",
    "#paths = list_files_in_dir('/csc/epitkane/projects/multimodal/train/motif3', paths)\n",
    "paths.sort()"
   ]
  },
  {
   "cell_type": "code",
   "execution_count": 4,
   "id": "0cde720d-93e3-4646-be0c-eca164810eb1",
   "metadata": {},
   "outputs": [],
   "source": [
    "counts = [i for i in paths if i.split('/')[-1][:5] == 'count' ]"
   ]
  },
  {
   "cell_type": "code",
   "execution_count": 5,
   "id": "c268706c-fa2d-40bc-8a6c-dca95faa5b8a",
   "metadata": {},
   "outputs": [
    {
     "data": {
      "text/plain": [
       "'/csc/epitkane/projects/multimodal/data/train_new/muat_orig_epipos/Bone-Osteosarc/f221c897-6ad0-0df9-e040-11ac0c4813ef/count_f221c897-6ad0-0df9-e040-11ac0c4813ef.tsv.gz'"
      ]
     },
     "execution_count": 5,
     "metadata": {},
     "output_type": "execute_result"
    }
   ],
   "source": [
    "counts[0]"
   ]
  },
  {
   "cell_type": "code",
   "execution_count": 15,
   "id": "ef7bfbcf-34c4-4457-af24-16ef87bb1dc5",
   "metadata": {},
   "outputs": [
    {
     "data": {
      "application/vnd.jupyter.widget-view+json": {
       "model_id": "64c2b83ad60f4329ac7dd5680b84de14",
       "version_major": 2,
       "version_minor": 0
      },
      "text/plain": [
       "  0%|          | 0/2587 [00:00<?, ?it/s]"
      ]
     },
     "metadata": {},
     "output_type": "display_data"
    }
   ],
   "source": [
    "SNV = 0\n",
    "indel = 0 \n",
    "MNV = 0\n",
    "for path in tqdm(counts):\n",
    "    data = pd.read_csv(path, compression='gzip', sep = '\\t', index_col=0)\n",
    "    SNV += data.iloc[0,0]\n",
    "    indel += data.iloc[0,2]\n",
    "    MNV += data.iloc[0,1]\n",
    "    if data.loc[0,'SNV'] ==0 and data.loc[0,'indel']==0 and data.loc[0,'MNV']==0:\n",
    "        print(data)\n",
    "        print(path)\n",
    "        SNV_file = pd.read_csv(os.path.join('/'.join(path.split('/')[:-1]), 'SNV_'+ path.split('/')[-1].split('_')[1]), compression='gzip', sep='\\t', low_memory=False)\n",
    "        indel_file = pd.read_csv(os.path.join('/'.join(path.split('/')[:-1]), 'indel_'+ path.split('/')[-1].split('_')[1]), compression='gzip', sep='\\t', low_memory=False)\n",
    "        MNV_file = pd.read_csv(os.path.join('/'.join(path.split('/')[:-1]), 'MNV_'+ path.split('/')[-1].split('_')[1]), compression='gzip', sep='\\t', low_memory=False)\n",
    "        data.loc[0,'SNV'] = len(SNV_file)\n",
    "        data.loc[0,'indel'] = len(indel_file)\n",
    "        data.loc[0,'MNV'] = len(MNV_file)\n",
    "        data.to_csv(path, compression='gzip', sep='\\t')"
   ]
  },
  {
   "cell_type": "code",
   "execution_count": 16,
   "id": "f7a34140-ef84-47eb-9371-09bed1ca9880",
   "metadata": {},
   "outputs": [
    {
     "name": "stdout",
     "output_type": "stream",
     "text": [
      "SNV:\t41126011\n",
      "MNV:\t806986\n",
      "indel:\t3653253\n"
     ]
    }
   ],
   "source": [
    "print(f'SNV:\\t{SNV}\\nMNV:\\t{MNV}\\nindel:\\t{indel}')"
   ]
  },
  {
   "cell_type": "markdown",
   "id": "3535e357-d36b-4c6c-b710-f4476ec55026",
   "metadata": {},
   "source": [
    "### amounts for train/DNABERT_motif201"
   ]
  },
  {
   "cell_type": "code",
   "execution_count": 7,
   "id": "fb2e3619-cd40-4ec2-9986-55d8714b4c07",
   "metadata": {},
   "outputs": [
    {
     "name": "stdout",
     "output_type": "stream",
     "text": [
      "SNV:\t41089087\n",
      "MNV:\t805638\n",
      "indel:\t3650493\n"
     ]
    }
   ],
   "source": [
    "print(f'SNV:\\t{SNV}\\nMNV:\\t{MNV}\\nindel:\\t{indel}')"
   ]
  },
  {
   "cell_type": "markdown",
   "id": "b76fe357-4420-4e42-8716-3cc1461e9c28",
   "metadata": {},
   "source": [
    "### Count the cases and mutations in the train and validation file "
   ]
  },
  {
   "cell_type": "code",
   "execution_count": 3,
   "id": "9d79909d-c99a-4ba6-a9eb-8dcaeecd25bd",
   "metadata": {},
   "outputs": [],
   "source": [
    "train_cases = pd.read_csv(\"/csc/epitkane/projects/multimodal/extfiles/fullpcawg_train_checkpoint_11100_wpos_TripletPosition_bs5000_nl1_nh2_ne512_cl3.csv\")\n",
    "valid_cases = pd.read_csv(\"/csc/epitkane/projects/multimodal/extfiles/fullpcawg_val_checkpoint_11100_wpos_TripletPosition_bs5000_nl1_nh2_ne512_cl3.csv\")"
   ]
  },
  {
   "cell_type": "code",
   "execution_count": 8,
   "id": "f2d977de-0902-48d0-b445-1bd053c7f4ec",
   "metadata": {},
   "outputs": [],
   "source": [
    "train_1 = train_cases[train_cases.loc[:, 'fold'] == 1]\n",
    "valid_1 = valid_cases[valid_cases.loc[:, 'fold'] == 1]"
   ]
  },
  {
   "cell_type": "code",
   "execution_count": 9,
   "id": "e6191e84-5ea9-465d-8013-0409a7ac1429",
   "metadata": {},
   "outputs": [],
   "source": [
    "data = pd.concat([train_1, valid_1])"
   ]
  },
  {
   "cell_type": "code",
   "execution_count": 10,
   "id": "fecab4aa-ac77-4619-ba2a-ce37bbb8faa7",
   "metadata": {},
   "outputs": [
    {
     "data": {
      "text/html": [
       "<div>\n",
       "<style scoped>\n",
       "    .dataframe tbody tr th:only-of-type {\n",
       "        vertical-align: middle;\n",
       "    }\n",
       "\n",
       "    .dataframe tbody tr th {\n",
       "        vertical-align: top;\n",
       "    }\n",
       "\n",
       "    .dataframe thead th {\n",
       "        text-align: right;\n",
       "    }\n",
       "</style>\n",
       "<table border=\"1\" class=\"dataframe\">\n",
       "  <thead>\n",
       "    <tr style=\"text-align: right;\">\n",
       "      <th></th>\n",
       "      <th>Unnamed: 0</th>\n",
       "      <th>samples</th>\n",
       "      <th>nm_class</th>\n",
       "      <th>slices</th>\n",
       "      <th>fold</th>\n",
       "    </tr>\n",
       "  </thead>\n",
       "  <tbody>\n",
       "    <tr>\n",
       "      <th>0</th>\n",
       "      <td>0</td>\n",
       "      <td>f82d213f-9843-28eb-e040-11ac0d483e48.csv</td>\n",
       "      <td>Bone-Osteosarc</td>\n",
       "      <td>2</td>\n",
       "      <td>1</td>\n",
       "    </tr>\n",
       "    <tr>\n",
       "      <th>1</th>\n",
       "      <td>1</td>\n",
       "      <td>f854ae3f-356d-f0ad-e040-11ac0c485dae.csv</td>\n",
       "      <td>Bone-Osteosarc</td>\n",
       "      <td>9</td>\n",
       "      <td>1</td>\n",
       "    </tr>\n",
       "    <tr>\n",
       "      <th>2</th>\n",
       "      <td>0</td>\n",
       "      <td>f82d213f-caa7-fd59-e040-11ac0d483e46.csv</td>\n",
       "      <td>Bone-Osteosarc</td>\n",
       "      <td>6</td>\n",
       "      <td>1</td>\n",
       "    </tr>\n",
       "    <tr>\n",
       "      <th>3</th>\n",
       "      <td>0</td>\n",
       "      <td>f83f1eb8-b2c8-c3d6-e040-11ac0c48261e.csv</td>\n",
       "      <td>Bone-Osteosarc</td>\n",
       "      <td>9</td>\n",
       "      <td>1</td>\n",
       "    </tr>\n",
       "    <tr>\n",
       "      <th>4</th>\n",
       "      <td>3</td>\n",
       "      <td>f8809cee-8f81-28f8-e040-11ac0d4873bf.csv</td>\n",
       "      <td>Bone-Osteosarc</td>\n",
       "      <td>8</td>\n",
       "      <td>1</td>\n",
       "    </tr>\n",
       "    <tr>\n",
       "      <th>...</th>\n",
       "      <td>...</td>\n",
       "      <td>...</td>\n",
       "      <td>...</td>\n",
       "      <td>...</td>\n",
       "      <td>...</td>\n",
       "    </tr>\n",
       "    <tr>\n",
       "      <th>254</th>\n",
       "      <td>254</td>\n",
       "      <td>15d597de-d26c-4ce1-b0cb-077e39b55f30.csv</td>\n",
       "      <td>Uterus-AdenoCA</td>\n",
       "      <td>1</td>\n",
       "      <td>1</td>\n",
       "    </tr>\n",
       "    <tr>\n",
       "      <th>255</th>\n",
       "      <td>255</td>\n",
       "      <td>55ada396-0878-4724-8ebe-00da367eed3d.csv</td>\n",
       "      <td>Uterus-AdenoCA</td>\n",
       "      <td>1</td>\n",
       "      <td>1</td>\n",
       "    </tr>\n",
       "    <tr>\n",
       "      <th>256</th>\n",
       "      <td>256</td>\n",
       "      <td>8dd14f0e-8601-4aa1-864c-3c49e768cdd1.csv</td>\n",
       "      <td>Uterus-AdenoCA</td>\n",
       "      <td>1</td>\n",
       "      <td>1</td>\n",
       "    </tr>\n",
       "    <tr>\n",
       "      <th>257</th>\n",
       "      <td>257</td>\n",
       "      <td>b0a83df8-dd2c-4c1b-b238-9081d2c22258.csv</td>\n",
       "      <td>Uterus-AdenoCA</td>\n",
       "      <td>1</td>\n",
       "      <td>1</td>\n",
       "    </tr>\n",
       "    <tr>\n",
       "      <th>258</th>\n",
       "      <td>258</td>\n",
       "      <td>ea6efcd1-11de-45f0-8bde-f1c06ad27e79.csv</td>\n",
       "      <td>Uterus-AdenoCA</td>\n",
       "      <td>1</td>\n",
       "      <td>1</td>\n",
       "    </tr>\n",
       "  </tbody>\n",
       "</table>\n",
       "<p>2587 rows × 5 columns</p>\n",
       "</div>"
      ],
      "text/plain": [
       "     Unnamed: 0                                   samples        nm_class  \\\n",
       "0             0  f82d213f-9843-28eb-e040-11ac0d483e48.csv  Bone-Osteosarc   \n",
       "1             1  f854ae3f-356d-f0ad-e040-11ac0c485dae.csv  Bone-Osteosarc   \n",
       "2             0  f82d213f-caa7-fd59-e040-11ac0d483e46.csv  Bone-Osteosarc   \n",
       "3             0  f83f1eb8-b2c8-c3d6-e040-11ac0c48261e.csv  Bone-Osteosarc   \n",
       "4             3  f8809cee-8f81-28f8-e040-11ac0d4873bf.csv  Bone-Osteosarc   \n",
       "..          ...                                       ...             ...   \n",
       "254         254  15d597de-d26c-4ce1-b0cb-077e39b55f30.csv  Uterus-AdenoCA   \n",
       "255         255  55ada396-0878-4724-8ebe-00da367eed3d.csv  Uterus-AdenoCA   \n",
       "256         256  8dd14f0e-8601-4aa1-864c-3c49e768cdd1.csv  Uterus-AdenoCA   \n",
       "257         257  b0a83df8-dd2c-4c1b-b238-9081d2c22258.csv  Uterus-AdenoCA   \n",
       "258         258  ea6efcd1-11de-45f0-8bde-f1c06ad27e79.csv  Uterus-AdenoCA   \n",
       "\n",
       "     slices  fold  \n",
       "0         2     1  \n",
       "1         9     1  \n",
       "2         6     1  \n",
       "3         9     1  \n",
       "4         8     1  \n",
       "..      ...   ...  \n",
       "254       1     1  \n",
       "255       1     1  \n",
       "256       1     1  \n",
       "257       1     1  \n",
       "258       1     1  \n",
       "\n",
       "[2587 rows x 5 columns]"
      ]
     },
     "execution_count": 10,
     "metadata": {},
     "output_type": "execute_result"
    }
   ],
   "source": [
    "data"
   ]
  },
  {
   "cell_type": "code",
   "execution_count": 32,
   "id": "f62c2e96-c450-4795-ac8d-fddb6d9adea3",
   "metadata": {},
   "outputs": [
    {
     "ename": "KeyError",
     "evalue": "'nm_class'",
     "output_type": "error",
     "traceback": [
      "\u001b[0;31m---------------------------------------------------------------------------\u001b[0m",
      "\u001b[0;31mKeyError\u001b[0m                                  Traceback (most recent call last)",
      "File \u001b[0;32m~/.conda/envs/dna/lib/python3.8/site-packages/pandas/core/indexes/base.py:3653\u001b[0m, in \u001b[0;36mIndex.get_loc\u001b[0;34m(self, key)\u001b[0m\n\u001b[1;32m   3652\u001b[0m \u001b[38;5;28;01mtry\u001b[39;00m:\n\u001b[0;32m-> 3653\u001b[0m     \u001b[38;5;28;01mreturn\u001b[39;00m \u001b[38;5;28;43mself\u001b[39;49m\u001b[38;5;241;43m.\u001b[39;49m\u001b[43m_engine\u001b[49m\u001b[38;5;241;43m.\u001b[39;49m\u001b[43mget_loc\u001b[49m\u001b[43m(\u001b[49m\u001b[43mcasted_key\u001b[49m\u001b[43m)\u001b[49m\n\u001b[1;32m   3654\u001b[0m \u001b[38;5;28;01mexcept\u001b[39;00m \u001b[38;5;167;01mKeyError\u001b[39;00m \u001b[38;5;28;01mas\u001b[39;00m err:\n",
      "File \u001b[0;32m~/.conda/envs/dna/lib/python3.8/site-packages/pandas/_libs/index.pyx:147\u001b[0m, in \u001b[0;36mpandas._libs.index.IndexEngine.get_loc\u001b[0;34m()\u001b[0m\n",
      "File \u001b[0;32m~/.conda/envs/dna/lib/python3.8/site-packages/pandas/_libs/index.pyx:176\u001b[0m, in \u001b[0;36mpandas._libs.index.IndexEngine.get_loc\u001b[0;34m()\u001b[0m\n",
      "File \u001b[0;32mpandas/_libs/hashtable_class_helper.pxi:7080\u001b[0m, in \u001b[0;36mpandas._libs.hashtable.PyObjectHashTable.get_item\u001b[0;34m()\u001b[0m\n",
      "File \u001b[0;32mpandas/_libs/hashtable_class_helper.pxi:7088\u001b[0m, in \u001b[0;36mpandas._libs.hashtable.PyObjectHashTable.get_item\u001b[0;34m()\u001b[0m\n",
      "\u001b[0;31mKeyError\u001b[0m: 'nm_class'",
      "\nThe above exception was the direct cause of the following exception:\n",
      "\u001b[0;31mKeyError\u001b[0m                                  Traceback (most recent call last)",
      "Cell \u001b[0;32mIn[32], line 2\u001b[0m\n\u001b[1;32m      1\u001b[0m count_types \u001b[38;5;241m=\u001b[39m {}\n\u001b[0;32m----> 2\u001b[0m \u001b[38;5;28;01mfor\u001b[39;00m case \u001b[38;5;129;01min\u001b[39;00m tqdm(\u001b[43mdata\u001b[49m\u001b[38;5;241;43m.\u001b[39;49m\u001b[43mloc\u001b[49m\u001b[43m[\u001b[49m\u001b[43m:\u001b[49m\u001b[43m,\u001b[49m\u001b[38;5;124;43m'\u001b[39;49m\u001b[38;5;124;43mnm_class\u001b[39;49m\u001b[38;5;124;43m'\u001b[39;49m\u001b[43m \u001b[49m\u001b[43m]\u001b[49m\u001b[38;5;241m.\u001b[39mvalues):\n\u001b[1;32m      3\u001b[0m     \u001b[38;5;28;01mif\u001b[39;00m case \u001b[38;5;129;01mnot\u001b[39;00m \u001b[38;5;129;01min\u001b[39;00m count_types\u001b[38;5;241m.\u001b[39mkeys():\n\u001b[1;32m      4\u001b[0m         count_types[case] \u001b[38;5;241m=\u001b[39m [\u001b[38;5;241m1\u001b[39m]\n",
      "File \u001b[0;32m~/.conda/envs/dna/lib/python3.8/site-packages/pandas/core/indexing.py:1097\u001b[0m, in \u001b[0;36m_LocationIndexer.__getitem__\u001b[0;34m(self, key)\u001b[0m\n\u001b[1;32m   1095\u001b[0m     \u001b[38;5;28;01mif\u001b[39;00m \u001b[38;5;28mself\u001b[39m\u001b[38;5;241m.\u001b[39m_is_scalar_access(key):\n\u001b[1;32m   1096\u001b[0m         \u001b[38;5;28;01mreturn\u001b[39;00m \u001b[38;5;28mself\u001b[39m\u001b[38;5;241m.\u001b[39mobj\u001b[38;5;241m.\u001b[39m_get_value(\u001b[38;5;241m*\u001b[39mkey, takeable\u001b[38;5;241m=\u001b[39m\u001b[38;5;28mself\u001b[39m\u001b[38;5;241m.\u001b[39m_takeable)\n\u001b[0;32m-> 1097\u001b[0m     \u001b[38;5;28;01mreturn\u001b[39;00m \u001b[38;5;28;43mself\u001b[39;49m\u001b[38;5;241;43m.\u001b[39;49m\u001b[43m_getitem_tuple\u001b[49m\u001b[43m(\u001b[49m\u001b[43mkey\u001b[49m\u001b[43m)\u001b[49m\n\u001b[1;32m   1098\u001b[0m \u001b[38;5;28;01melse\u001b[39;00m:\n\u001b[1;32m   1099\u001b[0m     \u001b[38;5;66;03m# we by definition only have the 0th axis\u001b[39;00m\n\u001b[1;32m   1100\u001b[0m     axis \u001b[38;5;241m=\u001b[39m \u001b[38;5;28mself\u001b[39m\u001b[38;5;241m.\u001b[39maxis \u001b[38;5;129;01mor\u001b[39;00m \u001b[38;5;241m0\u001b[39m\n",
      "File \u001b[0;32m~/.conda/envs/dna/lib/python3.8/site-packages/pandas/core/indexing.py:1280\u001b[0m, in \u001b[0;36m_LocIndexer._getitem_tuple\u001b[0;34m(self, tup)\u001b[0m\n\u001b[1;32m   1278\u001b[0m \u001b[38;5;28;01mwith\u001b[39;00m suppress(IndexingError):\n\u001b[1;32m   1279\u001b[0m     tup \u001b[38;5;241m=\u001b[39m \u001b[38;5;28mself\u001b[39m\u001b[38;5;241m.\u001b[39m_expand_ellipsis(tup)\n\u001b[0;32m-> 1280\u001b[0m     \u001b[38;5;28;01mreturn\u001b[39;00m \u001b[38;5;28;43mself\u001b[39;49m\u001b[38;5;241;43m.\u001b[39;49m\u001b[43m_getitem_lowerdim\u001b[49m\u001b[43m(\u001b[49m\u001b[43mtup\u001b[49m\u001b[43m)\u001b[49m\n\u001b[1;32m   1282\u001b[0m \u001b[38;5;66;03m# no multi-index, so validate all of the indexers\u001b[39;00m\n\u001b[1;32m   1283\u001b[0m tup \u001b[38;5;241m=\u001b[39m \u001b[38;5;28mself\u001b[39m\u001b[38;5;241m.\u001b[39m_validate_tuple_indexer(tup)\n",
      "File \u001b[0;32m~/.conda/envs/dna/lib/python3.8/site-packages/pandas/core/indexing.py:1000\u001b[0m, in \u001b[0;36m_LocationIndexer._getitem_lowerdim\u001b[0;34m(self, tup)\u001b[0m\n\u001b[1;32m    996\u001b[0m \u001b[38;5;28;01mfor\u001b[39;00m i, key \u001b[38;5;129;01min\u001b[39;00m \u001b[38;5;28menumerate\u001b[39m(tup):\n\u001b[1;32m    997\u001b[0m     \u001b[38;5;28;01mif\u001b[39;00m is_label_like(key):\n\u001b[1;32m    998\u001b[0m         \u001b[38;5;66;03m# We don't need to check for tuples here because those are\u001b[39;00m\n\u001b[1;32m    999\u001b[0m         \u001b[38;5;66;03m#  caught by the _is_nested_tuple_indexer check above.\u001b[39;00m\n\u001b[0;32m-> 1000\u001b[0m         section \u001b[38;5;241m=\u001b[39m \u001b[38;5;28;43mself\u001b[39;49m\u001b[38;5;241;43m.\u001b[39;49m\u001b[43m_getitem_axis\u001b[49m\u001b[43m(\u001b[49m\u001b[43mkey\u001b[49m\u001b[43m,\u001b[49m\u001b[43m \u001b[49m\u001b[43maxis\u001b[49m\u001b[38;5;241;43m=\u001b[39;49m\u001b[43mi\u001b[49m\u001b[43m)\u001b[49m\n\u001b[1;32m   1002\u001b[0m         \u001b[38;5;66;03m# We should never have a scalar section here, because\u001b[39;00m\n\u001b[1;32m   1003\u001b[0m         \u001b[38;5;66;03m#  _getitem_lowerdim is only called after a check for\u001b[39;00m\n\u001b[1;32m   1004\u001b[0m         \u001b[38;5;66;03m#  is_scalar_access, which that would be.\u001b[39;00m\n\u001b[1;32m   1005\u001b[0m         \u001b[38;5;28;01mif\u001b[39;00m section\u001b[38;5;241m.\u001b[39mndim \u001b[38;5;241m==\u001b[39m \u001b[38;5;28mself\u001b[39m\u001b[38;5;241m.\u001b[39mndim:\n\u001b[1;32m   1006\u001b[0m             \u001b[38;5;66;03m# we're in the middle of slicing through a MultiIndex\u001b[39;00m\n\u001b[1;32m   1007\u001b[0m             \u001b[38;5;66;03m# revise the key wrt to `section` by inserting an _NS\u001b[39;00m\n",
      "File \u001b[0;32m~/.conda/envs/dna/lib/python3.8/site-packages/pandas/core/indexing.py:1343\u001b[0m, in \u001b[0;36m_LocIndexer._getitem_axis\u001b[0;34m(self, key, axis)\u001b[0m\n\u001b[1;32m   1341\u001b[0m \u001b[38;5;66;03m# fall thru to straight lookup\u001b[39;00m\n\u001b[1;32m   1342\u001b[0m \u001b[38;5;28mself\u001b[39m\u001b[38;5;241m.\u001b[39m_validate_key(key, axis)\n\u001b[0;32m-> 1343\u001b[0m \u001b[38;5;28;01mreturn\u001b[39;00m \u001b[38;5;28;43mself\u001b[39;49m\u001b[38;5;241;43m.\u001b[39;49m\u001b[43m_get_label\u001b[49m\u001b[43m(\u001b[49m\u001b[43mkey\u001b[49m\u001b[43m,\u001b[49m\u001b[43m \u001b[49m\u001b[43maxis\u001b[49m\u001b[38;5;241;43m=\u001b[39;49m\u001b[43maxis\u001b[49m\u001b[43m)\u001b[49m\n",
      "File \u001b[0;32m~/.conda/envs/dna/lib/python3.8/site-packages/pandas/core/indexing.py:1293\u001b[0m, in \u001b[0;36m_LocIndexer._get_label\u001b[0;34m(self, label, axis)\u001b[0m\n\u001b[1;32m   1291\u001b[0m \u001b[38;5;28;01mdef\u001b[39;00m \u001b[38;5;21m_get_label\u001b[39m(\u001b[38;5;28mself\u001b[39m, label, axis: AxisInt):\n\u001b[1;32m   1292\u001b[0m     \u001b[38;5;66;03m# GH#5567 this will fail if the label is not present in the axis.\u001b[39;00m\n\u001b[0;32m-> 1293\u001b[0m     \u001b[38;5;28;01mreturn\u001b[39;00m \u001b[38;5;28;43mself\u001b[39;49m\u001b[38;5;241;43m.\u001b[39;49m\u001b[43mobj\u001b[49m\u001b[38;5;241;43m.\u001b[39;49m\u001b[43mxs\u001b[49m\u001b[43m(\u001b[49m\u001b[43mlabel\u001b[49m\u001b[43m,\u001b[49m\u001b[43m \u001b[49m\u001b[43maxis\u001b[49m\u001b[38;5;241;43m=\u001b[39;49m\u001b[43maxis\u001b[49m\u001b[43m)\u001b[49m\n",
      "File \u001b[0;32m~/.conda/envs/dna/lib/python3.8/site-packages/pandas/core/generic.py:4082\u001b[0m, in \u001b[0;36mNDFrame.xs\u001b[0;34m(self, key, axis, level, drop_level)\u001b[0m\n\u001b[1;32m   4080\u001b[0m \u001b[38;5;28;01mif\u001b[39;00m axis \u001b[38;5;241m==\u001b[39m \u001b[38;5;241m1\u001b[39m:\n\u001b[1;32m   4081\u001b[0m     \u001b[38;5;28;01mif\u001b[39;00m drop_level:\n\u001b[0;32m-> 4082\u001b[0m         \u001b[38;5;28;01mreturn\u001b[39;00m \u001b[38;5;28;43mself\u001b[39;49m\u001b[43m[\u001b[49m\u001b[43mkey\u001b[49m\u001b[43m]\u001b[49m\n\u001b[1;32m   4083\u001b[0m     index \u001b[38;5;241m=\u001b[39m \u001b[38;5;28mself\u001b[39m\u001b[38;5;241m.\u001b[39mcolumns\n\u001b[1;32m   4084\u001b[0m \u001b[38;5;28;01melse\u001b[39;00m:\n",
      "File \u001b[0;32m~/.conda/envs/dna/lib/python3.8/site-packages/pandas/core/frame.py:3761\u001b[0m, in \u001b[0;36mDataFrame.__getitem__\u001b[0;34m(self, key)\u001b[0m\n\u001b[1;32m   3759\u001b[0m \u001b[38;5;28;01mif\u001b[39;00m \u001b[38;5;28mself\u001b[39m\u001b[38;5;241m.\u001b[39mcolumns\u001b[38;5;241m.\u001b[39mnlevels \u001b[38;5;241m>\u001b[39m \u001b[38;5;241m1\u001b[39m:\n\u001b[1;32m   3760\u001b[0m     \u001b[38;5;28;01mreturn\u001b[39;00m \u001b[38;5;28mself\u001b[39m\u001b[38;5;241m.\u001b[39m_getitem_multilevel(key)\n\u001b[0;32m-> 3761\u001b[0m indexer \u001b[38;5;241m=\u001b[39m \u001b[38;5;28;43mself\u001b[39;49m\u001b[38;5;241;43m.\u001b[39;49m\u001b[43mcolumns\u001b[49m\u001b[38;5;241;43m.\u001b[39;49m\u001b[43mget_loc\u001b[49m\u001b[43m(\u001b[49m\u001b[43mkey\u001b[49m\u001b[43m)\u001b[49m\n\u001b[1;32m   3762\u001b[0m \u001b[38;5;28;01mif\u001b[39;00m is_integer(indexer):\n\u001b[1;32m   3763\u001b[0m     indexer \u001b[38;5;241m=\u001b[39m [indexer]\n",
      "File \u001b[0;32m~/.conda/envs/dna/lib/python3.8/site-packages/pandas/core/indexes/base.py:3655\u001b[0m, in \u001b[0;36mIndex.get_loc\u001b[0;34m(self, key)\u001b[0m\n\u001b[1;32m   3653\u001b[0m     \u001b[38;5;28;01mreturn\u001b[39;00m \u001b[38;5;28mself\u001b[39m\u001b[38;5;241m.\u001b[39m_engine\u001b[38;5;241m.\u001b[39mget_loc(casted_key)\n\u001b[1;32m   3654\u001b[0m \u001b[38;5;28;01mexcept\u001b[39;00m \u001b[38;5;167;01mKeyError\u001b[39;00m \u001b[38;5;28;01mas\u001b[39;00m err:\n\u001b[0;32m-> 3655\u001b[0m     \u001b[38;5;28;01mraise\u001b[39;00m \u001b[38;5;167;01mKeyError\u001b[39;00m(key) \u001b[38;5;28;01mfrom\u001b[39;00m \u001b[38;5;21;01merr\u001b[39;00m\n\u001b[1;32m   3656\u001b[0m \u001b[38;5;28;01mexcept\u001b[39;00m \u001b[38;5;167;01mTypeError\u001b[39;00m:\n\u001b[1;32m   3657\u001b[0m     \u001b[38;5;66;03m# If we have a listlike key, _check_indexing_error will raise\u001b[39;00m\n\u001b[1;32m   3658\u001b[0m     \u001b[38;5;66;03m#  InvalidIndexError. Otherwise we fall through and re-raise\u001b[39;00m\n\u001b[1;32m   3659\u001b[0m     \u001b[38;5;66;03m#  the TypeError.\u001b[39;00m\n\u001b[1;32m   3660\u001b[0m     \u001b[38;5;28mself\u001b[39m\u001b[38;5;241m.\u001b[39m_check_indexing_error(key)\n",
      "\u001b[0;31mKeyError\u001b[0m: 'nm_class'"
     ]
    }
   ],
   "source": [
    "count_types = {}\n",
    "for case in tqdm(data.loc[:,'nm_class' ].values):\n",
    "    if case not in count_types.keys():\n",
    "        count_types[case] = [1]\n",
    "    else:\n",
    "        count_types[case][0] += 1\n",
    "    "
   ]
  },
  {
   "cell_type": "code",
   "execution_count": 20,
   "id": "e589c13b-93c5-4ab4-80a7-f896f2835b67",
   "metadata": {},
   "outputs": [
    {
     "data": {
      "text/html": [
       "<div>\n",
       "<style scoped>\n",
       "    .dataframe tbody tr th:only-of-type {\n",
       "        vertical-align: middle;\n",
       "    }\n",
       "\n",
       "    .dataframe tbody tr th {\n",
       "        vertical-align: top;\n",
       "    }\n",
       "\n",
       "    .dataframe thead th {\n",
       "        text-align: right;\n",
       "    }\n",
       "</style>\n",
       "<table border=\"1\" class=\"dataframe\">\n",
       "  <thead>\n",
       "    <tr style=\"text-align: right;\">\n",
       "      <th></th>\n",
       "      <th>0</th>\n",
       "    </tr>\n",
       "  </thead>\n",
       "  <tbody>\n",
       "    <tr>\n",
       "      <th>Bone-Osteosarc</th>\n",
       "      <td>44</td>\n",
       "    </tr>\n",
       "    <tr>\n",
       "      <th>Breast-AdenoCA</th>\n",
       "      <td>197</td>\n",
       "    </tr>\n",
       "    <tr>\n",
       "      <th>CNS-GBM</th>\n",
       "      <td>41</td>\n",
       "    </tr>\n",
       "    <tr>\n",
       "      <th>CNS-Medullo</th>\n",
       "      <td>146</td>\n",
       "    </tr>\n",
       "    <tr>\n",
       "      <th>CNS-PiloAstro</th>\n",
       "      <td>89</td>\n",
       "    </tr>\n",
       "    <tr>\n",
       "      <th>ColoRect-AdenoCA</th>\n",
       "      <td>58</td>\n",
       "    </tr>\n",
       "    <tr>\n",
       "      <th>Eso-AdenoCA</th>\n",
       "      <td>98</td>\n",
       "    </tr>\n",
       "    <tr>\n",
       "      <th>Head-SCC</th>\n",
       "      <td>57</td>\n",
       "    </tr>\n",
       "    <tr>\n",
       "      <th>Kidney-ChRCC</th>\n",
       "      <td>45</td>\n",
       "    </tr>\n",
       "    <tr>\n",
       "      <th>Kidney-RCC</th>\n",
       "      <td>144</td>\n",
       "    </tr>\n",
       "    <tr>\n",
       "      <th>Liver-HCC</th>\n",
       "      <td>324</td>\n",
       "    </tr>\n",
       "    <tr>\n",
       "      <th>Lung-AdenoCA</th>\n",
       "      <td>38</td>\n",
       "    </tr>\n",
       "    <tr>\n",
       "      <th>Lung-SCC</th>\n",
       "      <td>48</td>\n",
       "    </tr>\n",
       "    <tr>\n",
       "      <th>Lymph-BNHL</th>\n",
       "      <td>105</td>\n",
       "    </tr>\n",
       "    <tr>\n",
       "      <th>Lymph-CLL</th>\n",
       "      <td>94</td>\n",
       "    </tr>\n",
       "    <tr>\n",
       "      <th>Myeloid-MPN</th>\n",
       "      <td>55</td>\n",
       "    </tr>\n",
       "    <tr>\n",
       "      <th>Ovary-AdenoCA</th>\n",
       "      <td>113</td>\n",
       "    </tr>\n",
       "    <tr>\n",
       "      <th>Panc-AdenoCA</th>\n",
       "      <td>241</td>\n",
       "    </tr>\n",
       "    <tr>\n",
       "      <th>Panc-Endocrine</th>\n",
       "      <td>84</td>\n",
       "    </tr>\n",
       "    <tr>\n",
       "      <th>Prost-AdenoCA</th>\n",
       "      <td>285</td>\n",
       "    </tr>\n",
       "    <tr>\n",
       "      <th>Skin-Melanoma</th>\n",
       "      <td>107</td>\n",
       "    </tr>\n",
       "    <tr>\n",
       "      <th>Stomach-AdenoCA</th>\n",
       "      <td>75</td>\n",
       "    </tr>\n",
       "    <tr>\n",
       "      <th>Thy-AdenoCA</th>\n",
       "      <td>48</td>\n",
       "    </tr>\n",
       "    <tr>\n",
       "      <th>Uterus-AdenoCA</th>\n",
       "      <td>51</td>\n",
       "    </tr>\n",
       "  </tbody>\n",
       "</table>\n",
       "</div>"
      ],
      "text/plain": [
       "                    0\n",
       "Bone-Osteosarc     44\n",
       "Breast-AdenoCA    197\n",
       "CNS-GBM            41\n",
       "CNS-Medullo       146\n",
       "CNS-PiloAstro      89\n",
       "ColoRect-AdenoCA   58\n",
       "Eso-AdenoCA        98\n",
       "Head-SCC           57\n",
       "Kidney-ChRCC       45\n",
       "Kidney-RCC        144\n",
       "Liver-HCC         324\n",
       "Lung-AdenoCA       38\n",
       "Lung-SCC           48\n",
       "Lymph-BNHL        105\n",
       "Lymph-CLL          94\n",
       "Myeloid-MPN        55\n",
       "Ovary-AdenoCA     113\n",
       "Panc-AdenoCA      241\n",
       "Panc-Endocrine     84\n",
       "Prost-AdenoCA     285\n",
       "Skin-Melanoma     107\n",
       "Stomach-AdenoCA    75\n",
       "Thy-AdenoCA        48\n",
       "Uterus-AdenoCA     51"
      ]
     },
     "execution_count": 20,
     "metadata": {},
     "output_type": "execute_result"
    }
   ],
   "source": [
    "df = pd.DataFrame(count_types)\n",
    "df.T"
   ]
  },
  {
   "cell_type": "code",
   "execution_count": 27,
   "id": "fa42a043-5d24-441f-bbeb-dcaab55ad3a4",
   "metadata": {},
   "outputs": [],
   "source": [
    "samples = [i[:-4] for i in data.loc[:,'samples' ].values]"
   ]
  },
  {
   "cell_type": "code",
   "execution_count": 33,
   "id": "8afdd93e-0b06-4e2f-ae17-90d2d650147e",
   "metadata": {},
   "outputs": [
    {
     "data": {
      "application/vnd.jupyter.widget-view+json": {
       "model_id": "1ae304312a5343f09eac4e4a6b858977",
       "version_major": 2,
       "version_minor": 0
      },
      "text/plain": [
       "  0%|          | 0/2587 [00:00<?, ?it/s]"
      ]
     },
     "metadata": {},
     "output_type": "display_data"
    }
   ],
   "source": [
    "SNV = 0\n",
    "indel = 0 \n",
    "MNV = 0\n",
    "for path in tqdm(counts):\n",
    "    if path.split('/')[-2] in samples:\n",
    "        data = pd.read_csv(path, compression='gzip', sep = '\\t', index_col=0)\n",
    "        SNV += data.iloc[0,0]\n",
    "        indel += data.iloc[0,2]\n",
    "        MNV += data.iloc[0,1]"
   ]
  },
  {
   "cell_type": "code",
   "execution_count": 34,
   "id": "7e70b360-0459-4934-80b6-ae621dd11530",
   "metadata": {},
   "outputs": [
    {
     "name": "stdout",
     "output_type": "stream",
     "text": [
      "SNV:\t40625000\n",
      "MNV:\t797405\n",
      "indel:\t3604428\n"
     ]
    }
   ],
   "source": [
    "print(f'SNV:\\t{SNV}\\nMNV:\\t{MNV}\\nindel:\\t{indel}')"
   ]
  },
  {
   "cell_type": "markdown",
   "id": "619843c3-6653-4430-961f-f68452044826",
   "metadata": {},
   "source": [
    "## Check the numpy files"
   ]
  },
  {
   "cell_type": "code",
   "execution_count": 25,
   "id": "89c1580d-46d0-4dbf-9e8d-74a0c90364b5",
   "metadata": {},
   "outputs": [],
   "source": [
    "paths = []\n",
    "paths = list_files_in_dir('/csc/epitkane/projects/multimodal/data/train_new/DNABERT_motif7', paths)\n",
    "paths.sort()"
   ]
  },
  {
   "cell_type": "code",
   "execution_count": 26,
   "id": "121561bd-c999-4308-afaf-9d809336f31d",
   "metadata": {},
   "outputs": [],
   "source": [
    "numpy_files = []\n",
    "tsv_files = []\n",
    "for i in paths:\n",
    "    if i.split('/')[-1].split('.')[-1] == 'npz':\n",
    "        numpy_files.append(i)\n",
    "    if i.split('/')[-1].split('.')[-1] == 'gz' and i.split('/')[-1][:5] != 'count':\n",
    "        tsv_files.append(i)"
   ]
  },
  {
   "cell_type": "code",
   "execution_count": 27,
   "id": "9c201b23-9f7c-462d-b5dd-2fec0bef2405",
   "metadata": {},
   "outputs": [
    {
     "data": {
      "text/plain": [
       "True"
      ]
     },
     "execution_count": 27,
     "metadata": {},
     "output_type": "execute_result"
    }
   ],
   "source": [
    "len(numpy_files) == len(tsv_files)"
   ]
  },
  {
   "cell_type": "code",
   "execution_count": null,
   "id": "f2e3cd2c-7f62-476e-9525-7d2e847b2472",
   "metadata": {},
   "outputs": [],
   "source": [
    "for path in tqdm(numpy_files):\n",
    "    try:\n",
    "        array = np.load(path)\n",
    "        if array['motif'].shape[0] == 0 or array['position'].shape[0] == 0 or array['GES'].shape[0] == 0:\n",
    "            print(path)\n",
    "    except Exception as e:\n",
    "        print(path)\n",
    "        raise e"
   ]
  },
  {
   "cell_type": "code",
   "execution_count": null,
   "id": "7520978c-d5fa-49b6-85b6-be9edee1dd4f",
   "metadata": {},
   "outputs": [
    {
     "data": {
      "application/vnd.jupyter.widget-view+json": {
       "model_id": "cc4430289adf495eaa7c207f5c1c1645",
       "version_major": 2,
       "version_minor": 0
      },
      "text/plain": [
       "  0%|          | 0/7651 [00:00<?, ?it/s]"
      ]
     },
     "metadata": {},
     "output_type": "display_data"
    }
   ],
   "source": [
    "faulty_array_files = []\n",
    "data_files = []\n",
    "for np_path, counts in tqdm(zip(numpy_files, tsv_files), total =len(numpy_files)):\n",
    "    array = np.load(np_path)['motif']\n",
    "    count = pd.read_csv(counts, compression='gzip', sep='\\t', index_col=0, header=0, low_memory=False)\n",
    "    #mut_type = np_path.split('/')[-1].split('_')[0]\n",
    "    if len(count) != len(array):\n",
    "        faulty_array_files.append(np_path)\n",
    "        data_files.append(counts)\n",
    "        print(f'Numpy: {len(array)}, Counts: {len(count)}, path: {counts}')\n",
    "        "
   ]
  },
  {
   "cell_type": "markdown",
   "id": "db3bab20-ab03-4683-aae0-6dce5340dbcd",
   "metadata": {},
   "source": [
    "## Fix count files"
   ]
  },
  {
   "cell_type": "code",
   "execution_count": 2,
   "id": "d2b83e47-8b92-4083-8238-4ed2c685fba1",
   "metadata": {},
   "outputs": [],
   "source": [
    "paths = []\n",
    "paths = list_files_in_dir('/csc/epitkane/projects/multimodal/data/train_new/DNABERT_motif3_diff', paths)\n",
    "paths.sort()"
   ]
  },
  {
   "cell_type": "code",
   "execution_count": 3,
   "id": "2d5dc6f5-f7ca-4d90-bd6c-a9a84425a503",
   "metadata": {},
   "outputs": [],
   "source": [
    "numpy_files = []\n",
    "count_files = []\n",
    "for i in paths:        \n",
    "    if i.split('/')[-1].split('.')[-1] == 'npz':\n",
    "        numpy_files.append(i)\n",
    "        count_files.append('/'.join(i.split('/')[:-1]) + '/count_' + i.split('/')[-1].split('_')[-1][:-4]+ '.tsv.gz')"
   ]
  },
  {
   "cell_type": "code",
   "execution_count": 4,
   "id": "af0e31e5-4bf9-462d-b38c-3485b2f80fd0",
   "metadata": {},
   "outputs": [
    {
     "data": {
      "text/plain": [
       "'/csc/epitkane/projects/multimodal/data/train_new/DNABERT_motif3_diff/CNS-Medullo/5a5a8409-a8f2-4c7b-85e5-b8bd85f2930c/count_5a5a8409-a8f2-4c7b-85e5-b8bd85f2930c.tsv.gz'"
      ]
     },
     "execution_count": 4,
     "metadata": {},
     "output_type": "execute_result"
    }
   ],
   "source": [
    "count_files[1000]"
   ]
  },
  {
   "cell_type": "code",
   "execution_count": 5,
   "id": "5f45106d-b6f9-485a-a8f3-5cf34a841454",
   "metadata": {},
   "outputs": [
    {
     "data": {
      "text/plain": [
       "'/csc/epitkane/projects/multimodal/data/train_new/DNABERT_motif3_diff/CNS-Medullo/5a5a8409-a8f2-4c7b-85e5-b8bd85f2930c/diff_MNV_5a5a8409-a8f2-4c7b-85e5-b8bd85f2930c.npz'"
      ]
     },
     "execution_count": 5,
     "metadata": {},
     "output_type": "execute_result"
    }
   ],
   "source": [
    "numpy_files[1000]"
   ]
  },
  {
   "cell_type": "markdown",
   "id": "2584588c-c084-4a36-bf51-2b7fc93f775d",
   "metadata": {},
   "source": [
    "### generate count files"
   ]
  },
  {
   "cell_type": "code",
   "execution_count": 11,
   "id": "c2363e59-3637-4b5a-a174-c2d6b57fb6c6",
   "metadata": {},
   "outputs": [
    {
     "data": {
      "application/vnd.jupyter.widget-view+json": {
       "model_id": "6f68dc0721a2404ebe15b2ffdaf60573",
       "version_major": 2,
       "version_minor": 0
      },
      "text/plain": [
       "  0%|          | 0/7651 [00:00<?, ?it/s]"
      ]
     },
     "metadata": {},
     "output_type": "display_data"
    }
   ],
   "source": [
    "for np_path, count in tqdm(zip(numpy_files, count_files), total=len(numpy_files)):\n",
    "    array = np.load(np_path)['motif']\n",
    "    tumour = np_path.split(\"/\")[-3]\n",
    "    if not os.path.exists(count):\n",
    "        count_df = pd.DataFrame.from_dict({'SNV':[0], 'MNV':[0], 'indel':[0], 'SV/MEI':[0], 'Normal':[0]})\n",
    "    else:\n",
    "        count_df = pd.read_csv(count, compression='gzip', sep = '\\t', index_col=0)\n",
    "    mutation_type= np_path.split(\"/\")[-1].split(\"_\")[1]\n",
    "    count_df.loc[0,mutation_type] = len(array)\n",
    "    count_df.to_csv(count, compression='gzip', sep='\\t' )"
   ]
  },
  {
   "cell_type": "markdown",
   "id": "74456b81-c75e-4108-bb42-b9ba45aaffda",
   "metadata": {},
   "source": [
    "### fix count file"
   ]
  },
  {
   "cell_type": "code",
   "execution_count": null,
   "id": "d93194ea-b1be-4329-a79f-ab7cad44ad4d",
   "metadata": {},
   "outputs": [],
   "source": [
    "for np_path, counts in tqdm(zip(numpy_files, count_files), total =len(numpy_files)):\n",
    "    array = np.load(np_path)['motif']\n",
    "    count = pd.read_csv(counts, compression='gzip', sep='\\t', index_col=0, header=0, low_memory=False)\n",
    "    mut_type = np_path.split('/')[-1].split('_')[0]\n",
    "    if int(count.loc[0, mut_type]) != len(array):\n",
    "        print(f'count {int(count.loc[0, mut_type])}, array {len(array)}')\n",
    "        count.loc[0, mut_type] = len(array)\n",
    "        print(count)\n",
    "        count.to_csv(counts, compression='gzip', sep='\\t')"
   ]
  },
  {
   "cell_type": "code",
   "execution_count": 7,
   "id": "d892d2a9-831d-4b50-a833-a644114e3122",
   "metadata": {},
   "outputs": [
    {
     "data": {
      "application/vnd.jupyter.widget-view+json": {
       "model_id": "a85060af983545de8aecd672615d18ce",
       "version_major": 2,
       "version_minor": 0
      },
      "text/plain": [
       "  0%|          | 0/2587 [00:00<?, ?it/s]"
      ]
     },
     "metadata": {},
     "output_type": "display_data"
    }
   ],
   "source": [
    "tumour_mut_count = {}\n",
    "for path in tqdm(counts):\n",
    "    tumour = path.split(\"/\")[-3]\n",
    "    if tumour not in tumour_mut_count.keys():\n",
    "        tumour_mut_count[tumour] = {'SNV':0, 'MNV':0, 'indel':0, 'total':0, 'number of samples':0}\n",
    "    data = pd.read_csv(path, compression='gzip', sep = '\\t')\n",
    "    tumour_mut_count[tumour]['SNV'] += data.iloc[0,1]\n",
    "    tumour_mut_count[tumour]['indel'] += data.iloc[0,3]\n",
    "    tumour_mut_count[tumour]['MNV'] += data.iloc[0,2]\n",
    "    tumour_mut_count[tumour]['total'] += data.iloc[0,1]+ data.iloc[0,3] + data.iloc[0,2]\n",
    "    tumour_mut_count[tumour]['number of samples'] += 1"
   ]
  },
  {
   "cell_type": "code",
   "execution_count": 12,
   "id": "cced54d2-7649-4a28-bbd2-276b227c0336",
   "metadata": {},
   "outputs": [],
   "source": [
    "for tumour in tumour_mut_count.keys():\n",
    "    tumour_mut_count[tumour]['SNV'] /= tumour_mut_count[tumour]['number of samples']\n",
    "    tumour_mut_count[tumour]['indel'] /= tumour_mut_count[tumour]['number of samples']\n",
    "    tumour_mut_count[tumour]['MNV'] /= tumour_mut_count[tumour]['number of samples']\n",
    "    tumour_mut_count[tumour]['total'] /= tumour_mut_count[tumour]['number of samples']"
   ]
  },
  {
   "cell_type": "code",
   "execution_count": 13,
   "id": "c44b9b74-1b73-4c83-a449-0b851606d6e5",
   "metadata": {},
   "outputs": [],
   "source": [
    "df = pd.DataFrame(tumour_mut_count)"
   ]
  },
  {
   "cell_type": "code",
   "execution_count": 14,
   "id": "94c05e46-47fb-4157-982b-a90747b2b837",
   "metadata": {},
   "outputs": [
    {
     "data": {
      "text/html": [
       "<div>\n",
       "<style scoped>\n",
       "    .dataframe tbody tr th:only-of-type {\n",
       "        vertical-align: middle;\n",
       "    }\n",
       "\n",
       "    .dataframe tbody tr th {\n",
       "        vertical-align: top;\n",
       "    }\n",
       "\n",
       "    .dataframe thead th {\n",
       "        text-align: right;\n",
       "    }\n",
       "</style>\n",
       "<table border=\"1\" class=\"dataframe\">\n",
       "  <thead>\n",
       "    <tr style=\"text-align: right;\">\n",
       "      <th></th>\n",
       "      <th>SNV</th>\n",
       "      <th>MNV</th>\n",
       "      <th>indel</th>\n",
       "      <th>total</th>\n",
       "      <th>number of samples</th>\n",
       "    </tr>\n",
       "  </thead>\n",
       "  <tbody>\n",
       "    <tr>\n",
       "      <th>Bone-Osteosarc</th>\n",
       "      <td>3654.295455</td>\n",
       "      <td>39.840909</td>\n",
       "      <td>178.818182</td>\n",
       "      <td>3872.954545</td>\n",
       "      <td>44.0</td>\n",
       "    </tr>\n",
       "    <tr>\n",
       "      <th>Breast-AdenoCA</th>\n",
       "      <td>7062.472081</td>\n",
       "      <td>74.944162</td>\n",
       "      <td>443.852792</td>\n",
       "      <td>7581.269036</td>\n",
       "      <td>197.0</td>\n",
       "    </tr>\n",
       "    <tr>\n",
       "      <th>CNS-GBM</th>\n",
       "      <td>12358.585366</td>\n",
       "      <td>47.975610</td>\n",
       "      <td>495.414634</td>\n",
       "      <td>12901.975610</td>\n",
       "      <td>41.0</td>\n",
       "    </tr>\n",
       "    <tr>\n",
       "      <th>CNS-Medullo</th>\n",
       "      <td>1378.876712</td>\n",
       "      <td>7.315068</td>\n",
       "      <td>160.452055</td>\n",
       "      <td>1546.643836</td>\n",
       "      <td>146.0</td>\n",
       "    </tr>\n",
       "    <tr>\n",
       "      <th>CNS-PiloAstro</th>\n",
       "      <td>236.910112</td>\n",
       "      <td>1.269663</td>\n",
       "      <td>10.808989</td>\n",
       "      <td>248.988764</td>\n",
       "      <td>89.0</td>\n",
       "    </tr>\n",
       "    <tr>\n",
       "      <th>ColoRect-AdenoCA</th>\n",
       "      <td>91166.155172</td>\n",
       "      <td>231.913793</td>\n",
       "      <td>14941.017241</td>\n",
       "      <td>106339.086207</td>\n",
       "      <td>58.0</td>\n",
       "    </tr>\n",
       "    <tr>\n",
       "      <th>Eso-AdenoCA</th>\n",
       "      <td>26750.040816</td>\n",
       "      <td>177.704082</td>\n",
       "      <td>1519.448980</td>\n",
       "      <td>28447.193878</td>\n",
       "      <td>98.0</td>\n",
       "    </tr>\n",
       "    <tr>\n",
       "      <th>Head-SCC</th>\n",
       "      <td>15357.087719</td>\n",
       "      <td>226.333333</td>\n",
       "      <td>672.140351</td>\n",
       "      <td>16255.561404</td>\n",
       "      <td>57.0</td>\n",
       "    </tr>\n",
       "    <tr>\n",
       "      <th>Kidney-ChRCC</th>\n",
       "      <td>2597.288889</td>\n",
       "      <td>23.977778</td>\n",
       "      <td>171.133333</td>\n",
       "      <td>2792.400000</td>\n",
       "      <td>45.0</td>\n",
       "    </tr>\n",
       "    <tr>\n",
       "      <th>Kidney-RCC</th>\n",
       "      <td>6062.034722</td>\n",
       "      <td>163.493056</td>\n",
       "      <td>860.256944</td>\n",
       "      <td>7085.784722</td>\n",
       "      <td>144.0</td>\n",
       "    </tr>\n",
       "    <tr>\n",
       "      <th>Liver-HCC</th>\n",
       "      <td>11675.271605</td>\n",
       "      <td>248.703704</td>\n",
       "      <td>699.780864</td>\n",
       "      <td>12623.756173</td>\n",
       "      <td>324.0</td>\n",
       "    </tr>\n",
       "    <tr>\n",
       "      <th>Lung-AdenoCA</th>\n",
       "      <td>34210.052632</td>\n",
       "      <td>1222.263158</td>\n",
       "      <td>1147.315789</td>\n",
       "      <td>36579.631579</td>\n",
       "      <td>38.0</td>\n",
       "    </tr>\n",
       "    <tr>\n",
       "      <th>Lung-SCC</th>\n",
       "      <td>42491.395833</td>\n",
       "      <td>1438.583333</td>\n",
       "      <td>1644.770833</td>\n",
       "      <td>45574.750000</td>\n",
       "      <td>48.0</td>\n",
       "    </tr>\n",
       "    <tr>\n",
       "      <th>Lymph-BNHL</th>\n",
       "      <td>11506.285714</td>\n",
       "      <td>114.552381</td>\n",
       "      <td>846.942857</td>\n",
       "      <td>12467.780952</td>\n",
       "      <td>105.0</td>\n",
       "    </tr>\n",
       "    <tr>\n",
       "      <th>Lymph-CLL</th>\n",
       "      <td>2341.170213</td>\n",
       "      <td>19.755319</td>\n",
       "      <td>125.074468</td>\n",
       "      <td>2486.000000</td>\n",
       "      <td>94.0</td>\n",
       "    </tr>\n",
       "    <tr>\n",
       "      <th>Myeloid-MPN</th>\n",
       "      <td>1140.454545</td>\n",
       "      <td>5.163636</td>\n",
       "      <td>37.036364</td>\n",
       "      <td>1182.654545</td>\n",
       "      <td>55.0</td>\n",
       "    </tr>\n",
       "    <tr>\n",
       "      <th>Ovary-AdenoCA</th>\n",
       "      <td>8474.752212</td>\n",
       "      <td>143.353982</td>\n",
       "      <td>760.008850</td>\n",
       "      <td>9378.115044</td>\n",
       "      <td>113.0</td>\n",
       "    </tr>\n",
       "    <tr>\n",
       "      <th>Panc-AdenoCA</th>\n",
       "      <td>6720.369295</td>\n",
       "      <td>59.153527</td>\n",
       "      <td>932.751037</td>\n",
       "      <td>7712.273859</td>\n",
       "      <td>241.0</td>\n",
       "    </tr>\n",
       "    <tr>\n",
       "      <th>Panc-Endocrine</th>\n",
       "      <td>2955.297619</td>\n",
       "      <td>21.630952</td>\n",
       "      <td>142.071429</td>\n",
       "      <td>3119.000000</td>\n",
       "      <td>84.0</td>\n",
       "    </tr>\n",
       "    <tr>\n",
       "      <th>Prost-AdenoCA</th>\n",
       "      <td>3440.308772</td>\n",
       "      <td>39.407018</td>\n",
       "      <td>346.196491</td>\n",
       "      <td>3825.912281</td>\n",
       "      <td>285.0</td>\n",
       "    </tr>\n",
       "    <tr>\n",
       "      <th>Skin-Melanoma</th>\n",
       "      <td>110163.897196</td>\n",
       "      <td>4097.420561</td>\n",
       "      <td>961.607477</td>\n",
       "      <td>115222.925234</td>\n",
       "      <td>107.0</td>\n",
       "    </tr>\n",
       "    <tr>\n",
       "      <th>Stomach-AdenoCA</th>\n",
       "      <td>23996.946667</td>\n",
       "      <td>129.493333</td>\n",
       "      <td>7585.480000</td>\n",
       "      <td>31711.920000</td>\n",
       "      <td>75.0</td>\n",
       "    </tr>\n",
       "    <tr>\n",
       "      <th>Thy-AdenoCA</th>\n",
       "      <td>1310.145833</td>\n",
       "      <td>11.291667</td>\n",
       "      <td>82.770833</td>\n",
       "      <td>1404.208333</td>\n",
       "      <td>48.0</td>\n",
       "    </tr>\n",
       "    <tr>\n",
       "      <th>Uterus-AdenoCA</th>\n",
       "      <td>49019.588235</td>\n",
       "      <td>135.745098</td>\n",
       "      <td>14313.666667</td>\n",
       "      <td>63469.000000</td>\n",
       "      <td>51.0</td>\n",
       "    </tr>\n",
       "  </tbody>\n",
       "</table>\n",
       "</div>"
      ],
      "text/plain": [
       "                            SNV          MNV         indel          total  \\\n",
       "Bone-Osteosarc      3654.295455    39.840909    178.818182    3872.954545   \n",
       "Breast-AdenoCA      7062.472081    74.944162    443.852792    7581.269036   \n",
       "CNS-GBM            12358.585366    47.975610    495.414634   12901.975610   \n",
       "CNS-Medullo         1378.876712     7.315068    160.452055    1546.643836   \n",
       "CNS-PiloAstro        236.910112     1.269663     10.808989     248.988764   \n",
       "ColoRect-AdenoCA   91166.155172   231.913793  14941.017241  106339.086207   \n",
       "Eso-AdenoCA        26750.040816   177.704082   1519.448980   28447.193878   \n",
       "Head-SCC           15357.087719   226.333333    672.140351   16255.561404   \n",
       "Kidney-ChRCC        2597.288889    23.977778    171.133333    2792.400000   \n",
       "Kidney-RCC          6062.034722   163.493056    860.256944    7085.784722   \n",
       "Liver-HCC          11675.271605   248.703704    699.780864   12623.756173   \n",
       "Lung-AdenoCA       34210.052632  1222.263158   1147.315789   36579.631579   \n",
       "Lung-SCC           42491.395833  1438.583333   1644.770833   45574.750000   \n",
       "Lymph-BNHL         11506.285714   114.552381    846.942857   12467.780952   \n",
       "Lymph-CLL           2341.170213    19.755319    125.074468    2486.000000   \n",
       "Myeloid-MPN         1140.454545     5.163636     37.036364    1182.654545   \n",
       "Ovary-AdenoCA       8474.752212   143.353982    760.008850    9378.115044   \n",
       "Panc-AdenoCA        6720.369295    59.153527    932.751037    7712.273859   \n",
       "Panc-Endocrine      2955.297619    21.630952    142.071429    3119.000000   \n",
       "Prost-AdenoCA       3440.308772    39.407018    346.196491    3825.912281   \n",
       "Skin-Melanoma     110163.897196  4097.420561    961.607477  115222.925234   \n",
       "Stomach-AdenoCA    23996.946667   129.493333   7585.480000   31711.920000   \n",
       "Thy-AdenoCA         1310.145833    11.291667     82.770833    1404.208333   \n",
       "Uterus-AdenoCA     49019.588235   135.745098  14313.666667   63469.000000   \n",
       "\n",
       "                  number of samples  \n",
       "Bone-Osteosarc                 44.0  \n",
       "Breast-AdenoCA                197.0  \n",
       "CNS-GBM                        41.0  \n",
       "CNS-Medullo                   146.0  \n",
       "CNS-PiloAstro                  89.0  \n",
       "ColoRect-AdenoCA               58.0  \n",
       "Eso-AdenoCA                    98.0  \n",
       "Head-SCC                       57.0  \n",
       "Kidney-ChRCC                   45.0  \n",
       "Kidney-RCC                    144.0  \n",
       "Liver-HCC                     324.0  \n",
       "Lung-AdenoCA                   38.0  \n",
       "Lung-SCC                       48.0  \n",
       "Lymph-BNHL                    105.0  \n",
       "Lymph-CLL                      94.0  \n",
       "Myeloid-MPN                    55.0  \n",
       "Ovary-AdenoCA                 113.0  \n",
       "Panc-AdenoCA                  241.0  \n",
       "Panc-Endocrine                 84.0  \n",
       "Prost-AdenoCA                 285.0  \n",
       "Skin-Melanoma                 107.0  \n",
       "Stomach-AdenoCA                75.0  \n",
       "Thy-AdenoCA                    48.0  \n",
       "Uterus-AdenoCA                 51.0  "
      ]
     },
     "execution_count": 14,
     "metadata": {},
     "output_type": "execute_result"
    }
   ],
   "source": [
    "df.T"
   ]
  },
  {
   "cell_type": "code",
   "execution_count": 15,
   "id": "33f2c9bb-c861-447c-af05-1c818e9ed9b0",
   "metadata": {},
   "outputs": [
    {
     "name": "stdout",
     "output_type": "stream",
     "text": [
      "Total size of the dataset: 45708603\n"
     ]
    }
   ],
   "source": [
    "print(f'Total size of the dataset: {SNV+MNV+indel}')"
   ]
  },
  {
   "cell_type": "code",
   "execution_count": 3,
   "id": "f1b58b5d-b664-4746-87f5-05d7dfac10bb",
   "metadata": {},
   "outputs": [],
   "source": [
    "paths101 = []\n",
    "paths101 = list_files_in_dir('/csc/epitkane/projects/multimodal/data/train/DNABERT_motif101', paths101)\n",
    "paths101 = [i.split('/')[-1] for i in paths101 if i.split('/')[-1][:3] == 'SNV' ]\n",
    "paths3 = []\n",
    "paths3 = list_files_in_dir('/csc/epitkane/projects/multimodal/data/train/DNABERT_motif3', paths3)\n",
    "paths3 = [i.split('/')[-1] for i in paths3 if i.split('/')[-1][:3] == 'SNV' ]"
   ]
  },
  {
   "cell_type": "code",
   "execution_count": 4,
   "id": "2c5ba7eb-6afb-473c-b213-bb67b7eff78c",
   "metadata": {},
   "outputs": [],
   "source": [
    "paths101.sort()\n",
    "paths3.sort()"
   ]
  },
  {
   "cell_type": "code",
   "execution_count": 5,
   "id": "0361044b-666b-4b77-bd9d-e00d19acbb91",
   "metadata": {},
   "outputs": [
    {
     "name": "stdout",
     "output_type": "stream",
     "text": [
      "5174\n",
      "5174\n"
     ]
    }
   ],
   "source": [
    "print(len(paths101))\n",
    "print(len(paths3))"
   ]
  },
  {
   "cell_type": "code",
   "execution_count": 6,
   "id": "51a2fe21-5faf-4fee-9e2c-57286e114b23",
   "metadata": {},
   "outputs": [
    {
     "data": {
      "text/plain": [
       "True"
      ]
     },
     "execution_count": 6,
     "metadata": {},
     "output_type": "execute_result"
    }
   ],
   "source": [
    "paths101 == paths3"
   ]
  },
  {
   "cell_type": "code",
   "execution_count": 26,
   "id": "ec4b825e-d055-47dd-8908-7d39c038d527",
   "metadata": {},
   "outputs": [
    {
     "name": "stdout",
     "output_type": "stream",
     "text": [
      "125\n",
      "250\n",
      "625\n",
      "1250\n"
     ]
    }
   ],
   "source": [
    "for i in range(100, 10000):\n",
    "    if (41126011+806986+3653253)%i ==0:\n",
    "        print(i)"
   ]
  },
  {
   "cell_type": "code",
   "execution_count": 50,
   "id": "2263f42b-0d18-4070-a861-9b455091785c",
   "metadata": {},
   "outputs": [
    {
     "data": {
      "text/plain": [
       "12542.0"
      ]
     },
     "execution_count": 50,
     "metadata": {},
     "output_type": "execute_result"
    }
   ],
   "source": [
    "(41131719 + 806735 + 3651716)/3635"
   ]
  },
  {
   "cell_type": "markdown",
   "id": "d9a138ca-370d-4916-b513-3c6ea7de6b26",
   "metadata": {},
   "source": [
    "## Check epipos data"
   ]
  },
  {
   "cell_type": "code",
   "execution_count": 15,
   "id": "0afe083e-2cef-45b9-87f5-17f5fb9bb49f",
   "metadata": {},
   "outputs": [],
   "source": [
    "epipos_orders = []\n",
    "epipos_orders = list_files_in_dir('/csc/epitkane/projects/multimodal/data/train_new/test_epipos', epipos_orders)\n",
    "epipos_orders = [i for i in epipos_orders if i[-7:] == '.tsv.gz']"
   ]
  },
  {
   "cell_type": "code",
   "execution_count": 16,
   "id": "88551552-73d3-4ced-b291-e418592fdccb",
   "metadata": {},
   "outputs": [],
   "source": [
    "muat_files = []\n",
    "muat_files = list_files_in_dir('/csc/epitkane/projects/multimodal/data/train_new/muat_orig_epipos', muat_files)\n",
    "muat_files = [i for i in muat_files if i[-7:] == '.tsv.gz' and i.split('/')[-1].split('_')[0] != 'count' ]"
   ]
  },
  {
   "cell_type": "code",
   "execution_count": 17,
   "id": "fb8d92f6-4474-47f3-9b85-f3c82e1708c8",
   "metadata": {},
   "outputs": [],
   "source": [
    "epipos_orders.sort()\n",
    "muat_files.sort()"
   ]
  },
  {
   "cell_type": "code",
   "execution_count": 27,
   "id": "d39c31bb-e9b7-445c-b31a-55e5e57f961e",
   "metadata": {},
   "outputs": [
    {
     "data": {
      "application/vnd.jupyter.widget-view+json": {
       "model_id": "ed1fa958e42643429d0d409ae312ad33",
       "version_major": 2,
       "version_minor": 0
      },
      "text/plain": [
       "  0%|          | 0/7649 [00:00<?, ?it/s]"
      ]
     },
     "metadata": {},
     "output_type": "display_data"
    },
    {
     "name": "stdout",
     "output_type": "stream",
     "text": [
      "/csc/epitkane/projects/multimodal/data/train_new/test_epipos/ColoRect-AdenoCA/31e63f89-a6a9-40fb-823d-f41587bd73d8/SNV_order_31e63f89-a6a9-40fb-823d-f41587bd73d8.tsv.gz\n"
     ]
    }
   ],
   "source": [
    "for (e, m) in tqdm(zip(epipos_orders, muat_files), total= len(epipos_orders)):\n",
    "    assert '_'.join([e.split('/')[-1][:-7].split('_')[0],  e.split('/')[-1][:-7].split('_')[-1]]) == m.split('/')[-1][:-7], f'Not the same file'\n",
    "    epi = pd.read_csv(e, compression='gzip', sep='\\t', index_col= 0, low_memory= False)\n",
    "    muat = pd.read_csv(m, compression='gzip', sep='\\t', index_col= 0, low_memory= False)\n",
    "    epi = epi.astype(str)\n",
    "    muat = muat.astype(str)\n",
    "    if not epi.loc[:,['chrom', 'pos']].equals(muat.loc[:,['chrom', 'pos']]):\n",
    "        print(e)"
   ]
  },
  {
   "cell_type": "code",
   "execution_count": 28,
   "id": "c6d295a5-720f-406f-a7c9-10c33e0fd020",
   "metadata": {},
   "outputs": [],
   "source": [
    "e = pd.read_csv('/csc/epitkane/projects/multimodal/data/train_new/test_epipos/ColoRect-AdenoCA/31e63f89-a6a9-40fb-823d-f41587bd73d8/SNV_order_31e63f89-a6a9-40fb-823d-f41587bd73d8.tsv.gz', compression='gzip', sep='\\t', index_col= 0, low_memory= False)\n",
    "m = e = pd.read_csv('/csc/epitkane/projects/multimodal/data/train_new/muat_orig_epipos/ColoRect-AdenoCA/31e63f89-a6a9-40fb-823d-f41587bd73d8/SNV_31e63f89-a6a9-40fb-823d-f41587bd73d8.tsv.gz', compression='gzip', sep='\\t', index_col= 0, low_memory= False)"
   ]
  },
  {
   "cell_type": "code",
   "execution_count": 29,
   "id": "1378d1f6-7e60-40ad-be2b-2719383896fe",
   "metadata": {},
   "outputs": [],
   "source": [
    "e = e.astype(str)\n",
    "m = m.astype(str)"
   ]
  },
  {
   "cell_type": "code",
   "execution_count": 31,
   "id": "17c027db-3c8e-431a-8c24-7afe50e612a2",
   "metadata": {},
   "outputs": [
    {
     "data": {
      "text/plain": [
       "True"
      ]
     },
     "execution_count": 31,
     "metadata": {},
     "output_type": "execute_result"
    }
   ],
   "source": [
    "e.loc[:,['chrom', 'pos']].equals(m.loc[:,['chrom', 'pos']])"
   ]
  },
  {
   "cell_type": "code",
   "execution_count": 33,
   "id": "f14d7d90-259b-4577-8d9b-a65ee98711a8",
   "metadata": {},
   "outputs": [],
   "source": [
    "a = np.loadtxt('/csc/epitkane/projects/multimodal/data/test_epipos_fix/ColoRect-AdenoCA/0980e7fd-051d-45e9-9ca6-2baf073da4e8/SNV_0980e7fd-051d-45e9-9ca6-2baf073da4e8.txt.gz')"
   ]
  },
  {
   "cell_type": "code",
   "execution_count": 34,
   "id": "6637b45b-950e-4e5b-8fca-abc4bcbe3268",
   "metadata": {},
   "outputs": [
    {
     "data": {
      "text/plain": [
       "(823655, 50)"
      ]
     },
     "execution_count": 34,
     "metadata": {},
     "output_type": "execute_result"
    }
   ],
   "source": [
    "a.shape"
   ]
  },
  {
   "cell_type": "code",
   "execution_count": 2,
   "id": "fff56b35-8886-48fc-b757-fdcb604d8752",
   "metadata": {},
   "outputs": [],
   "source": [
    "epipos_orders = []\n",
    "epipos_orders = list_files_in_dir('/csc/epitkane/projects/multimodal/data/train_new/muat_orig_epipos/epipos', epipos_orders)\n",
    "epipos_orders = [i for i in epipos_orders if i[-7:] == '.txt.gz']"
   ]
  },
  {
   "cell_type": "code",
   "execution_count": 3,
   "id": "cc1b115c-4493-47da-9993-f0d8f543b819",
   "metadata": {},
   "outputs": [
    {
     "data": {
      "application/vnd.jupyter.widget-view+json": {
       "model_id": "6f6d0beecaba4026be7797fed62c9208",
       "version_major": 2,
       "version_minor": 0
      },
      "text/plain": [
       "  0%|          | 0/7649 [00:00<?, ?it/s]"
      ]
     },
     "metadata": {},
     "output_type": "display_data"
    },
    {
     "name": "stdout",
     "output_type": "stream",
     "text": [
      "/csc/epitkane/projects/multimodal/data/train_new/muat_orig_epipos/epipos/CNS-Medullo/13446fc4-9fa6-4bb3-a00a-b9265b41eb12/MNV_13446fc4-9fa6-4bb3-a00a-b9265b41eb12.txt.gz\n",
      "(1, 50)\n",
      "/csc/epitkane/projects/multimodal/data/train_new/muat_orig_epipos/epipos/CNS-PiloAstro/64e5ee38-e5c6-4911-ad87-c50dd8e52f1b/indel_64e5ee38-e5c6-4911-ad87-c50dd8e52f1b.txt.gz\n",
      "(1, 50)\n",
      "/csc/epitkane/projects/multimodal/data/train_new/muat_orig_epipos/epipos/CNS-PiloAstro/718c5a31-6b19-4f68-9fb9-79b0c00d64a5/indel_718c5a31-6b19-4f68-9fb9-79b0c00d64a5.txt.gz\n",
      "(1, 50)\n",
      "/csc/epitkane/projects/multimodal/data/train_new/muat_orig_epipos/epipos/CNS-PiloAstro/d4ecbf52-f6a9-4394-9d3b-8eb8eee1b17b/indel_d4ecbf52-f6a9-4394-9d3b-8eb8eee1b17b.txt.gz\n",
      "(1, 50)\n",
      "/csc/epitkane/projects/multimodal/data/train_new/muat_orig_epipos/epipos/CNS-PiloAstro/d884d070-6077-4155-9978-76aca7ba1e76/indel_d884d070-6077-4155-9978-76aca7ba1e76.txt.gz\n",
      "(1, 50)\n",
      "/csc/epitkane/projects/multimodal/data/train_new/muat_orig_epipos/epipos/CNS-PiloAstro/f54d6b6f-3bc2-41dd-81d0-74cf9e1e90e9/indel_f54d6b6f-3bc2-41dd-81d0-74cf9e1e90e9.txt.gz\n",
      "(1, 50)\n",
      "/csc/epitkane/projects/multimodal/data/train_new/muat_orig_epipos/epipos/Eso-AdenoCA/0efb6e20-236d-4640-9373-6fc03e67d090/indel_0efb6e20-236d-4640-9373-6fc03e67d090.txt.gz\n",
      "(1, 50)\n",
      "/csc/epitkane/projects/multimodal/data/train_new/muat_orig_epipos/epipos/Myeloid-MPN/f90b298a-0546-6c36-e040-11ac0c487a0b/indel_f90b298a-0546-6c36-e040-11ac0c487a0b.txt.gz\n",
      "(1, 50)\n",
      "/csc/epitkane/projects/multimodal/data/train_new/muat_orig_epipos/epipos/Myeloid-MPN/f92fde51-6a19-6641-e040-11ac0c484074/indel_f92fde51-6a19-6641-e040-11ac0c484074.txt.gz\n",
      "(1, 50)\n",
      "/csc/epitkane/projects/multimodal/data/train_new/muat_orig_epipos/epipos/Prost-AdenoCA/f9c07ba7-152a-f624-e040-11ac0c484cd5/indel_f9c07ba7-152a-f624-e040-11ac0c484cd5.txt.gz\n",
      "(1, 50)\n",
      "/csc/epitkane/projects/multimodal/data/train_new/muat_orig_epipos/epipos/Stomach-AdenoCA/c4e048de-1d43-4fbd-8289-9279b16c8a3a/indel_c4e048de-1d43-4fbd-8289-9279b16c8a3a.txt.gz\n",
      "(1, 50)\n"
     ]
    }
   ],
   "source": [
    "for e in tqdm(epipos_orders):\n",
    "    h = np.loadtxt(e)\n",
    "    if len(h.shape) != 2:\n",
    "        h = h.reshape(1,50)\n",
    "        print(e)\n",
    "        print(h.shape)\n",
    "        np.savetxt(e, h)"
   ]
  },
  {
   "cell_type": "markdown",
   "id": "a79e888b-2dab-404d-af5f-87ad751d9863",
   "metadata": {
    "jp-MarkdownHeadingCollapsed": true
   },
   "source": [
    "## Testing groundtruth model"
   ]
  },
  {
   "cell_type": "code",
   "execution_count": 2,
   "id": "25a3c925-9ea5-40c6-ab88-15206784a32b",
   "metadata": {},
   "outputs": [],
   "source": [
    "import os"
   ]
  },
  {
   "cell_type": "code",
   "execution_count": 3,
   "id": "1110a420-3c6b-4fbe-8540-0fe9417e7048",
   "metadata": {},
   "outputs": [],
   "source": [
    "def count_accuracy(df, targets):\n",
    "    correct = 0\n",
    "    logits = df.loc[:,'Bone-Osteosarc':'Uterus-AdenoCA']\n",
    "    for i in range(0, len(df)):\n",
    "        target = targets.iloc[i]\n",
    "        row_logits = logits.loc[i,:]\n",
    "        #print(row_logits)\n",
    "        pred = row_logits.idxmax()\n",
    "        #print(pred)\n",
    "        #print(target)\n",
    "        if target == pred:\n",
    "            correct += 1\n",
    "    return correct/len(df)"
   ]
  },
  {
   "cell_type": "code",
   "execution_count": 67,
   "id": "a507132c-d8c1-4fb2-9ea4-f153c611ae69",
   "metadata": {},
   "outputs": [
    {
     "name": "stdout",
     "output_type": "stream",
     "text": [
      "0.8844183053485379\n"
     ]
    }
   ],
   "source": [
    "acc = 0\n",
    "for i in range(1,11):\n",
    "    base = f'/csc/epitkane/projects/litegpt/ckptpuhti/fullpcawgfold{i}_11100_wpos_TripletPosition_bs5000_nl1_nh2_ne512_cl3/'\n",
    "    ground_truth = pd.read_csv(os.path.join(base, \"probability.csv\"), index_col=0)\n",
    "    targets = pd.read_csv(os.path.join(base, \"target.csv\"))\n",
    "    files = pd.read_csv(os.path.join(base, \"listsample.csv\")) \n",
    "    files = pd.DataFrame({'samples':files.loc[:,'0'].values.tolist()})\n",
    "    info = pd.read_csv(\"/csc/epitkane/projects/multimodal/data/utils/classinfo_pcawg_.csv\")\n",
    "    names = targets.merge(info, left_on='0', right_on='class_index', how='left')\n",
    "    names = names.loc[:,'class_name'].values.tolist()\n",
    "    files['nm_class'] =names\n",
    "    files['slices'] = [1]*len(files)\n",
    "    files['fold'] = [1]*len(files)\n",
    "    acc += count_accuracy(ground_truth, files.loc[:,'nm_class'])\n",
    "print(acc/10)"
   ]
  },
  {
   "cell_type": "code",
   "execution_count": 68,
   "id": "c617ddaf-456e-4187-a907-53f1e5ae337e",
   "metadata": {},
   "outputs": [],
   "source": [
    "base = '/csc/epitkane/projects/litegpt/ckptpuhti/fullpcawgfold9_11100_wpos_TripletPosition_bs5000_nl1_nh2_ne512_cl3/'"
   ]
  },
  {
   "cell_type": "code",
   "execution_count": 69,
   "id": "3c500552-63c2-49e7-9bd3-f972d1190ff6",
   "metadata": {},
   "outputs": [],
   "source": [
    "ground_truth = pd.read_csv(os.path.join(base, \"probability.csv\"), index_col=0)"
   ]
  },
  {
   "cell_type": "code",
   "execution_count": 70,
   "id": "c94e9f3a-4400-4be6-842e-26a9f12b6b82",
   "metadata": {},
   "outputs": [],
   "source": [
    "targets = pd.read_csv(os.path.join(base, \"target.csv\"))\n",
    "files = pd.read_csv(os.path.join(base, \"listsample.csv\")) \n",
    "files = pd.DataFrame({'samples':files.loc[:,'0'].values.tolist()})\n",
    "info = pd.read_csv(\"/csc/epitkane/projects/multimodal/data/utils/classinfo_pcawg_.csv\")\n",
    "names = targets.merge(info, left_on='0', right_on='class_index', how='left')\n",
    "names = names.loc[:,'class_name'].values.tolist()\n",
    "files['nm_class'] =names\n",
    "files['slices'] = [1]*len(files)\n",
    "files['fold'] = [1]*len(files)"
   ]
  },
  {
   "cell_type": "code",
   "execution_count": 71,
   "id": "96e827df-725e-43a1-88b4-9e7388d1eaf4",
   "metadata": {},
   "outputs": [
    {
     "data": {
      "text/plain": [
       "0.9069767441860465"
      ]
     },
     "execution_count": 71,
     "metadata": {},
     "output_type": "execute_result"
    }
   ],
   "source": [
    "count_accuracy(ground_truth, files.loc[:,'nm_class'])"
   ]
  },
  {
   "cell_type": "code",
   "execution_count": 9,
   "id": "48f86a63-f5bb-4297-bb70-cb426f956bf7",
   "metadata": {
    "scrolled": true
   },
   "outputs": [],
   "source": [
    "#files"
   ]
  },
  {
   "cell_type": "code",
   "execution_count": 10,
   "id": "e91ab334-69d8-4472-ba91-a8d8b764ef38",
   "metadata": {},
   "outputs": [],
   "source": [
    "#files.to_csv(\"/csc/epitkane/projects/multimodal/extfiles/pcawg_val_test.csv\")"
   ]
  },
  {
   "cell_type": "code",
   "execution_count": 64,
   "id": "122908a3-4f10-43d9-9c1f-135d55d09b69",
   "metadata": {},
   "outputs": [],
   "source": [
    "PCAWG = pd.read_csv(\"/csc/epitkane/projects/multimodal/extfiles/fullpcawg_val_checkpoint_11100_wpos_TripletPosition_bs5000_nl1_nh2_ne512_cl3.csv\", index_col=0)"
   ]
  },
  {
   "cell_type": "code",
   "execution_count": 65,
   "id": "4f9d50b2-82b0-4b94-b0c5-8c3eeec120be",
   "metadata": {},
   "outputs": [],
   "source": [
    "df = pd.DataFrame({'model':PCAWG[PCAWG.loc[:,'fold'] ==1].loc[:,'samples'], 'truth':files.loc[:,'samples']})"
   ]
  },
  {
   "cell_type": "code",
   "execution_count": null,
   "id": "6197d71f-da8b-445a-98a0-710f675650c4",
   "metadata": {
    "scrolled": true
   },
   "outputs": [],
   "source": [
    "#pd.set_option('display.max_rows', None)\n",
    "df"
   ]
  },
  {
   "cell_type": "code",
   "execution_count": 77,
   "id": "6624bd72-40ad-4b3d-a446-cf4a6d3212f6",
   "metadata": {},
   "outputs": [],
   "source": [
    "predicted = pd.read_csv(\"/csc/epitkane/projects/multimodal/models/MuAtMotifPos_orig_10_fold_fixed_zero_grad/fold_9/val_logits_fold9_best_vallogits.tsv.gz\", compression='gzip', sep='\\t')\n",
    "#predicted = pd.read_csv(\"/csc/epitkane/projects/multimodal/test_model/orig_implementation/val_logits.tsv\", sep='\\t')\n",
    "#predicted = pd.read_csv(\"/csc/epitkane/projects/multimodal/models/MuAtMotifPos_orig_10_fold_fixed_zero_grad/fold_1/val_logits_fold1_best_vallogits.tsv.gz\", compression='gzip', sep='\\t')"
   ]
  },
  {
   "cell_type": "code",
   "execution_count": 78,
   "id": "dce8ac68-263d-4695-9210-f47a23af9160",
   "metadata": {},
   "outputs": [
    {
     "data": {
      "text/html": [
       "<div>\n",
       "<style scoped>\n",
       "    .dataframe tbody tr th:only-of-type {\n",
       "        vertical-align: middle;\n",
       "    }\n",
       "\n",
       "    .dataframe tbody tr th {\n",
       "        vertical-align: top;\n",
       "    }\n",
       "\n",
       "    .dataframe thead th {\n",
       "        text-align: right;\n",
       "    }\n",
       "</style>\n",
       "<table border=\"1\" class=\"dataframe\">\n",
       "  <thead>\n",
       "    <tr style=\"text-align: right;\">\n",
       "      <th></th>\n",
       "      <th>Bone-Osteosarc</th>\n",
       "      <th>Breast-AdenoCA</th>\n",
       "      <th>CNS-GBM</th>\n",
       "      <th>CNS-Medullo</th>\n",
       "      <th>CNS-PiloAstro</th>\n",
       "      <th>ColoRect-AdenoCA</th>\n",
       "      <th>Eso-AdenoCA</th>\n",
       "      <th>Head-SCC</th>\n",
       "      <th>Kidney-ChRCC</th>\n",
       "      <th>Kidney-RCC</th>\n",
       "      <th>...</th>\n",
       "      <th>Lymph-CLL</th>\n",
       "      <th>Myeloid-MPN</th>\n",
       "      <th>Ovary-AdenoCA</th>\n",
       "      <th>Panc-AdenoCA</th>\n",
       "      <th>Panc-Endocrine</th>\n",
       "      <th>Prost-AdenoCA</th>\n",
       "      <th>Skin-Melanoma</th>\n",
       "      <th>Stomach-AdenoCA</th>\n",
       "      <th>Thy-AdenoCA</th>\n",
       "      <th>Uterus-AdenoCA</th>\n",
       "    </tr>\n",
       "  </thead>\n",
       "  <tbody>\n",
       "    <tr>\n",
       "      <th>0</th>\n",
       "      <td>4.702490</td>\n",
       "      <td>-1.264239</td>\n",
       "      <td>1.609987</td>\n",
       "      <td>0.895722</td>\n",
       "      <td>-1.536368</td>\n",
       "      <td>-6.890939</td>\n",
       "      <td>0.209029</td>\n",
       "      <td>-1.102477</td>\n",
       "      <td>-5.673927</td>\n",
       "      <td>-5.333275</td>\n",
       "      <td>...</td>\n",
       "      <td>1.959397</td>\n",
       "      <td>0.927518</td>\n",
       "      <td>3.141655</td>\n",
       "      <td>8.889136</td>\n",
       "      <td>3.208280</td>\n",
       "      <td>0.789097</td>\n",
       "      <td>3.658869</td>\n",
       "      <td>-0.162928</td>\n",
       "      <td>-3.220208</td>\n",
       "      <td>-7.374795</td>\n",
       "    </tr>\n",
       "    <tr>\n",
       "      <th>1</th>\n",
       "      <td>10.900906</td>\n",
       "      <td>2.584677</td>\n",
       "      <td>-1.896338</td>\n",
       "      <td>0.378731</td>\n",
       "      <td>-1.763025</td>\n",
       "      <td>-5.708251</td>\n",
       "      <td>4.254140</td>\n",
       "      <td>1.578215</td>\n",
       "      <td>0.636892</td>\n",
       "      <td>0.465058</td>\n",
       "      <td>...</td>\n",
       "      <td>-1.739323</td>\n",
       "      <td>-0.100079</td>\n",
       "      <td>-5.016763</td>\n",
       "      <td>1.140113</td>\n",
       "      <td>3.486802</td>\n",
       "      <td>-1.617320</td>\n",
       "      <td>5.810186</td>\n",
       "      <td>5.221578</td>\n",
       "      <td>-2.166786</td>\n",
       "      <td>-3.634579</td>\n",
       "    </tr>\n",
       "    <tr>\n",
       "      <th>2</th>\n",
       "      <td>10.175936</td>\n",
       "      <td>1.915897</td>\n",
       "      <td>0.069650</td>\n",
       "      <td>-1.110237</td>\n",
       "      <td>-3.590124</td>\n",
       "      <td>-6.150170</td>\n",
       "      <td>3.967411</td>\n",
       "      <td>1.407679</td>\n",
       "      <td>-2.350145</td>\n",
       "      <td>-1.173864</td>\n",
       "      <td>...</td>\n",
       "      <td>-0.232013</td>\n",
       "      <td>-0.749353</td>\n",
       "      <td>-1.310855</td>\n",
       "      <td>2.165340</td>\n",
       "      <td>6.187298</td>\n",
       "      <td>-7.029920</td>\n",
       "      <td>5.779738</td>\n",
       "      <td>3.449163</td>\n",
       "      <td>-1.129770</td>\n",
       "      <td>-2.492158</td>\n",
       "    </tr>\n",
       "    <tr>\n",
       "      <th>3</th>\n",
       "      <td>1.401752</td>\n",
       "      <td>-4.835634</td>\n",
       "      <td>-2.212931</td>\n",
       "      <td>3.378342</td>\n",
       "      <td>6.627678</td>\n",
       "      <td>-1.991411</td>\n",
       "      <td>0.439432</td>\n",
       "      <td>-1.445400</td>\n",
       "      <td>-1.005666</td>\n",
       "      <td>-1.509326</td>\n",
       "      <td>...</td>\n",
       "      <td>0.392094</td>\n",
       "      <td>6.117779</td>\n",
       "      <td>-4.025217</td>\n",
       "      <td>-1.892940</td>\n",
       "      <td>2.042058</td>\n",
       "      <td>4.636509</td>\n",
       "      <td>-2.782121</td>\n",
       "      <td>2.497840</td>\n",
       "      <td>1.721363</td>\n",
       "      <td>-3.491673</td>\n",
       "    </tr>\n",
       "    <tr>\n",
       "      <th>4</th>\n",
       "      <td>5.130456</td>\n",
       "      <td>11.372544</td>\n",
       "      <td>-0.707511</td>\n",
       "      <td>-1.410891</td>\n",
       "      <td>-5.441763</td>\n",
       "      <td>-7.412655</td>\n",
       "      <td>0.168574</td>\n",
       "      <td>1.198936</td>\n",
       "      <td>2.895670</td>\n",
       "      <td>-2.189699</td>\n",
       "      <td>...</td>\n",
       "      <td>-8.956708</td>\n",
       "      <td>-3.701063</td>\n",
       "      <td>9.969163</td>\n",
       "      <td>3.489908</td>\n",
       "      <td>4.024435</td>\n",
       "      <td>-8.425769</td>\n",
       "      <td>2.646266</td>\n",
       "      <td>-2.569123</td>\n",
       "      <td>3.154714</td>\n",
       "      <td>4.173816</td>\n",
       "    </tr>\n",
       "    <tr>\n",
       "      <th>...</th>\n",
       "      <td>...</td>\n",
       "      <td>...</td>\n",
       "      <td>...</td>\n",
       "      <td>...</td>\n",
       "      <td>...</td>\n",
       "      <td>...</td>\n",
       "      <td>...</td>\n",
       "      <td>...</td>\n",
       "      <td>...</td>\n",
       "      <td>...</td>\n",
       "      <td>...</td>\n",
       "      <td>...</td>\n",
       "      <td>...</td>\n",
       "      <td>...</td>\n",
       "      <td>...</td>\n",
       "      <td>...</td>\n",
       "      <td>...</td>\n",
       "      <td>...</td>\n",
       "      <td>...</td>\n",
       "      <td>...</td>\n",
       "      <td>...</td>\n",
       "    </tr>\n",
       "    <tr>\n",
       "      <th>253</th>\n",
       "      <td>1.906505</td>\n",
       "      <td>10.356485</td>\n",
       "      <td>-5.350615</td>\n",
       "      <td>-4.707689</td>\n",
       "      <td>-5.816116</td>\n",
       "      <td>-5.515005</td>\n",
       "      <td>4.074656</td>\n",
       "      <td>9.743393</td>\n",
       "      <td>0.690833</td>\n",
       "      <td>-0.307510</td>\n",
       "      <td>...</td>\n",
       "      <td>-14.286254</td>\n",
       "      <td>-5.610931</td>\n",
       "      <td>7.831545</td>\n",
       "      <td>2.693676</td>\n",
       "      <td>3.701429</td>\n",
       "      <td>-14.963284</td>\n",
       "      <td>0.966225</td>\n",
       "      <td>-0.392336</td>\n",
       "      <td>6.641311</td>\n",
       "      <td>9.559189</td>\n",
       "    </tr>\n",
       "    <tr>\n",
       "      <th>254</th>\n",
       "      <td>-1.416878</td>\n",
       "      <td>4.316829</td>\n",
       "      <td>0.247929</td>\n",
       "      <td>4.398658</td>\n",
       "      <td>-0.325143</td>\n",
       "      <td>3.592517</td>\n",
       "      <td>-0.193848</td>\n",
       "      <td>-0.599689</td>\n",
       "      <td>1.999790</td>\n",
       "      <td>2.554787</td>\n",
       "      <td>...</td>\n",
       "      <td>-9.559757</td>\n",
       "      <td>-2.415578</td>\n",
       "      <td>7.254203</td>\n",
       "      <td>-0.362216</td>\n",
       "      <td>0.677062</td>\n",
       "      <td>-1.949787</td>\n",
       "      <td>-3.785800</td>\n",
       "      <td>-0.536386</td>\n",
       "      <td>-2.645318</td>\n",
       "      <td>11.154263</td>\n",
       "    </tr>\n",
       "    <tr>\n",
       "      <th>255</th>\n",
       "      <td>-2.882744</td>\n",
       "      <td>1.584436</td>\n",
       "      <td>1.659711</td>\n",
       "      <td>2.737474</td>\n",
       "      <td>1.201954</td>\n",
       "      <td>3.954856</td>\n",
       "      <td>-1.114793</td>\n",
       "      <td>-1.014974</td>\n",
       "      <td>3.478107</td>\n",
       "      <td>1.337362</td>\n",
       "      <td>...</td>\n",
       "      <td>-8.246337</td>\n",
       "      <td>-3.723928</td>\n",
       "      <td>7.963425</td>\n",
       "      <td>-0.508686</td>\n",
       "      <td>1.501254</td>\n",
       "      <td>-2.341476</td>\n",
       "      <td>-4.834466</td>\n",
       "      <td>-0.064883</td>\n",
       "      <td>0.564903</td>\n",
       "      <td>9.772692</td>\n",
       "    </tr>\n",
       "    <tr>\n",
       "      <th>256</th>\n",
       "      <td>-7.734784</td>\n",
       "      <td>-5.574593</td>\n",
       "      <td>-2.273346</td>\n",
       "      <td>0.334445</td>\n",
       "      <td>2.568140</td>\n",
       "      <td>8.763996</td>\n",
       "      <td>1.487155</td>\n",
       "      <td>2.768582</td>\n",
       "      <td>-0.477406</td>\n",
       "      <td>9.995866</td>\n",
       "      <td>...</td>\n",
       "      <td>-7.028116</td>\n",
       "      <td>1.817668</td>\n",
       "      <td>-0.531746</td>\n",
       "      <td>-2.376385</td>\n",
       "      <td>-3.008701</td>\n",
       "      <td>1.457805</td>\n",
       "      <td>-9.023492</td>\n",
       "      <td>3.969723</td>\n",
       "      <td>-2.321998</td>\n",
       "      <td>12.478557</td>\n",
       "    </tr>\n",
       "    <tr>\n",
       "      <th>257</th>\n",
       "      <td>1.536663</td>\n",
       "      <td>4.774216</td>\n",
       "      <td>-3.576678</td>\n",
       "      <td>-2.913898</td>\n",
       "      <td>-3.231631</td>\n",
       "      <td>-1.618051</td>\n",
       "      <td>4.303241</td>\n",
       "      <td>5.579980</td>\n",
       "      <td>-0.636153</td>\n",
       "      <td>1.755571</td>\n",
       "      <td>...</td>\n",
       "      <td>-11.070206</td>\n",
       "      <td>-4.162447</td>\n",
       "      <td>7.148808</td>\n",
       "      <td>1.712775</td>\n",
       "      <td>2.725838</td>\n",
       "      <td>-10.728196</td>\n",
       "      <td>-2.326270</td>\n",
       "      <td>1.547413</td>\n",
       "      <td>3.161411</td>\n",
       "      <td>9.509177</td>\n",
       "    </tr>\n",
       "  </tbody>\n",
       "</table>\n",
       "<p>258 rows × 24 columns</p>\n",
       "</div>"
      ],
      "text/plain": [
       "     Bone-Osteosarc  Breast-AdenoCA   CNS-GBM  CNS-Medullo  CNS-PiloAstro  \\\n",
       "0          4.702490       -1.264239  1.609987     0.895722      -1.536368   \n",
       "1         10.900906        2.584677 -1.896338     0.378731      -1.763025   \n",
       "2         10.175936        1.915897  0.069650    -1.110237      -3.590124   \n",
       "3          1.401752       -4.835634 -2.212931     3.378342       6.627678   \n",
       "4          5.130456       11.372544 -0.707511    -1.410891      -5.441763   \n",
       "..              ...             ...       ...          ...            ...   \n",
       "253        1.906505       10.356485 -5.350615    -4.707689      -5.816116   \n",
       "254       -1.416878        4.316829  0.247929     4.398658      -0.325143   \n",
       "255       -2.882744        1.584436  1.659711     2.737474       1.201954   \n",
       "256       -7.734784       -5.574593 -2.273346     0.334445       2.568140   \n",
       "257        1.536663        4.774216 -3.576678    -2.913898      -3.231631   \n",
       "\n",
       "     ColoRect-AdenoCA  Eso-AdenoCA  Head-SCC  Kidney-ChRCC  Kidney-RCC  ...  \\\n",
       "0           -6.890939     0.209029 -1.102477     -5.673927   -5.333275  ...   \n",
       "1           -5.708251     4.254140  1.578215      0.636892    0.465058  ...   \n",
       "2           -6.150170     3.967411  1.407679     -2.350145   -1.173864  ...   \n",
       "3           -1.991411     0.439432 -1.445400     -1.005666   -1.509326  ...   \n",
       "4           -7.412655     0.168574  1.198936      2.895670   -2.189699  ...   \n",
       "..                ...          ...       ...           ...         ...  ...   \n",
       "253         -5.515005     4.074656  9.743393      0.690833   -0.307510  ...   \n",
       "254          3.592517    -0.193848 -0.599689      1.999790    2.554787  ...   \n",
       "255          3.954856    -1.114793 -1.014974      3.478107    1.337362  ...   \n",
       "256          8.763996     1.487155  2.768582     -0.477406    9.995866  ...   \n",
       "257         -1.618051     4.303241  5.579980     -0.636153    1.755571  ...   \n",
       "\n",
       "     Lymph-CLL  Myeloid-MPN  Ovary-AdenoCA  Panc-AdenoCA  Panc-Endocrine  \\\n",
       "0     1.959397     0.927518       3.141655      8.889136        3.208280   \n",
       "1    -1.739323    -0.100079      -5.016763      1.140113        3.486802   \n",
       "2    -0.232013    -0.749353      -1.310855      2.165340        6.187298   \n",
       "3     0.392094     6.117779      -4.025217     -1.892940        2.042058   \n",
       "4    -8.956708    -3.701063       9.969163      3.489908        4.024435   \n",
       "..         ...          ...            ...           ...             ...   \n",
       "253 -14.286254    -5.610931       7.831545      2.693676        3.701429   \n",
       "254  -9.559757    -2.415578       7.254203     -0.362216        0.677062   \n",
       "255  -8.246337    -3.723928       7.963425     -0.508686        1.501254   \n",
       "256  -7.028116     1.817668      -0.531746     -2.376385       -3.008701   \n",
       "257 -11.070206    -4.162447       7.148808      1.712775        2.725838   \n",
       "\n",
       "     Prost-AdenoCA  Skin-Melanoma  Stomach-AdenoCA  Thy-AdenoCA  \\\n",
       "0         0.789097       3.658869        -0.162928    -3.220208   \n",
       "1        -1.617320       5.810186         5.221578    -2.166786   \n",
       "2        -7.029920       5.779738         3.449163    -1.129770   \n",
       "3         4.636509      -2.782121         2.497840     1.721363   \n",
       "4        -8.425769       2.646266        -2.569123     3.154714   \n",
       "..             ...            ...              ...          ...   \n",
       "253     -14.963284       0.966225        -0.392336     6.641311   \n",
       "254      -1.949787      -3.785800        -0.536386    -2.645318   \n",
       "255      -2.341476      -4.834466        -0.064883     0.564903   \n",
       "256       1.457805      -9.023492         3.969723    -2.321998   \n",
       "257     -10.728196      -2.326270         1.547413     3.161411   \n",
       "\n",
       "     Uterus-AdenoCA  \n",
       "0         -7.374795  \n",
       "1         -3.634579  \n",
       "2         -2.492158  \n",
       "3         -3.491673  \n",
       "4          4.173816  \n",
       "..              ...  \n",
       "253        9.559189  \n",
       "254       11.154263  \n",
       "255        9.772692  \n",
       "256       12.478557  \n",
       "257        9.509177  \n",
       "\n",
       "[258 rows x 24 columns]"
      ]
     },
     "execution_count": 78,
     "metadata": {},
     "output_type": "execute_result"
    }
   ],
   "source": [
    "ground_truth"
   ]
  },
  {
   "cell_type": "code",
   "execution_count": 79,
   "id": "207ef560-268c-43ad-8784-bac0c755874b",
   "metadata": {},
   "outputs": [
    {
     "data": {
      "text/html": [
       "<div>\n",
       "<style scoped>\n",
       "    .dataframe tbody tr th:only-of-type {\n",
       "        vertical-align: middle;\n",
       "    }\n",
       "\n",
       "    .dataframe tbody tr th {\n",
       "        vertical-align: top;\n",
       "    }\n",
       "\n",
       "    .dataframe thead th {\n",
       "        text-align: right;\n",
       "    }\n",
       "</style>\n",
       "<table border=\"1\" class=\"dataframe\">\n",
       "  <thead>\n",
       "    <tr style=\"text-align: right;\">\n",
       "      <th></th>\n",
       "      <th>Bone-Osteosarc</th>\n",
       "      <th>Breast-AdenoCA</th>\n",
       "      <th>CNS-GBM</th>\n",
       "      <th>CNS-Medullo</th>\n",
       "      <th>CNS-PiloAstro</th>\n",
       "      <th>ColoRect-AdenoCA</th>\n",
       "      <th>Eso-AdenoCA</th>\n",
       "      <th>Head-SCC</th>\n",
       "      <th>Kidney-ChRCC</th>\n",
       "      <th>Kidney-RCC</th>\n",
       "      <th>...</th>\n",
       "      <th>Panc-AdenoCA</th>\n",
       "      <th>Panc-Endocrine</th>\n",
       "      <th>Prost-AdenoCA</th>\n",
       "      <th>Skin-Melanoma</th>\n",
       "      <th>Stomach-AdenoCA</th>\n",
       "      <th>Thy-AdenoCA</th>\n",
       "      <th>Uterus-AdenoCA</th>\n",
       "      <th>target</th>\n",
       "      <th>target_name</th>\n",
       "      <th>sample</th>\n",
       "    </tr>\n",
       "  </thead>\n",
       "  <tbody>\n",
       "    <tr>\n",
       "      <th>0</th>\n",
       "      <td>3.926940</td>\n",
       "      <td>-4.404649</td>\n",
       "      <td>3.535940</td>\n",
       "      <td>-0.799068</td>\n",
       "      <td>-1.464853</td>\n",
       "      <td>-5.266735</td>\n",
       "      <td>2.989693</td>\n",
       "      <td>-2.446537</td>\n",
       "      <td>-5.237432</td>\n",
       "      <td>-6.868099</td>\n",
       "      <td>...</td>\n",
       "      <td>10.326580</td>\n",
       "      <td>2.196589</td>\n",
       "      <td>-3.409420</td>\n",
       "      <td>4.303656</td>\n",
       "      <td>-1.364747</td>\n",
       "      <td>-0.893581</td>\n",
       "      <td>-3.888031</td>\n",
       "      <td>[0]</td>\n",
       "      <td>Bone-Osteosarc</td>\n",
       "      <td>['f83f1eb8-b2c8-c3d6-e040-11ac0c48261e']</td>\n",
       "    </tr>\n",
       "    <tr>\n",
       "      <th>1</th>\n",
       "      <td>10.247198</td>\n",
       "      <td>-0.113230</td>\n",
       "      <td>0.927531</td>\n",
       "      <td>2.949957</td>\n",
       "      <td>-0.457773</td>\n",
       "      <td>-4.395071</td>\n",
       "      <td>-0.388317</td>\n",
       "      <td>-5.213696</td>\n",
       "      <td>1.900337</td>\n",
       "      <td>-1.296216</td>\n",
       "      <td>...</td>\n",
       "      <td>5.348355</td>\n",
       "      <td>2.669073</td>\n",
       "      <td>0.935720</td>\n",
       "      <td>0.982028</td>\n",
       "      <td>4.515584</td>\n",
       "      <td>-0.692779</td>\n",
       "      <td>-0.150798</td>\n",
       "      <td>[0]</td>\n",
       "      <td>Bone-Osteosarc</td>\n",
       "      <td>['f854ae3f-356d-f0ad-e040-11ac0c485dae']</td>\n",
       "    </tr>\n",
       "    <tr>\n",
       "      <th>2</th>\n",
       "      <td>11.536897</td>\n",
       "      <td>1.929139</td>\n",
       "      <td>0.892681</td>\n",
       "      <td>-2.113706</td>\n",
       "      <td>-5.948312</td>\n",
       "      <td>-6.383701</td>\n",
       "      <td>0.310385</td>\n",
       "      <td>-3.043523</td>\n",
       "      <td>-0.799770</td>\n",
       "      <td>1.794322</td>\n",
       "      <td>...</td>\n",
       "      <td>4.163595</td>\n",
       "      <td>5.533860</td>\n",
       "      <td>-5.426886</td>\n",
       "      <td>5.184233</td>\n",
       "      <td>3.791399</td>\n",
       "      <td>0.101267</td>\n",
       "      <td>0.783981</td>\n",
       "      <td>[0]</td>\n",
       "      <td>Bone-Osteosarc</td>\n",
       "      <td>['f86ae246-2492-9785-e040-11ac0d4813b0']</td>\n",
       "    </tr>\n",
       "    <tr>\n",
       "      <th>3</th>\n",
       "      <td>-3.305912</td>\n",
       "      <td>-8.316203</td>\n",
       "      <td>-1.985560</td>\n",
       "      <td>2.321224</td>\n",
       "      <td>9.733523</td>\n",
       "      <td>0.827899</td>\n",
       "      <td>2.715782</td>\n",
       "      <td>1.767245</td>\n",
       "      <td>-0.495581</td>\n",
       "      <td>-1.660732</td>\n",
       "      <td>...</td>\n",
       "      <td>-1.666397</td>\n",
       "      <td>-1.811193</td>\n",
       "      <td>4.488020</td>\n",
       "      <td>-5.299366</td>\n",
       "      <td>2.108207</td>\n",
       "      <td>4.566350</td>\n",
       "      <td>-4.118330</td>\n",
       "      <td>[0]</td>\n",
       "      <td>Bone-Osteosarc</td>\n",
       "      <td>['fc93e38d-6bd5-9912-e040-11ac0c4838cd']</td>\n",
       "    </tr>\n",
       "    <tr>\n",
       "      <th>4</th>\n",
       "      <td>5.842009</td>\n",
       "      <td>12.181273</td>\n",
       "      <td>0.007172</td>\n",
       "      <td>0.364507</td>\n",
       "      <td>-8.186638</td>\n",
       "      <td>-6.116848</td>\n",
       "      <td>-2.806248</td>\n",
       "      <td>2.948155</td>\n",
       "      <td>3.034819</td>\n",
       "      <td>0.391848</td>\n",
       "      <td>...</td>\n",
       "      <td>1.963405</td>\n",
       "      <td>4.051501</td>\n",
       "      <td>-7.419844</td>\n",
       "      <td>4.016503</td>\n",
       "      <td>-4.403675</td>\n",
       "      <td>1.931517</td>\n",
       "      <td>6.677391</td>\n",
       "      <td>[1]</td>\n",
       "      <td>Breast-AdenoCA</td>\n",
       "      <td>['110b5f05-ded7-45ec-b0f6-a941c92d77dd']</td>\n",
       "    </tr>\n",
       "    <tr>\n",
       "      <th>...</th>\n",
       "      <td>...</td>\n",
       "      <td>...</td>\n",
       "      <td>...</td>\n",
       "      <td>...</td>\n",
       "      <td>...</td>\n",
       "      <td>...</td>\n",
       "      <td>...</td>\n",
       "      <td>...</td>\n",
       "      <td>...</td>\n",
       "      <td>...</td>\n",
       "      <td>...</td>\n",
       "      <td>...</td>\n",
       "      <td>...</td>\n",
       "      <td>...</td>\n",
       "      <td>...</td>\n",
       "      <td>...</td>\n",
       "      <td>...</td>\n",
       "      <td>...</td>\n",
       "      <td>...</td>\n",
       "      <td>...</td>\n",
       "      <td>...</td>\n",
       "    </tr>\n",
       "    <tr>\n",
       "      <th>253</th>\n",
       "      <td>2.995948</td>\n",
       "      <td>11.558259</td>\n",
       "      <td>-2.636612</td>\n",
       "      <td>-2.917011</td>\n",
       "      <td>-6.300324</td>\n",
       "      <td>-2.755496</td>\n",
       "      <td>2.048807</td>\n",
       "      <td>9.772296</td>\n",
       "      <td>3.288156</td>\n",
       "      <td>1.058703</td>\n",
       "      <td>...</td>\n",
       "      <td>0.706878</td>\n",
       "      <td>2.769692</td>\n",
       "      <td>-12.648802</td>\n",
       "      <td>2.005544</td>\n",
       "      <td>-2.972754</td>\n",
       "      <td>6.227984</td>\n",
       "      <td>10.520501</td>\n",
       "      <td>[23]</td>\n",
       "      <td>Uterus-AdenoCA</td>\n",
       "      <td>['0c39c03a-ec84-42c6-be69-8e98bc7a9f5a']</td>\n",
       "    </tr>\n",
       "    <tr>\n",
       "      <th>254</th>\n",
       "      <td>1.903786</td>\n",
       "      <td>3.223448</td>\n",
       "      <td>2.894243</td>\n",
       "      <td>2.945192</td>\n",
       "      <td>-1.998395</td>\n",
       "      <td>1.935413</td>\n",
       "      <td>0.062288</td>\n",
       "      <td>-1.176673</td>\n",
       "      <td>2.055380</td>\n",
       "      <td>-0.480946</td>\n",
       "      <td>...</td>\n",
       "      <td>3.159697</td>\n",
       "      <td>-0.622564</td>\n",
       "      <td>-4.271716</td>\n",
       "      <td>-4.338048</td>\n",
       "      <td>-1.748085</td>\n",
       "      <td>-1.225453</td>\n",
       "      <td>10.030005</td>\n",
       "      <td>[23]</td>\n",
       "      <td>Uterus-AdenoCA</td>\n",
       "      <td>['493e7008-551c-4c0e-b567-a0f31868629e']</td>\n",
       "    </tr>\n",
       "    <tr>\n",
       "      <th>255</th>\n",
       "      <td>-2.532626</td>\n",
       "      <td>4.616404</td>\n",
       "      <td>2.234683</td>\n",
       "      <td>6.043796</td>\n",
       "      <td>-0.849505</td>\n",
       "      <td>5.355201</td>\n",
       "      <td>-5.286476</td>\n",
       "      <td>-2.922962</td>\n",
       "      <td>5.279253</td>\n",
       "      <td>3.330764</td>\n",
       "      <td>...</td>\n",
       "      <td>-3.291591</td>\n",
       "      <td>1.285418</td>\n",
       "      <td>0.935282</td>\n",
       "      <td>-8.049973</td>\n",
       "      <td>-1.719327</td>\n",
       "      <td>-2.342576</td>\n",
       "      <td>10.974082</td>\n",
       "      <td>[23]</td>\n",
       "      <td>Uterus-AdenoCA</td>\n",
       "      <td>['82d2ea5f-ebdc-4907-a287-fe837fd6b59c']</td>\n",
       "    </tr>\n",
       "    <tr>\n",
       "      <th>256</th>\n",
       "      <td>-0.620141</td>\n",
       "      <td>-4.180835</td>\n",
       "      <td>0.311225</td>\n",
       "      <td>1.936613</td>\n",
       "      <td>3.365710</td>\n",
       "      <td>11.838383</td>\n",
       "      <td>-0.142388</td>\n",
       "      <td>-0.413681</td>\n",
       "      <td>3.507673</td>\n",
       "      <td>9.730452</td>\n",
       "      <td>...</td>\n",
       "      <td>-5.781797</td>\n",
       "      <td>-4.780820</td>\n",
       "      <td>2.897219</td>\n",
       "      <td>-10.614366</td>\n",
       "      <td>8.443665</td>\n",
       "      <td>-4.040802</td>\n",
       "      <td>11.962983</td>\n",
       "      <td>[23]</td>\n",
       "      <td>Uterus-AdenoCA</td>\n",
       "      <td>['accfc45b-eae0-4991-a488-e217cdb46655']</td>\n",
       "    </tr>\n",
       "    <tr>\n",
       "      <th>257</th>\n",
       "      <td>3.738092</td>\n",
       "      <td>3.743041</td>\n",
       "      <td>2.318664</td>\n",
       "      <td>-2.814589</td>\n",
       "      <td>-3.070161</td>\n",
       "      <td>-2.073192</td>\n",
       "      <td>5.071248</td>\n",
       "      <td>0.207028</td>\n",
       "      <td>1.584396</td>\n",
       "      <td>-2.305772</td>\n",
       "      <td>...</td>\n",
       "      <td>3.071675</td>\n",
       "      <td>2.729402</td>\n",
       "      <td>-13.451217</td>\n",
       "      <td>-2.921383</td>\n",
       "      <td>-2.520381</td>\n",
       "      <td>6.147432</td>\n",
       "      <td>9.627937</td>\n",
       "      <td>[23]</td>\n",
       "      <td>Uterus-AdenoCA</td>\n",
       "      <td>['dec775c5-7d9a-4dc5-b399-dc4b7ba49d73']</td>\n",
       "    </tr>\n",
       "  </tbody>\n",
       "</table>\n",
       "<p>258 rows × 27 columns</p>\n",
       "</div>"
      ],
      "text/plain": [
       "     Bone-Osteosarc  Breast-AdenoCA   CNS-GBM  CNS-Medullo  CNS-PiloAstro  \\\n",
       "0          3.926940       -4.404649  3.535940    -0.799068      -1.464853   \n",
       "1         10.247198       -0.113230  0.927531     2.949957      -0.457773   \n",
       "2         11.536897        1.929139  0.892681    -2.113706      -5.948312   \n",
       "3         -3.305912       -8.316203 -1.985560     2.321224       9.733523   \n",
       "4          5.842009       12.181273  0.007172     0.364507      -8.186638   \n",
       "..              ...             ...       ...          ...            ...   \n",
       "253        2.995948       11.558259 -2.636612    -2.917011      -6.300324   \n",
       "254        1.903786        3.223448  2.894243     2.945192      -1.998395   \n",
       "255       -2.532626        4.616404  2.234683     6.043796      -0.849505   \n",
       "256       -0.620141       -4.180835  0.311225     1.936613       3.365710   \n",
       "257        3.738092        3.743041  2.318664    -2.814589      -3.070161   \n",
       "\n",
       "     ColoRect-AdenoCA  Eso-AdenoCA  Head-SCC  Kidney-ChRCC  Kidney-RCC  ...  \\\n",
       "0           -5.266735     2.989693 -2.446537     -5.237432   -6.868099  ...   \n",
       "1           -4.395071    -0.388317 -5.213696      1.900337   -1.296216  ...   \n",
       "2           -6.383701     0.310385 -3.043523     -0.799770    1.794322  ...   \n",
       "3            0.827899     2.715782  1.767245     -0.495581   -1.660732  ...   \n",
       "4           -6.116848    -2.806248  2.948155      3.034819    0.391848  ...   \n",
       "..                ...          ...       ...           ...         ...  ...   \n",
       "253         -2.755496     2.048807  9.772296      3.288156    1.058703  ...   \n",
       "254          1.935413     0.062288 -1.176673      2.055380   -0.480946  ...   \n",
       "255          5.355201    -5.286476 -2.922962      5.279253    3.330764  ...   \n",
       "256         11.838383    -0.142388 -0.413681      3.507673    9.730452  ...   \n",
       "257         -2.073192     5.071248  0.207028      1.584396   -2.305772  ...   \n",
       "\n",
       "     Panc-AdenoCA  Panc-Endocrine  Prost-AdenoCA  Skin-Melanoma  \\\n",
       "0       10.326580        2.196589      -3.409420       4.303656   \n",
       "1        5.348355        2.669073       0.935720       0.982028   \n",
       "2        4.163595        5.533860      -5.426886       5.184233   \n",
       "3       -1.666397       -1.811193       4.488020      -5.299366   \n",
       "4        1.963405        4.051501      -7.419844       4.016503   \n",
       "..            ...             ...            ...            ...   \n",
       "253      0.706878        2.769692     -12.648802       2.005544   \n",
       "254      3.159697       -0.622564      -4.271716      -4.338048   \n",
       "255     -3.291591        1.285418       0.935282      -8.049973   \n",
       "256     -5.781797       -4.780820       2.897219     -10.614366   \n",
       "257      3.071675        2.729402     -13.451217      -2.921383   \n",
       "\n",
       "     Stomach-AdenoCA  Thy-AdenoCA  Uterus-AdenoCA  target     target_name  \\\n",
       "0          -1.364747    -0.893581       -3.888031     [0]  Bone-Osteosarc   \n",
       "1           4.515584    -0.692779       -0.150798     [0]  Bone-Osteosarc   \n",
       "2           3.791399     0.101267        0.783981     [0]  Bone-Osteosarc   \n",
       "3           2.108207     4.566350       -4.118330     [0]  Bone-Osteosarc   \n",
       "4          -4.403675     1.931517        6.677391     [1]  Breast-AdenoCA   \n",
       "..               ...          ...             ...     ...             ...   \n",
       "253        -2.972754     6.227984       10.520501    [23]  Uterus-AdenoCA   \n",
       "254        -1.748085    -1.225453       10.030005    [23]  Uterus-AdenoCA   \n",
       "255        -1.719327    -2.342576       10.974082    [23]  Uterus-AdenoCA   \n",
       "256         8.443665    -4.040802       11.962983    [23]  Uterus-AdenoCA   \n",
       "257        -2.520381     6.147432        9.627937    [23]  Uterus-AdenoCA   \n",
       "\n",
       "                                       sample  \n",
       "0    ['f83f1eb8-b2c8-c3d6-e040-11ac0c48261e']  \n",
       "1    ['f854ae3f-356d-f0ad-e040-11ac0c485dae']  \n",
       "2    ['f86ae246-2492-9785-e040-11ac0d4813b0']  \n",
       "3    ['fc93e38d-6bd5-9912-e040-11ac0c4838cd']  \n",
       "4    ['110b5f05-ded7-45ec-b0f6-a941c92d77dd']  \n",
       "..                                        ...  \n",
       "253  ['0c39c03a-ec84-42c6-be69-8e98bc7a9f5a']  \n",
       "254  ['493e7008-551c-4c0e-b567-a0f31868629e']  \n",
       "255  ['82d2ea5f-ebdc-4907-a287-fe837fd6b59c']  \n",
       "256  ['accfc45b-eae0-4991-a488-e217cdb46655']  \n",
       "257  ['dec775c5-7d9a-4dc5-b399-dc4b7ba49d73']  \n",
       "\n",
       "[258 rows x 27 columns]"
      ]
     },
     "execution_count": 79,
     "metadata": {},
     "output_type": "execute_result"
    }
   ],
   "source": [
    "predicted"
   ]
  },
  {
   "cell_type": "code",
   "execution_count": 80,
   "id": "e22eb008-0901-48f8-8bdc-ab5adb2243ff",
   "metadata": {},
   "outputs": [],
   "source": [
    "logits = predicted.loc[:, 'Bone-Osteosarc':'Uterus-AdenoCA']\n",
    "logits = logits.idxmax(1)"
   ]
  },
  {
   "cell_type": "code",
   "execution_count": 81,
   "id": "69e35368-2a7e-4f67-9afb-0cc83e710cb1",
   "metadata": {},
   "outputs": [
    {
     "data": {
      "text/plain": [
       "0.8875968992248062"
      ]
     },
     "execution_count": 81,
     "metadata": {},
     "output_type": "execute_result"
    }
   ],
   "source": [
    "count_accuracy(predicted, files.loc[:,'nm_class'])"
   ]
  },
  {
   "cell_type": "code",
   "execution_count": 82,
   "id": "3bac6b89-8ce4-4562-a92d-8ae0a203e2ae",
   "metadata": {},
   "outputs": [],
   "source": [
    "truth = ground_truth.idxmax(1)"
   ]
  },
  {
   "cell_type": "code",
   "execution_count": 83,
   "id": "291c09c4-8754-4aa0-9036-45eff18990a5",
   "metadata": {},
   "outputs": [
    {
     "data": {
      "text/plain": [
       "0        Panc-AdenoCA\n",
       "1      Bone-Osteosarc\n",
       "2      Bone-Osteosarc\n",
       "3       CNS-PiloAstro\n",
       "4      Breast-AdenoCA\n",
       "            ...      \n",
       "253          Lung-SCC\n",
       "254    Uterus-AdenoCA\n",
       "255    Uterus-AdenoCA\n",
       "256    Uterus-AdenoCA\n",
       "257    Uterus-AdenoCA\n",
       "Length: 258, dtype: object"
      ]
     },
     "execution_count": 83,
     "metadata": {},
     "output_type": "execute_result"
    }
   ],
   "source": [
    "truth"
   ]
  },
  {
   "cell_type": "code",
   "execution_count": 84,
   "id": "5d077f44-2b1b-4f0d-bcf4-9c2508231630",
   "metadata": {},
   "outputs": [
    {
     "name": "stdout",
     "output_type": "stream",
     "text": [
      "                truth              pred\n",
      "0        Panc-AdenoCA      Panc-AdenoCA\n",
      "1      Bone-Osteosarc    Bone-Osteosarc\n",
      "2      Bone-Osteosarc    Bone-Osteosarc\n",
      "3       CNS-PiloAstro     CNS-PiloAstro\n",
      "4      Breast-AdenoCA    Breast-AdenoCA\n",
      "5      Breast-AdenoCA    Breast-AdenoCA\n",
      "6      Breast-AdenoCA    Breast-AdenoCA\n",
      "7      Breast-AdenoCA    Breast-AdenoCA\n",
      "8            Lung-SCC    Breast-AdenoCA\n",
      "9      Breast-AdenoCA     Ovary-AdenoCA\n",
      "10     Breast-AdenoCA    Breast-AdenoCA\n",
      "11     Breast-AdenoCA    Breast-AdenoCA\n",
      "12     Breast-AdenoCA    Breast-AdenoCA\n",
      "13     Breast-AdenoCA    Breast-AdenoCA\n",
      "14     Breast-AdenoCA    Breast-AdenoCA\n",
      "15     Breast-AdenoCA    Breast-AdenoCA\n",
      "16     Breast-AdenoCA    Breast-AdenoCA\n",
      "17       Panc-AdenoCA     Prost-AdenoCA\n",
      "18     Breast-AdenoCA    Breast-AdenoCA\n",
      "19     Breast-AdenoCA    Breast-AdenoCA\n",
      "20     Breast-AdenoCA    Breast-AdenoCA\n",
      "21     Breast-AdenoCA    Breast-AdenoCA\n",
      "22     Breast-AdenoCA    Breast-AdenoCA\n",
      "23     Breast-AdenoCA    Breast-AdenoCA\n",
      "24            CNS-GBM           CNS-GBM\n",
      "25            CNS-GBM           CNS-GBM\n",
      "26            CNS-GBM           CNS-GBM\n",
      "27            CNS-GBM           CNS-GBM\n",
      "28        CNS-Medullo       CNS-Medullo\n",
      "29        CNS-Medullo       CNS-Medullo\n",
      "30        CNS-Medullo       CNS-Medullo\n",
      "31        CNS-Medullo       CNS-Medullo\n",
      "32        CNS-Medullo       CNS-Medullo\n",
      "33        CNS-Medullo       CNS-Medullo\n",
      "34        CNS-Medullo       CNS-Medullo\n",
      "35        CNS-Medullo       CNS-Medullo\n",
      "36        CNS-Medullo     CNS-PiloAstro\n",
      "37        CNS-Medullo       CNS-Medullo\n",
      "38        CNS-Medullo       CNS-Medullo\n",
      "39        CNS-Medullo       CNS-Medullo\n",
      "40        CNS-Medullo       CNS-Medullo\n",
      "41        CNS-Medullo       CNS-Medullo\n",
      "42      CNS-PiloAstro     CNS-PiloAstro\n",
      "43      CNS-PiloAstro     CNS-PiloAstro\n",
      "44      CNS-PiloAstro     CNS-PiloAstro\n",
      "45      CNS-PiloAstro     CNS-PiloAstro\n",
      "46      CNS-PiloAstro     CNS-PiloAstro\n",
      "47      CNS-PiloAstro     CNS-PiloAstro\n",
      "48      CNS-PiloAstro     CNS-PiloAstro\n",
      "49      CNS-PiloAstro     CNS-PiloAstro\n",
      "50      CNS-PiloAstro     CNS-PiloAstro\n",
      "51   ColoRect-AdenoCA  ColoRect-AdenoCA\n",
      "52   ColoRect-AdenoCA  ColoRect-AdenoCA\n",
      "53   ColoRect-AdenoCA  ColoRect-AdenoCA\n",
      "54   ColoRect-AdenoCA  ColoRect-AdenoCA\n",
      "55   ColoRect-AdenoCA  ColoRect-AdenoCA\n",
      "56   ColoRect-AdenoCA  ColoRect-AdenoCA\n",
      "57        Eso-AdenoCA       Eso-AdenoCA\n",
      "58        Eso-AdenoCA       Eso-AdenoCA\n",
      "59        Eso-AdenoCA   Stomach-AdenoCA\n",
      "60        Eso-AdenoCA       Eso-AdenoCA\n",
      "61        Eso-AdenoCA       Eso-AdenoCA\n",
      "62        Eso-AdenoCA       Eso-AdenoCA\n",
      "63        Eso-AdenoCA       Eso-AdenoCA\n",
      "64           Head-SCC      Panc-AdenoCA\n",
      "65        Eso-AdenoCA       Eso-AdenoCA\n",
      "66        Eso-AdenoCA       Eso-AdenoCA\n",
      "67           Head-SCC          Head-SCC\n",
      "68           Head-SCC     CNS-PiloAstro\n",
      "69           Head-SCC         Liver-HCC\n",
      "70           Head-SCC          Head-SCC\n",
      "71           Head-SCC          Head-SCC\n",
      "72           Head-SCC          Head-SCC\n",
      "73      Prost-AdenoCA       Thy-AdenoCA\n",
      "74       Kidney-ChRCC      Kidney-ChRCC\n",
      "75       Kidney-ChRCC      Kidney-ChRCC\n",
      "76       Kidney-ChRCC      Kidney-ChRCC\n",
      "77         Kidney-RCC        Kidney-RCC\n",
      "78         Kidney-RCC        Kidney-RCC\n",
      "79         Kidney-RCC        Kidney-RCC\n",
      "80         Kidney-RCC        Kidney-RCC\n",
      "81         Kidney-RCC        Kidney-RCC\n",
      "82         Kidney-RCC        Kidney-RCC\n",
      "83      Ovary-AdenoCA    Uterus-AdenoCA\n",
      "84         Kidney-RCC        Kidney-RCC\n",
      "85      Ovary-AdenoCA     Ovary-AdenoCA\n",
      "86         Kidney-RCC        Kidney-RCC\n",
      "87         Kidney-RCC        Kidney-RCC\n",
      "88         Kidney-RCC        Kidney-RCC\n",
      "89         Kidney-RCC        Kidney-RCC\n",
      "90         Kidney-RCC        Kidney-RCC\n",
      "91         Kidney-RCC        Kidney-RCC\n",
      "92          Liver-HCC         Liver-HCC\n",
      "93          Liver-HCC         Liver-HCC\n",
      "94          Liver-HCC         Liver-HCC\n",
      "95          Liver-HCC         Liver-HCC\n",
      "96          Liver-HCC         Liver-HCC\n",
      "97          Liver-HCC         Liver-HCC\n",
      "98          Liver-HCC         Liver-HCC\n",
      "99          Liver-HCC         Liver-HCC\n",
      "100         Liver-HCC         Liver-HCC\n",
      "101        Kidney-RCC         Liver-HCC\n",
      "102         Liver-HCC         Liver-HCC\n",
      "103         Liver-HCC         Liver-HCC\n",
      "104         Liver-HCC         Liver-HCC\n",
      "105         Liver-HCC         Liver-HCC\n",
      "106         Liver-HCC         Liver-HCC\n",
      "107     Ovary-AdenoCA         Liver-HCC\n",
      "108         Liver-HCC         Liver-HCC\n",
      "109         Liver-HCC         Liver-HCC\n",
      "110         Liver-HCC         Liver-HCC\n",
      "111         Liver-HCC         Liver-HCC\n",
      "112         Liver-HCC         Liver-HCC\n",
      "113         Liver-HCC         Liver-HCC\n",
      "114         Liver-HCC         Liver-HCC\n",
      "115         Liver-HCC         Liver-HCC\n",
      "116         Liver-HCC         Liver-HCC\n",
      "117         Liver-HCC         Liver-HCC\n",
      "118         Liver-HCC         Liver-HCC\n",
      "119         Liver-HCC         Liver-HCC\n",
      "120         Liver-HCC         Liver-HCC\n",
      "121         Liver-HCC         Liver-HCC\n",
      "122         Liver-HCC         Liver-HCC\n",
      "123         Liver-HCC         Liver-HCC\n",
      "124      Lung-AdenoCA      Lung-AdenoCA\n",
      "125      Lung-AdenoCA      Lung-AdenoCA\n",
      "126      Lung-AdenoCA          Lung-SCC\n",
      "127      Lung-AdenoCA      Lung-AdenoCA\n",
      "128          Lung-SCC          Lung-SCC\n",
      "129          Lung-SCC          Lung-SCC\n",
      "130          Lung-SCC          Lung-SCC\n",
      "131          Lung-SCC          Lung-SCC\n",
      "132          Lung-SCC          Lung-SCC\n",
      "133        Lymph-BNHL        Lymph-BNHL\n",
      "134        Lymph-BNHL        Lymph-BNHL\n",
      "135        Lymph-BNHL        Lymph-BNHL\n",
      "136        Lymph-BNHL        Lymph-BNHL\n",
      "137        Lymph-BNHL        Lymph-BNHL\n",
      "138        Lymph-BNHL        Lymph-BNHL\n",
      "139        Lymph-BNHL        Lymph-BNHL\n",
      "140         Lymph-CLL         Lymph-CLL\n",
      "141        Lymph-BNHL        Lymph-BNHL\n",
      "142        Lymph-BNHL        Lymph-BNHL\n",
      "143         Lymph-CLL         Liver-HCC\n",
      "144         Lymph-CLL         Lymph-CLL\n",
      "145        Lymph-BNHL         Lymph-CLL\n",
      "146         Lymph-CLL         Lymph-CLL\n",
      "147         Lymph-CLL         Lymph-CLL\n",
      "148         Lymph-CLL         Lymph-CLL\n",
      "149        Lymph-BNHL        Lymph-BNHL\n",
      "150         Lymph-CLL         Lymph-CLL\n",
      "151         Lymph-CLL         Lymph-CLL\n",
      "152       CNS-Medullo       Myeloid-MPN\n",
      "153       Myeloid-MPN       Myeloid-MPN\n",
      "154       Myeloid-MPN       Myeloid-MPN\n",
      "155       Myeloid-MPN       Myeloid-MPN\n",
      "156       Myeloid-MPN       Myeloid-MPN\n",
      "157       Myeloid-MPN       Myeloid-MPN\n",
      "158       CNS-Medullo    Breast-AdenoCA\n",
      "159     Ovary-AdenoCA     Ovary-AdenoCA\n",
      "160     Ovary-AdenoCA     Ovary-AdenoCA\n",
      "161     Ovary-AdenoCA     Ovary-AdenoCA\n",
      "162     Ovary-AdenoCA     Ovary-AdenoCA\n",
      "163     Ovary-AdenoCA     Ovary-AdenoCA\n",
      "164     Ovary-AdenoCA     Ovary-AdenoCA\n",
      "165    Breast-AdenoCA    Breast-AdenoCA\n",
      "166     Ovary-AdenoCA     Ovary-AdenoCA\n",
      "167     Ovary-AdenoCA     Ovary-AdenoCA\n",
      "168    Uterus-AdenoCA    Uterus-AdenoCA\n",
      "169      Panc-AdenoCA      Panc-AdenoCA\n",
      "170      Panc-AdenoCA      Panc-AdenoCA\n",
      "171      Panc-AdenoCA      Panc-AdenoCA\n",
      "172          Head-SCC      Panc-AdenoCA\n",
      "173      Panc-AdenoCA      Panc-AdenoCA\n",
      "174      Panc-AdenoCA      Panc-AdenoCA\n",
      "175      Panc-AdenoCA      Panc-AdenoCA\n",
      "176      Panc-AdenoCA      Panc-AdenoCA\n",
      "177      Panc-AdenoCA      Panc-AdenoCA\n",
      "178      Panc-AdenoCA      Panc-AdenoCA\n",
      "179      Panc-AdenoCA      Panc-AdenoCA\n",
      "180      Panc-AdenoCA      Panc-AdenoCA\n",
      "181      Panc-AdenoCA      Panc-AdenoCA\n",
      "182      Panc-AdenoCA      Panc-AdenoCA\n",
      "183      Panc-AdenoCA      Panc-AdenoCA\n",
      "184      Panc-AdenoCA      Panc-AdenoCA\n",
      "185      Panc-AdenoCA      Panc-AdenoCA\n",
      "186      Panc-AdenoCA      Panc-AdenoCA\n",
      "187      Kidney-ChRCC      Panc-AdenoCA\n",
      "188      Panc-AdenoCA      Panc-AdenoCA\n",
      "189      Panc-AdenoCA      Panc-AdenoCA\n",
      "190      Panc-AdenoCA      Panc-AdenoCA\n",
      "191      Panc-AdenoCA      Panc-AdenoCA\n",
      "192      Panc-AdenoCA      Panc-AdenoCA\n",
      "193    Panc-Endocrine         Lymph-CLL\n",
      "194    Panc-Endocrine    Panc-Endocrine\n",
      "195    Panc-Endocrine       Thy-AdenoCA\n",
      "196    Panc-Endocrine         Lymph-CLL\n",
      "197    Panc-Endocrine    Panc-Endocrine\n",
      "198    Panc-Endocrine    Panc-Endocrine\n",
      "199    Panc-Endocrine       Thy-AdenoCA\n",
      "200      Panc-AdenoCA      Panc-AdenoCA\n",
      "201    Panc-Endocrine    Panc-Endocrine\n",
      "202     Prost-AdenoCA     Prost-AdenoCA\n",
      "203     Prost-AdenoCA     Prost-AdenoCA\n",
      "204     Prost-AdenoCA     Prost-AdenoCA\n",
      "205     Prost-AdenoCA     Prost-AdenoCA\n",
      "206     Prost-AdenoCA     Prost-AdenoCA\n",
      "207     Prost-AdenoCA     Prost-AdenoCA\n",
      "208     Prost-AdenoCA     Prost-AdenoCA\n",
      "209     Prost-AdenoCA     Prost-AdenoCA\n",
      "210     Prost-AdenoCA     Prost-AdenoCA\n",
      "211     Prost-AdenoCA     Prost-AdenoCA\n",
      "212     Prost-AdenoCA     Prost-AdenoCA\n",
      "213     Prost-AdenoCA     Prost-AdenoCA\n",
      "214     Prost-AdenoCA     Prost-AdenoCA\n",
      "215     Prost-AdenoCA     Prost-AdenoCA\n",
      "216     Prost-AdenoCA     Prost-AdenoCA\n",
      "217     Prost-AdenoCA     Prost-AdenoCA\n",
      "218     Prost-AdenoCA     Prost-AdenoCA\n",
      "219     Prost-AdenoCA     Prost-AdenoCA\n",
      "220     Prost-AdenoCA     Prost-AdenoCA\n",
      "221     Prost-AdenoCA     Prost-AdenoCA\n",
      "222     Prost-AdenoCA     Prost-AdenoCA\n",
      "223     Prost-AdenoCA     Prost-AdenoCA\n",
      "224     Prost-AdenoCA     Prost-AdenoCA\n",
      "225     Prost-AdenoCA     Prost-AdenoCA\n",
      "226     Prost-AdenoCA     Prost-AdenoCA\n",
      "227     Prost-AdenoCA     Prost-AdenoCA\n",
      "228     Prost-AdenoCA     Prost-AdenoCA\n",
      "229     Prost-AdenoCA     Prost-AdenoCA\n",
      "230     Skin-Melanoma     Skin-Melanoma\n",
      "231     Skin-Melanoma     Skin-Melanoma\n",
      "232     Skin-Melanoma     Skin-Melanoma\n",
      "233     Skin-Melanoma     Skin-Melanoma\n",
      "234     Skin-Melanoma     Skin-Melanoma\n",
      "235     Skin-Melanoma     Skin-Melanoma\n",
      "236     Skin-Melanoma     Skin-Melanoma\n",
      "237     Skin-Melanoma        Kidney-RCC\n",
      "238     Skin-Melanoma     Skin-Melanoma\n",
      "239     Skin-Melanoma     Skin-Melanoma\n",
      "240     Skin-Melanoma     Skin-Melanoma\n",
      "241       Eso-AdenoCA       Eso-AdenoCA\n",
      "242   Stomach-AdenoCA   Stomach-AdenoCA\n",
      "243   Stomach-AdenoCA   Stomach-AdenoCA\n",
      "244   Stomach-AdenoCA   Stomach-AdenoCA\n",
      "245      Panc-AdenoCA      Panc-AdenoCA\n",
      "246   Stomach-AdenoCA   Stomach-AdenoCA\n",
      "247   Stomach-AdenoCA   Stomach-AdenoCA\n",
      "248       Thy-AdenoCA       Thy-AdenoCA\n",
      "249       Thy-AdenoCA       Thy-AdenoCA\n",
      "250    Panc-Endocrine       Thy-AdenoCA\n",
      "251       Thy-AdenoCA       Thy-AdenoCA\n",
      "252       Thy-AdenoCA       Thy-AdenoCA\n",
      "253          Lung-SCC    Breast-AdenoCA\n",
      "254    Uterus-AdenoCA    Uterus-AdenoCA\n",
      "255    Uterus-AdenoCA    Uterus-AdenoCA\n",
      "256    Uterus-AdenoCA    Uterus-AdenoCA\n",
      "257    Uterus-AdenoCA     Ovary-AdenoCA\n"
     ]
    }
   ],
   "source": [
    "df = pd.DataFrame({'truth': truth.values.tolist(), 'pred': logits.values.tolist()})\n",
    "with pd.option_context('display.max_rows', None, 'display.max_columns', None): \n",
    "    print(df)"
   ]
  },
  {
   "cell_type": "code",
   "execution_count": 19,
   "id": "cdb6e9b3-3df9-4c8d-aba8-c3282fbcac99",
   "metadata": {},
   "outputs": [
    {
     "data": {
      "text/plain": [
       "0.8687258687258688"
      ]
     },
     "execution_count": 19,
     "metadata": {},
     "output_type": "execute_result"
    }
   ],
   "source": [
    "count_accuracy(ground_truth, files.loc[:,'nm_class'])"
   ]
  },
  {
   "cell_type": "markdown",
   "id": "8d8e11f7-f92c-4c11-a11c-53858d33ca6f",
   "metadata": {
    "jp-MarkdownHeadingCollapsed": true
   },
   "source": [
    "## Copy sample list"
   ]
  },
  {
   "cell_type": "code",
   "execution_count": 71,
   "id": "55002b9d-6dd3-4ae1-a6fd-d198961ae8c2",
   "metadata": {},
   "outputs": [],
   "source": [
    "files = pd.read_csv(\"/csc/epitkane/projects/litegpt/ckptpuhti/fullpcawgfold10_11100_wpos_TripletPosition_bs5000_nl1_nh1_ne128_cl3/listsample.csv\")"
   ]
  },
  {
   "cell_type": "code",
   "execution_count": 72,
   "id": "e97b74ed-8ea6-43a2-b9d0-71d445a71d42",
   "metadata": {},
   "outputs": [],
   "source": [
    "files = pd.DataFrame({'samples':files.loc[:,'0'].values.tolist()})"
   ]
  },
  {
   "cell_type": "code",
   "execution_count": 74,
   "id": "19db32fb-9ebd-44f9-a2d5-36d49f4a43b3",
   "metadata": {},
   "outputs": [
    {
     "data": {
      "text/html": [
       "<div>\n",
       "<style scoped>\n",
       "    .dataframe tbody tr th:only-of-type {\n",
       "        vertical-align: middle;\n",
       "    }\n",
       "\n",
       "    .dataframe tbody tr th {\n",
       "        vertical-align: top;\n",
       "    }\n",
       "\n",
       "    .dataframe thead th {\n",
       "        text-align: right;\n",
       "    }\n",
       "</style>\n",
       "<table border=\"1\" class=\"dataframe\">\n",
       "  <thead>\n",
       "    <tr style=\"text-align: right;\">\n",
       "      <th></th>\n",
       "      <th>Unnamed: 0</th>\n",
       "      <th>0</th>\n",
       "    </tr>\n",
       "  </thead>\n",
       "  <tbody>\n",
       "    <tr>\n",
       "      <th>0</th>\n",
       "      <td>0</td>\n",
       "      <td>0</td>\n",
       "    </tr>\n",
       "    <tr>\n",
       "      <th>1</th>\n",
       "      <td>1</td>\n",
       "      <td>0</td>\n",
       "    </tr>\n",
       "    <tr>\n",
       "      <th>2</th>\n",
       "      <td>2</td>\n",
       "      <td>0</td>\n",
       "    </tr>\n",
       "    <tr>\n",
       "      <th>3</th>\n",
       "      <td>3</td>\n",
       "      <td>0</td>\n",
       "    </tr>\n",
       "    <tr>\n",
       "      <th>4</th>\n",
       "      <td>4</td>\n",
       "      <td>1</td>\n",
       "    </tr>\n",
       "    <tr>\n",
       "      <th>...</th>\n",
       "      <td>...</td>\n",
       "      <td>...</td>\n",
       "    </tr>\n",
       "    <tr>\n",
       "      <th>253</th>\n",
       "      <td>253</td>\n",
       "      <td>23</td>\n",
       "    </tr>\n",
       "    <tr>\n",
       "      <th>254</th>\n",
       "      <td>254</td>\n",
       "      <td>23</td>\n",
       "    </tr>\n",
       "    <tr>\n",
       "      <th>255</th>\n",
       "      <td>255</td>\n",
       "      <td>23</td>\n",
       "    </tr>\n",
       "    <tr>\n",
       "      <th>256</th>\n",
       "      <td>256</td>\n",
       "      <td>23</td>\n",
       "    </tr>\n",
       "    <tr>\n",
       "      <th>257</th>\n",
       "      <td>257</td>\n",
       "      <td>23</td>\n",
       "    </tr>\n",
       "  </tbody>\n",
       "</table>\n",
       "<p>258 rows × 2 columns</p>\n",
       "</div>"
      ],
      "text/plain": [
       "     Unnamed: 0   0\n",
       "0             0   0\n",
       "1             1   0\n",
       "2             2   0\n",
       "3             3   0\n",
       "4             4   1\n",
       "..          ...  ..\n",
       "253         253  23\n",
       "254         254  23\n",
       "255         255  23\n",
       "256         256  23\n",
       "257         257  23\n",
       "\n",
       "[258 rows x 2 columns]"
      ]
     },
     "execution_count": 74,
     "metadata": {},
     "output_type": "execute_result"
    }
   ],
   "source": [
    "targets"
   ]
  },
  {
   "cell_type": "code",
   "execution_count": 75,
   "id": "8c5f684e-ccf0-4799-a3fd-647d9f7bad6a",
   "metadata": {},
   "outputs": [],
   "source": [
    "info = pd.read_csv(\"/csc/epitkane/projects/multimodal/data/utils/classinfo_pcawg_.csv\")"
   ]
  },
  {
   "cell_type": "code",
   "execution_count": 76,
   "id": "25707700-42bc-4770-8067-c4dbaec2e9df",
   "metadata": {},
   "outputs": [],
   "source": [
    "names = targets.merge(info, left_on='0', right_on='class_index', how='left')"
   ]
  },
  {
   "cell_type": "code",
   "execution_count": 77,
   "id": "2e191a74-3658-40dd-96f2-1a123242db3a",
   "metadata": {},
   "outputs": [],
   "source": [
    "names = names.loc[:,'class_name'].values.tolist()"
   ]
  },
  {
   "cell_type": "code",
   "execution_count": 78,
   "id": "5c6cdea3-d5d0-4e2b-a4cc-0b63a0679c7f",
   "metadata": {},
   "outputs": [],
   "source": [
    "files['nm_class'] =names"
   ]
  },
  {
   "cell_type": "code",
   "execution_count": 79,
   "id": "34625004-c871-4274-8479-8c5474c33dd4",
   "metadata": {},
   "outputs": [
    {
     "data": {
      "text/html": [
       "<div>\n",
       "<style scoped>\n",
       "    .dataframe tbody tr th:only-of-type {\n",
       "        vertical-align: middle;\n",
       "    }\n",
       "\n",
       "    .dataframe tbody tr th {\n",
       "        vertical-align: top;\n",
       "    }\n",
       "\n",
       "    .dataframe thead th {\n",
       "        text-align: right;\n",
       "    }\n",
       "</style>\n",
       "<table border=\"1\" class=\"dataframe\">\n",
       "  <thead>\n",
       "    <tr style=\"text-align: right;\">\n",
       "      <th></th>\n",
       "      <th>samples</th>\n",
       "      <th>nm_class</th>\n",
       "    </tr>\n",
       "  </thead>\n",
       "  <tbody>\n",
       "    <tr>\n",
       "      <th>0</th>\n",
       "      <td>f83fc777-5416-c3e9-e040-11ac0d482c8e.csv</td>\n",
       "      <td>Bone-Osteosarc</td>\n",
       "    </tr>\n",
       "    <tr>\n",
       "      <th>1</th>\n",
       "      <td>f856fa85-fdb8-c0b0-e040-11ac0d480b4e.csv</td>\n",
       "      <td>Bone-Osteosarc</td>\n",
       "    </tr>\n",
       "    <tr>\n",
       "      <th>2</th>\n",
       "      <td>f86b6ba2-8f4b-ee53-e040-11ac0d485904.csv</td>\n",
       "      <td>Bone-Osteosarc</td>\n",
       "    </tr>\n",
       "    <tr>\n",
       "      <th>3</th>\n",
       "      <td>fc9469d0-4d0e-bb59-e040-11ac0d481e59.csv</td>\n",
       "      <td>Bone-Osteosarc</td>\n",
       "    </tr>\n",
       "    <tr>\n",
       "      <th>4</th>\n",
       "      <td>13c312ec-0add-4758-ab8d-c193e2e08c6d.csv</td>\n",
       "      <td>Breast-AdenoCA</td>\n",
       "    </tr>\n",
       "    <tr>\n",
       "      <th>...</th>\n",
       "      <td>...</td>\n",
       "      <td>...</td>\n",
       "    </tr>\n",
       "    <tr>\n",
       "      <th>253</th>\n",
       "      <td>105a51c4-cc7e-4d0f-9cf8-e4d64a31d14d.csv</td>\n",
       "      <td>Uterus-AdenoCA</td>\n",
       "    </tr>\n",
       "    <tr>\n",
       "      <th>254</th>\n",
       "      <td>554b9439-7e11-43ec-8bc3-448c59100b9e.csv</td>\n",
       "      <td>Uterus-AdenoCA</td>\n",
       "    </tr>\n",
       "    <tr>\n",
       "      <th>255</th>\n",
       "      <td>8d4cb709-c95c-4bdc-844b-c0bfa2a3028e.csv</td>\n",
       "      <td>Uterus-AdenoCA</td>\n",
       "    </tr>\n",
       "    <tr>\n",
       "      <th>256</th>\n",
       "      <td>af96db5a-684f-41d1-a910-5a5193393d9c.csv</td>\n",
       "      <td>Uterus-AdenoCA</td>\n",
       "    </tr>\n",
       "    <tr>\n",
       "      <th>257</th>\n",
       "      <td>e7d74d34-3255-4c20-90fd-b105e6e229c8.csv</td>\n",
       "      <td>Uterus-AdenoCA</td>\n",
       "    </tr>\n",
       "  </tbody>\n",
       "</table>\n",
       "<p>258 rows × 2 columns</p>\n",
       "</div>"
      ],
      "text/plain": [
       "                                      samples        nm_class\n",
       "0    f83fc777-5416-c3e9-e040-11ac0d482c8e.csv  Bone-Osteosarc\n",
       "1    f856fa85-fdb8-c0b0-e040-11ac0d480b4e.csv  Bone-Osteosarc\n",
       "2    f86b6ba2-8f4b-ee53-e040-11ac0d485904.csv  Bone-Osteosarc\n",
       "3    fc9469d0-4d0e-bb59-e040-11ac0d481e59.csv  Bone-Osteosarc\n",
       "4    13c312ec-0add-4758-ab8d-c193e2e08c6d.csv  Breast-AdenoCA\n",
       "..                                        ...             ...\n",
       "253  105a51c4-cc7e-4d0f-9cf8-e4d64a31d14d.csv  Uterus-AdenoCA\n",
       "254  554b9439-7e11-43ec-8bc3-448c59100b9e.csv  Uterus-AdenoCA\n",
       "255  8d4cb709-c95c-4bdc-844b-c0bfa2a3028e.csv  Uterus-AdenoCA\n",
       "256  af96db5a-684f-41d1-a910-5a5193393d9c.csv  Uterus-AdenoCA\n",
       "257  e7d74d34-3255-4c20-90fd-b105e6e229c8.csv  Uterus-AdenoCA\n",
       "\n",
       "[258 rows x 2 columns]"
      ]
     },
     "execution_count": 79,
     "metadata": {},
     "output_type": "execute_result"
    }
   ],
   "source": [
    "files"
   ]
  },
  {
   "cell_type": "code",
   "execution_count": 80,
   "id": "bd929611-8023-4082-881e-0d3400c1e9c7",
   "metadata": {},
   "outputs": [],
   "source": [
    "files['slices'] = [10]*len(files)\n",
    "files['fold'] = [10]*len(files)"
   ]
  },
  {
   "cell_type": "code",
   "execution_count": 82,
   "id": "d4a927b7-5917-45e0-b9d1-d795edf52a4a",
   "metadata": {},
   "outputs": [],
   "source": [
    "files.to_csv(\"/csc/epitkane/projects/multimodal/extfiles/pcawg_val_test.csv\")"
   ]
  },
  {
   "cell_type": "code",
   "execution_count": 83,
   "id": "c0578596-e340-41f2-8999-a505fc1167e6",
   "metadata": {},
   "outputs": [
    {
     "data": {
      "text/html": [
       "<div>\n",
       "<style scoped>\n",
       "    .dataframe tbody tr th:only-of-type {\n",
       "        vertical-align: middle;\n",
       "    }\n",
       "\n",
       "    .dataframe tbody tr th {\n",
       "        vertical-align: top;\n",
       "    }\n",
       "\n",
       "    .dataframe thead th {\n",
       "        text-align: right;\n",
       "    }\n",
       "</style>\n",
       "<table border=\"1\" class=\"dataframe\">\n",
       "  <thead>\n",
       "    <tr style=\"text-align: right;\">\n",
       "      <th></th>\n",
       "      <th>samples</th>\n",
       "      <th>nm_class</th>\n",
       "      <th>slices</th>\n",
       "      <th>fold</th>\n",
       "    </tr>\n",
       "  </thead>\n",
       "  <tbody>\n",
       "    <tr>\n",
       "      <th>0</th>\n",
       "      <td>f83fc777-5416-c3e9-e040-11ac0d482c8e.csv</td>\n",
       "      <td>Bone-Osteosarc</td>\n",
       "      <td>10</td>\n",
       "      <td>10</td>\n",
       "    </tr>\n",
       "    <tr>\n",
       "      <th>1</th>\n",
       "      <td>f856fa85-fdb8-c0b0-e040-11ac0d480b4e.csv</td>\n",
       "      <td>Bone-Osteosarc</td>\n",
       "      <td>10</td>\n",
       "      <td>10</td>\n",
       "    </tr>\n",
       "    <tr>\n",
       "      <th>2</th>\n",
       "      <td>f86b6ba2-8f4b-ee53-e040-11ac0d485904.csv</td>\n",
       "      <td>Bone-Osteosarc</td>\n",
       "      <td>10</td>\n",
       "      <td>10</td>\n",
       "    </tr>\n",
       "    <tr>\n",
       "      <th>3</th>\n",
       "      <td>fc9469d0-4d0e-bb59-e040-11ac0d481e59.csv</td>\n",
       "      <td>Bone-Osteosarc</td>\n",
       "      <td>10</td>\n",
       "      <td>10</td>\n",
       "    </tr>\n",
       "    <tr>\n",
       "      <th>4</th>\n",
       "      <td>13c312ec-0add-4758-ab8d-c193e2e08c6d.csv</td>\n",
       "      <td>Breast-AdenoCA</td>\n",
       "      <td>10</td>\n",
       "      <td>10</td>\n",
       "    </tr>\n",
       "    <tr>\n",
       "      <th>...</th>\n",
       "      <td>...</td>\n",
       "      <td>...</td>\n",
       "      <td>...</td>\n",
       "      <td>...</td>\n",
       "    </tr>\n",
       "    <tr>\n",
       "      <th>253</th>\n",
       "      <td>105a51c4-cc7e-4d0f-9cf8-e4d64a31d14d.csv</td>\n",
       "      <td>Uterus-AdenoCA</td>\n",
       "      <td>10</td>\n",
       "      <td>10</td>\n",
       "    </tr>\n",
       "    <tr>\n",
       "      <th>254</th>\n",
       "      <td>554b9439-7e11-43ec-8bc3-448c59100b9e.csv</td>\n",
       "      <td>Uterus-AdenoCA</td>\n",
       "      <td>10</td>\n",
       "      <td>10</td>\n",
       "    </tr>\n",
       "    <tr>\n",
       "      <th>255</th>\n",
       "      <td>8d4cb709-c95c-4bdc-844b-c0bfa2a3028e.csv</td>\n",
       "      <td>Uterus-AdenoCA</td>\n",
       "      <td>10</td>\n",
       "      <td>10</td>\n",
       "    </tr>\n",
       "    <tr>\n",
       "      <th>256</th>\n",
       "      <td>af96db5a-684f-41d1-a910-5a5193393d9c.csv</td>\n",
       "      <td>Uterus-AdenoCA</td>\n",
       "      <td>10</td>\n",
       "      <td>10</td>\n",
       "    </tr>\n",
       "    <tr>\n",
       "      <th>257</th>\n",
       "      <td>e7d74d34-3255-4c20-90fd-b105e6e229c8.csv</td>\n",
       "      <td>Uterus-AdenoCA</td>\n",
       "      <td>10</td>\n",
       "      <td>10</td>\n",
       "    </tr>\n",
       "  </tbody>\n",
       "</table>\n",
       "<p>258 rows × 4 columns</p>\n",
       "</div>"
      ],
      "text/plain": [
       "                                      samples        nm_class  slices  fold\n",
       "0    f83fc777-5416-c3e9-e040-11ac0d482c8e.csv  Bone-Osteosarc      10    10\n",
       "1    f856fa85-fdb8-c0b0-e040-11ac0d480b4e.csv  Bone-Osteosarc      10    10\n",
       "2    f86b6ba2-8f4b-ee53-e040-11ac0d485904.csv  Bone-Osteosarc      10    10\n",
       "3    fc9469d0-4d0e-bb59-e040-11ac0d481e59.csv  Bone-Osteosarc      10    10\n",
       "4    13c312ec-0add-4758-ab8d-c193e2e08c6d.csv  Breast-AdenoCA      10    10\n",
       "..                                        ...             ...     ...   ...\n",
       "253  105a51c4-cc7e-4d0f-9cf8-e4d64a31d14d.csv  Uterus-AdenoCA      10    10\n",
       "254  554b9439-7e11-43ec-8bc3-448c59100b9e.csv  Uterus-AdenoCA      10    10\n",
       "255  8d4cb709-c95c-4bdc-844b-c0bfa2a3028e.csv  Uterus-AdenoCA      10    10\n",
       "256  af96db5a-684f-41d1-a910-5a5193393d9c.csv  Uterus-AdenoCA      10    10\n",
       "257  e7d74d34-3255-4c20-90fd-b105e6e229c8.csv  Uterus-AdenoCA      10    10\n",
       "\n",
       "[258 rows x 4 columns]"
      ]
     },
     "execution_count": 83,
     "metadata": {},
     "output_type": "execute_result"
    }
   ],
   "source": [
    "files"
   ]
  },
  {
   "cell_type": "markdown",
   "id": "5b44514e-4fd2-4f43-9975-505039516be3",
   "metadata": {
    "jp-MarkdownHeadingCollapsed": true
   },
   "source": [
    "## Collect the dataset"
   ]
  },
  {
   "cell_type": "code",
   "execution_count": 4,
   "id": "99e33708",
   "metadata": {},
   "outputs": [
    {
     "name": "stdout",
     "output_type": "stream",
     "text": [
      "['/csc/epitkane/projects/litegpt/ckptpuhti/fullpcawgfold1_11100_wpos_TripletPosition_bs5000_nl1_nh2_ne512_cl3/', '/csc/epitkane/projects/litegpt/ckptpuhti/fullpcawgfold2_11100_wpos_TripletPosition_bs5000_nl1_nh2_ne512_cl3/', '/csc/epitkane/projects/litegpt/ckptpuhti/fullpcawgfold3_11100_wpos_TripletPosition_bs5000_nl1_nh2_ne512_cl3/', '/csc/epitkane/projects/litegpt/ckptpuhti/fullpcawgfold4_11100_wpos_TripletPosition_bs5000_nl1_nh2_ne512_cl3/', '/csc/epitkane/projects/litegpt/ckptpuhti/fullpcawgfold5_11100_wpos_TripletPosition_bs5000_nl1_nh2_ne512_cl3/', '/csc/epitkane/projects/litegpt/ckptpuhti/fullpcawgfold6_11100_wpos_TripletPosition_bs5000_nl1_nh2_ne512_cl3/', '/csc/epitkane/projects/litegpt/ckptpuhti/fullpcawgfold7_11100_wpos_TripletPosition_bs5000_nl1_nh2_ne512_cl3/', '/csc/epitkane/projects/litegpt/ckptpuhti/fullpcawgfold8_11100_wpos_TripletPosition_bs5000_nl1_nh2_ne512_cl3/', '/csc/epitkane/projects/litegpt/ckptpuhti/fullpcawgfold9_11100_wpos_TripletPosition_bs5000_nl1_nh2_ne512_cl3/', '/csc/epitkane/projects/litegpt/ckptpuhti/fullpcawgfold10_11100_wpos_TripletPosition_bs5000_nl1_nh2_ne512_cl3/']\n"
     ]
    }
   ],
   "source": [
    "base_files = ['/csc/epitkane/projects/litegpt/ckptpuhti/fullpcawgfold{}_11100_wpos_TripletPosition_bs5000_nl1_nh2_ne512_cl3/'.format(fold) for fold in range(1,11)]\n",
    "print(base_files)"
   ]
  },
  {
   "cell_type": "code",
   "execution_count": 7,
   "id": "581eb2d1",
   "metadata": {},
   "outputs": [],
   "source": [
    "folds = []\n",
    "for i, base in enumerate(base_files):\n",
    "    targets = pd.read_csv(os.path.join(base, \"target.csv\"))\n",
    "    files = pd.read_csv(os.path.join(base, \"listsample.csv\")) \n",
    "    files = pd.DataFrame({'samples':files.loc[:,'0'].values.tolist()})\n",
    "    info = pd.read_csv(\"/csc/epitkane/projects/multimodal/data/utils/classinfo_pcawg_.csv\")\n",
    "    names = targets.merge(info, left_on='0', right_on='class_index', how='left')\n",
    "    names = names.loc[:,'class_name'].values.tolist()\n",
    "    files['nm_class'] =names\n",
    "    files['slices'] = [i+1]*len(files)\n",
    "    files['fold'] = [i+1]*len(files)\n",
    "    folds.append(files)"
   ]
  },
  {
   "cell_type": "code",
   "execution_count": 9,
   "id": "210f973a-74a6-416d-9a77-8248e3d048fd",
   "metadata": {},
   "outputs": [],
   "source": [
    "val_set = pd.concat(folds, ignore_index=True)"
   ]
  },
  {
   "cell_type": "code",
   "execution_count": 10,
   "id": "af0bdb92-e822-4e2c-8c43-7190e1690ce5",
   "metadata": {},
   "outputs": [
    {
     "data": {
      "text/html": [
       "<div>\n",
       "<style scoped>\n",
       "    .dataframe tbody tr th:only-of-type {\n",
       "        vertical-align: middle;\n",
       "    }\n",
       "\n",
       "    .dataframe tbody tr th {\n",
       "        vertical-align: top;\n",
       "    }\n",
       "\n",
       "    .dataframe thead th {\n",
       "        text-align: right;\n",
       "    }\n",
       "</style>\n",
       "<table border=\"1\" class=\"dataframe\">\n",
       "  <thead>\n",
       "    <tr style=\"text-align: right;\">\n",
       "      <th></th>\n",
       "      <th>samples</th>\n",
       "      <th>nm_class</th>\n",
       "      <th>slices</th>\n",
       "      <th>fold</th>\n",
       "    </tr>\n",
       "  </thead>\n",
       "  <tbody>\n",
       "    <tr>\n",
       "      <th>0</th>\n",
       "      <td>f221c897-6ad0-0df9-e040-11ac0c4813ef.csv</td>\n",
       "      <td>Bone-Osteosarc</td>\n",
       "      <td>1</td>\n",
       "      <td>1</td>\n",
       "    </tr>\n",
       "    <tr>\n",
       "      <th>1</th>\n",
       "      <td>f8407106-8a96-8f85-e040-11ac0d481656.csv</td>\n",
       "      <td>Bone-Osteosarc</td>\n",
       "      <td>1</td>\n",
       "      <td>1</td>\n",
       "    </tr>\n",
       "    <tr>\n",
       "      <th>2</th>\n",
       "      <td>f8572359-f29a-5945-e040-11ac0d4821cf.csv</td>\n",
       "      <td>Bone-Osteosarc</td>\n",
       "      <td>1</td>\n",
       "      <td>1</td>\n",
       "    </tr>\n",
       "    <tr>\n",
       "      <th>3</th>\n",
       "      <td>f86b7e84-7040-c751-e040-11ac0c485675.csv</td>\n",
       "      <td>Bone-Osteosarc</td>\n",
       "      <td>1</td>\n",
       "      <td>1</td>\n",
       "    </tr>\n",
       "    <tr>\n",
       "      <th>4</th>\n",
       "      <td>fc950c33-faa4-0241-e040-11ac0c486786.csv</td>\n",
       "      <td>Bone-Osteosarc</td>\n",
       "      <td>1</td>\n",
       "      <td>1</td>\n",
       "    </tr>\n",
       "    <tr>\n",
       "      <th>...</th>\n",
       "      <td>...</td>\n",
       "      <td>...</td>\n",
       "      <td>...</td>\n",
       "      <td>...</td>\n",
       "    </tr>\n",
       "    <tr>\n",
       "      <th>2582</th>\n",
       "      <td>105a51c4-cc7e-4d0f-9cf8-e4d64a31d14d.csv</td>\n",
       "      <td>Uterus-AdenoCA</td>\n",
       "      <td>10</td>\n",
       "      <td>10</td>\n",
       "    </tr>\n",
       "    <tr>\n",
       "      <th>2583</th>\n",
       "      <td>554b9439-7e11-43ec-8bc3-448c59100b9e.csv</td>\n",
       "      <td>Uterus-AdenoCA</td>\n",
       "      <td>10</td>\n",
       "      <td>10</td>\n",
       "    </tr>\n",
       "    <tr>\n",
       "      <th>2584</th>\n",
       "      <td>8d4cb709-c95c-4bdc-844b-c0bfa2a3028e.csv</td>\n",
       "      <td>Uterus-AdenoCA</td>\n",
       "      <td>10</td>\n",
       "      <td>10</td>\n",
       "    </tr>\n",
       "    <tr>\n",
       "      <th>2585</th>\n",
       "      <td>af96db5a-684f-41d1-a910-5a5193393d9c.csv</td>\n",
       "      <td>Uterus-AdenoCA</td>\n",
       "      <td>10</td>\n",
       "      <td>10</td>\n",
       "    </tr>\n",
       "    <tr>\n",
       "      <th>2586</th>\n",
       "      <td>e7d74d34-3255-4c20-90fd-b105e6e229c8.csv</td>\n",
       "      <td>Uterus-AdenoCA</td>\n",
       "      <td>10</td>\n",
       "      <td>10</td>\n",
       "    </tr>\n",
       "  </tbody>\n",
       "</table>\n",
       "<p>2587 rows × 4 columns</p>\n",
       "</div>"
      ],
      "text/plain": [
       "                                       samples        nm_class  slices  fold\n",
       "0     f221c897-6ad0-0df9-e040-11ac0c4813ef.csv  Bone-Osteosarc       1     1\n",
       "1     f8407106-8a96-8f85-e040-11ac0d481656.csv  Bone-Osteosarc       1     1\n",
       "2     f8572359-f29a-5945-e040-11ac0d4821cf.csv  Bone-Osteosarc       1     1\n",
       "3     f86b7e84-7040-c751-e040-11ac0c485675.csv  Bone-Osteosarc       1     1\n",
       "4     fc950c33-faa4-0241-e040-11ac0c486786.csv  Bone-Osteosarc       1     1\n",
       "...                                        ...             ...     ...   ...\n",
       "2582  105a51c4-cc7e-4d0f-9cf8-e4d64a31d14d.csv  Uterus-AdenoCA      10    10\n",
       "2583  554b9439-7e11-43ec-8bc3-448c59100b9e.csv  Uterus-AdenoCA      10    10\n",
       "2584  8d4cb709-c95c-4bdc-844b-c0bfa2a3028e.csv  Uterus-AdenoCA      10    10\n",
       "2585  af96db5a-684f-41d1-a910-5a5193393d9c.csv  Uterus-AdenoCA      10    10\n",
       "2586  e7d74d34-3255-4c20-90fd-b105e6e229c8.csv  Uterus-AdenoCA      10    10\n",
       "\n",
       "[2587 rows x 4 columns]"
      ]
     },
     "execution_count": 10,
     "metadata": {},
     "output_type": "execute_result"
    }
   ],
   "source": [
    "val_set"
   ]
  },
  {
   "cell_type": "code",
   "execution_count": 19,
   "id": "788fa33f-eb07-4395-8864-4b5fd719a904",
   "metadata": {},
   "outputs": [],
   "source": [
    "val_set.to_csv(\"/csc/epitkane/projects/multimodal/extfiles/fullpcawg_val_checkpoint_11100_wpos_TripletPosition_bs5000_nl1_nh2_ne512_cl3.csv\")"
   ]
  },
  {
   "cell_type": "code",
   "execution_count": 12,
   "id": "2512dc3b-902f-4d65-8b5d-94787063ec79",
   "metadata": {},
   "outputs": [],
   "source": [
    "train_set = pd.DataFrame()\n",
    "for skip in range(10):\n",
    "    for i in range(10):\n",
    "        if i != skip:\n",
    "            data_to_add = folds[i]\n",
    "            data_to_add['fold'] = [skip+1]*len(data_to_add)\n",
    "            train_set = pd.concat([train_set, data_to_add])\n",
    "        "
   ]
  },
  {
   "cell_type": "code",
   "execution_count": 14,
   "id": "4dd773eb-8570-48dc-b4f9-14f0aef2d39b",
   "metadata": {},
   "outputs": [
    {
     "data": {
      "text/html": [
       "<div>\n",
       "<style scoped>\n",
       "    .dataframe tbody tr th:only-of-type {\n",
       "        vertical-align: middle;\n",
       "    }\n",
       "\n",
       "    .dataframe tbody tr th {\n",
       "        vertical-align: top;\n",
       "    }\n",
       "\n",
       "    .dataframe thead th {\n",
       "        text-align: right;\n",
       "    }\n",
       "</style>\n",
       "<table border=\"1\" class=\"dataframe\">\n",
       "  <thead>\n",
       "    <tr style=\"text-align: right;\">\n",
       "      <th></th>\n",
       "      <th>samples</th>\n",
       "      <th>nm_class</th>\n",
       "      <th>slices</th>\n",
       "      <th>fold</th>\n",
       "    </tr>\n",
       "  </thead>\n",
       "  <tbody>\n",
       "    <tr>\n",
       "      <th>0</th>\n",
       "      <td>f82d213f-9843-28eb-e040-11ac0d483e48.csv</td>\n",
       "      <td>Bone-Osteosarc</td>\n",
       "      <td>2</td>\n",
       "      <td>1</td>\n",
       "    </tr>\n",
       "    <tr>\n",
       "      <th>1</th>\n",
       "      <td>f841c488-6b8d-6645-e040-11ac0c481418.csv</td>\n",
       "      <td>Bone-Osteosarc</td>\n",
       "      <td>2</td>\n",
       "      <td>1</td>\n",
       "    </tr>\n",
       "    <tr>\n",
       "      <th>2</th>\n",
       "      <td>f8593ac0-9480-22a0-e040-11ac0d48697a.csv</td>\n",
       "      <td>Bone-Osteosarc</td>\n",
       "      <td>2</td>\n",
       "      <td>1</td>\n",
       "    </tr>\n",
       "    <tr>\n",
       "      <th>3</th>\n",
       "      <td>f86e2d80-911b-7a19-e040-11ac0d486900.csv</td>\n",
       "      <td>Bone-Osteosarc</td>\n",
       "      <td>2</td>\n",
       "      <td>1</td>\n",
       "    </tr>\n",
       "    <tr>\n",
       "      <th>4</th>\n",
       "      <td>fc998aec-57dd-eab2-e040-11ac0d48680a.csv</td>\n",
       "      <td>Bone-Osteosarc</td>\n",
       "      <td>2</td>\n",
       "      <td>1</td>\n",
       "    </tr>\n",
       "    <tr>\n",
       "      <th>...</th>\n",
       "      <td>...</td>\n",
       "      <td>...</td>\n",
       "      <td>...</td>\n",
       "      <td>...</td>\n",
       "    </tr>\n",
       "    <tr>\n",
       "      <th>253</th>\n",
       "      <td>0c39c03a-ec84-42c6-be69-8e98bc7a9f5a.csv</td>\n",
       "      <td>Uterus-AdenoCA</td>\n",
       "      <td>9</td>\n",
       "      <td>10</td>\n",
       "    </tr>\n",
       "    <tr>\n",
       "      <th>254</th>\n",
       "      <td>493e7008-551c-4c0e-b567-a0f31868629e.csv</td>\n",
       "      <td>Uterus-AdenoCA</td>\n",
       "      <td>9</td>\n",
       "      <td>10</td>\n",
       "    </tr>\n",
       "    <tr>\n",
       "      <th>255</th>\n",
       "      <td>82d2ea5f-ebdc-4907-a287-fe837fd6b59c.csv</td>\n",
       "      <td>Uterus-AdenoCA</td>\n",
       "      <td>9</td>\n",
       "      <td>10</td>\n",
       "    </tr>\n",
       "    <tr>\n",
       "      <th>256</th>\n",
       "      <td>accfc45b-eae0-4991-a488-e217cdb46655.csv</td>\n",
       "      <td>Uterus-AdenoCA</td>\n",
       "      <td>9</td>\n",
       "      <td>10</td>\n",
       "    </tr>\n",
       "    <tr>\n",
       "      <th>257</th>\n",
       "      <td>dec775c5-7d9a-4dc5-b399-dc4b7ba49d73.csv</td>\n",
       "      <td>Uterus-AdenoCA</td>\n",
       "      <td>9</td>\n",
       "      <td>10</td>\n",
       "    </tr>\n",
       "  </tbody>\n",
       "</table>\n",
       "<p>23283 rows × 4 columns</p>\n",
       "</div>"
      ],
      "text/plain": [
       "                                      samples        nm_class  slices  fold\n",
       "0    f82d213f-9843-28eb-e040-11ac0d483e48.csv  Bone-Osteosarc       2     1\n",
       "1    f841c488-6b8d-6645-e040-11ac0c481418.csv  Bone-Osteosarc       2     1\n",
       "2    f8593ac0-9480-22a0-e040-11ac0d48697a.csv  Bone-Osteosarc       2     1\n",
       "3    f86e2d80-911b-7a19-e040-11ac0d486900.csv  Bone-Osteosarc       2     1\n",
       "4    fc998aec-57dd-eab2-e040-11ac0d48680a.csv  Bone-Osteosarc       2     1\n",
       "..                                        ...             ...     ...   ...\n",
       "253  0c39c03a-ec84-42c6-be69-8e98bc7a9f5a.csv  Uterus-AdenoCA       9    10\n",
       "254  493e7008-551c-4c0e-b567-a0f31868629e.csv  Uterus-AdenoCA       9    10\n",
       "255  82d2ea5f-ebdc-4907-a287-fe837fd6b59c.csv  Uterus-AdenoCA       9    10\n",
       "256  accfc45b-eae0-4991-a488-e217cdb46655.csv  Uterus-AdenoCA       9    10\n",
       "257  dec775c5-7d9a-4dc5-b399-dc4b7ba49d73.csv  Uterus-AdenoCA       9    10\n",
       "\n",
       "[23283 rows x 4 columns]"
      ]
     },
     "execution_count": 14,
     "metadata": {},
     "output_type": "execute_result"
    }
   ],
   "source": [
    "train_set"
   ]
  },
  {
   "cell_type": "code",
   "execution_count": 26,
   "id": "0adc3c72-8d4e-446a-a8cb-f796d0628e10",
   "metadata": {},
   "outputs": [],
   "source": [
    "train_set = train_set.sort_values(['fold', 'nm_class'])\n",
    "#train_set = train_set.sort_values(['fold'])"
   ]
  },
  {
   "cell_type": "code",
   "execution_count": 27,
   "id": "05b23c65-cdd7-43d3-9222-b17ebbc3d499",
   "metadata": {},
   "outputs": [
    {
     "data": {
      "text/html": [
       "<div>\n",
       "<style scoped>\n",
       "    .dataframe tbody tr th:only-of-type {\n",
       "        vertical-align: middle;\n",
       "    }\n",
       "\n",
       "    .dataframe tbody tr th {\n",
       "        vertical-align: top;\n",
       "    }\n",
       "\n",
       "    .dataframe thead th {\n",
       "        text-align: right;\n",
       "    }\n",
       "</style>\n",
       "<table border=\"1\" class=\"dataframe\">\n",
       "  <thead>\n",
       "    <tr style=\"text-align: right;\">\n",
       "      <th></th>\n",
       "      <th>samples</th>\n",
       "      <th>nm_class</th>\n",
       "      <th>slices</th>\n",
       "      <th>fold</th>\n",
       "    </tr>\n",
       "  </thead>\n",
       "  <tbody>\n",
       "    <tr>\n",
       "      <th>0</th>\n",
       "      <td>f82d213f-9843-28eb-e040-11ac0d483e48.csv</td>\n",
       "      <td>Bone-Osteosarc</td>\n",
       "      <td>2</td>\n",
       "      <td>1</td>\n",
       "    </tr>\n",
       "    <tr>\n",
       "      <th>1</th>\n",
       "      <td>f854ae3f-356d-f0ad-e040-11ac0c485dae.csv</td>\n",
       "      <td>Bone-Osteosarc</td>\n",
       "      <td>9</td>\n",
       "      <td>1</td>\n",
       "    </tr>\n",
       "    <tr>\n",
       "      <th>0</th>\n",
       "      <td>f82d213f-caa7-fd59-e040-11ac0d483e46.csv</td>\n",
       "      <td>Bone-Osteosarc</td>\n",
       "      <td>6</td>\n",
       "      <td>1</td>\n",
       "    </tr>\n",
       "    <tr>\n",
       "      <th>0</th>\n",
       "      <td>f83f1eb8-b2c8-c3d6-e040-11ac0c48261e.csv</td>\n",
       "      <td>Bone-Osteosarc</td>\n",
       "      <td>9</td>\n",
       "      <td>1</td>\n",
       "    </tr>\n",
       "    <tr>\n",
       "      <th>3</th>\n",
       "      <td>f8809cee-8f81-28f8-e040-11ac0d4873bf.csv</td>\n",
       "      <td>Bone-Osteosarc</td>\n",
       "      <td>8</td>\n",
       "      <td>1</td>\n",
       "    </tr>\n",
       "    <tr>\n",
       "      <th>...</th>\n",
       "      <td>...</td>\n",
       "      <td>...</td>\n",
       "      <td>...</td>\n",
       "      <td>...</td>\n",
       "    </tr>\n",
       "    <tr>\n",
       "      <th>258</th>\n",
       "      <td>eae45fbe-9f7d-4f59-a0a9-1f0f0d69afc4.csv</td>\n",
       "      <td>Uterus-AdenoCA</td>\n",
       "      <td>2</td>\n",
       "      <td>10</td>\n",
       "    </tr>\n",
       "    <tr>\n",
       "      <th>254</th>\n",
       "      <td>19def402-fb8d-4b27-90dd-ce9135a3c0a2.csv</td>\n",
       "      <td>Uterus-AdenoCA</td>\n",
       "      <td>3</td>\n",
       "      <td>10</td>\n",
       "    </tr>\n",
       "    <tr>\n",
       "      <th>255</th>\n",
       "      <td>638e80c7-9a6e-4a32-a621-fc4168e72343.csv</td>\n",
       "      <td>Uterus-AdenoCA</td>\n",
       "      <td>3</td>\n",
       "      <td>10</td>\n",
       "    </tr>\n",
       "    <tr>\n",
       "      <th>256</th>\n",
       "      <td>accfc45b-eae0-4991-a488-e217cdb46655.csv</td>\n",
       "      <td>Uterus-AdenoCA</td>\n",
       "      <td>9</td>\n",
       "      <td>10</td>\n",
       "    </tr>\n",
       "    <tr>\n",
       "      <th>257</th>\n",
       "      <td>dec775c5-7d9a-4dc5-b399-dc4b7ba49d73.csv</td>\n",
       "      <td>Uterus-AdenoCA</td>\n",
       "      <td>9</td>\n",
       "      <td>10</td>\n",
       "    </tr>\n",
       "  </tbody>\n",
       "</table>\n",
       "<p>23283 rows × 4 columns</p>\n",
       "</div>"
      ],
      "text/plain": [
       "                                      samples        nm_class  slices  fold\n",
       "0    f82d213f-9843-28eb-e040-11ac0d483e48.csv  Bone-Osteosarc       2     1\n",
       "1    f854ae3f-356d-f0ad-e040-11ac0c485dae.csv  Bone-Osteosarc       9     1\n",
       "0    f82d213f-caa7-fd59-e040-11ac0d483e46.csv  Bone-Osteosarc       6     1\n",
       "0    f83f1eb8-b2c8-c3d6-e040-11ac0c48261e.csv  Bone-Osteosarc       9     1\n",
       "3    f8809cee-8f81-28f8-e040-11ac0d4873bf.csv  Bone-Osteosarc       8     1\n",
       "..                                        ...             ...     ...   ...\n",
       "258  eae45fbe-9f7d-4f59-a0a9-1f0f0d69afc4.csv  Uterus-AdenoCA       2    10\n",
       "254  19def402-fb8d-4b27-90dd-ce9135a3c0a2.csv  Uterus-AdenoCA       3    10\n",
       "255  638e80c7-9a6e-4a32-a621-fc4168e72343.csv  Uterus-AdenoCA       3    10\n",
       "256  accfc45b-eae0-4991-a488-e217cdb46655.csv  Uterus-AdenoCA       9    10\n",
       "257  dec775c5-7d9a-4dc5-b399-dc4b7ba49d73.csv  Uterus-AdenoCA       9    10\n",
       "\n",
       "[23283 rows x 4 columns]"
      ]
     },
     "execution_count": 27,
     "metadata": {},
     "output_type": "execute_result"
    }
   ],
   "source": [
    "train_set"
   ]
  },
  {
   "cell_type": "code",
   "execution_count": 28,
   "id": "924d871c-155b-43c1-914d-f5ab896f7173",
   "metadata": {},
   "outputs": [],
   "source": [
    "train_set.to_csv(\"/csc/epitkane/projects/multimodal/extfiles/fullpcawg_train_checkpoint_11100_wpos_TripletPosition_bs5000_nl1_nh2_ne512_cl3.csv\")"
   ]
  },
  {
   "cell_type": "markdown",
   "id": "4555b8e2-ad88-45a9-847e-bff89cf224df",
   "metadata": {
    "jp-MarkdownHeadingCollapsed": true
   },
   "source": [
    "## Check model"
   ]
  },
  {
   "cell_type": "code",
   "execution_count": 26,
   "id": "acd295cc-9585-47ea-8b63-65442b7fafd2",
   "metadata": {},
   "outputs": [],
   "source": [
    "train_info = pd.read_csv(\"/csc/epitkane/projects/multimodal/models/MuAtMotifPos_orig_10_fold_fixed_zero_grad/fold_1/MuAtMotifPos_orig_10_fold_fold1.csv.gz\", compression='gzip')"
   ]
  },
  {
   "cell_type": "code",
   "execution_count": 30,
   "id": "5a11eb81-9449-4f65-bd71-d95b4479ba31",
   "metadata": {},
   "outputs": [
    {
     "data": {
      "text/plain": [
       "0.8494208494208494"
      ]
     },
     "execution_count": 30,
     "metadata": {},
     "output_type": "execute_result"
    }
   ],
   "source": [
    "np.max(train_info.loc[:,'vall_acc'].values)"
   ]
  },
  {
   "cell_type": "code",
   "execution_count": 31,
   "id": "ec128de8-c87b-4f01-bcbb-3c9a860a1834",
   "metadata": {},
   "outputs": [],
   "source": [
    "best_logits = pd.read_csv(\"/csc/epitkane/projects/multimodal/models/MuAtMotifPos_orig_10_fold_fixed_zero_grad/fold_1/val_logits_fold1_best_vallogits.tsv.gz\", compression='gzip', sep='\\t')"
   ]
  },
  {
   "cell_type": "code",
   "execution_count": 35,
   "id": "353c432d-fddf-4eba-936a-42cbbb017337",
   "metadata": {},
   "outputs": [],
   "source": [
    "def count_accuracy(df):\n",
    "    correct = 0\n",
    "    targets = df.loc[:,'target']\n",
    "    logits = df.loc[:,'Bone-Osteosarc':'Uterus-AdenoCA']\n",
    "    for i in range(0, len(df)):\n",
    "        target = int(targets.iloc[i].strip('[]'))\n",
    "        row_logits = logits.loc[i,:]\n",
    "        #print(row_logits)\n",
    "        pred = row_logits.values.argmax()\n",
    "        #print(pred)\n",
    "        #print(target)\n",
    "        if target == pred:\n",
    "            correct += 1\n",
    "    return correct/len(df)"
   ]
  },
  {
   "cell_type": "code",
   "execution_count": 36,
   "id": "50916106-429f-465f-bb1f-8bf631a1bef7",
   "metadata": {},
   "outputs": [
    {
     "data": {
      "text/plain": [
       "0.752895752895753"
      ]
     },
     "execution_count": 36,
     "metadata": {},
     "output_type": "execute_result"
    }
   ],
   "source": [
    "count_accuracy(best_logits)"
   ]
  },
  {
   "cell_type": "code",
   "execution_count": 38,
   "id": "c8d6ce5a-3659-47af-9ed8-22b6462bcad1",
   "metadata": {},
   "outputs": [
    {
     "data": {
      "text/plain": [
       "0      0.474903\n",
       "1      0.583012\n",
       "2      0.640927\n",
       "3      0.664093\n",
       "4      0.710425\n",
       "         ...   \n",
       "145    0.776062\n",
       "146    0.783784\n",
       "147    0.803089\n",
       "148    0.776062\n",
       "149    0.752896\n",
       "Name: vall_acc, Length: 150, dtype: float64"
      ]
     },
     "execution_count": 38,
     "metadata": {},
     "output_type": "execute_result"
    }
   ],
   "source": [
    "train_info.loc[:,'vall_acc']"
   ]
  },
  {
   "cell_type": "markdown",
   "id": "2cc85001-e052-499d-aac7-40889d11bbd4",
   "metadata": {},
   "source": [
    "## crete context data"
   ]
  },
  {
   "cell_type": "code",
   "execution_count": 7,
   "id": "6347c917-c6c2-4dac-84f3-b57663b9a47a",
   "metadata": {},
   "outputs": [],
   "source": [
    "paths = []\n",
    "paths = list_files_in_dir('/csc/epitkane/projects/multimodal/data/train_new/DNABERT_motif1001', paths)\n",
    "#paths = list_files_in_dir('/csc/epitkane/projects/multimodal/train/motif3', paths)\n",
    "paths.sort()"
   ]
  },
  {
   "cell_type": "code",
   "execution_count": 8,
   "id": "fb289207-fe22-469d-9002-b4cb1f8a0b2c",
   "metadata": {},
   "outputs": [],
   "source": [
    "arrays = [i for i in paths if i.split('/')[-1][-4:] == '.npz' ]"
   ]
  },
  {
   "cell_type": "code",
   "execution_count": 19,
   "id": "5b6114b0-e975-414c-bf63-bbc4bd47da20",
   "metadata": {},
   "outputs": [
    {
     "data": {
      "application/vnd.jupyter.widget-view+json": {
       "model_id": "afefddde796941b39d1c257dbc5d9a6a",
       "version_major": 2,
       "version_minor": 0
      },
      "text/plain": [
       "  0%|          | 0/7651 [00:00<?, ?it/s]"
      ]
     },
     "metadata": {},
     "output_type": "display_data"
    },
    {
     "ename": "KeyboardInterrupt",
     "evalue": "",
     "output_type": "error",
     "traceback": [
      "\u001b[0;31m---------------------------------------------------------------------------\u001b[0m",
      "\u001b[0;31mKeyboardInterrupt\u001b[0m                         Traceback (most recent call last)",
      "Cell \u001b[0;32mIn[19], line 10\u001b[0m\n\u001b[1;32m      8\u001b[0m \u001b[38;5;28;01mif\u001b[39;00m \u001b[38;5;129;01mnot\u001b[39;00m os\u001b[38;5;241m.\u001b[39mpath\u001b[38;5;241m.\u001b[39mexists(folder):\n\u001b[1;32m      9\u001b[0m     os\u001b[38;5;241m.\u001b[39mmakedirs(folder, exist_ok\u001b[38;5;241m=\u001b[39m\u001b[38;5;28;01mTrue\u001b[39;00m)\n\u001b[0;32m---> 10\u001b[0m \u001b[43mnp\u001b[49m\u001b[38;5;241;43m.\u001b[39;49m\u001b[43msavetxt\u001b[49m\u001b[43m(\u001b[49m\u001b[43mos\u001b[49m\u001b[38;5;241;43m.\u001b[39;49m\u001b[43mpath\u001b[49m\u001b[38;5;241;43m.\u001b[39;49m\u001b[43mjoin\u001b[49m\u001b[43m(\u001b[49m\u001b[43mfolder\u001b[49m\u001b[43m,\u001b[49m\u001b[43m \u001b[49m\u001b[43mfile\u001b[49m\u001b[43m)\u001b[49m\u001b[43m,\u001b[49m\u001b[43m \u001b[49m\u001b[43mA\u001b[49m\u001b[43m)\u001b[49m\n",
      "File \u001b[0;32m<__array_function__ internals>:180\u001b[0m, in \u001b[0;36msavetxt\u001b[0;34m(*args, **kwargs)\u001b[0m\n",
      "File \u001b[0;32m~/.conda/envs/dna/lib/python3.8/site-packages/numpy/lib/npyio.py:1558\u001b[0m, in \u001b[0;36msavetxt\u001b[0;34m(fname, X, fmt, delimiter, newline, header, footer, comments, encoding)\u001b[0m\n\u001b[1;32m   1554\u001b[0m         \u001b[38;5;28;01mexcept\u001b[39;00m \u001b[38;5;167;01mTypeError\u001b[39;00m \u001b[38;5;28;01mas\u001b[39;00m e:\n\u001b[1;32m   1555\u001b[0m             \u001b[38;5;28;01mraise\u001b[39;00m \u001b[38;5;167;01mTypeError\u001b[39;00m(\u001b[38;5;124m\"\u001b[39m\u001b[38;5;124mMismatch between array dtype (\u001b[39m\u001b[38;5;124m'\u001b[39m\u001b[38;5;132;01m%s\u001b[39;00m\u001b[38;5;124m'\u001b[39m\u001b[38;5;124m) and \u001b[39m\u001b[38;5;124m\"\u001b[39m\n\u001b[1;32m   1556\u001b[0m                             \u001b[38;5;124m\"\u001b[39m\u001b[38;5;124mformat specifier (\u001b[39m\u001b[38;5;124m'\u001b[39m\u001b[38;5;132;01m%s\u001b[39;00m\u001b[38;5;124m'\u001b[39m\u001b[38;5;124m)\u001b[39m\u001b[38;5;124m\"\u001b[39m\n\u001b[1;32m   1557\u001b[0m                             \u001b[38;5;241m%\u001b[39m (\u001b[38;5;28mstr\u001b[39m(X\u001b[38;5;241m.\u001b[39mdtype), \u001b[38;5;28mformat\u001b[39m)) \u001b[38;5;28;01mfrom\u001b[39;00m \u001b[38;5;21;01me\u001b[39;00m\n\u001b[0;32m-> 1558\u001b[0m         \u001b[43mfh\u001b[49m\u001b[38;5;241;43m.\u001b[39;49m\u001b[43mwrite\u001b[49m\u001b[43m(\u001b[49m\u001b[43mv\u001b[49m\u001b[43m)\u001b[49m\n\u001b[1;32m   1560\u001b[0m \u001b[38;5;28;01mif\u001b[39;00m \u001b[38;5;28mlen\u001b[39m(footer) \u001b[38;5;241m>\u001b[39m \u001b[38;5;241m0\u001b[39m:\n\u001b[1;32m   1561\u001b[0m     footer \u001b[38;5;241m=\u001b[39m footer\u001b[38;5;241m.\u001b[39mreplace(\u001b[38;5;124m'\u001b[39m\u001b[38;5;130;01m\\n\u001b[39;00m\u001b[38;5;124m'\u001b[39m, \u001b[38;5;124m'\u001b[39m\u001b[38;5;130;01m\\n\u001b[39;00m\u001b[38;5;124m'\u001b[39m \u001b[38;5;241m+\u001b[39m comments)\n",
      "File \u001b[0;32m~/.conda/envs/dna/lib/python3.8/gzip.py:280\u001b[0m, in \u001b[0;36mGzipFile.write\u001b[0;34m(self, data)\u001b[0m\n\u001b[1;32m    277\u001b[0m     length \u001b[38;5;241m=\u001b[39m data\u001b[38;5;241m.\u001b[39mnbytes\n\u001b[1;32m    279\u001b[0m \u001b[38;5;28;01mif\u001b[39;00m length \u001b[38;5;241m>\u001b[39m \u001b[38;5;241m0\u001b[39m:\n\u001b[0;32m--> 280\u001b[0m     \u001b[38;5;28mself\u001b[39m\u001b[38;5;241m.\u001b[39mfileobj\u001b[38;5;241m.\u001b[39mwrite(\u001b[38;5;28;43mself\u001b[39;49m\u001b[38;5;241;43m.\u001b[39;49m\u001b[43mcompress\u001b[49m\u001b[38;5;241;43m.\u001b[39;49m\u001b[43mcompress\u001b[49m\u001b[43m(\u001b[49m\u001b[43mdata\u001b[49m\u001b[43m)\u001b[49m)\n\u001b[1;32m    281\u001b[0m     \u001b[38;5;28mself\u001b[39m\u001b[38;5;241m.\u001b[39msize \u001b[38;5;241m+\u001b[39m\u001b[38;5;241m=\u001b[39m length\n\u001b[1;32m    282\u001b[0m     \u001b[38;5;28mself\u001b[39m\u001b[38;5;241m.\u001b[39mcrc \u001b[38;5;241m=\u001b[39m zlib\u001b[38;5;241m.\u001b[39mcrc32(data, \u001b[38;5;28mself\u001b[39m\u001b[38;5;241m.\u001b[39mcrc)\n",
      "\u001b[0;31mKeyboardInterrupt\u001b[0m: "
     ]
    }
   ],
   "source": [
    "base = '/csc/epitkane/projects/multimodal/data/train_new/DNABERT_1k_context'\n",
    "for array_path in tqdm(arrays):\n",
    "    arr = np.load(array_path)\n",
    "    A = arr['motif']\n",
    "    A = A[:, :768]\n",
    "    file = '1k_context_' + array_path.split('/')[-1].split('.')[0] + '.txt.gz'\n",
    "    folder = os.path.join(base, array_path.split('/')[-3], array_path.split('/')[-2])\n",
    "    if not os.path.exists(folder):\n",
    "        os.makedirs(folder, exist_ok=True)\n",
    "    np.savetxt(os.path.join(folder, file), A)"
   ]
  }
 ],
 "metadata": {
  "kernelspec": {
   "display_name": "Python 3 (ipykernel)",
   "language": "python",
   "name": "python3"
  },
  "language_info": {
   "codemirror_mode": {
    "name": "ipython",
    "version": 3
   },
   "file_extension": ".py",
   "mimetype": "text/x-python",
   "name": "python",
   "nbconvert_exporter": "python",
   "pygments_lexer": "ipython3",
   "version": "3.8.19"
  }
 },
 "nbformat": 4,
 "nbformat_minor": 5
}
