{
 "cells": [
  {
   "cell_type": "code",
   "execution_count": 3,
   "id": "e05b36fc-cb67-41d1-9f0d-d791e6a0a0d1",
   "metadata": {},
   "outputs": [],
   "source": [
    "import os\n",
    "import sys\n",
    "import gzip\n",
    "import pandas as pd\n",
    "import numpy as np"
   ]
  },
  {
   "cell_type": "code",
   "execution_count": 4,
   "id": "ae65bce0-60a0-49f7-a2f1-b25906629024",
   "metadata": {},
   "outputs": [],
   "source": [
    "from tqdm.notebook import tqdm"
   ]
  },
  {
   "cell_type": "code",
   "execution_count": null,
   "id": "2eda9ba7-ec4e-45c6-9f49-2ee673c62c14",
   "metadata": {},
   "outputs": [],
   "source": [
    "paths = [f'/csc/epitkane/projects/EpicSV/data/VAE_inputs/chromhmm/Indel_files/ChromHMM_epigenome_for_indels_problematic_excluded_{i}_full_annotation_final_missing_excluded.bed.gz' for i in range(1,4)]\n",
    "paths.append('/csc/epitkane/projects/EpicSV/data/VAE_inputs/chromhmm/Indel_files/ChromHMM_epigenome_for_indels_problematic_excluded__full_annotation_final_missing_excluded.bed.gz')"
   ]
  },
  {
   "cell_type": "code",
   "execution_count": null,
   "id": "511c85b4-107f-412d-b18c-8f405cfd5b12",
   "metadata": {},
   "outputs": [],
   "source": [
    "paths"
   ]
  },
  {
   "cell_type": "code",
   "execution_count": null,
   "id": "9a8eefb9-4f49-46a7-872b-92d032c1c784",
   "metadata": {},
   "outputs": [],
   "source": [
    "SNV_paths = [f'/csc/epitkane/projects/EpicSV/data/VAE_inputs/chromhmm/SNV_files/ChromHMM_epigenome_for_SNV_v2_problematic_excluded_{i}_full_annotation_final_missing_excluded.bed.gz' for i in range(1,9)]\n",
    "SNV_paths.append('/csc/epitkane/projects/EpicSV/data/VAE_inputs/chromhmm/SNV_files/ChromHMM_epigenome_for_SNV_v2_problematic_excluded__full_annotation_final_missing_excluded.bed.gz')"
   ]
  },
  {
   "cell_type": "code",
   "execution_count": null,
   "id": "8bcffd3b-265e-4a7a-82fb-70eccccaa138",
   "metadata": {},
   "outputs": [],
   "source": [
    "#annotation_file = pd.read_csv(path, sep='\\t', compression='gzip', low_memory=False, header=None)"
   ]
  },
  {
   "cell_type": "code",
   "execution_count": null,
   "id": "7ae7abd3-14f1-49c9-9d7e-1745cd4aae53",
   "metadata": {},
   "outputs": [],
   "source": [
    "#annotation_file"
   ]
  },
  {
   "cell_type": "markdown",
   "id": "550c0b3f-523a-46f5-a02a-eff8314bb9a8",
   "metadata": {},
   "source": [
    "## Get the order of the mutations "
   ]
  },
  {
   "cell_type": "code",
   "execution_count": null,
   "id": "d808a4ca-c0c0-48cf-a5fa-bafb7170706e",
   "metadata": {},
   "outputs": [],
   "source": [
    "classinfo_df = pd.read_csv('/csc/epitkane/projects/multimodal/data/utils/classinfo_pcawg_muat_orig.csv')\n",
    "dirs = classinfo_df['class_name'].values.tolist()"
   ]
  },
  {
   "cell_type": "code",
   "execution_count": null,
   "id": "af189dfe-d2bd-4d43-b1a6-c0a2de1db874",
   "metadata": {},
   "outputs": [],
   "source": [
    "for path in tqdm(paths, leave=True):\n",
    "    with gzip.open(path, 'rt') as input_file:\n",
    "        for line in tqdm(input_file, leave=False):\n",
    "            data_list = line.split('\\t')\n",
    "            tumour = data_list[14]\n",
    "            if tumour not in dirs:\n",
    "                continue\n",
    "            sample = data_list[8]\n",
    "            output_dir = os.path.join(os.getcwd(), os.pardir, 'data','epipos', tumour, sample)\n",
    "            output_file_name = 'indel_epi_pos_order_{}.tsv.gz'.format(sample)\n",
    "            \n",
    "            if not os.path.exists(output_dir):\n",
    "                os.makedirs(output_dir, exist_ok=True)\n",
    "                with gzip.open(os.path.join(output_dir, output_file_name), 'wt') as output_file:\n",
    "                    output_file.write('chrom\\tpos\\n')\n",
    "            \n",
    "            with gzip.open(os.path.join(output_dir, output_file_name), 'at') as output_file:\n",
    "                output_file.write('{}\\t{}\\n'.format(data_list[0][3:], data_list[4]))"
   ]
  },
  {
   "cell_type": "code",
   "execution_count": null,
   "id": "029a9ff2-3ff1-47ee-aa96-2846eaaad678",
   "metadata": {},
   "outputs": [],
   "source": [
    "for path in tqdm(['/csc/epitkane/projects/EpicSV/data/VAE_inputs/chromhmm/SNV_files/ChromHMM_epigenome_for_SNV_v2_problematic_excluded__full_annotation_final_missing_excluded.bed.gz'], leave=True):\n",
    "    with gzip.open(path, 'rt') as input_file:\n",
    "        for line in tqdm(input_file, leave=False):\n",
    "            data_list = line.split('\\t')\n",
    "            tumour = data_list[13]\n",
    "            if tumour not in dirs:\n",
    "                continue\n",
    "            sample = data_list[8]\n",
    "            output_dir = os.path.join(os.getcwd(), os.pardir, 'data','epipos', tumour, sample)\n",
    "            output_file_name = 'SNV_epi_pos_order_{}.tsv.gz'.format(sample)\n",
    "            \n",
    "            if not os.path.exists(output_dir):\n",
    "                os.makedirs(output_dir, exist_ok=True)\n",
    "                with gzip.open(os.path.join(output_dir, output_file_name), 'wt') as output_file:\n",
    "                    output_file.write('chrom\\tpos\\n')\n",
    "            \n",
    "            with gzip.open(os.path.join(output_dir, output_file_name), 'at') as output_file:\n",
    "                output_file.write('{}\\t{}\\n'.format(data_list[0][3:], data_list[4]))"
   ]
  },
  {
   "cell_type": "markdown",
   "id": "0f7af261-39b8-496f-be27-4692a8b4224b",
   "metadata": {},
   "source": [
    "## Ordering from the processed file "
   ]
  },
  {
   "cell_type": "code",
   "execution_count": null,
   "id": "b4899131-3a8e-452c-91fd-492fb8bd2d97",
   "metadata": {},
   "outputs": [],
   "source": [
    "data_file = pd.read_csv(\"/csc/epitkane/projects/multimodal/data/temp/DNABERT_motif3/Bone-Osteosarc/f82d213f-9ba5-7b6b-e040-11ac0c486882/SNV_f82d213f-9ba5-7b6b-e040-11ac0c486882.tsv.gz\", sep='\\t', compression='gzip', index_col=0)"
   ]
  },
  {
   "cell_type": "code",
   "execution_count": null,
   "id": "c9390bdf-0771-4b10-a9d9-2b7649899f0a",
   "metadata": {},
   "outputs": [],
   "source": [
    "data_file"
   ]
  },
  {
   "cell_type": "code",
   "execution_count": null,
   "id": "b008e93e-9ce7-4170-88ef-db5d6c0f17b1",
   "metadata": {},
   "outputs": [],
   "source": [
    "order_file = pd.read_csv('/csc/epitkane/projects/multimodal/data/epipos/Bone-Osteosarc/f82d213f-9ba5-7b6b-e040-11ac0c486882/SNV_epi_pos_order_f82d213f-9ba5-7b6b-e040-11ac0c486882.tsv.gz', sep='\\t', compression='gzip', header=None)\n",
    "order_file.columns = [\"chrom\", \"pos\"]"
   ]
  },
  {
   "cell_type": "code",
   "execution_count": null,
   "id": "f6cce06e-b0d8-4f65-b0c1-d607c26f6607",
   "metadata": {},
   "outputs": [],
   "source": [
    "order_file"
   ]
  },
  {
   "cell_type": "code",
   "execution_count": null,
   "id": "f5bec25f-aff7-41d2-8675-3f1915e2db96",
   "metadata": {},
   "outputs": [],
   "source": []
  },
  {
   "cell_type": "code",
   "execution_count": null,
   "id": "54f2e82c-8190-4a27-b090-df684b32de9f",
   "metadata": {},
   "outputs": [],
   "source": [
    "sorted_order_file = order_file.sort_values(by=[\"chrom\", \"pos\"], ignore_index=True)"
   ]
  },
  {
   "cell_type": "code",
   "execution_count": null,
   "id": "fc76712e-ab41-4f21-ba08-1b676e045411",
   "metadata": {},
   "outputs": [],
   "source": [
    "chroms = []\n",
    "for i in sorted_order_file.loc[:,'chrom'].values.tolist():\n",
    "    if i=='X' or i=='Y':\n",
    "        chroms.append(i)\n",
    "    else:\n",
    "        chroms.append(int(i))\n",
    "sorted_order_file.loc[:, 'chrom'] = chroms"
   ]
  },
  {
   "cell_type": "code",
   "execution_count": null,
   "id": "ee81f68b-d958-4bfb-93cc-d6187fdaf5c4",
   "metadata": {},
   "outputs": [],
   "source": [
    "type(sorted_order_file.loc[0, 'chrom'])"
   ]
  },
  {
   "cell_type": "code",
   "execution_count": null,
   "id": "1476338a-095d-4e0f-b501-690d3b7f6ab5",
   "metadata": {},
   "outputs": [],
   "source": [
    "sorted_order_file = sorted_order_file.sort_values(by=[\"chrom\", \"pos\"], ignore_index=True)\n",
    "sorted_order_file"
   ]
  },
  {
   "cell_type": "code",
   "execution_count": null,
   "id": "dfeae0d5-32d5-4601-8359-6e8b4a7efa2c",
   "metadata": {},
   "outputs": [],
   "source": [
    "type(sorted_order_file.loc[0,'chrom'])"
   ]
  },
  {
   "cell_type": "code",
   "execution_count": null,
   "id": "6aa27eb3-7999-4bbc-ad4b-5e19fbbbe22b",
   "metadata": {},
   "outputs": [],
   "source": [
    "chroms = []\n",
    "for i in data_file.loc[:,'chrom'].values.tolist():\n",
    "    if i=='X' or i=='Y':\n",
    "        chroms.append(i)\n",
    "    else:\n",
    "        chroms.append(int(i))\n",
    "data_file.loc[:, 'chrom'] = chroms"
   ]
  },
  {
   "cell_type": "code",
   "execution_count": null,
   "id": "68a41b8f-29c3-4ddb-86c2-4f7ee983c11e",
   "metadata": {},
   "outputs": [],
   "source": [
    "data_file.loc[:, 'chrom':'pos']"
   ]
  },
  {
   "cell_type": "code",
   "execution_count": null,
   "id": "33cb56d9-2ba8-458d-a24e-eb2106caeb63",
   "metadata": {},
   "outputs": [],
   "source": [
    "sorted_order_file[sorted_order_file.loc[:,'chrom']==11]\n"
   ]
  },
  {
   "cell_type": "code",
   "execution_count": null,
   "id": "f2c85cdf-2ef0-42f7-b7f8-3579ce14723c",
   "metadata": {},
   "outputs": [],
   "source": [
    "data_file.loc[:, 'chrom':'pos'][data_file.loc[:, 'chrom']==11]"
   ]
  },
  {
   "cell_type": "code",
   "execution_count": null,
   "id": "f6f70d29-8813-4576-8619-3446fcecaf58",
   "metadata": {},
   "outputs": [],
   "source": [
    "sorted_order_file[sorted_order_file.loc[:,'chrom']==1].compare(data_file.loc[:, 'chrom':'pos'][data_file.loc[:, 'chrom']==1])"
   ]
  },
  {
   "cell_type": "markdown",
   "id": "26b2417a-723d-44ac-9051-2f73f434693e",
   "metadata": {},
   "source": [
    "## Remove files"
   ]
  },
  {
   "cell_type": "code",
   "execution_count": null,
   "id": "5c506e46-45e1-4838-a5ea-60c6083b22fb",
   "metadata": {},
   "outputs": [],
   "source": [
    "df101 = pd.read_csv(\"/csc/epitkane/projects/multimodal/data/temp/onehot101/Bone-Osteosarc/f82d213f-9ba5-7b6b-e040-11ac0c486882/SNV_f82d213f-9ba5-7b6b-e040-11ac0c486882.tsv.gz\", sep='\\t', compression='gzip', index_col=0)\n",
    "df3 = pd.read_csv(\"/csc/epitkane/projects/multimodal/data/train/DNABERT_motif3/Bone-Osteosarc/f82d213f-9ba5-7b6b-e040-11ac0c486882/SNV_f82d213f-9ba5-7b6b-e040-11ac0c486882.tsv.gz\", sep='\\t', compression='gzip', index_col=0)\n",
    "df_MNV = pd.read_csv(\"/csc/epitkane/projects/multimodal/data/temp/DNABERT_motif3/Bone-Osteosarc/f82d213f-9ba5-7b6b-e040-11ac0c486882/MNV_f82d213f-9ba5-7b6b-e040-11ac0c486882.tsv.gz\", sep='\\t', compression='gzip', index_col=0)\n",
    "df_epi = pd.read_csv('/csc/epitkane/projects/multimodal/data/epipos/Bone-Osteosarc/f82d213f-9ba5-7b6b-e040-11ac0c486882/SNV_epi_pos_order_f82d213f-9ba5-7b6b-e040-11ac0c486882.tsv.gz', sep='\\t', compression='gzip', header=None)\n",
    "df_epi.columns = [\"chrom\", \"pos\"]\n",
    "df_epi = df_epi.sort_values(by=[\"chrom\", \"pos\"], ignore_index=True)\n",
    "pd.reset_option('max_rows')"
   ]
  },
  {
   "cell_type": "code",
   "execution_count": null,
   "id": "ec607f56-7be1-4452-8f80-ce9977693d4f",
   "metadata": {},
   "outputs": [],
   "source": [
    "len(df101)"
   ]
  },
  {
   "cell_type": "code",
   "execution_count": null,
   "id": "90173184-5b3d-49c6-a925-c00f47b18424",
   "metadata": {},
   "outputs": [],
   "source": [
    "len(df3)"
   ]
  },
  {
   "cell_type": "code",
   "execution_count": null,
   "id": "b49bff1e-1fd4-48ec-a8ba-426e9e30855d",
   "metadata": {},
   "outputs": [],
   "source": [
    "len(df_epi)"
   ]
  },
  {
   "cell_type": "code",
   "execution_count": null,
   "id": "6669807d-d9f1-4b4c-a3d1-18ff8c5c418a",
   "metadata": {},
   "outputs": [],
   "source": [
    "len(df_MNV)"
   ]
  },
  {
   "cell_type": "code",
   "execution_count": null,
   "id": "9a6cd867-bd1a-4a30-857b-cfa8b9ab64cc",
   "metadata": {},
   "outputs": [],
   "source": [
    "len(df3)-len(df_epi)"
   ]
  },
  {
   "cell_type": "code",
   "execution_count": null,
   "id": "8ba3d02a-ddc7-4c70-9aa2-adaae1c23cd0",
   "metadata": {},
   "outputs": [],
   "source": [
    "df1 = df101.loc[:, 'chrom':'pos']\n",
    "df1"
   ]
  },
  {
   "cell_type": "code",
   "execution_count": null,
   "id": "3882489a-5965-4108-b34d-cffe2d56584d",
   "metadata": {},
   "outputs": [],
   "source": [
    "df2 = df3.loc[:, 'chrom':'pos']\n",
    "df2"
   ]
  },
  {
   "cell_type": "code",
   "execution_count": null,
   "id": "a26da363-c264-45d3-8d37-b4ffc97cca33",
   "metadata": {},
   "outputs": [],
   "source": [
    "df2['original_indices'] = df2.index\n",
    "df_epi['original_indices_epi'] = df_epi.index"
   ]
  },
  {
   "cell_type": "code",
   "execution_count": null,
   "id": "88b9085c-6ebd-46da-b131-f8ce87b5def2",
   "metadata": {},
   "outputs": [],
   "source": [
    "df_filtered = pd.merge(df2, df_epi, on=['chrom', 'pos'], how='inner')\n",
    "pd.set_option('display.max_rows', None)"
   ]
  },
  {
   "cell_type": "code",
   "execution_count": null,
   "id": "daf46e7f-b7c8-4604-a058-4b8bd18ca6ff",
   "metadata": {},
   "outputs": [],
   "source": [
    "len(df_filtered)"
   ]
  },
  {
   "cell_type": "code",
   "execution_count": null,
   "id": "1f15c7d6-6273-4219-8b5d-cba1f22a9b2f",
   "metadata": {},
   "outputs": [],
   "source": [
    "removed_indices = df2[~df2['original_indices'].isin(df_filtered['original_indices'])].index\n",
    "removed_indices"
   ]
  },
  {
   "cell_type": "code",
   "execution_count": null,
   "id": "8136f9ee-1e93-4ccf-9277-1c2d7f7693ae",
   "metadata": {},
   "outputs": [],
   "source": [
    "removed_indices_epi = df_epi[~df_epi['original_indices_epi'].isin(df_filtered['original_indices_epi'])].index\n",
    "removed_indices_epi"
   ]
  },
  {
   "cell_type": "code",
   "execution_count": null,
   "id": "754616dc-7219-45ab-a225-7849d18daa1a",
   "metadata": {},
   "outputs": [],
   "source": [
    "len(removed_indices_epi)"
   ]
  },
  {
   "cell_type": "code",
   "execution_count": null,
   "id": "e1556f8b-f8f5-4715-8582-3917b703410f",
   "metadata": {},
   "outputs": [],
   "source": [
    "df2.loc[53,:]"
   ]
  },
  {
   "cell_type": "code",
   "execution_count": null,
   "id": "ca390977-6d21-401b-b287-50be319e8e73",
   "metadata": {},
   "outputs": [],
   "source": [
    "df_filtered_mnv = pd.merge(df_MNV.loc[:, 'chrom':'pos'], df_epi, on=['chrom', 'pos'], how='inner')"
   ]
  },
  {
   "cell_type": "code",
   "execution_count": null,
   "id": "4cde9a34-417c-46fe-bcb6-a18b9ebce055",
   "metadata": {},
   "outputs": [],
   "source": [
    "len(df_filtered_mnv)"
   ]
  },
  {
   "cell_type": "code",
   "execution_count": null,
   "id": "6ed7080a-fe3b-4cac-a64a-dc631652e9bc",
   "metadata": {},
   "outputs": [],
   "source": [
    "df_filtered = pd.merge(df3, df101, on=['chrom', 'pos'], how='inner')"
   ]
  },
  {
   "cell_type": "markdown",
   "id": "e1d1e790-83d6-454c-8af9-b8ff825b6f67",
   "metadata": {},
   "source": [
    "#### Duplicate removing"
   ]
  },
  {
   "cell_type": "code",
   "execution_count": null,
   "id": "1541a3fc-adc9-4d52-a896-e466eb1fe276",
   "metadata": {},
   "outputs": [],
   "source": [
    "df_duplicated = pd.concat((df3, df3), ignore_index=True)\n",
    "df_duplicated['original_index'] = df_duplicated.index"
   ]
  },
  {
   "cell_type": "code",
   "execution_count": null,
   "id": "b7d8730d-742a-4234-8a5b-1cfa9ed77d55",
   "metadata": {},
   "outputs": [],
   "source": [
    "jee = df_duplicated[df_duplicated.loc[:,'chrom':'pos'].duplicated(keep='first')==True].loc[:,'original_index'].tolist()"
   ]
  },
  {
   "cell_type": "code",
   "execution_count": null,
   "id": "efa7ef21-cb98-447b-b6fa-c9eb1480e78d",
   "metadata": {},
   "outputs": [],
   "source": [
    "jee"
   ]
  },
  {
   "cell_type": "code",
   "execution_count": null,
   "id": "683199eb-a682-4a67-95df-1897a1f906ed",
   "metadata": {},
   "outputs": [],
   "source": [
    "df_duplicated[df_duplicated.loc[:,'chrom':'pos'].duplicated(keep='first')==True].loc[:, 'original_index']"
   ]
  },
  {
   "cell_type": "code",
   "execution_count": null,
   "id": "113be201-2f95-4c8d-be5b-acfd59da1cc0",
   "metadata": {},
   "outputs": [],
   "source": [
    "df_MNV.loc[:, 'chrom':'pos']"
   ]
  },
  {
   "cell_type": "code",
   "execution_count": null,
   "id": "ac26f5d8-fd8c-41b5-b4d9-dba13ae8e5bd",
   "metadata": {},
   "outputs": [],
   "source": [
    "def filter_rows_mut(paths, paths101):\n",
    "    for file, file101 in zip(paths, paths101):\n",
    "        file_list = file.split('/')\n",
    "        df_data = pd.read_csv(file, sep='\\t', compression='gzip', index_col=0)\n",
    "        df_101 = pd.read_csv(file101, sep='\\t', compression='gzip', index_col=0)\n",
    "        \n",
    "        df_data['original_indices'] = df_data.index\n",
    "        df_filtered = pd.merge(df_data, df_101, on = ['chrom', 'pos'], how='inner')\n",
    "        removed_indices = df_data[~df_data['original_indices'].isin(df_filtered['original_indices'])].index\n",
    "        df_filtered.loc[:, df_filtered.columns != 'original_indices'].to_csv(file, sep='\\t', compression='gzip')\n",
    "\n",
    "        np_file = file[:-6] + 'npz'\n",
    "        arr = np.load(np_file)\n",
    "        fmotif = np.delete(arr['motif'], removed_indices.tolist(), axis=0)\n",
    "        fposition = np.delete(arr['position'], removed_indices.tolist(), axis=0)\n",
    "        fGES = np.delete(arr['GES'], removed_indices.tolist(), axis=0)\n",
    "        np.savez_compressed(file, motif=fmotif, position=fposition, GES = fGES)\n",
    "\n",
    "        count_file = \"/\"join.file_list[:-1] + '/count_' + file_list[-1].split('_')[-1]\n",
    "        count_df = pd.read_csv(count_file, sep='\\t', compression='gzip')\n",
    "        count_df.loc[0, mut_type] = len(fmotif)\n",
    "        count_df.to_csv(count_file, sep='\\t', compression='gzip')\n",
    "    \n",
    "    "
   ]
  },
  {
   "cell_type": "code",
   "execution_count": null,
   "id": "7b55d6fe-9e7e-4451-8fcb-cc004316cca2",
   "metadata": {},
   "outputs": [],
   "source": [
    "arr =np.load(\"/csc/epitkane/projects/multimodal/data/train/DNABERT_motif3/Bone-Osteosarc/f82d213f-9ba5-7b6b-e040-11ac0c486882/SNV_f82d213f-9ba5-7b6b-e040-11ac0c486882.npz\")"
   ]
  },
  {
   "cell_type": "code",
   "execution_count": null,
   "id": "e276d664-3369-4037-bd9c-bd2f9bb0b99c",
   "metadata": {},
   "outputs": [],
   "source": [
    "motif = arr['motif']\n",
    "pos = arr['position']\n",
    "GES = arr['GES']"
   ]
  },
  {
   "cell_type": "code",
   "execution_count": null,
   "id": "a02c924f-9bfc-45a3-8bf9-6832bb03a6ce",
   "metadata": {},
   "outputs": [],
   "source": [
    "len(motif) == len(GES)"
   ]
  },
  {
   "cell_type": "markdown",
   "id": "de347b77-acc9-4543-86bf-b8b5a833a6d1",
   "metadata": {},
   "source": [
    "#### sketch of the ordering function wich will be run as python script"
   ]
  },
  {
   "cell_type": "code",
   "execution_count": null,
   "id": "fda90b78-7cef-4c49-b357-4da36f658ac0",
   "metadata": {},
   "outputs": [],
   "source": [
    "for path, data in zip(epipos_paths, data_paths):\n",
    "    with gzip.open(path, 'rt') as input_file, open(data, 'rt'):\n",
    "        for line, data_line in zip(input_file, data_file):\n",
    "            data_list = line.split('\\t')\n",
    "            tumour = data_list[14]\n",
    "            if tumour not in dirs:\n",
    "                continue\n",
    "            sample = data_list[8]\n",
    "            output_dir = os.path.join(os.getcwd(), os.pardir, 'data','epipos', tumour, sample)\n",
    "            output_file_name = 'indel_epipos_order_{}.tsv.gz'.format(sample)\n",
    "            output_data_file = 'indel_epipos_{}.npy'.format(sample)\n",
    "            \n",
    "            if not os.path.exists(output_dir):\n",
    "                os.makedirs(output_dir, exist_ok=True)\n",
    "                with gzip.open(os.path.join(output_dir, output_file_name), 'wt') as output_file:\n",
    "                    output_file.write('chrom\\tpos\\n')\n",
    "            \n",
    "            with gzip.open(os.path.join(output_dir, output_file_name), 'at') as output_file:\n",
    "                output_file.write('{}\\t{}\\n'.format(data_list[0][3:], data_list[4]))\n",
    "\n",
    "            arr = np.fromstring(data_line, dtype=float32, sep=',')\n",
    "            if not os.path.exisist(os.path.join(output_dir, output_data_file)):\n",
    "                np.save(os.path.join(output_dir, output_data_file), arr)\n",
    "            else:\n",
    "                old = np.load(os.path.join(output_dir, output_data_file))\n",
    "                arr = np.vstack([old, arr])\n",
    "                np.save(os.path.join(output_dir, output_data_file), arr)"
   ]
  },
  {
   "cell_type": "code",
   "execution_count": null,
   "id": "431c16bf-59cf-4d42-a640-a953aa270b39",
   "metadata": {},
   "outputs": [],
   "source": [
    "for path, data in zip(epipos_paths, data_paths):\n",
    "    with gzip.open(path, 'rt') as input_file, open(data, 'rt'):\n",
    "        for line, data_line in zip(input_file, data_file):\n",
    "            data_list = line.split('\\t')\n",
    "            tumour = data_list[14]\n",
    "            if tumour not in dirs:\n",
    "                continue\n",
    "            sample = data_list[8]\n",
    "            output_dir = os.path.join(os.getcwd(), os.pardir, 'data','epipos', tumour, sample)\n",
    "            output_file_name = 'SNV_epipos_order_{}.tsv.gz'.format(sample)\n",
    "            output_data_file = 'SNV_epipos_{}.npy'.format(sample)\n",
    "            \n",
    "            if not os.path.exists(output_dir):\n",
    "                os.makedirs(output_dir, exist_ok=True)\n",
    "                with gzip.open(os.path.join(output_dir, output_file_name), 'wt') as output_file:\n",
    "                    output_file.write('chrom\\tpos\\n')\n",
    "            \n",
    "            with gzip.open(os.path.join(output_dir, output_file_name), 'at') as output_file:\n",
    "                output_file.write('{}\\t{}\\n'.format(data_list[0][3:], data_list[4]))\n",
    "\n",
    "            arr = np.fromstring(data_line, dtype=float32, sep=',')\n",
    "            if not os.path.exisist(os.path.join(output_dir, output_data_file)):\n",
    "                np.save(os.path.join(output_dir, output_data_file), arr)\n",
    "            else:\n",
    "                old = np.load(os.path.join(output_dir, output_data_file))\n",
    "                arr = np.vstack([old, arr])\n",
    "                np.save(os.path.join(output_dir, output_data_file), arr)"
   ]
  },
  {
   "cell_type": "markdown",
   "id": "fc9afe50-da51-4fed-a2a9-7c0b4f81a43c",
   "metadata": {},
   "source": [
    "## Concatenating the epipos files "
   ]
  },
  {
   "cell_type": "code",
   "execution_count": null,
   "id": "d155a5c0-6c0c-4df3-8e1c-5dddfb30fb1a",
   "metadata": {},
   "outputs": [],
   "source": [
    "base = \n",
    "paths = []\n",
    "concatenated = []"
   ]
  },
  {
   "cell_type": "code",
   "execution_count": null,
   "id": "3ab28535-351e-4fbc-b929-f7bc3561d0b6",
   "metadata": {},
   "outputs": [],
   "source": [
    "for file in files:\n",
    "    file_parts = file.split('/')\n",
    "    base_file = os.path.join(base, '/'.join(file_parts[1:]))\n",
    "    \n",
    "    if not os.path.exists(base_file):\n",
    "        continue\n",
    "        \n",
    "    else:\n",
    "        file1 = pd.read_csv(base_file, compression='gzip', sep ='\\t', index_col=0, low_memory=False)\n",
    "        file2 = file1 = pd.read_csv(file, compression='gzip', sep ='\\t', index_col=0, low_memory=False)"
   ]
  }
 ],
 "metadata": {
  "kernelspec": {
   "display_name": "Python 3 (ipykernel)",
   "language": "python",
   "name": "python3"
  },
  "language_info": {
   "codemirror_mode": {
    "name": "ipython",
    "version": 3
   },
   "file_extension": ".py",
   "mimetype": "text/x-python",
   "name": "python",
   "nbconvert_exporter": "python",
   "pygments_lexer": "ipython3",
   "version": "3.8.19"
  }
 },
 "nbformat": 4,
 "nbformat_minor": 5
}
